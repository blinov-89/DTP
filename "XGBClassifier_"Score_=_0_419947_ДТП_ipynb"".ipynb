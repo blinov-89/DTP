{
  "cells": [
    {
      "cell_type": "markdown",
      "metadata": {
        "id": "view-in-github",
        "colab_type": "text"
      },
      "source": [
        "<a href=\"https://colab.research.google.com/github/blinov-89/DTP/blob/main/%22XGBClassifier_%22Score_%3D_0_419947_%D0%94%D0%A2%D0%9F_ipynb%22%22.ipynb\" target=\"_parent\"><img src=\"https://colab.research.google.com/assets/colab-badge.svg\" alt=\"Open In Colab\"/></a>"
      ]
    },
    {
      "cell_type": "markdown",
      "metadata": {
        "id": "FH0ZYdNyQzug"
      },
      "source": [
        "## Загрузим нужные библиотеки"
      ]
    },
    {
      "cell_type": "code",
      "execution_count": 1,
      "metadata": {
        "id": "BwNGqMidQiRi"
      },
      "outputs": [],
      "source": [
        "import pandas as pd\n",
        "import seaborn as sns\n",
        "import matplotlib.pyplot as plt\n",
        "from sklearn.model_selection import train_test_split\n",
        "from sklearn.ensemble import RandomForestClassifier\n",
        "\n",
        "%matplotlib inline"
      ]
    },
    {
      "cell_type": "code",
      "execution_count": 2,
      "metadata": {
        "id": "XvB_92aerQfb"
      },
      "outputs": [],
      "source": [
        "import xgboost as xgb\n",
        "from sklearn.datasets import load_boston\n",
        "from sklearn.model_selection import train_test_split\n",
        "from sklearn.model_selection import cross_val_score, KFold\n",
        "from sklearn.metrics import mean_squared_error\n",
        "import matplotlib.pyplot as plt "
      ]
    },
    {
      "cell_type": "code",
      "source": [
        " from scipy import stats\n",
        " from scipy.stats import randint\n",
        " from sklearn.model_selection import RandomizedSearchCV\n",
        " from sklearn.metrics import precision_score,recall_score,accuracy_score,f1_score,roc_auc_score"
      ],
      "metadata": {
        "id": "G6A6HXB4CXnJ"
      },
      "execution_count": 3,
      "outputs": []
    },
    {
      "cell_type": "code",
      "source": [
        "from sklearn.model_selection import cross_val_score\n",
        "from sklearn.model_selection import train_test_split\n",
        "from sklearn.model_selection import KFold"
      ],
      "metadata": {
        "id": "QW_QmwIJCi35"
      },
      "execution_count": 4,
      "outputs": []
    },
    {
      "cell_type": "code",
      "execution_count": 5,
      "metadata": {
        "colab": {
          "base_uri": "https://localhost:8080/"
        },
        "id": "G6UNumFNpo4A",
        "outputId": "cbca3ecd-2b3d-4e25-ec3d-1d032ec20e37"
      },
      "outputs": [
        {
          "output_type": "stream",
          "name": "stdout",
          "text": [
            "Mounted at /content/drive\n"
          ]
        }
      ],
      "source": [
        "from google.colab import drive\n",
        "drive.mount('/content/drive')"
      ]
    },
    {
      "cell_type": "markdown",
      "metadata": {
        "id": "S-mIOnCWNgym"
      },
      "source": [
        "# Загрузка датасета"
      ]
    },
    {
      "cell_type": "code",
      "execution_count": 6,
      "metadata": {
        "id": "y2smQ93nQzJi"
      },
      "outputs": [],
      "source": [
        "df = pd.read_csv(\"/content/drive/MyDrive/Дагестан ДТП ИИ/train_dataset_train.csv\")"
      ]
    },
    {
      "cell_type": "code",
      "execution_count": 7,
      "metadata": {
        "colab": {
          "base_uri": "https://localhost:8080/"
        },
        "id": "l3gbQg8G7SqE",
        "outputId": "5520879a-d811-4404-d1b2-8f357474b0bc"
      },
      "outputs": [
        {
          "output_type": "stream",
          "name": "stdout",
          "text": [
            "<class 'pandas.core.frame.DataFrame'>\n",
            "RangeIndex: 35771 entries, 0 to 35770\n",
            "Data columns (total 14 columns):\n",
            " #   Column         Non-Null Count  Dtype  \n",
            "---  ------         --------------  -----  \n",
            " 0   id             35771 non-null  int64  \n",
            " 1   Дата           35771 non-null  object \n",
            " 2   Время          35771 non-null  object \n",
            " 3   Место          35771 non-null  object \n",
            " 4   Улица          20286 non-null  object \n",
            " 5   Дом            20460 non-null  object \n",
            " 6   Дорога         10011 non-null  object \n",
            " 7   Километр       10010 non-null  float64\n",
            " 8   Метр           10010 non-null  float64\n",
            " 9   Вид ДТП        25555 non-null  object \n",
            " 10  Погибло        35771 non-null  int64  \n",
            " 11  Погибло детей  35771 non-null  int64  \n",
            " 12  Ранено         35771 non-null  int64  \n",
            " 13  Ранено детей   35771 non-null  int64  \n",
            "dtypes: float64(2), int64(5), object(7)\n",
            "memory usage: 3.8+ MB\n"
          ]
        }
      ],
      "source": [
        "df.info()"
      ]
    },
    {
      "cell_type": "code",
      "execution_count": 8,
      "metadata": {
        "id": "j6Brn4I4g14u"
      },
      "outputs": [],
      "source": [
        "w = pd.read_excel(\"/content/drive/MyDrive/Дагестан ДТП ИИ/погода.xlsx\")"
      ]
    },
    {
      "cell_type": "code",
      "execution_count": 9,
      "metadata": {
        "colab": {
          "base_uri": "https://localhost:8080/"
        },
        "id": "FOaFTTJ10xia",
        "outputId": "d8f0d80c-97c9-4d02-e312-7f5be41a0de8"
      },
      "outputs": [
        {
          "output_type": "stream",
          "name": "stdout",
          "text": [
            "<class 'pandas.core.frame.DataFrame'>\n",
            "RangeIndex: 1094 entries, 0 to 1093\n",
            "Data columns (total 29 columns):\n",
            " #   Column                            Non-Null Count  Dtype  \n",
            "---  ------                            --------------  -----  \n",
            " 0   Местное время в Нижнем Новгороде  1094 non-null   object \n",
            " 1   T                                 1094 non-null   float64\n",
            " 2   Po                                1094 non-null   float64\n",
            " 3   P                                 1094 non-null   float64\n",
            " 4   Pa                                1089 non-null   float64\n",
            " 5   U                                 1094 non-null   int64  \n",
            " 6   DD                                1094 non-null   object \n",
            " 7   Ff                                1094 non-null   int64  \n",
            " 8   ff10                              973 non-null    float64\n",
            " 9   ff3                               1021 non-null   float64\n",
            " 10  N                                 1094 non-null   object \n",
            " 11  WW                                1094 non-null   object \n",
            " 12  W1                                357 non-null    object \n",
            " 13  W2                                357 non-null    object \n",
            " 14  Tn                                1 non-null      float64\n",
            " 15  Tx                                1 non-null      float64\n",
            " 16  Cl                                1016 non-null   object \n",
            " 17  Nh                                1016 non-null   object \n",
            " 18  H                                 1016 non-null   object \n",
            " 19  Cm                                777 non-null    object \n",
            " 20  Ch                                650 non-null    object \n",
            " 21  VV                                1094 non-null   float64\n",
            " 22  Td                                1094 non-null   float64\n",
            " 23  RRR                               1 non-null      object \n",
            " 24  tR                                1 non-null      float64\n",
            " 25  E                                 0 non-null      float64\n",
            " 26  Tg                                0 non-null      float64\n",
            " 27  E'                                0 non-null      float64\n",
            " 28  sss                               0 non-null      float64\n",
            "dtypes: float64(15), int64(2), object(12)\n",
            "memory usage: 248.0+ KB\n"
          ]
        }
      ],
      "source": [
        "w.info()"
      ]
    },
    {
      "cell_type": "code",
      "execution_count": null,
      "metadata": {
        "colab": {
          "base_uri": "https://localhost:8080/"
        },
        "id": "Pte31_PY6Cr_",
        "outputId": "ab9785af-7dc6-4dd9-db9b-e11e01e4051a"
      },
      "outputs": [
        {
          "output_type": "execute_result",
          "data": {
            "text/plain": [
              "0       31.12.2020\n",
              "1       30.12.2020\n",
              "2       29.12.2020\n",
              "3       28.12.2020\n",
              "4       27.12.2020\n",
              "           ...    \n",
              "1089    05.01.2018\n",
              "1090    04.01.2018\n",
              "1091    03.01.2018\n",
              "1092    02.01.2018\n",
              "1093    01.01.2018\n",
              "Name: Местное время в Нижнем Новгороде, Length: 1094, dtype: object"
            ]
          },
          "metadata": {},
          "execution_count": 9
        }
      ],
      "source": [
        "w[\"Местное время в Нижнем Новгороде\"].str[:10]"
      ]
    },
    {
      "cell_type": "code",
      "execution_count": 10,
      "metadata": {
        "id": "F5AxPNb60_q9"
      },
      "outputs": [],
      "source": [
        "w['Дата'] = w[\"Местное время в Нижнем Новгороде\"].str[:10]"
      ]
    },
    {
      "cell_type": "code",
      "execution_count": 11,
      "metadata": {
        "colab": {
          "base_uri": "https://localhost:8080/"
        },
        "id": "JPaHqIwgIwGu",
        "outputId": "e3fee955-838c-4659-8120-3985331e1e19"
      },
      "outputs": [
        {
          "output_type": "stream",
          "name": "stdout",
          "text": [
            "['Местное время в Нижнем Новгороде', 'T', 'Po', 'P', 'Pa', 'U', 'DD', 'Ff', 'ff10', 'ff3', 'N', 'WW', 'W1', 'W2', 'Tn', 'Tx', 'Cl', 'Nh', 'H', 'Cm', 'Ch', 'VV', 'Td', 'RRR', 'tR', 'E', 'Tg', \"E'\", 'sss', 'Дата']\n"
          ]
        }
      ],
      "source": [
        "print(list(w.columns.values))"
      ]
    },
    {
      "cell_type": "code",
      "execution_count": 12,
      "metadata": {
        "id": "lKIpY3lkIb0c"
      },
      "outputs": [],
      "source": [
        "w = w.drop(['RRR', 'tR', 'E', 'Tg', \"E'\", 'sss', 'Tn', 'Tx', 'W1', 'W2', 'Cm', 'Ch', 'Местное время в Нижнем Новгороде'], axis = 1)"
      ]
    },
    {
      "cell_type": "code",
      "execution_count": 13,
      "metadata": {
        "id": "mgcZPd5E3vWr"
      },
      "outputs": [],
      "source": [
        "df1 = pd.merge(df, w, how='left', on='Дата')"
      ]
    },
    {
      "cell_type": "code",
      "execution_count": 14,
      "metadata": {
        "colab": {
          "base_uri": "https://localhost:8080/"
        },
        "id": "SPrzW2HEEsM0",
        "outputId": "b10624eb-3545-40ed-8ad0-35883ad2ab28"
      },
      "outputs": [
        {
          "output_type": "stream",
          "name": "stdout",
          "text": [
            "<class 'pandas.core.frame.DataFrame'>\n",
            "Int64Index: 35771 entries, 0 to 35770\n",
            "Data columns (total 30 columns):\n",
            " #   Column         Non-Null Count  Dtype  \n",
            "---  ------         --------------  -----  \n",
            " 0   id             35771 non-null  int64  \n",
            " 1   Дата           35771 non-null  object \n",
            " 2   Время          35771 non-null  object \n",
            " 3   Место          35771 non-null  object \n",
            " 4   Улица          20286 non-null  object \n",
            " 5   Дом            20460 non-null  object \n",
            " 6   Дорога         10011 non-null  object \n",
            " 7   Километр       10010 non-null  float64\n",
            " 8   Метр           10010 non-null  float64\n",
            " 9   Вид ДТП        25555 non-null  object \n",
            " 10  Погибло        35771 non-null  int64  \n",
            " 11  Погибло детей  35771 non-null  int64  \n",
            " 12  Ранено         35771 non-null  int64  \n",
            " 13  Ранено детей   35771 non-null  int64  \n",
            " 14  T              35706 non-null  float64\n",
            " 15  Po             35706 non-null  float64\n",
            " 16  P              35706 non-null  float64\n",
            " 17  Pa             35580 non-null  float64\n",
            " 18  U              35706 non-null  float64\n",
            " 19  DD             35706 non-null  object \n",
            " 20  Ff             35706 non-null  float64\n",
            " 21  ff10           31714 non-null  float64\n",
            " 22  ff3            33499 non-null  float64\n",
            " 23  N              35706 non-null  object \n",
            " 24  WW             35706 non-null  object \n",
            " 25  Cl             33359 non-null  object \n",
            " 26  Nh             33359 non-null  object \n",
            " 27  H              33371 non-null  object \n",
            " 28  VV             35706 non-null  float64\n",
            " 29  Td             35706 non-null  float64\n",
            "dtypes: float64(12), int64(5), object(13)\n",
            "memory usage: 8.5+ MB\n"
          ]
        }
      ],
      "source": [
        "df1.info()"
      ]
    },
    {
      "cell_type": "code",
      "execution_count": 15,
      "metadata": {
        "id": "cCOcx8gd3K9B"
      },
      "outputs": [],
      "source": [
        "pd.set_option('display.max_columns', None)"
      ]
    },
    {
      "cell_type": "code",
      "execution_count": null,
      "metadata": {
        "id": "PU0nC0XP2fMO"
      },
      "outputs": [],
      "source": [
        "# df1=pd.concat([df, w], axis=1)"
      ]
    },
    {
      "cell_type": "code",
      "execution_count": null,
      "metadata": {
        "colab": {
          "base_uri": "https://localhost:8080/",
          "height": 433
        },
        "id": "lGaxk_9b3X4h",
        "outputId": "a1542945-16c1-419c-8ac1-c6f425eae531"
      },
      "outputs": [
        {
          "output_type": "execute_result",
          "data": {
            "text/plain": [
              "          id        Дата     Время                                   Место  \\\n",
              "0  490103984  13.07.2018  17:35:00  Новгородская область, Великий Новгород   \n",
              "1  490097169  11.05.2018  17:10:00  Новгородская область, Великий Новгород   \n",
              "2  490031781  25.01.2020  14:44:00  Новгородская область, Великий Новгород   \n",
              "\n",
              "                            Улица Дом Дорога  Километр  Метр       Вид ДТП  \\\n",
              "0  Большая Санкт-Петербургская ул  88    NaN       NaN   NaN  Столкновение   \n",
              "1  Большая Санкт-Петербургская ул  73    NaN       NaN   NaN  Столкновение   \n",
              "2                    Хутынская ул  29    NaN       NaN   NaN           NaN   \n",
              "\n",
              "   Погибло  Погибло детей  Ранено  Ранено детей     T     Po      P   Pa  \\\n",
              "0        0              0       0             0  22.9  744.2  757.7 -0.2   \n",
              "1        0              0       0             0  15.7  751.7  765.8 -1.2   \n",
              "2        0              0       0             0   0.6  730.0  744.4 -0.3   \n",
              "\n",
              "      U                                     DD   Ff  ff10   ff3  \\\n",
              "0  66.0                 Ветер, дующий с севера  1.0   2.0   4.0   \n",
              "1  17.0  Ветер, дующий с северо-северо-востока  4.0  10.0  10.0   \n",
              "2  71.0                 Ветер, дующий с запада  3.0   5.0   7.0   \n",
              "\n",
              "                           N WW  \\\n",
              "0  90  или более, но не 100%      \n",
              "1               Облаков нет.      \n",
              "2                  70 – 80%.      \n",
              "\n",
              "                                                  Cl  \\\n",
              "0  Кучево-дождевые волокнистые (часто с наковальн...   \n",
              "1                                                NaN   \n",
              "2     Слоисто-кучевые, образовавшиеся не из кучевых.   \n",
              "\n",
              "                          Nh         H    VV    Td  \n",
              "0  90  или более, но не 100%  600-1000  10.0  16.2  \n",
              "1                        NaN       NaN  10.0  -9.4  \n",
              "2                       40%.  600-1000  10.0  -4.1  "
            ],
            "text/html": [
              "\n",
              "  <div id=\"df-e80e1b8a-f0c3-4dde-8d01-5c010c698333\">\n",
              "    <div class=\"colab-df-container\">\n",
              "      <div>\n",
              "<style scoped>\n",
              "    .dataframe tbody tr th:only-of-type {\n",
              "        vertical-align: middle;\n",
              "    }\n",
              "\n",
              "    .dataframe tbody tr th {\n",
              "        vertical-align: top;\n",
              "    }\n",
              "\n",
              "    .dataframe thead th {\n",
              "        text-align: right;\n",
              "    }\n",
              "</style>\n",
              "<table border=\"1\" class=\"dataframe\">\n",
              "  <thead>\n",
              "    <tr style=\"text-align: right;\">\n",
              "      <th></th>\n",
              "      <th>id</th>\n",
              "      <th>Дата</th>\n",
              "      <th>Время</th>\n",
              "      <th>Место</th>\n",
              "      <th>Улица</th>\n",
              "      <th>Дом</th>\n",
              "      <th>Дорога</th>\n",
              "      <th>Километр</th>\n",
              "      <th>Метр</th>\n",
              "      <th>Вид ДТП</th>\n",
              "      <th>Погибло</th>\n",
              "      <th>Погибло детей</th>\n",
              "      <th>Ранено</th>\n",
              "      <th>Ранено детей</th>\n",
              "      <th>T</th>\n",
              "      <th>Po</th>\n",
              "      <th>P</th>\n",
              "      <th>Pa</th>\n",
              "      <th>U</th>\n",
              "      <th>DD</th>\n",
              "      <th>Ff</th>\n",
              "      <th>ff10</th>\n",
              "      <th>ff3</th>\n",
              "      <th>N</th>\n",
              "      <th>WW</th>\n",
              "      <th>Cl</th>\n",
              "      <th>Nh</th>\n",
              "      <th>H</th>\n",
              "      <th>VV</th>\n",
              "      <th>Td</th>\n",
              "    </tr>\n",
              "  </thead>\n",
              "  <tbody>\n",
              "    <tr>\n",
              "      <th>0</th>\n",
              "      <td>490103984</td>\n",
              "      <td>13.07.2018</td>\n",
              "      <td>17:35:00</td>\n",
              "      <td>Новгородская область, Великий Новгород</td>\n",
              "      <td>Большая Санкт-Петербургская ул</td>\n",
              "      <td>88</td>\n",
              "      <td>NaN</td>\n",
              "      <td>NaN</td>\n",
              "      <td>NaN</td>\n",
              "      <td>Столкновение</td>\n",
              "      <td>0</td>\n",
              "      <td>0</td>\n",
              "      <td>0</td>\n",
              "      <td>0</td>\n",
              "      <td>22.9</td>\n",
              "      <td>744.2</td>\n",
              "      <td>757.7</td>\n",
              "      <td>-0.2</td>\n",
              "      <td>66.0</td>\n",
              "      <td>Ветер, дующий с севера</td>\n",
              "      <td>1.0</td>\n",
              "      <td>2.0</td>\n",
              "      <td>4.0</td>\n",
              "      <td>90  или более, но не 100%</td>\n",
              "      <td></td>\n",
              "      <td>Кучево-дождевые волокнистые (часто с наковальн...</td>\n",
              "      <td>90  или более, но не 100%</td>\n",
              "      <td>600-1000</td>\n",
              "      <td>10.0</td>\n",
              "      <td>16.2</td>\n",
              "    </tr>\n",
              "    <tr>\n",
              "      <th>1</th>\n",
              "      <td>490097169</td>\n",
              "      <td>11.05.2018</td>\n",
              "      <td>17:10:00</td>\n",
              "      <td>Новгородская область, Великий Новгород</td>\n",
              "      <td>Большая Санкт-Петербургская ул</td>\n",
              "      <td>73</td>\n",
              "      <td>NaN</td>\n",
              "      <td>NaN</td>\n",
              "      <td>NaN</td>\n",
              "      <td>Столкновение</td>\n",
              "      <td>0</td>\n",
              "      <td>0</td>\n",
              "      <td>0</td>\n",
              "      <td>0</td>\n",
              "      <td>15.7</td>\n",
              "      <td>751.7</td>\n",
              "      <td>765.8</td>\n",
              "      <td>-1.2</td>\n",
              "      <td>17.0</td>\n",
              "      <td>Ветер, дующий с северо-северо-востока</td>\n",
              "      <td>4.0</td>\n",
              "      <td>10.0</td>\n",
              "      <td>10.0</td>\n",
              "      <td>Облаков нет.</td>\n",
              "      <td></td>\n",
              "      <td>NaN</td>\n",
              "      <td>NaN</td>\n",
              "      <td>NaN</td>\n",
              "      <td>10.0</td>\n",
              "      <td>-9.4</td>\n",
              "    </tr>\n",
              "    <tr>\n",
              "      <th>2</th>\n",
              "      <td>490031781</td>\n",
              "      <td>25.01.2020</td>\n",
              "      <td>14:44:00</td>\n",
              "      <td>Новгородская область, Великий Новгород</td>\n",
              "      <td>Хутынская ул</td>\n",
              "      <td>29</td>\n",
              "      <td>NaN</td>\n",
              "      <td>NaN</td>\n",
              "      <td>NaN</td>\n",
              "      <td>NaN</td>\n",
              "      <td>0</td>\n",
              "      <td>0</td>\n",
              "      <td>0</td>\n",
              "      <td>0</td>\n",
              "      <td>0.6</td>\n",
              "      <td>730.0</td>\n",
              "      <td>744.4</td>\n",
              "      <td>-0.3</td>\n",
              "      <td>71.0</td>\n",
              "      <td>Ветер, дующий с запада</td>\n",
              "      <td>3.0</td>\n",
              "      <td>5.0</td>\n",
              "      <td>7.0</td>\n",
              "      <td>70 – 80%.</td>\n",
              "      <td></td>\n",
              "      <td>Слоисто-кучевые, образовавшиеся не из кучевых.</td>\n",
              "      <td>40%.</td>\n",
              "      <td>600-1000</td>\n",
              "      <td>10.0</td>\n",
              "      <td>-4.1</td>\n",
              "    </tr>\n",
              "  </tbody>\n",
              "</table>\n",
              "</div>\n",
              "      <button class=\"colab-df-convert\" onclick=\"convertToInteractive('df-e80e1b8a-f0c3-4dde-8d01-5c010c698333')\"\n",
              "              title=\"Convert this dataframe to an interactive table.\"\n",
              "              style=\"display:none;\">\n",
              "        \n",
              "  <svg xmlns=\"http://www.w3.org/2000/svg\" height=\"24px\"viewBox=\"0 0 24 24\"\n",
              "       width=\"24px\">\n",
              "    <path d=\"M0 0h24v24H0V0z\" fill=\"none\"/>\n",
              "    <path d=\"M18.56 5.44l.94 2.06.94-2.06 2.06-.94-2.06-.94-.94-2.06-.94 2.06-2.06.94zm-11 1L8.5 8.5l.94-2.06 2.06-.94-2.06-.94L8.5 2.5l-.94 2.06-2.06.94zm10 10l.94 2.06.94-2.06 2.06-.94-2.06-.94-.94-2.06-.94 2.06-2.06.94z\"/><path d=\"M17.41 7.96l-1.37-1.37c-.4-.4-.92-.59-1.43-.59-.52 0-1.04.2-1.43.59L10.3 9.45l-7.72 7.72c-.78.78-.78 2.05 0 2.83L4 21.41c.39.39.9.59 1.41.59.51 0 1.02-.2 1.41-.59l7.78-7.78 2.81-2.81c.8-.78.8-2.07 0-2.86zM5.41 20L4 18.59l7.72-7.72 1.47 1.35L5.41 20z\"/>\n",
              "  </svg>\n",
              "      </button>\n",
              "      \n",
              "  <style>\n",
              "    .colab-df-container {\n",
              "      display:flex;\n",
              "      flex-wrap:wrap;\n",
              "      gap: 12px;\n",
              "    }\n",
              "\n",
              "    .colab-df-convert {\n",
              "      background-color: #E8F0FE;\n",
              "      border: none;\n",
              "      border-radius: 50%;\n",
              "      cursor: pointer;\n",
              "      display: none;\n",
              "      fill: #1967D2;\n",
              "      height: 32px;\n",
              "      padding: 0 0 0 0;\n",
              "      width: 32px;\n",
              "    }\n",
              "\n",
              "    .colab-df-convert:hover {\n",
              "      background-color: #E2EBFA;\n",
              "      box-shadow: 0px 1px 2px rgba(60, 64, 67, 0.3), 0px 1px 3px 1px rgba(60, 64, 67, 0.15);\n",
              "      fill: #174EA6;\n",
              "    }\n",
              "\n",
              "    [theme=dark] .colab-df-convert {\n",
              "      background-color: #3B4455;\n",
              "      fill: #D2E3FC;\n",
              "    }\n",
              "\n",
              "    [theme=dark] .colab-df-convert:hover {\n",
              "      background-color: #434B5C;\n",
              "      box-shadow: 0px 1px 3px 1px rgba(0, 0, 0, 0.15);\n",
              "      filter: drop-shadow(0px 1px 2px rgba(0, 0, 0, 0.3));\n",
              "      fill: #FFFFFF;\n",
              "    }\n",
              "  </style>\n",
              "\n",
              "      <script>\n",
              "        const buttonEl =\n",
              "          document.querySelector('#df-e80e1b8a-f0c3-4dde-8d01-5c010c698333 button.colab-df-convert');\n",
              "        buttonEl.style.display =\n",
              "          google.colab.kernel.accessAllowed ? 'block' : 'none';\n",
              "\n",
              "        async function convertToInteractive(key) {\n",
              "          const element = document.querySelector('#df-e80e1b8a-f0c3-4dde-8d01-5c010c698333');\n",
              "          const dataTable =\n",
              "            await google.colab.kernel.invokeFunction('convertToInteractive',\n",
              "                                                     [key], {});\n",
              "          if (!dataTable) return;\n",
              "\n",
              "          const docLinkHtml = 'Like what you see? Visit the ' +\n",
              "            '<a target=\"_blank\" href=https://colab.research.google.com/notebooks/data_table.ipynb>data table notebook</a>'\n",
              "            + ' to learn more about interactive tables.';\n",
              "          element.innerHTML = '';\n",
              "          dataTable['output_type'] = 'display_data';\n",
              "          await google.colab.output.renderOutput(dataTable, element);\n",
              "          const docLink = document.createElement('div');\n",
              "          docLink.innerHTML = docLinkHtml;\n",
              "          element.appendChild(docLink);\n",
              "        }\n",
              "      </script>\n",
              "    </div>\n",
              "  </div>\n",
              "  "
            ]
          },
          "metadata": {},
          "execution_count": 17
        }
      ],
      "source": [
        "df1.head(3)"
      ]
    },
    {
      "cell_type": "code",
      "execution_count": 16,
      "metadata": {
        "colab": {
          "base_uri": "https://localhost:8080/"
        },
        "id": "LgogFeNka5Lm",
        "outputId": "7c0da947-6b24-4744-c66a-a9d174daf524"
      },
      "outputs": [
        {
          "output_type": "execute_result",
          "data": {
            "text/plain": [
              "Столкновение                                                                                                                       12649\n",
              "Наезд на препятствие                                                                                                                4180\n",
              "Наезд на стоящее ТС                                                                                                                 3992\n",
              "Иной вид ДТП                                                                                                                        1106\n",
              "Наезд на пешехода                                                                                                                   1023\n",
              "Съезд с дороги                                                                                                                       959\n",
              "Опрокидывание                                                                                                                        585\n",
              "Наезд на животное                                                                                                                    356\n",
              "Наезд на велосипедиста                                                                                                               294\n",
              "Отбрасывание предмета (отсоединение колеса)                                                                                          184\n",
              "Падение пассажира                                                                                                                    115\n",
              "Наезд на внезапно возникшее препятствие                                                                                               56\n",
              "Падение груза                                                                                                                         35\n",
              "Возгорание вследствие технической неисправности движущегося или остановившегося ТС, участвующего в дорожном движении                  10\n",
              "Наезд на лицо, не являющееся участником дорожного движения (иного участника ДТП), осуществляющее производство работ                    5\n",
              "Наезд на лицо, не являющееся участником дорожного движения (иного участника ДТП), осуществляющее какую-либо другую деятельность        4\n",
              "Наезд на лицо, не являющееся участником дорожного движения (иного участника ДТП), осуществляющее несение службы                        2\n",
              "Name: Вид ДТП, dtype: int64"
            ]
          },
          "metadata": {},
          "execution_count": 16
        }
      ],
      "source": [
        "df1['Вид ДТП'].value_counts()"
      ]
    },
    {
      "cell_type": "code",
      "execution_count": 17,
      "metadata": {
        "id": "bvOGtAqUS1Vm"
      },
      "outputs": [],
      "source": [
        "df = df1"
      ]
    },
    {
      "cell_type": "markdown",
      "metadata": {
        "id": "GywlangPRAEm"
      },
      "source": [
        "## Рассмотрим датасет по ближе"
      ]
    },
    {
      "cell_type": "code",
      "execution_count": 18,
      "metadata": {
        "colab": {
          "base_uri": "https://localhost:8080/",
          "height": 652
        },
        "id": "gvcl_K3FQ-os",
        "outputId": "d4b25fac-5224-45a7-b555-8b3957012f78"
      },
      "outputs": [
        {
          "output_type": "execute_result",
          "data": {
            "text/plain": [
              "          id        Дата     Время  \\\n",
              "0  490103984  13.07.2018  17:35:00   \n",
              "1  490097169  11.05.2018  17:10:00   \n",
              "2  490031781  25.01.2020  14:44:00   \n",
              "3  490021246  11.05.2020  11:30:00   \n",
              "4  490041585  09.01.2019  01:45:00   \n",
              "\n",
              "                                               Место  \\\n",
              "0             Новгородская область, Великий Новгород   \n",
              "1             Новгородская область, Великий Новгород   \n",
              "2             Новгородская область, Великий Новгород   \n",
              "3  Новгородская область, Новгородский район, Сави...   \n",
              "4             Новгородская область, Окуловский район   \n",
              "\n",
              "                            Улица  Дом  \\\n",
              "0  Большая Санкт-Петербургская ул   88   \n",
              "1  Большая Санкт-Петербургская ул   73   \n",
              "2                    Хутынская ул   29   \n",
              "3                     Вишнёвая ул    4   \n",
              "4                             NaN  NaN   \n",
              "\n",
              "                                              Дорога  Километр  Метр  \\\n",
              "0                                                NaN       NaN   NaN   \n",
              "1                                                NaN       NaN   NaN   \n",
              "2                                                NaN       NaN   NaN   \n",
              "3                                                NaN       NaN   NaN   \n",
              "4  Нева Москва - Санкт-Петербург (основное направ...     430.0   5.0   \n",
              "\n",
              "        Вид ДТП  Погибло  Погибло детей  Ранено  Ранено детей     T     Po  \\\n",
              "0  Столкновение        0              0       0             0  22.9  744.2   \n",
              "1  Столкновение        0              0       0             0  15.7  751.7   \n",
              "2           NaN        0              0       0             0   0.6  730.0   \n",
              "3           NaN        0              0       0             0  16.1  740.9   \n",
              "4  Иной вид ДТП        0              0       0             0 -11.4  747.9   \n",
              "\n",
              "       P   Pa     U                                     DD   Ff  ff10   ff3  \\\n",
              "0  757.7 -0.2  66.0                 Ветер, дующий с севера  1.0   2.0   4.0   \n",
              "1  765.8 -1.2  17.0  Ветер, дующий с северо-северо-востока  4.0  10.0  10.0   \n",
              "2  744.4 -0.3  71.0                 Ветер, дующий с запада  3.0   5.0   7.0   \n",
              "3  754.7 -0.2  49.0                    Ветер, дующий с юга  2.0   4.0   6.0   \n",
              "4  763.3  1.0  80.0             Ветер, дующий с юго-запада  1.0   3.0   5.0   \n",
              "\n",
              "                           N                                      WW  \\\n",
              "0  90  или более, но не 100%                                           \n",
              "1               Облаков нет.                                           \n",
              "2                  70 – 80%.                                           \n",
              "3  90  или более, но не 100%                                           \n",
              "4                      100%.  Состояние неба в общем не изменилось.    \n",
              "\n",
              "                                                  Cl  \\\n",
              "0  Кучево-дождевые волокнистые (часто с наковальн...   \n",
              "1                                                NaN   \n",
              "2     Слоисто-кучевые, образовавшиеся не из кучевых.   \n",
              "3  Кучевые средние или мощные или вместе с кучевы...   \n",
              "4     Слоисто-кучевые, образовавшиеся не из кучевых.   \n",
              "\n",
              "                          Nh         H    VV    Td  \n",
              "0  90  или более, но не 100%  600-1000  10.0  16.2  \n",
              "1                        NaN       NaN  10.0  -9.4  \n",
              "2                       40%.  600-1000  10.0  -4.1  \n",
              "3                       50%.  600-1000  10.0   5.4  \n",
              "4                       50%.  600-1000  10.0 -14.2  "
            ],
            "text/html": [
              "\n",
              "  <div id=\"df-fccff914-2811-4b0a-889f-9614f881060e\">\n",
              "    <div class=\"colab-df-container\">\n",
              "      <div>\n",
              "<style scoped>\n",
              "    .dataframe tbody tr th:only-of-type {\n",
              "        vertical-align: middle;\n",
              "    }\n",
              "\n",
              "    .dataframe tbody tr th {\n",
              "        vertical-align: top;\n",
              "    }\n",
              "\n",
              "    .dataframe thead th {\n",
              "        text-align: right;\n",
              "    }\n",
              "</style>\n",
              "<table border=\"1\" class=\"dataframe\">\n",
              "  <thead>\n",
              "    <tr style=\"text-align: right;\">\n",
              "      <th></th>\n",
              "      <th>id</th>\n",
              "      <th>Дата</th>\n",
              "      <th>Время</th>\n",
              "      <th>Место</th>\n",
              "      <th>Улица</th>\n",
              "      <th>Дом</th>\n",
              "      <th>Дорога</th>\n",
              "      <th>Километр</th>\n",
              "      <th>Метр</th>\n",
              "      <th>Вид ДТП</th>\n",
              "      <th>Погибло</th>\n",
              "      <th>Погибло детей</th>\n",
              "      <th>Ранено</th>\n",
              "      <th>Ранено детей</th>\n",
              "      <th>T</th>\n",
              "      <th>Po</th>\n",
              "      <th>P</th>\n",
              "      <th>Pa</th>\n",
              "      <th>U</th>\n",
              "      <th>DD</th>\n",
              "      <th>Ff</th>\n",
              "      <th>ff10</th>\n",
              "      <th>ff3</th>\n",
              "      <th>N</th>\n",
              "      <th>WW</th>\n",
              "      <th>Cl</th>\n",
              "      <th>Nh</th>\n",
              "      <th>H</th>\n",
              "      <th>VV</th>\n",
              "      <th>Td</th>\n",
              "    </tr>\n",
              "  </thead>\n",
              "  <tbody>\n",
              "    <tr>\n",
              "      <th>0</th>\n",
              "      <td>490103984</td>\n",
              "      <td>13.07.2018</td>\n",
              "      <td>17:35:00</td>\n",
              "      <td>Новгородская область, Великий Новгород</td>\n",
              "      <td>Большая Санкт-Петербургская ул</td>\n",
              "      <td>88</td>\n",
              "      <td>NaN</td>\n",
              "      <td>NaN</td>\n",
              "      <td>NaN</td>\n",
              "      <td>Столкновение</td>\n",
              "      <td>0</td>\n",
              "      <td>0</td>\n",
              "      <td>0</td>\n",
              "      <td>0</td>\n",
              "      <td>22.9</td>\n",
              "      <td>744.2</td>\n",
              "      <td>757.7</td>\n",
              "      <td>-0.2</td>\n",
              "      <td>66.0</td>\n",
              "      <td>Ветер, дующий с севера</td>\n",
              "      <td>1.0</td>\n",
              "      <td>2.0</td>\n",
              "      <td>4.0</td>\n",
              "      <td>90  или более, но не 100%</td>\n",
              "      <td></td>\n",
              "      <td>Кучево-дождевые волокнистые (часто с наковальн...</td>\n",
              "      <td>90  или более, но не 100%</td>\n",
              "      <td>600-1000</td>\n",
              "      <td>10.0</td>\n",
              "      <td>16.2</td>\n",
              "    </tr>\n",
              "    <tr>\n",
              "      <th>1</th>\n",
              "      <td>490097169</td>\n",
              "      <td>11.05.2018</td>\n",
              "      <td>17:10:00</td>\n",
              "      <td>Новгородская область, Великий Новгород</td>\n",
              "      <td>Большая Санкт-Петербургская ул</td>\n",
              "      <td>73</td>\n",
              "      <td>NaN</td>\n",
              "      <td>NaN</td>\n",
              "      <td>NaN</td>\n",
              "      <td>Столкновение</td>\n",
              "      <td>0</td>\n",
              "      <td>0</td>\n",
              "      <td>0</td>\n",
              "      <td>0</td>\n",
              "      <td>15.7</td>\n",
              "      <td>751.7</td>\n",
              "      <td>765.8</td>\n",
              "      <td>-1.2</td>\n",
              "      <td>17.0</td>\n",
              "      <td>Ветер, дующий с северо-северо-востока</td>\n",
              "      <td>4.0</td>\n",
              "      <td>10.0</td>\n",
              "      <td>10.0</td>\n",
              "      <td>Облаков нет.</td>\n",
              "      <td></td>\n",
              "      <td>NaN</td>\n",
              "      <td>NaN</td>\n",
              "      <td>NaN</td>\n",
              "      <td>10.0</td>\n",
              "      <td>-9.4</td>\n",
              "    </tr>\n",
              "    <tr>\n",
              "      <th>2</th>\n",
              "      <td>490031781</td>\n",
              "      <td>25.01.2020</td>\n",
              "      <td>14:44:00</td>\n",
              "      <td>Новгородская область, Великий Новгород</td>\n",
              "      <td>Хутынская ул</td>\n",
              "      <td>29</td>\n",
              "      <td>NaN</td>\n",
              "      <td>NaN</td>\n",
              "      <td>NaN</td>\n",
              "      <td>NaN</td>\n",
              "      <td>0</td>\n",
              "      <td>0</td>\n",
              "      <td>0</td>\n",
              "      <td>0</td>\n",
              "      <td>0.6</td>\n",
              "      <td>730.0</td>\n",
              "      <td>744.4</td>\n",
              "      <td>-0.3</td>\n",
              "      <td>71.0</td>\n",
              "      <td>Ветер, дующий с запада</td>\n",
              "      <td>3.0</td>\n",
              "      <td>5.0</td>\n",
              "      <td>7.0</td>\n",
              "      <td>70 – 80%.</td>\n",
              "      <td></td>\n",
              "      <td>Слоисто-кучевые, образовавшиеся не из кучевых.</td>\n",
              "      <td>40%.</td>\n",
              "      <td>600-1000</td>\n",
              "      <td>10.0</td>\n",
              "      <td>-4.1</td>\n",
              "    </tr>\n",
              "    <tr>\n",
              "      <th>3</th>\n",
              "      <td>490021246</td>\n",
              "      <td>11.05.2020</td>\n",
              "      <td>11:30:00</td>\n",
              "      <td>Новгородская область, Новгородский район, Сави...</td>\n",
              "      <td>Вишнёвая ул</td>\n",
              "      <td>4</td>\n",
              "      <td>NaN</td>\n",
              "      <td>NaN</td>\n",
              "      <td>NaN</td>\n",
              "      <td>NaN</td>\n",
              "      <td>0</td>\n",
              "      <td>0</td>\n",
              "      <td>0</td>\n",
              "      <td>0</td>\n",
              "      <td>16.1</td>\n",
              "      <td>740.9</td>\n",
              "      <td>754.7</td>\n",
              "      <td>-0.2</td>\n",
              "      <td>49.0</td>\n",
              "      <td>Ветер, дующий с юга</td>\n",
              "      <td>2.0</td>\n",
              "      <td>4.0</td>\n",
              "      <td>6.0</td>\n",
              "      <td>90  или более, но не 100%</td>\n",
              "      <td></td>\n",
              "      <td>Кучевые средние или мощные или вместе с кучевы...</td>\n",
              "      <td>50%.</td>\n",
              "      <td>600-1000</td>\n",
              "      <td>10.0</td>\n",
              "      <td>5.4</td>\n",
              "    </tr>\n",
              "    <tr>\n",
              "      <th>4</th>\n",
              "      <td>490041585</td>\n",
              "      <td>09.01.2019</td>\n",
              "      <td>01:45:00</td>\n",
              "      <td>Новгородская область, Окуловский район</td>\n",
              "      <td>NaN</td>\n",
              "      <td>NaN</td>\n",
              "      <td>Нева Москва - Санкт-Петербург (основное направ...</td>\n",
              "      <td>430.0</td>\n",
              "      <td>5.0</td>\n",
              "      <td>Иной вид ДТП</td>\n",
              "      <td>0</td>\n",
              "      <td>0</td>\n",
              "      <td>0</td>\n",
              "      <td>0</td>\n",
              "      <td>-11.4</td>\n",
              "      <td>747.9</td>\n",
              "      <td>763.3</td>\n",
              "      <td>1.0</td>\n",
              "      <td>80.0</td>\n",
              "      <td>Ветер, дующий с юго-запада</td>\n",
              "      <td>1.0</td>\n",
              "      <td>3.0</td>\n",
              "      <td>5.0</td>\n",
              "      <td>100%.</td>\n",
              "      <td>Состояние неба в общем не изменилось.</td>\n",
              "      <td>Слоисто-кучевые, образовавшиеся не из кучевых.</td>\n",
              "      <td>50%.</td>\n",
              "      <td>600-1000</td>\n",
              "      <td>10.0</td>\n",
              "      <td>-14.2</td>\n",
              "    </tr>\n",
              "  </tbody>\n",
              "</table>\n",
              "</div>\n",
              "      <button class=\"colab-df-convert\" onclick=\"convertToInteractive('df-fccff914-2811-4b0a-889f-9614f881060e')\"\n",
              "              title=\"Convert this dataframe to an interactive table.\"\n",
              "              style=\"display:none;\">\n",
              "        \n",
              "  <svg xmlns=\"http://www.w3.org/2000/svg\" height=\"24px\"viewBox=\"0 0 24 24\"\n",
              "       width=\"24px\">\n",
              "    <path d=\"M0 0h24v24H0V0z\" fill=\"none\"/>\n",
              "    <path d=\"M18.56 5.44l.94 2.06.94-2.06 2.06-.94-2.06-.94-.94-2.06-.94 2.06-2.06.94zm-11 1L8.5 8.5l.94-2.06 2.06-.94-2.06-.94L8.5 2.5l-.94 2.06-2.06.94zm10 10l.94 2.06.94-2.06 2.06-.94-2.06-.94-.94-2.06-.94 2.06-2.06.94z\"/><path d=\"M17.41 7.96l-1.37-1.37c-.4-.4-.92-.59-1.43-.59-.52 0-1.04.2-1.43.59L10.3 9.45l-7.72 7.72c-.78.78-.78 2.05 0 2.83L4 21.41c.39.39.9.59 1.41.59.51 0 1.02-.2 1.41-.59l7.78-7.78 2.81-2.81c.8-.78.8-2.07 0-2.86zM5.41 20L4 18.59l7.72-7.72 1.47 1.35L5.41 20z\"/>\n",
              "  </svg>\n",
              "      </button>\n",
              "      \n",
              "  <style>\n",
              "    .colab-df-container {\n",
              "      display:flex;\n",
              "      flex-wrap:wrap;\n",
              "      gap: 12px;\n",
              "    }\n",
              "\n",
              "    .colab-df-convert {\n",
              "      background-color: #E8F0FE;\n",
              "      border: none;\n",
              "      border-radius: 50%;\n",
              "      cursor: pointer;\n",
              "      display: none;\n",
              "      fill: #1967D2;\n",
              "      height: 32px;\n",
              "      padding: 0 0 0 0;\n",
              "      width: 32px;\n",
              "    }\n",
              "\n",
              "    .colab-df-convert:hover {\n",
              "      background-color: #E2EBFA;\n",
              "      box-shadow: 0px 1px 2px rgba(60, 64, 67, 0.3), 0px 1px 3px 1px rgba(60, 64, 67, 0.15);\n",
              "      fill: #174EA6;\n",
              "    }\n",
              "\n",
              "    [theme=dark] .colab-df-convert {\n",
              "      background-color: #3B4455;\n",
              "      fill: #D2E3FC;\n",
              "    }\n",
              "\n",
              "    [theme=dark] .colab-df-convert:hover {\n",
              "      background-color: #434B5C;\n",
              "      box-shadow: 0px 1px 3px 1px rgba(0, 0, 0, 0.15);\n",
              "      filter: drop-shadow(0px 1px 2px rgba(0, 0, 0, 0.3));\n",
              "      fill: #FFFFFF;\n",
              "    }\n",
              "  </style>\n",
              "\n",
              "      <script>\n",
              "        const buttonEl =\n",
              "          document.querySelector('#df-fccff914-2811-4b0a-889f-9614f881060e button.colab-df-convert');\n",
              "        buttonEl.style.display =\n",
              "          google.colab.kernel.accessAllowed ? 'block' : 'none';\n",
              "\n",
              "        async function convertToInteractive(key) {\n",
              "          const element = document.querySelector('#df-fccff914-2811-4b0a-889f-9614f881060e');\n",
              "          const dataTable =\n",
              "            await google.colab.kernel.invokeFunction('convertToInteractive',\n",
              "                                                     [key], {});\n",
              "          if (!dataTable) return;\n",
              "\n",
              "          const docLinkHtml = 'Like what you see? Visit the ' +\n",
              "            '<a target=\"_blank\" href=https://colab.research.google.com/notebooks/data_table.ipynb>data table notebook</a>'\n",
              "            + ' to learn more about interactive tables.';\n",
              "          element.innerHTML = '';\n",
              "          dataTable['output_type'] = 'display_data';\n",
              "          await google.colab.output.renderOutput(dataTable, element);\n",
              "          const docLink = document.createElement('div');\n",
              "          docLink.innerHTML = docLinkHtml;\n",
              "          element.appendChild(docLink);\n",
              "        }\n",
              "      </script>\n",
              "    </div>\n",
              "  </div>\n",
              "  "
            ]
          },
          "metadata": {},
          "execution_count": 18
        }
      ],
      "source": [
        "df.head()"
      ]
    },
    {
      "cell_type": "code",
      "execution_count": null,
      "metadata": {
        "colab": {
          "base_uri": "https://localhost:8080/"
        },
        "id": "QFk91xujgP-R",
        "outputId": "ebf54bd3-a09d-4e2e-affb-5127999837a4"
      },
      "outputs": [
        {
          "output_type": "execute_result",
          "data": {
            "text/plain": [
              "'01.01.2018'"
            ],
            "application/vnd.google.colaboratory.intrinsic+json": {
              "type": "string"
            }
          },
          "metadata": {},
          "execution_count": 21
        }
      ],
      "source": [
        "min(df['Дата'])"
      ]
    },
    {
      "cell_type": "code",
      "execution_count": null,
      "metadata": {
        "colab": {
          "base_uri": "https://localhost:8080/"
        },
        "id": "kEDEhvbVgZqf",
        "outputId": "f0e916a8-4cc8-4716-ea7e-c97ad3fa0dbb"
      },
      "outputs": [
        {
          "output_type": "execute_result",
          "data": {
            "text/plain": [
              "'31.12.2019'"
            ],
            "application/vnd.google.colaboratory.intrinsic+json": {
              "type": "string"
            }
          },
          "metadata": {},
          "execution_count": 22
        }
      ],
      "source": [
        "max(df['Дата'])"
      ]
    },
    {
      "cell_type": "code",
      "execution_count": null,
      "metadata": {
        "colab": {
          "base_uri": "https://localhost:8080/"
        },
        "id": "Gbt4EvEdSB75",
        "outputId": "9b47b322-eac3-46bc-c6af-4e594d8c0ee8"
      },
      "outputs": [
        {
          "output_type": "execute_result",
          "data": {
            "text/plain": [
              "183"
            ]
          },
          "metadata": {},
          "execution_count": 23
        }
      ],
      "source": [
        "len(df['Дорога'].unique())"
      ]
    },
    {
      "cell_type": "code",
      "execution_count": null,
      "metadata": {
        "colab": {
          "base_uri": "https://localhost:8080/"
        },
        "id": "a-1_ozxBP2ca",
        "outputId": "d1e43d29-ec06-44cd-e333-5d038013b267"
      },
      "outputs": [
        {
          "output_type": "execute_result",
          "data": {
            "text/plain": [
              "433"
            ]
          },
          "metadata": {},
          "execution_count": 24
        }
      ],
      "source": [
        "len(df['Место'].unique())"
      ]
    },
    {
      "cell_type": "code",
      "execution_count": null,
      "metadata": {
        "colab": {
          "base_uri": "https://localhost:8080/"
        },
        "id": "jE8r6sYMUB6w",
        "outputId": "015cba66-71e5-48eb-c942-6d68c6c0f9f6"
      },
      "outputs": [
        {
          "output_type": "execute_result",
          "data": {
            "text/plain": [
              "(35771, 30)"
            ]
          },
          "metadata": {},
          "execution_count": 25
        }
      ],
      "source": [
        "df.shape"
      ]
    },
    {
      "cell_type": "code",
      "execution_count": null,
      "metadata": {
        "colab": {
          "base_uri": "https://localhost:8080/"
        },
        "id": "uAIT-vwLUI0z",
        "outputId": "d1a1cb63-677d-4559-cb3e-d2dfa862908e"
      },
      "outputs": [
        {
          "output_type": "stream",
          "name": "stdout",
          "text": [
            "<class 'pandas.core.frame.DataFrame'>\n",
            "Int64Index: 35771 entries, 0 to 35770\n",
            "Data columns (total 30 columns):\n",
            " #   Column         Non-Null Count  Dtype  \n",
            "---  ------         --------------  -----  \n",
            " 0   id             35771 non-null  int64  \n",
            " 1   Дата           35771 non-null  object \n",
            " 2   Время          35771 non-null  object \n",
            " 3   Место          35771 non-null  object \n",
            " 4   Улица          20286 non-null  object \n",
            " 5   Дом            20460 non-null  object \n",
            " 6   Дорога         10011 non-null  object \n",
            " 7   Километр       10010 non-null  float64\n",
            " 8   Метр           10010 non-null  float64\n",
            " 9   Вид ДТП        25555 non-null  object \n",
            " 10  Погибло        35771 non-null  int64  \n",
            " 11  Погибло детей  35771 non-null  int64  \n",
            " 12  Ранено         35771 non-null  int64  \n",
            " 13  Ранено детей   35771 non-null  int64  \n",
            " 14  T              35706 non-null  float64\n",
            " 15  Po             35706 non-null  float64\n",
            " 16  P              35706 non-null  float64\n",
            " 17  Pa             35580 non-null  float64\n",
            " 18  U              35706 non-null  float64\n",
            " 19  DD             35706 non-null  object \n",
            " 20  Ff             35706 non-null  float64\n",
            " 21  ff10           31714 non-null  float64\n",
            " 22  ff3            33499 non-null  float64\n",
            " 23  N              35706 non-null  object \n",
            " 24  WW             35706 non-null  object \n",
            " 25  Cl             33359 non-null  object \n",
            " 26  Nh             33359 non-null  object \n",
            " 27  H              33371 non-null  object \n",
            " 28  VV             35706 non-null  float64\n",
            " 29  Td             35706 non-null  float64\n",
            "dtypes: float64(12), int64(5), object(13)\n",
            "memory usage: 8.5+ MB\n"
          ]
        }
      ],
      "source": [
        "df.info()"
      ]
    },
    {
      "cell_type": "code",
      "execution_count": null,
      "metadata": {
        "colab": {
          "base_uri": "https://localhost:8080/"
        },
        "id": "epFFuIojPNvZ",
        "outputId": "97fe7890-c895-4d4b-f536-ae55d54cccd4"
      },
      "outputs": [
        {
          "output_type": "execute_result",
          "data": {
            "text/plain": [
              "                 id      Километр          Метр       Погибло  Погибло детей  \\\n",
              "count  3.577100e+04  10010.000000  10010.000000  35771.000000   35771.000000   \n",
              "mean   4.900607e+08    252.263437    393.842058      0.011238       0.000335   \n",
              "std    3.525878e+04    274.573930    327.126767      0.122124       0.018313   \n",
              "min    4.900007e+08      0.000000      0.000000      0.000000       0.000000   \n",
              "25%    4.900301e+08     14.000000     62.000000      0.000000       0.000000   \n",
              "50%    4.900595e+08    136.000000    350.000000      0.000000       0.000000   \n",
              "75%    4.900917e+08    489.000000    700.000000      0.000000       0.000000   \n",
              "max    4.901250e+08   5793.000000    998.000000      3.000000       1.000000   \n",
              "\n",
              "             Ранено  Ранено детей             T            Po             P  \\\n",
              "count  35771.000000  35771.000000  35706.000000  35706.000000  35706.000000   \n",
              "mean       0.171452      0.025020      8.492886    747.284543    761.654792   \n",
              "std        0.525702      0.179974     11.737439      7.615520      7.829167   \n",
              "min        0.000000      0.000000    -17.600000    722.800000    736.900000   \n",
              "25%        0.000000      0.000000     -1.200000    742.600000    756.700000   \n",
              "50%        0.000000      0.000000      9.250000    747.600000    761.800000   \n",
              "75%        0.000000      0.000000     18.900000    752.200000    766.575000   \n",
              "max        8.000000      4.000000     33.900000    773.800000    789.600000   \n",
              "\n",
              "                 Pa             U            Ff          ff10           ff3  \\\n",
              "count  35580.000000  35706.000000  35706.000000  31714.000000  33499.000000   \n",
              "mean      -0.032797     65.115919      2.011707      5.202340      6.566883   \n",
              "std        1.016379     20.770066      0.838292      2.048344      2.299795   \n",
              "min       -3.500000     11.000000      0.000000      1.000000      2.000000   \n",
              "25%       -0.500000     47.000000      1.000000      4.000000      5.000000   \n",
              "50%       -0.100000     66.000000      2.000000      5.000000      6.000000   \n",
              "75%        0.400000     83.000000      2.000000      6.000000      8.000000   \n",
              "max       14.600000    100.000000      7.000000     13.000000     18.000000   \n",
              "\n",
              "                 VV            Td  \n",
              "count  35706.000000  35706.000000  \n",
              "mean       9.196701      1.297902  \n",
              "std        2.189679      9.538527  \n",
              "min        0.400000    -21.700000  \n",
              "25%       10.000000     -6.100000  \n",
              "50%       10.000000      1.400000  \n",
              "75%       10.000000      9.400000  \n",
              "max       10.000000     20.800000  "
            ],
            "text/html": [
              "\n",
              "  <div id=\"df-b13c4a43-cc62-4a64-9ee2-9e2ff99b8a6b\">\n",
              "    <div class=\"colab-df-container\">\n",
              "      <div>\n",
              "<style scoped>\n",
              "    .dataframe tbody tr th:only-of-type {\n",
              "        vertical-align: middle;\n",
              "    }\n",
              "\n",
              "    .dataframe tbody tr th {\n",
              "        vertical-align: top;\n",
              "    }\n",
              "\n",
              "    .dataframe thead th {\n",
              "        text-align: right;\n",
              "    }\n",
              "</style>\n",
              "<table border=\"1\" class=\"dataframe\">\n",
              "  <thead>\n",
              "    <tr style=\"text-align: right;\">\n",
              "      <th></th>\n",
              "      <th>id</th>\n",
              "      <th>Километр</th>\n",
              "      <th>Метр</th>\n",
              "      <th>Погибло</th>\n",
              "      <th>Погибло детей</th>\n",
              "      <th>Ранено</th>\n",
              "      <th>Ранено детей</th>\n",
              "      <th>T</th>\n",
              "      <th>Po</th>\n",
              "      <th>P</th>\n",
              "      <th>Pa</th>\n",
              "      <th>U</th>\n",
              "      <th>Ff</th>\n",
              "      <th>ff10</th>\n",
              "      <th>ff3</th>\n",
              "      <th>VV</th>\n",
              "      <th>Td</th>\n",
              "    </tr>\n",
              "  </thead>\n",
              "  <tbody>\n",
              "    <tr>\n",
              "      <th>count</th>\n",
              "      <td>3.577100e+04</td>\n",
              "      <td>10010.000000</td>\n",
              "      <td>10010.000000</td>\n",
              "      <td>35771.000000</td>\n",
              "      <td>35771.000000</td>\n",
              "      <td>35771.000000</td>\n",
              "      <td>35771.000000</td>\n",
              "      <td>35706.000000</td>\n",
              "      <td>35706.000000</td>\n",
              "      <td>35706.000000</td>\n",
              "      <td>35580.000000</td>\n",
              "      <td>35706.000000</td>\n",
              "      <td>35706.000000</td>\n",
              "      <td>31714.000000</td>\n",
              "      <td>33499.000000</td>\n",
              "      <td>35706.000000</td>\n",
              "      <td>35706.000000</td>\n",
              "    </tr>\n",
              "    <tr>\n",
              "      <th>mean</th>\n",
              "      <td>4.900607e+08</td>\n",
              "      <td>252.263437</td>\n",
              "      <td>393.842058</td>\n",
              "      <td>0.011238</td>\n",
              "      <td>0.000335</td>\n",
              "      <td>0.171452</td>\n",
              "      <td>0.025020</td>\n",
              "      <td>8.492886</td>\n",
              "      <td>747.284543</td>\n",
              "      <td>761.654792</td>\n",
              "      <td>-0.032797</td>\n",
              "      <td>65.115919</td>\n",
              "      <td>2.011707</td>\n",
              "      <td>5.202340</td>\n",
              "      <td>6.566883</td>\n",
              "      <td>9.196701</td>\n",
              "      <td>1.297902</td>\n",
              "    </tr>\n",
              "    <tr>\n",
              "      <th>std</th>\n",
              "      <td>3.525878e+04</td>\n",
              "      <td>274.573930</td>\n",
              "      <td>327.126767</td>\n",
              "      <td>0.122124</td>\n",
              "      <td>0.018313</td>\n",
              "      <td>0.525702</td>\n",
              "      <td>0.179974</td>\n",
              "      <td>11.737439</td>\n",
              "      <td>7.615520</td>\n",
              "      <td>7.829167</td>\n",
              "      <td>1.016379</td>\n",
              "      <td>20.770066</td>\n",
              "      <td>0.838292</td>\n",
              "      <td>2.048344</td>\n",
              "      <td>2.299795</td>\n",
              "      <td>2.189679</td>\n",
              "      <td>9.538527</td>\n",
              "    </tr>\n",
              "    <tr>\n",
              "      <th>min</th>\n",
              "      <td>4.900007e+08</td>\n",
              "      <td>0.000000</td>\n",
              "      <td>0.000000</td>\n",
              "      <td>0.000000</td>\n",
              "      <td>0.000000</td>\n",
              "      <td>0.000000</td>\n",
              "      <td>0.000000</td>\n",
              "      <td>-17.600000</td>\n",
              "      <td>722.800000</td>\n",
              "      <td>736.900000</td>\n",
              "      <td>-3.500000</td>\n",
              "      <td>11.000000</td>\n",
              "      <td>0.000000</td>\n",
              "      <td>1.000000</td>\n",
              "      <td>2.000000</td>\n",
              "      <td>0.400000</td>\n",
              "      <td>-21.700000</td>\n",
              "    </tr>\n",
              "    <tr>\n",
              "      <th>25%</th>\n",
              "      <td>4.900301e+08</td>\n",
              "      <td>14.000000</td>\n",
              "      <td>62.000000</td>\n",
              "      <td>0.000000</td>\n",
              "      <td>0.000000</td>\n",
              "      <td>0.000000</td>\n",
              "      <td>0.000000</td>\n",
              "      <td>-1.200000</td>\n",
              "      <td>742.600000</td>\n",
              "      <td>756.700000</td>\n",
              "      <td>-0.500000</td>\n",
              "      <td>47.000000</td>\n",
              "      <td>1.000000</td>\n",
              "      <td>4.000000</td>\n",
              "      <td>5.000000</td>\n",
              "      <td>10.000000</td>\n",
              "      <td>-6.100000</td>\n",
              "    </tr>\n",
              "    <tr>\n",
              "      <th>50%</th>\n",
              "      <td>4.900595e+08</td>\n",
              "      <td>136.000000</td>\n",
              "      <td>350.000000</td>\n",
              "      <td>0.000000</td>\n",
              "      <td>0.000000</td>\n",
              "      <td>0.000000</td>\n",
              "      <td>0.000000</td>\n",
              "      <td>9.250000</td>\n",
              "      <td>747.600000</td>\n",
              "      <td>761.800000</td>\n",
              "      <td>-0.100000</td>\n",
              "      <td>66.000000</td>\n",
              "      <td>2.000000</td>\n",
              "      <td>5.000000</td>\n",
              "      <td>6.000000</td>\n",
              "      <td>10.000000</td>\n",
              "      <td>1.400000</td>\n",
              "    </tr>\n",
              "    <tr>\n",
              "      <th>75%</th>\n",
              "      <td>4.900917e+08</td>\n",
              "      <td>489.000000</td>\n",
              "      <td>700.000000</td>\n",
              "      <td>0.000000</td>\n",
              "      <td>0.000000</td>\n",
              "      <td>0.000000</td>\n",
              "      <td>0.000000</td>\n",
              "      <td>18.900000</td>\n",
              "      <td>752.200000</td>\n",
              "      <td>766.575000</td>\n",
              "      <td>0.400000</td>\n",
              "      <td>83.000000</td>\n",
              "      <td>2.000000</td>\n",
              "      <td>6.000000</td>\n",
              "      <td>8.000000</td>\n",
              "      <td>10.000000</td>\n",
              "      <td>9.400000</td>\n",
              "    </tr>\n",
              "    <tr>\n",
              "      <th>max</th>\n",
              "      <td>4.901250e+08</td>\n",
              "      <td>5793.000000</td>\n",
              "      <td>998.000000</td>\n",
              "      <td>3.000000</td>\n",
              "      <td>1.000000</td>\n",
              "      <td>8.000000</td>\n",
              "      <td>4.000000</td>\n",
              "      <td>33.900000</td>\n",
              "      <td>773.800000</td>\n",
              "      <td>789.600000</td>\n",
              "      <td>14.600000</td>\n",
              "      <td>100.000000</td>\n",
              "      <td>7.000000</td>\n",
              "      <td>13.000000</td>\n",
              "      <td>18.000000</td>\n",
              "      <td>10.000000</td>\n",
              "      <td>20.800000</td>\n",
              "    </tr>\n",
              "  </tbody>\n",
              "</table>\n",
              "</div>\n",
              "      <button class=\"colab-df-convert\" onclick=\"convertToInteractive('df-b13c4a43-cc62-4a64-9ee2-9e2ff99b8a6b')\"\n",
              "              title=\"Convert this dataframe to an interactive table.\"\n",
              "              style=\"display:none;\">\n",
              "        \n",
              "  <svg xmlns=\"http://www.w3.org/2000/svg\" height=\"24px\"viewBox=\"0 0 24 24\"\n",
              "       width=\"24px\">\n",
              "    <path d=\"M0 0h24v24H0V0z\" fill=\"none\"/>\n",
              "    <path d=\"M18.56 5.44l.94 2.06.94-2.06 2.06-.94-2.06-.94-.94-2.06-.94 2.06-2.06.94zm-11 1L8.5 8.5l.94-2.06 2.06-.94-2.06-.94L8.5 2.5l-.94 2.06-2.06.94zm10 10l.94 2.06.94-2.06 2.06-.94-2.06-.94-.94-2.06-.94 2.06-2.06.94z\"/><path d=\"M17.41 7.96l-1.37-1.37c-.4-.4-.92-.59-1.43-.59-.52 0-1.04.2-1.43.59L10.3 9.45l-7.72 7.72c-.78.78-.78 2.05 0 2.83L4 21.41c.39.39.9.59 1.41.59.51 0 1.02-.2 1.41-.59l7.78-7.78 2.81-2.81c.8-.78.8-2.07 0-2.86zM5.41 20L4 18.59l7.72-7.72 1.47 1.35L5.41 20z\"/>\n",
              "  </svg>\n",
              "      </button>\n",
              "      \n",
              "  <style>\n",
              "    .colab-df-container {\n",
              "      display:flex;\n",
              "      flex-wrap:wrap;\n",
              "      gap: 12px;\n",
              "    }\n",
              "\n",
              "    .colab-df-convert {\n",
              "      background-color: #E8F0FE;\n",
              "      border: none;\n",
              "      border-radius: 50%;\n",
              "      cursor: pointer;\n",
              "      display: none;\n",
              "      fill: #1967D2;\n",
              "      height: 32px;\n",
              "      padding: 0 0 0 0;\n",
              "      width: 32px;\n",
              "    }\n",
              "\n",
              "    .colab-df-convert:hover {\n",
              "      background-color: #E2EBFA;\n",
              "      box-shadow: 0px 1px 2px rgba(60, 64, 67, 0.3), 0px 1px 3px 1px rgba(60, 64, 67, 0.15);\n",
              "      fill: #174EA6;\n",
              "    }\n",
              "\n",
              "    [theme=dark] .colab-df-convert {\n",
              "      background-color: #3B4455;\n",
              "      fill: #D2E3FC;\n",
              "    }\n",
              "\n",
              "    [theme=dark] .colab-df-convert:hover {\n",
              "      background-color: #434B5C;\n",
              "      box-shadow: 0px 1px 3px 1px rgba(0, 0, 0, 0.15);\n",
              "      filter: drop-shadow(0px 1px 2px rgba(0, 0, 0, 0.3));\n",
              "      fill: #FFFFFF;\n",
              "    }\n",
              "  </style>\n",
              "\n",
              "      <script>\n",
              "        const buttonEl =\n",
              "          document.querySelector('#df-b13c4a43-cc62-4a64-9ee2-9e2ff99b8a6b button.colab-df-convert');\n",
              "        buttonEl.style.display =\n",
              "          google.colab.kernel.accessAllowed ? 'block' : 'none';\n",
              "\n",
              "        async function convertToInteractive(key) {\n",
              "          const element = document.querySelector('#df-b13c4a43-cc62-4a64-9ee2-9e2ff99b8a6b');\n",
              "          const dataTable =\n",
              "            await google.colab.kernel.invokeFunction('convertToInteractive',\n",
              "                                                     [key], {});\n",
              "          if (!dataTable) return;\n",
              "\n",
              "          const docLinkHtml = 'Like what you see? Visit the ' +\n",
              "            '<a target=\"_blank\" href=https://colab.research.google.com/notebooks/data_table.ipynb>data table notebook</a>'\n",
              "            + ' to learn more about interactive tables.';\n",
              "          element.innerHTML = '';\n",
              "          dataTable['output_type'] = 'display_data';\n",
              "          await google.colab.output.renderOutput(dataTable, element);\n",
              "          const docLink = document.createElement('div');\n",
              "          docLink.innerHTML = docLinkHtml;\n",
              "          element.appendChild(docLink);\n",
              "        }\n",
              "      </script>\n",
              "    </div>\n",
              "  </div>\n",
              "  "
            ]
          },
          "metadata": {},
          "execution_count": 27
        }
      ],
      "source": [
        "df.describe()"
      ]
    },
    {
      "cell_type": "code",
      "execution_count": null,
      "metadata": {
        "colab": {
          "base_uri": "https://localhost:8080/"
        },
        "id": "_lF36qvy6a5m",
        "outputId": "8c64a924-8642-4748-d0ea-cc2ba874c1d0"
      },
      "outputs": [
        {
          "output_type": "execute_result",
          "data": {
            "text/plain": [
              "0    35426\n",
              "1      299\n",
              "2       35\n",
              "3       11\n",
              "Name: Погибло, dtype: int64"
            ]
          },
          "metadata": {},
          "execution_count": 28
        }
      ],
      "source": [
        "df['Погибло'].value_counts()"
      ]
    },
    {
      "cell_type": "code",
      "execution_count": null,
      "metadata": {
        "colab": {
          "base_uri": "https://localhost:8080/"
        },
        "id": "V50wHCVA64nl",
        "outputId": "98c88851-7f84-4260-8bdd-52ba198e6dbf"
      },
      "outputs": [
        {
          "output_type": "execute_result",
          "data": {
            "text/plain": [
              "0    35759\n",
              "1       12\n",
              "Name: Погибло детей, dtype: int64"
            ]
          },
          "metadata": {},
          "execution_count": 29
        }
      ],
      "source": [
        "df['Погибло детей'].value_counts()"
      ]
    },
    {
      "cell_type": "code",
      "execution_count": null,
      "metadata": {
        "colab": {
          "base_uri": "https://localhost:8080/"
        },
        "id": "AIqTsJDS64z_",
        "outputId": "d282336a-2cb4-4567-8cc2-7e1a870e5e56"
      },
      "outputs": [
        {
          "output_type": "execute_result",
          "data": {
            "text/plain": [
              "0    31229\n",
              "1     3473\n",
              "2      733\n",
              "3      217\n",
              "4       76\n",
              "5       28\n",
              "6        9\n",
              "8        3\n",
              "7        3\n",
              "Name: Ранено, dtype: int64"
            ]
          },
          "metadata": {},
          "execution_count": 30
        }
      ],
      "source": [
        "df['Ранено'].value_counts()"
      ]
    },
    {
      "cell_type": "code",
      "execution_count": null,
      "metadata": {
        "colab": {
          "base_uri": "https://localhost:8080/"
        },
        "id": "3Wzr1C1T643H",
        "outputId": "ce818d42-7559-4a96-fa3c-f634a3047834"
      },
      "outputs": [
        {
          "output_type": "execute_result",
          "data": {
            "text/plain": [
              "0    34994\n",
              "1      678\n",
              "2       86\n",
              "3        7\n",
              "4        6\n",
              "Name: Ранено детей, dtype: int64"
            ]
          },
          "metadata": {},
          "execution_count": 31
        }
      ],
      "source": [
        "df['Ранено детей'].value_counts()"
      ]
    },
    {
      "cell_type": "markdown",
      "metadata": {
        "id": "1nGjX4rDUlio"
      },
      "source": [
        "Заменим все пропуски в данных"
      ]
    },
    {
      "cell_type": "code",
      "execution_count": 19,
      "metadata": {
        "id": "CANpafPZULyh"
      },
      "outputs": [],
      "source": [
        "df = df.fillna(0)"
      ]
    },
    {
      "cell_type": "markdown",
      "metadata": {
        "id": "_UoX9CWlWPK3"
      },
      "source": [
        "Добавим пару новых столбцов"
      ]
    },
    {
      "cell_type": "code",
      "execution_count": 20,
      "metadata": {
        "id": "omTjmeZiU158"
      },
      "outputs": [],
      "source": [
        "df[\"День\"] = df[\"Дата\"].str[:2]\n",
        "df[\"Месяц\"] = df[\"Дата\"].str[3:5]"
      ]
    },
    {
      "cell_type": "code",
      "execution_count": 21,
      "metadata": {
        "id": "BKDemfR8RSmM"
      },
      "outputs": [],
      "source": [
        "df[\"Год\"] = df[\"Дата\"].str[8:]"
      ]
    },
    {
      "cell_type": "code",
      "execution_count": 22,
      "metadata": {
        "id": "KM1HEAQgWTh0"
      },
      "outputs": [],
      "source": [
        "df[\"Час\"] = df[\"Время\"].str[:2]"
      ]
    },
    {
      "cell_type": "code",
      "execution_count": 23,
      "metadata": {
        "colab": {
          "base_uri": "https://localhost:8080/",
          "height": 433
        },
        "id": "VUgrXwNdU4YN",
        "outputId": "67a48457-d63e-4ef1-e705-8bbcbc7aa06b"
      },
      "outputs": [
        {
          "output_type": "execute_result",
          "data": {
            "text/plain": [
              "          id        Дата     Время                                   Место  \\\n",
              "0  490103984  13.07.2018  17:35:00  Новгородская область, Великий Новгород   \n",
              "1  490097169  11.05.2018  17:10:00  Новгородская область, Великий Новгород   \n",
              "2  490031781  25.01.2020  14:44:00  Новгородская область, Великий Новгород   \n",
              "\n",
              "                            Улица Дом Дорога  Километр  Метр       Вид ДТП  \\\n",
              "0  Большая Санкт-Петербургская ул  88      0       0.0   0.0  Столкновение   \n",
              "1  Большая Санкт-Петербургская ул  73      0       0.0   0.0  Столкновение   \n",
              "2                    Хутынская ул  29      0       0.0   0.0             0   \n",
              "\n",
              "   Погибло  Погибло детей  Ранено  Ранено детей     T     Po      P   Pa  \\\n",
              "0        0              0       0             0  22.9  744.2  757.7 -0.2   \n",
              "1        0              0       0             0  15.7  751.7  765.8 -1.2   \n",
              "2        0              0       0             0   0.6  730.0  744.4 -0.3   \n",
              "\n",
              "      U                                     DD   Ff  ff10   ff3  \\\n",
              "0  66.0                 Ветер, дующий с севера  1.0   2.0   4.0   \n",
              "1  17.0  Ветер, дующий с северо-северо-востока  4.0  10.0  10.0   \n",
              "2  71.0                 Ветер, дующий с запада  3.0   5.0   7.0   \n",
              "\n",
              "                           N WW  \\\n",
              "0  90  или более, но не 100%      \n",
              "1               Облаков нет.      \n",
              "2                  70 – 80%.      \n",
              "\n",
              "                                                  Cl  \\\n",
              "0  Кучево-дождевые волокнистые (часто с наковальн...   \n",
              "1                                                  0   \n",
              "2     Слоисто-кучевые, образовавшиеся не из кучевых.   \n",
              "\n",
              "                          Nh         H    VV    Td День Месяц Год Час  \n",
              "0  90  или более, но не 100%  600-1000  10.0  16.2   13    07  18  17  \n",
              "1                          0         0  10.0  -9.4   11    05  18  17  \n",
              "2                       40%.  600-1000  10.0  -4.1   25    01  20  14  "
            ],
            "text/html": [
              "\n",
              "  <div id=\"df-e2be2b41-dd8e-496d-aa77-544e47efcafb\">\n",
              "    <div class=\"colab-df-container\">\n",
              "      <div>\n",
              "<style scoped>\n",
              "    .dataframe tbody tr th:only-of-type {\n",
              "        vertical-align: middle;\n",
              "    }\n",
              "\n",
              "    .dataframe tbody tr th {\n",
              "        vertical-align: top;\n",
              "    }\n",
              "\n",
              "    .dataframe thead th {\n",
              "        text-align: right;\n",
              "    }\n",
              "</style>\n",
              "<table border=\"1\" class=\"dataframe\">\n",
              "  <thead>\n",
              "    <tr style=\"text-align: right;\">\n",
              "      <th></th>\n",
              "      <th>id</th>\n",
              "      <th>Дата</th>\n",
              "      <th>Время</th>\n",
              "      <th>Место</th>\n",
              "      <th>Улица</th>\n",
              "      <th>Дом</th>\n",
              "      <th>Дорога</th>\n",
              "      <th>Километр</th>\n",
              "      <th>Метр</th>\n",
              "      <th>Вид ДТП</th>\n",
              "      <th>Погибло</th>\n",
              "      <th>Погибло детей</th>\n",
              "      <th>Ранено</th>\n",
              "      <th>Ранено детей</th>\n",
              "      <th>T</th>\n",
              "      <th>Po</th>\n",
              "      <th>P</th>\n",
              "      <th>Pa</th>\n",
              "      <th>U</th>\n",
              "      <th>DD</th>\n",
              "      <th>Ff</th>\n",
              "      <th>ff10</th>\n",
              "      <th>ff3</th>\n",
              "      <th>N</th>\n",
              "      <th>WW</th>\n",
              "      <th>Cl</th>\n",
              "      <th>Nh</th>\n",
              "      <th>H</th>\n",
              "      <th>VV</th>\n",
              "      <th>Td</th>\n",
              "      <th>День</th>\n",
              "      <th>Месяц</th>\n",
              "      <th>Год</th>\n",
              "      <th>Час</th>\n",
              "    </tr>\n",
              "  </thead>\n",
              "  <tbody>\n",
              "    <tr>\n",
              "      <th>0</th>\n",
              "      <td>490103984</td>\n",
              "      <td>13.07.2018</td>\n",
              "      <td>17:35:00</td>\n",
              "      <td>Новгородская область, Великий Новгород</td>\n",
              "      <td>Большая Санкт-Петербургская ул</td>\n",
              "      <td>88</td>\n",
              "      <td>0</td>\n",
              "      <td>0.0</td>\n",
              "      <td>0.0</td>\n",
              "      <td>Столкновение</td>\n",
              "      <td>0</td>\n",
              "      <td>0</td>\n",
              "      <td>0</td>\n",
              "      <td>0</td>\n",
              "      <td>22.9</td>\n",
              "      <td>744.2</td>\n",
              "      <td>757.7</td>\n",
              "      <td>-0.2</td>\n",
              "      <td>66.0</td>\n",
              "      <td>Ветер, дующий с севера</td>\n",
              "      <td>1.0</td>\n",
              "      <td>2.0</td>\n",
              "      <td>4.0</td>\n",
              "      <td>90  или более, но не 100%</td>\n",
              "      <td></td>\n",
              "      <td>Кучево-дождевые волокнистые (часто с наковальн...</td>\n",
              "      <td>90  или более, но не 100%</td>\n",
              "      <td>600-1000</td>\n",
              "      <td>10.0</td>\n",
              "      <td>16.2</td>\n",
              "      <td>13</td>\n",
              "      <td>07</td>\n",
              "      <td>18</td>\n",
              "      <td>17</td>\n",
              "    </tr>\n",
              "    <tr>\n",
              "      <th>1</th>\n",
              "      <td>490097169</td>\n",
              "      <td>11.05.2018</td>\n",
              "      <td>17:10:00</td>\n",
              "      <td>Новгородская область, Великий Новгород</td>\n",
              "      <td>Большая Санкт-Петербургская ул</td>\n",
              "      <td>73</td>\n",
              "      <td>0</td>\n",
              "      <td>0.0</td>\n",
              "      <td>0.0</td>\n",
              "      <td>Столкновение</td>\n",
              "      <td>0</td>\n",
              "      <td>0</td>\n",
              "      <td>0</td>\n",
              "      <td>0</td>\n",
              "      <td>15.7</td>\n",
              "      <td>751.7</td>\n",
              "      <td>765.8</td>\n",
              "      <td>-1.2</td>\n",
              "      <td>17.0</td>\n",
              "      <td>Ветер, дующий с северо-северо-востока</td>\n",
              "      <td>4.0</td>\n",
              "      <td>10.0</td>\n",
              "      <td>10.0</td>\n",
              "      <td>Облаков нет.</td>\n",
              "      <td></td>\n",
              "      <td>0</td>\n",
              "      <td>0</td>\n",
              "      <td>0</td>\n",
              "      <td>10.0</td>\n",
              "      <td>-9.4</td>\n",
              "      <td>11</td>\n",
              "      <td>05</td>\n",
              "      <td>18</td>\n",
              "      <td>17</td>\n",
              "    </tr>\n",
              "    <tr>\n",
              "      <th>2</th>\n",
              "      <td>490031781</td>\n",
              "      <td>25.01.2020</td>\n",
              "      <td>14:44:00</td>\n",
              "      <td>Новгородская область, Великий Новгород</td>\n",
              "      <td>Хутынская ул</td>\n",
              "      <td>29</td>\n",
              "      <td>0</td>\n",
              "      <td>0.0</td>\n",
              "      <td>0.0</td>\n",
              "      <td>0</td>\n",
              "      <td>0</td>\n",
              "      <td>0</td>\n",
              "      <td>0</td>\n",
              "      <td>0</td>\n",
              "      <td>0.6</td>\n",
              "      <td>730.0</td>\n",
              "      <td>744.4</td>\n",
              "      <td>-0.3</td>\n",
              "      <td>71.0</td>\n",
              "      <td>Ветер, дующий с запада</td>\n",
              "      <td>3.0</td>\n",
              "      <td>5.0</td>\n",
              "      <td>7.0</td>\n",
              "      <td>70 – 80%.</td>\n",
              "      <td></td>\n",
              "      <td>Слоисто-кучевые, образовавшиеся не из кучевых.</td>\n",
              "      <td>40%.</td>\n",
              "      <td>600-1000</td>\n",
              "      <td>10.0</td>\n",
              "      <td>-4.1</td>\n",
              "      <td>25</td>\n",
              "      <td>01</td>\n",
              "      <td>20</td>\n",
              "      <td>14</td>\n",
              "    </tr>\n",
              "  </tbody>\n",
              "</table>\n",
              "</div>\n",
              "      <button class=\"colab-df-convert\" onclick=\"convertToInteractive('df-e2be2b41-dd8e-496d-aa77-544e47efcafb')\"\n",
              "              title=\"Convert this dataframe to an interactive table.\"\n",
              "              style=\"display:none;\">\n",
              "        \n",
              "  <svg xmlns=\"http://www.w3.org/2000/svg\" height=\"24px\"viewBox=\"0 0 24 24\"\n",
              "       width=\"24px\">\n",
              "    <path d=\"M0 0h24v24H0V0z\" fill=\"none\"/>\n",
              "    <path d=\"M18.56 5.44l.94 2.06.94-2.06 2.06-.94-2.06-.94-.94-2.06-.94 2.06-2.06.94zm-11 1L8.5 8.5l.94-2.06 2.06-.94-2.06-.94L8.5 2.5l-.94 2.06-2.06.94zm10 10l.94 2.06.94-2.06 2.06-.94-2.06-.94-.94-2.06-.94 2.06-2.06.94z\"/><path d=\"M17.41 7.96l-1.37-1.37c-.4-.4-.92-.59-1.43-.59-.52 0-1.04.2-1.43.59L10.3 9.45l-7.72 7.72c-.78.78-.78 2.05 0 2.83L4 21.41c.39.39.9.59 1.41.59.51 0 1.02-.2 1.41-.59l7.78-7.78 2.81-2.81c.8-.78.8-2.07 0-2.86zM5.41 20L4 18.59l7.72-7.72 1.47 1.35L5.41 20z\"/>\n",
              "  </svg>\n",
              "      </button>\n",
              "      \n",
              "  <style>\n",
              "    .colab-df-container {\n",
              "      display:flex;\n",
              "      flex-wrap:wrap;\n",
              "      gap: 12px;\n",
              "    }\n",
              "\n",
              "    .colab-df-convert {\n",
              "      background-color: #E8F0FE;\n",
              "      border: none;\n",
              "      border-radius: 50%;\n",
              "      cursor: pointer;\n",
              "      display: none;\n",
              "      fill: #1967D2;\n",
              "      height: 32px;\n",
              "      padding: 0 0 0 0;\n",
              "      width: 32px;\n",
              "    }\n",
              "\n",
              "    .colab-df-convert:hover {\n",
              "      background-color: #E2EBFA;\n",
              "      box-shadow: 0px 1px 2px rgba(60, 64, 67, 0.3), 0px 1px 3px 1px rgba(60, 64, 67, 0.15);\n",
              "      fill: #174EA6;\n",
              "    }\n",
              "\n",
              "    [theme=dark] .colab-df-convert {\n",
              "      background-color: #3B4455;\n",
              "      fill: #D2E3FC;\n",
              "    }\n",
              "\n",
              "    [theme=dark] .colab-df-convert:hover {\n",
              "      background-color: #434B5C;\n",
              "      box-shadow: 0px 1px 3px 1px rgba(0, 0, 0, 0.15);\n",
              "      filter: drop-shadow(0px 1px 2px rgba(0, 0, 0, 0.3));\n",
              "      fill: #FFFFFF;\n",
              "    }\n",
              "  </style>\n",
              "\n",
              "      <script>\n",
              "        const buttonEl =\n",
              "          document.querySelector('#df-e2be2b41-dd8e-496d-aa77-544e47efcafb button.colab-df-convert');\n",
              "        buttonEl.style.display =\n",
              "          google.colab.kernel.accessAllowed ? 'block' : 'none';\n",
              "\n",
              "        async function convertToInteractive(key) {\n",
              "          const element = document.querySelector('#df-e2be2b41-dd8e-496d-aa77-544e47efcafb');\n",
              "          const dataTable =\n",
              "            await google.colab.kernel.invokeFunction('convertToInteractive',\n",
              "                                                     [key], {});\n",
              "          if (!dataTable) return;\n",
              "\n",
              "          const docLinkHtml = 'Like what you see? Visit the ' +\n",
              "            '<a target=\"_blank\" href=https://colab.research.google.com/notebooks/data_table.ipynb>data table notebook</a>'\n",
              "            + ' to learn more about interactive tables.';\n",
              "          element.innerHTML = '';\n",
              "          dataTable['output_type'] = 'display_data';\n",
              "          await google.colab.output.renderOutput(dataTable, element);\n",
              "          const docLink = document.createElement('div');\n",
              "          docLink.innerHTML = docLinkHtml;\n",
              "          element.appendChild(docLink);\n",
              "        }\n",
              "      </script>\n",
              "    </div>\n",
              "  </div>\n",
              "  "
            ]
          },
          "metadata": {},
          "execution_count": 23
        }
      ],
      "source": [
        "df.head(3)"
      ]
    },
    {
      "cell_type": "code",
      "execution_count": null,
      "metadata": {
        "colab": {
          "base_uri": "https://localhost:8080/"
        },
        "id": "fdVAeSHydHqg",
        "outputId": "ccf61483-e5ef-40e4-8014-2102862cef71"
      },
      "outputs": [
        {
          "output_type": "stream",
          "name": "stdout",
          "text": [
            "Магнит, 88, Большая Санкт-Петербургская улица, Колмово, городской округ Великий Новгород, Новгородская область, Северо-Западный федеральный округ, 173008, Россия\n",
            "Latitude =  58.5522668 \n",
            "\n",
            "Longitude =  31.2694214\n"
          ]
        }
      ],
      "source": [
        "from geopy.geocoders import Nominatim\n",
        " \n",
        "# calling the Nominatim tool\n",
        "loc = Nominatim(user_agent=\"GetLoc\")\n",
        " \n",
        "# entering the location name\n",
        "getLoc = loc.geocode(\"Новгородская область, Великий Новгород, Большая Санкт-Петербургская ул\t88\")\n",
        " \n",
        "# printing address\n",
        "print(getLoc.address)\n",
        " \n",
        "# printing latitude and longitude\n",
        "print(\"Latitude = \", getLoc.latitude, \"\\n\")\n",
        "print(\"Longitude = \", getLoc.longitude)"
      ]
    },
    {
      "cell_type": "markdown",
      "metadata": {
        "id": "l2x4YE_xWccH"
      },
      "source": [
        "# Сделаем категории **\"Вид ДТП\"** и **\"Улица\"** и другие раноговыми "
      ]
    },
    {
      "cell_type": "code",
      "execution_count": 24,
      "metadata": {
        "id": "IVqa1jPVWIVY"
      },
      "outputs": [],
      "source": [
        "df[\"Вид ДТП\"] = pd.Categorical(df[\"Вид ДТП\"])\n",
        "df[\"Вид ДТП\"].astype('category').cat.codes\n",
        "df[\"Вид ДТП\"] = df[\"Вид ДТП\"].cat.codes"
      ]
    },
    {
      "cell_type": "code",
      "execution_count": 25,
      "metadata": {
        "id": "xyrcc4QOb477"
      },
      "outputs": [],
      "source": [
        "df[\"Улица\"] = pd.Categorical(df[\"Улица\"])\n",
        "df[\"Улица\"].astype('category').cat.codes\n",
        "df[\"Улица\"] = df[\"Улица\"].cat.codes"
      ]
    },
    {
      "cell_type": "code",
      "execution_count": 26,
      "metadata": {
        "id": "lyAy0INgRCHL"
      },
      "outputs": [],
      "source": [
        "df[\"Место\"] = pd.Categorical(df[\"Место\"])\n",
        "df[\"Место\"].astype('category').cat.codes\n",
        "df[\"Место\"] = df[\"Место\"].cat.codes"
      ]
    },
    {
      "cell_type": "code",
      "execution_count": 27,
      "metadata": {
        "id": "A1uwk2UpSKM-"
      },
      "outputs": [],
      "source": [
        "df[\"Дорога\"] = pd.Categorical(df[\"Дорога\"])\n",
        "df[\"Дорога\"].astype('category').cat.codes\n",
        "df[\"Дорога\"] = df[\"Дорога\"].cat.codes"
      ]
    },
    {
      "cell_type": "code",
      "execution_count": 28,
      "metadata": {
        "id": "eMV02Xq4TB1N"
      },
      "outputs": [],
      "source": [
        "df[\"DD\"] = pd.Categorical(df[\"DD\"])\n",
        "df[\"DD\"].astype('category').cat.codes\n",
        "df[\"DD\"] = df[\"DD\"].cat.codes"
      ]
    },
    {
      "cell_type": "code",
      "execution_count": 29,
      "metadata": {
        "id": "n8c_sKIMTB5I"
      },
      "outputs": [],
      "source": [
        "df[\"N\"] = pd.Categorical(df[\"N\"])\n",
        "df[\"N\"].astype('category').cat.codes\n",
        "df[\"N\"] = df[\"N\"].cat.codes"
      ]
    },
    {
      "cell_type": "code",
      "execution_count": 30,
      "metadata": {
        "id": "tyTLXGVUTZ5m"
      },
      "outputs": [],
      "source": [
        "df[\"Cl\"] = pd.Categorical(df[\"Cl\"])\n",
        "df[\"Cl\"].astype('category').cat.codes\n",
        "df[\"Cl\"] = df[\"Cl\"].cat.codes"
      ]
    },
    {
      "cell_type": "code",
      "execution_count": 31,
      "metadata": {
        "id": "o4V1ZxFgTZ9I"
      },
      "outputs": [],
      "source": [
        "df[\"H\"] = pd.Categorical(df[\"H\"])\n",
        "df[\"H\"].astype('category').cat.codes\n",
        "df[\"H\"] = df[\"H\"].cat.codes"
      ]
    },
    {
      "cell_type": "code",
      "execution_count": 32,
      "metadata": {
        "id": "cpwYHLzSTaAI"
      },
      "outputs": [],
      "source": [
        "df[\"Nh\"] = pd.Categorical(df[\"Nh\"])\n",
        "df[\"Nh\"].astype('category').cat.codes\n",
        "df[\"Nh\"] = df[\"Nh\"].cat.codes"
      ]
    },
    {
      "cell_type": "code",
      "execution_count": 33,
      "metadata": {
        "id": "u4Xcr3IGURIX"
      },
      "outputs": [],
      "source": [
        "df[\"WW\"] = pd.Categorical(df[\"WW\"])\n",
        "df[\"WW\"].astype('category').cat.codes\n",
        "df[\"WW\"] = df[\"WW\"].cat.codes"
      ]
    },
    {
      "cell_type": "code",
      "execution_count": 34,
      "metadata": {
        "colab": {
          "base_uri": "https://localhost:8080/"
        },
        "id": "EANXMvHYT3TZ",
        "outputId": "2ca7440e-1a04-4187-c277-670ed22b3488"
      },
      "outputs": [
        {
          "output_type": "stream",
          "name": "stdout",
          "text": [
            "<class 'pandas.core.frame.DataFrame'>\n",
            "Int64Index: 35771 entries, 0 to 35770\n",
            "Data columns (total 34 columns):\n",
            " #   Column         Non-Null Count  Dtype  \n",
            "---  ------         --------------  -----  \n",
            " 0   id             35771 non-null  int64  \n",
            " 1   Дата           35771 non-null  object \n",
            " 2   Время          35771 non-null  object \n",
            " 3   Место          35771 non-null  int16  \n",
            " 4   Улица          35771 non-null  int16  \n",
            " 5   Дом            35771 non-null  object \n",
            " 6   Дорога         35771 non-null  int16  \n",
            " 7   Километр       35771 non-null  float64\n",
            " 8   Метр           35771 non-null  float64\n",
            " 9   Вид ДТП        35771 non-null  int8   \n",
            " 10  Погибло        35771 non-null  int64  \n",
            " 11  Погибло детей  35771 non-null  int64  \n",
            " 12  Ранено         35771 non-null  int64  \n",
            " 13  Ранено детей   35771 non-null  int64  \n",
            " 14  T              35771 non-null  float64\n",
            " 15  Po             35771 non-null  float64\n",
            " 16  P              35771 non-null  float64\n",
            " 17  Pa             35771 non-null  float64\n",
            " 18  U              35771 non-null  float64\n",
            " 19  DD             35771 non-null  int8   \n",
            " 20  Ff             35771 non-null  float64\n",
            " 21  ff10           35771 non-null  float64\n",
            " 22  ff3            35771 non-null  float64\n",
            " 23  N              35771 non-null  int8   \n",
            " 24  WW             35771 non-null  int8   \n",
            " 25  Cl             35771 non-null  int8   \n",
            " 26  Nh             35771 non-null  int8   \n",
            " 27  H              35771 non-null  int8   \n",
            " 28  VV             35771 non-null  float64\n",
            " 29  Td             35771 non-null  float64\n",
            " 30  День           35771 non-null  object \n",
            " 31  Месяц          35771 non-null  object \n",
            " 32  Год            35771 non-null  object \n",
            " 33  Час            35771 non-null  object \n",
            "dtypes: float64(12), int16(3), int64(5), int8(7), object(7)\n",
            "memory usage: 7.3+ MB\n"
          ]
        }
      ],
      "source": [
        "df.info()"
      ]
    },
    {
      "cell_type": "markdown",
      "metadata": {
        "id": "lLhnuX23dNFD"
      },
      "source": [
        "Пострим на распределение данных"
      ]
    },
    {
      "cell_type": "code",
      "execution_count": 35,
      "metadata": {
        "colab": {
          "base_uri": "https://localhost:8080/",
          "height": 296
        },
        "id": "9VE85xwYbNh3",
        "outputId": "6cbb0054-6bca-4096-8d98-c45d9626ee17"
      },
      "outputs": [
        {
          "output_type": "execute_result",
          "data": {
            "text/plain": [
              "<matplotlib.axes._subplots.AxesSubplot at 0x7fa746233d90>"
            ]
          },
          "metadata": {},
          "execution_count": 35
        },
        {
          "output_type": "display_data",
          "data": {
            "text/plain": [
              "<Figure size 432x288 with 1 Axes>"
            ],
            "image/png": "[encoded data removed]"
          },
          "metadata": {
            "needs_background": "light"
          }
        }
      ],
      "source": [
        "sns.countplot(x = \"Вид ДТП\" , data  = df)  "
      ]
    },
    {
      "cell_type": "code",
      "execution_count": 36,
      "metadata": {
        "colab": {
          "base_uri": "https://localhost:8080/",
          "height": 458
        },
        "id": "rmBwQEuxcHKb",
        "outputId": "4a56e1c6-b2ce-4785-b8f1-57f06fbb742e"
      },
      "outputs": [
        {
          "output_type": "execute_result",
          "data": {
            "text/plain": [
              "<seaborn.axisgrid.JointGrid at 0x7fa746b5bd50>"
            ]
          },
          "metadata": {},
          "execution_count": 36
        },
        {
          "output_type": "display_data",
          "data": {
            "text/plain": [
              "<Figure size 432x432 with 3 Axes>"
            ],
            "image/png": "[encoded data removed]"
          },
          "metadata": {
            "needs_background": "light"
          }
        }
      ],
      "source": [
        "sns.jointplot(x = 'Месяц', y = \"Вид ДТП\" , data = df)"
      ]
    },
    {
      "cell_type": "code",
      "execution_count": 37,
      "metadata": {
        "colab": {
          "base_uri": "https://localhost:8080/",
          "height": 615
        },
        "id": "nXnoX-xKct8o",
        "outputId": "6ad3c3a2-b506-4ce5-fd69-e99ec58a203c"
      },
      "outputs": [
        {
          "output_type": "display_data",
          "data": {
            "text/plain": [
              "<Figure size 720x720 with 2 Axes>"
            ],
            "image/png": "[encoded data removed]"
          },
          "metadata": {
            "needs_background": "light"
          }
        }
      ],
      "source": [
        "plt.rcParams['figure.figsize']=(10,10)\n",
        "\n",
        "corr = df.corr()\n",
        "g = sns.heatmap(corr, square = True, annot=True)"
      ]
    },
    {
      "cell_type": "code",
      "execution_count": 38,
      "metadata": {
        "id": "WcirlI63d3XV"
      },
      "outputs": [],
      "source": [
        "df[\"День\"] = df[\"День\"].astype('int')\n",
        "df[\"Месяц\"] = df[\"Месяц\"].astype('int')\n",
        "df[\"Час\"] = df[\"Час\"].astype('int')"
      ]
    },
    {
      "cell_type": "code",
      "execution_count": 39,
      "metadata": {
        "id": "nQxP_dDEa49a"
      },
      "outputs": [],
      "source": [
        "df[\"Год\"] = df[\"Год\"].astype('int')"
      ]
    },
    {
      "cell_type": "code",
      "execution_count": 40,
      "metadata": {
        "colab": {
          "base_uri": "https://localhost:8080/"
        },
        "id": "OMOg1YYbbcHc",
        "outputId": "c631a332-3e8d-46b5-e07d-ac3d6727c362"
      },
      "outputs": [
        {
          "output_type": "stream",
          "name": "stdout",
          "text": [
            "<class 'pandas.core.frame.DataFrame'>\n",
            "Int64Index: 35771 entries, 0 to 35770\n",
            "Data columns (total 34 columns):\n",
            " #   Column         Non-Null Count  Dtype  \n",
            "---  ------         --------------  -----  \n",
            " 0   id             35771 non-null  int64  \n",
            " 1   Дата           35771 non-null  object \n",
            " 2   Время          35771 non-null  object \n",
            " 3   Место          35771 non-null  int16  \n",
            " 4   Улица          35771 non-null  int16  \n",
            " 5   Дом            35771 non-null  object \n",
            " 6   Дорога         35771 non-null  int16  \n",
            " 7   Километр       35771 non-null  float64\n",
            " 8   Метр           35771 non-null  float64\n",
            " 9   Вид ДТП        35771 non-null  int8   \n",
            " 10  Погибло        35771 non-null  int64  \n",
            " 11  Погибло детей  35771 non-null  int64  \n",
            " 12  Ранено         35771 non-null  int64  \n",
            " 13  Ранено детей   35771 non-null  int64  \n",
            " 14  T              35771 non-null  float64\n",
            " 15  Po             35771 non-null  float64\n",
            " 16  P              35771 non-null  float64\n",
            " 17  Pa             35771 non-null  float64\n",
            " 18  U              35771 non-null  float64\n",
            " 19  DD             35771 non-null  int8   \n",
            " 20  Ff             35771 non-null  float64\n",
            " 21  ff10           35771 non-null  float64\n",
            " 22  ff3            35771 non-null  float64\n",
            " 23  N              35771 non-null  int8   \n",
            " 24  WW             35771 non-null  int8   \n",
            " 25  Cl             35771 non-null  int8   \n",
            " 26  Nh             35771 non-null  int8   \n",
            " 27  H              35771 non-null  int8   \n",
            " 28  VV             35771 non-null  float64\n",
            " 29  Td             35771 non-null  float64\n",
            " 30  День           35771 non-null  int64  \n",
            " 31  Месяц          35771 non-null  int64  \n",
            " 32  Год            35771 non-null  int64  \n",
            " 33  Час            35771 non-null  int64  \n",
            "dtypes: float64(12), int16(3), int64(9), int8(7), object(3)\n",
            "memory usage: 8.3+ MB\n"
          ]
        }
      ],
      "source": [
        "df.info()"
      ]
    },
    {
      "cell_type": "code",
      "execution_count": 41,
      "metadata": {
        "id": "RH6o2mA0bqAM"
      },
      "outputs": [],
      "source": [
        "X = df.drop([\"Дата\", \"Время\",\"id\", \"Дом\", \"Погибло\",\t\"Погибло детей\",\t\"Ранено\",\t\"Ранено детей\"], axis = 1)"
      ]
    },
    {
      "cell_type": "code",
      "execution_count": 43,
      "metadata": {
        "colab": {
          "base_uri": "https://localhost:8080/",
          "height": 505
        },
        "id": "KAdKF28MibOq",
        "outputId": "549cc10c-5e96-4d05-c7cf-a7af04e23d74"
      },
      "outputs": [
        {
          "output_type": "execute_result",
          "data": {
            "text/plain": [
              "       Место  Улица  Дорога  Километр   Метр  Вид ДТП     T     Po      P  \\\n",
              "0         86     60       0       0.0    0.0       16  22.9  744.2  757.7   \n",
              "1         86     60       0       0.0    0.0       16  15.7  751.7  765.8   \n",
              "2         86    551       0       0.0    0.0        0   0.6  730.0  744.4   \n",
              "3        229     95       0       0.0    0.0        0  16.1  740.9  754.7   \n",
              "4        259      0     102     430.0    5.0        2 -11.4  747.9  763.3   \n",
              "...      ...    ...     ...       ...    ...      ...   ...    ...    ...   \n",
              "35766     86      0       0       0.0    0.0       16  23.4  747.4  760.9   \n",
              "35767     86    390       0       0.0    0.0       16   7.4  745.3  759.7   \n",
              "35768    365      0       0       0.0    0.0       11   4.4  739.0  753.4   \n",
              "35769    178      0       2     544.0  870.0        0  16.4  750.1  764.1   \n",
              "35770    317      0     168      91.0  350.0       11 -12.4  761.2  777.1   \n",
              "\n",
              "        Pa     U  DD   Ff  ff10   ff3   N  WW  Cl  Nh  H    VV    Td  День  \\\n",
              "0     -0.2  66.0   7  1.0   2.0   4.0   8   1   1   8  8  10.0  16.2    13   \n",
              "1     -1.2  17.0  10  4.0  10.0  10.0  10   1   0   0  0  10.0  -9.4    11   \n",
              "2     -0.3  71.0   4  3.0   5.0   7.0   7   1   6   4  8  10.0  -4.1    25   \n",
              "3     -0.2  49.0  12  2.0   4.0   6.0   8   1   4   5  8  10.0   5.4    11   \n",
              "4      1.0  80.0  14  1.0   3.0   5.0   2  37   6   5  8  10.0 -14.2     9   \n",
              "...    ...   ...  ..  ...   ...   ...  ..  ..  ..  .. ..   ...   ...   ...   \n",
              "35766  0.1  56.0   9  1.0   4.0   4.0   3   1   4   3  2  10.0  14.2    15   \n",
              "35767  3.2  93.0  11  3.0   6.0   7.0   2   4   6   7  8  10.0   6.3    15   \n",
              "35768 -1.2  50.0  12  2.0   6.0   7.0   8   1   7   9  6  10.0  -5.3    10   \n",
              "35769 -1.5  51.0  14  2.0   6.0   9.0   8   1   6   8  8  10.0   6.1    13   \n",
              "35770  0.4  85.0  15  1.0   3.0   3.0   4  29   5   3  7  10.0 -14.4    25   \n",
              "\n",
              "       Месяц  Год  Час  \n",
              "0          7   18   17  \n",
              "1          5   18   17  \n",
              "2          1   20   14  \n",
              "3          5   20   11  \n",
              "4          1   19    1  \n",
              "...      ...  ...  ...  \n",
              "35766      5   19    7  \n",
              "35767     10   19    8  \n",
              "35768      3   19    9  \n",
              "35769      9   20    5  \n",
              "35770      1   18   18  \n",
              "\n",
              "[35771 rows x 26 columns]"
            ],
            "text/html": [
              "\n",
              "  <div id=\"df-683b6895-411e-4b24-9cd2-f629e30a5d1b\">\n",
              "    <div class=\"colab-df-container\">\n",
              "      <div>\n",
              "<style scoped>\n",
              "    .dataframe tbody tr th:only-of-type {\n",
              "        vertical-align: middle;\n",
              "    }\n",
              "\n",
              "    .dataframe tbody tr th {\n",
              "        vertical-align: top;\n",
              "    }\n",
              "\n",
              "    .dataframe thead th {\n",
              "        text-align: right;\n",
              "    }\n",
              "</style>\n",
              "<table border=\"1\" class=\"dataframe\">\n",
              "  <thead>\n",
              "    <tr style=\"text-align: right;\">\n",
              "      <th></th>\n",
              "      <th>Место</th>\n",
              "      <th>Улица</th>\n",
              "      <th>Дорога</th>\n",
              "      <th>Километр</th>\n",
              "      <th>Метр</th>\n",
              "      <th>Вид ДТП</th>\n",
              "      <th>T</th>\n",
              "      <th>Po</th>\n",
              "      <th>P</th>\n",
              "      <th>Pa</th>\n",
              "      <th>U</th>\n",
              "      <th>DD</th>\n",
              "      <th>Ff</th>\n",
              "      <th>ff10</th>\n",
              "      <th>ff3</th>\n",
              "      <th>N</th>\n",
              "      <th>WW</th>\n",
              "      <th>Cl</th>\n",
              "      <th>Nh</th>\n",
              "      <th>H</th>\n",
              "      <th>VV</th>\n",
              "      <th>Td</th>\n",
              "      <th>День</th>\n",
              "      <th>Месяц</th>\n",
              "      <th>Год</th>\n",
              "      <th>Час</th>\n",
              "    </tr>\n",
              "  </thead>\n",
              "  <tbody>\n",
              "    <tr>\n",
              "      <th>0</th>\n",
              "      <td>86</td>\n",
              "      <td>60</td>\n",
              "      <td>0</td>\n",
              "      <td>0.0</td>\n",
              "      <td>0.0</td>\n",
              "      <td>16</td>\n",
              "      <td>22.9</td>\n",
              "      <td>744.2</td>\n",
              "      <td>757.7</td>\n",
              "      <td>-0.2</td>\n",
              "      <td>66.0</td>\n",
              "      <td>7</td>\n",
              "      <td>1.0</td>\n",
              "      <td>2.0</td>\n",
              "      <td>4.0</td>\n",
              "      <td>8</td>\n",
              "      <td>1</td>\n",
              "      <td>1</td>\n",
              "      <td>8</td>\n",
              "      <td>8</td>\n",
              "      <td>10.0</td>\n",
              "      <td>16.2</td>\n",
              "      <td>13</td>\n",
              "      <td>7</td>\n",
              "      <td>18</td>\n",
              "      <td>17</td>\n",
              "    </tr>\n",
              "    <tr>\n",
              "      <th>1</th>\n",
              "      <td>86</td>\n",
              "      <td>60</td>\n",
              "      <td>0</td>\n",
              "      <td>0.0</td>\n",
              "      <td>0.0</td>\n",
              "      <td>16</td>\n",
              "      <td>15.7</td>\n",
              "      <td>751.7</td>\n",
              "      <td>765.8</td>\n",
              "      <td>-1.2</td>\n",
              "      <td>17.0</td>\n",
              "      <td>10</td>\n",
              "      <td>4.0</td>\n",
              "      <td>10.0</td>\n",
              "      <td>10.0</td>\n",
              "      <td>10</td>\n",
              "      <td>1</td>\n",
              "      <td>0</td>\n",
              "      <td>0</td>\n",
              "      <td>0</td>\n",
              "      <td>10.0</td>\n",
              "      <td>-9.4</td>\n",
              "      <td>11</td>\n",
              "      <td>5</td>\n",
              "      <td>18</td>\n",
              "      <td>17</td>\n",
              "    </tr>\n",
              "    <tr>\n",
              "      <th>2</th>\n",
              "      <td>86</td>\n",
              "      <td>551</td>\n",
              "      <td>0</td>\n",
              "      <td>0.0</td>\n",
              "      <td>0.0</td>\n",
              "      <td>0</td>\n",
              "      <td>0.6</td>\n",
              "      <td>730.0</td>\n",
              "      <td>744.4</td>\n",
              "      <td>-0.3</td>\n",
              "      <td>71.0</td>\n",
              "      <td>4</td>\n",
              "      <td>3.0</td>\n",
              "      <td>5.0</td>\n",
              "      <td>7.0</td>\n",
              "      <td>7</td>\n",
              "      <td>1</td>\n",
              "      <td>6</td>\n",
              "      <td>4</td>\n",
              "      <td>8</td>\n",
              "      <td>10.0</td>\n",
              "      <td>-4.1</td>\n",
              "      <td>25</td>\n",
              "      <td>1</td>\n",
              "      <td>20</td>\n",
              "      <td>14</td>\n",
              "    </tr>\n",
              "    <tr>\n",
              "      <th>3</th>\n",
              "      <td>229</td>\n",
              "      <td>95</td>\n",
              "      <td>0</td>\n",
              "      <td>0.0</td>\n",
              "      <td>0.0</td>\n",
              "      <td>0</td>\n",
              "      <td>16.1</td>\n",
              "      <td>740.9</td>\n",
              "      <td>754.7</td>\n",
              "      <td>-0.2</td>\n",
              "      <td>49.0</td>\n",
              "      <td>12</td>\n",
              "      <td>2.0</td>\n",
              "      <td>4.0</td>\n",
              "      <td>6.0</td>\n",
              "      <td>8</td>\n",
              "      <td>1</td>\n",
              "      <td>4</td>\n",
              "      <td>5</td>\n",
              "      <td>8</td>\n",
              "      <td>10.0</td>\n",
              "      <td>5.4</td>\n",
              "      <td>11</td>\n",
              "      <td>5</td>\n",
              "      <td>20</td>\n",
              "      <td>11</td>\n",
              "    </tr>\n",
              "    <tr>\n",
              "      <th>4</th>\n",
              "      <td>259</td>\n",
              "      <td>0</td>\n",
              "      <td>102</td>\n",
              "      <td>430.0</td>\n",
              "      <td>5.0</td>\n",
              "      <td>2</td>\n",
              "      <td>-11.4</td>\n",
              "      <td>747.9</td>\n",
              "      <td>763.3</td>\n",
              "      <td>1.0</td>\n",
              "      <td>80.0</td>\n",
              "      <td>14</td>\n",
              "      <td>1.0</td>\n",
              "      <td>3.0</td>\n",
              "      <td>5.0</td>\n",
              "      <td>2</td>\n",
              "      <td>37</td>\n",
              "      <td>6</td>\n",
              "      <td>5</td>\n",
              "      <td>8</td>\n",
              "      <td>10.0</td>\n",
              "      <td>-14.2</td>\n",
              "      <td>9</td>\n",
              "      <td>1</td>\n",
              "      <td>19</td>\n",
              "      <td>1</td>\n",
              "    </tr>\n",
              "    <tr>\n",
              "      <th>...</th>\n",
              "      <td>...</td>\n",
              "      <td>...</td>\n",
              "      <td>...</td>\n",
              "      <td>...</td>\n",
              "      <td>...</td>\n",
              "      <td>...</td>\n",
              "      <td>...</td>\n",
              "      <td>...</td>\n",
              "      <td>...</td>\n",
              "      <td>...</td>\n",
              "      <td>...</td>\n",
              "      <td>...</td>\n",
              "      <td>...</td>\n",
              "      <td>...</td>\n",
              "      <td>...</td>\n",
              "      <td>...</td>\n",
              "      <td>...</td>\n",
              "      <td>...</td>\n",
              "      <td>...</td>\n",
              "      <td>...</td>\n",
              "      <td>...</td>\n",
              "      <td>...</td>\n",
              "      <td>...</td>\n",
              "      <td>...</td>\n",
              "      <td>...</td>\n",
              "      <td>...</td>\n",
              "    </tr>\n",
              "    <tr>\n",
              "      <th>35766</th>\n",
              "      <td>86</td>\n",
              "      <td>0</td>\n",
              "      <td>0</td>\n",
              "      <td>0.0</td>\n",
              "      <td>0.0</td>\n",
              "      <td>16</td>\n",
              "      <td>23.4</td>\n",
              "      <td>747.4</td>\n",
              "      <td>760.9</td>\n",
              "      <td>0.1</td>\n",
              "      <td>56.0</td>\n",
              "      <td>9</td>\n",
              "      <td>1.0</td>\n",
              "      <td>4.0</td>\n",
              "      <td>4.0</td>\n",
              "      <td>3</td>\n",
              "      <td>1</td>\n",
              "      <td>4</td>\n",
              "      <td>3</td>\n",
              "      <td>2</td>\n",
              "      <td>10.0</td>\n",
              "      <td>14.2</td>\n",
              "      <td>15</td>\n",
              "      <td>5</td>\n",
              "      <td>19</td>\n",
              "      <td>7</td>\n",
              "    </tr>\n",
              "    <tr>\n",
              "      <th>35767</th>\n",
              "      <td>86</td>\n",
              "      <td>390</td>\n",
              "      <td>0</td>\n",
              "      <td>0.0</td>\n",
              "      <td>0.0</td>\n",
              "      <td>16</td>\n",
              "      <td>7.4</td>\n",
              "      <td>745.3</td>\n",
              "      <td>759.7</td>\n",
              "      <td>3.2</td>\n",
              "      <td>93.0</td>\n",
              "      <td>11</td>\n",
              "      <td>3.0</td>\n",
              "      <td>6.0</td>\n",
              "      <td>7.0</td>\n",
              "      <td>2</td>\n",
              "      <td>4</td>\n",
              "      <td>6</td>\n",
              "      <td>7</td>\n",
              "      <td>8</td>\n",
              "      <td>10.0</td>\n",
              "      <td>6.3</td>\n",
              "      <td>15</td>\n",
              "      <td>10</td>\n",
              "      <td>19</td>\n",
              "      <td>8</td>\n",
              "    </tr>\n",
              "    <tr>\n",
              "      <th>35768</th>\n",
              "      <td>365</td>\n",
              "      <td>0</td>\n",
              "      <td>0</td>\n",
              "      <td>0.0</td>\n",
              "      <td>0.0</td>\n",
              "      <td>11</td>\n",
              "      <td>4.4</td>\n",
              "      <td>739.0</td>\n",
              "      <td>753.4</td>\n",
              "      <td>-1.2</td>\n",
              "      <td>50.0</td>\n",
              "      <td>12</td>\n",
              "      <td>2.0</td>\n",
              "      <td>6.0</td>\n",
              "      <td>7.0</td>\n",
              "      <td>8</td>\n",
              "      <td>1</td>\n",
              "      <td>7</td>\n",
              "      <td>9</td>\n",
              "      <td>6</td>\n",
              "      <td>10.0</td>\n",
              "      <td>-5.3</td>\n",
              "      <td>10</td>\n",
              "      <td>3</td>\n",
              "      <td>19</td>\n",
              "      <td>9</td>\n",
              "    </tr>\n",
              "    <tr>\n",
              "      <th>35769</th>\n",
              "      <td>178</td>\n",
              "      <td>0</td>\n",
              "      <td>2</td>\n",
              "      <td>544.0</td>\n",
              "      <td>870.0</td>\n",
              "      <td>0</td>\n",
              "      <td>16.4</td>\n",
              "      <td>750.1</td>\n",
              "      <td>764.1</td>\n",
              "      <td>-1.5</td>\n",
              "      <td>51.0</td>\n",
              "      <td>14</td>\n",
              "      <td>2.0</td>\n",
              "      <td>6.0</td>\n",
              "      <td>9.0</td>\n",
              "      <td>8</td>\n",
              "      <td>1</td>\n",
              "      <td>6</td>\n",
              "      <td>8</td>\n",
              "      <td>8</td>\n",
              "      <td>10.0</td>\n",
              "      <td>6.1</td>\n",
              "      <td>13</td>\n",
              "      <td>9</td>\n",
              "      <td>20</td>\n",
              "      <td>5</td>\n",
              "    </tr>\n",
              "    <tr>\n",
              "      <th>35770</th>\n",
              "      <td>317</td>\n",
              "      <td>0</td>\n",
              "      <td>168</td>\n",
              "      <td>91.0</td>\n",
              "      <td>350.0</td>\n",
              "      <td>11</td>\n",
              "      <td>-12.4</td>\n",
              "      <td>761.2</td>\n",
              "      <td>777.1</td>\n",
              "      <td>0.4</td>\n",
              "      <td>85.0</td>\n",
              "      <td>15</td>\n",
              "      <td>1.0</td>\n",
              "      <td>3.0</td>\n",
              "      <td>3.0</td>\n",
              "      <td>4</td>\n",
              "      <td>29</td>\n",
              "      <td>5</td>\n",
              "      <td>3</td>\n",
              "      <td>7</td>\n",
              "      <td>10.0</td>\n",
              "      <td>-14.4</td>\n",
              "      <td>25</td>\n",
              "      <td>1</td>\n",
              "      <td>18</td>\n",
              "      <td>18</td>\n",
              "    </tr>\n",
              "  </tbody>\n",
              "</table>\n",
              "<p>35771 rows × 26 columns</p>\n",
              "</div>\n",
              "      <button class=\"colab-df-convert\" onclick=\"convertToInteractive('df-683b6895-411e-4b24-9cd2-f629e30a5d1b')\"\n",
              "              title=\"Convert this dataframe to an interactive table.\"\n",
              "              style=\"display:none;\">\n",
              "        \n",
              "  <svg xmlns=\"http://www.w3.org/2000/svg\" height=\"24px\"viewBox=\"0 0 24 24\"\n",
              "       width=\"24px\">\n",
              "    <path d=\"M0 0h24v24H0V0z\" fill=\"none\"/>\n",
              "    <path d=\"M18.56 5.44l.94 2.06.94-2.06 2.06-.94-2.06-.94-.94-2.06-.94 2.06-2.06.94zm-11 1L8.5 8.5l.94-2.06 2.06-.94-2.06-.94L8.5 2.5l-.94 2.06-2.06.94zm10 10l.94 2.06.94-2.06 2.06-.94-2.06-.94-.94-2.06-.94 2.06-2.06.94z\"/><path d=\"M17.41 7.96l-1.37-1.37c-.4-.4-.92-.59-1.43-.59-.52 0-1.04.2-1.43.59L10.3 9.45l-7.72 7.72c-.78.78-.78 2.05 0 2.83L4 21.41c.39.39.9.59 1.41.59.51 0 1.02-.2 1.41-.59l7.78-7.78 2.81-2.81c.8-.78.8-2.07 0-2.86zM5.41 20L4 18.59l7.72-7.72 1.47 1.35L5.41 20z\"/>\n",
              "  </svg>\n",
              "      </button>\n",
              "      \n",
              "  <style>\n",
              "    .colab-df-container {\n",
              "      display:flex;\n",
              "      flex-wrap:wrap;\n",
              "      gap: 12px;\n",
              "    }\n",
              "\n",
              "    .colab-df-convert {\n",
              "      background-color: #E8F0FE;\n",
              "      border: none;\n",
              "      border-radius: 50%;\n",
              "      cursor: pointer;\n",
              "      display: none;\n",
              "      fill: #1967D2;\n",
              "      height: 32px;\n",
              "      padding: 0 0 0 0;\n",
              "      width: 32px;\n",
              "    }\n",
              "\n",
              "    .colab-df-convert:hover {\n",
              "      background-color: #E2EBFA;\n",
              "      box-shadow: 0px 1px 2px rgba(60, 64, 67, 0.3), 0px 1px 3px 1px rgba(60, 64, 67, 0.15);\n",
              "      fill: #174EA6;\n",
              "    }\n",
              "\n",
              "    [theme=dark] .colab-df-convert {\n",
              "      background-color: #3B4455;\n",
              "      fill: #D2E3FC;\n",
              "    }\n",
              "\n",
              "    [theme=dark] .colab-df-convert:hover {\n",
              "      background-color: #434B5C;\n",
              "      box-shadow: 0px 1px 3px 1px rgba(0, 0, 0, 0.15);\n",
              "      filter: drop-shadow(0px 1px 2px rgba(0, 0, 0, 0.3));\n",
              "      fill: #FFFFFF;\n",
              "    }\n",
              "  </style>\n",
              "\n",
              "      <script>\n",
              "        const buttonEl =\n",
              "          document.querySelector('#df-683b6895-411e-4b24-9cd2-f629e30a5d1b button.colab-df-convert');\n",
              "        buttonEl.style.display =\n",
              "          google.colab.kernel.accessAllowed ? 'block' : 'none';\n",
              "\n",
              "        async function convertToInteractive(key) {\n",
              "          const element = document.querySelector('#df-683b6895-411e-4b24-9cd2-f629e30a5d1b');\n",
              "          const dataTable =\n",
              "            await google.colab.kernel.invokeFunction('convertToInteractive',\n",
              "                                                     [key], {});\n",
              "          if (!dataTable) return;\n",
              "\n",
              "          const docLinkHtml = 'Like what you see? Visit the ' +\n",
              "            '<a target=\"_blank\" href=https://colab.research.google.com/notebooks/data_table.ipynb>data table notebook</a>'\n",
              "            + ' to learn more about interactive tables.';\n",
              "          element.innerHTML = '';\n",
              "          dataTable['output_type'] = 'display_data';\n",
              "          await google.colab.output.renderOutput(dataTable, element);\n",
              "          const docLink = document.createElement('div');\n",
              "          docLink.innerHTML = docLinkHtml;\n",
              "          element.appendChild(docLink);\n",
              "        }\n",
              "      </script>\n",
              "    </div>\n",
              "  </div>\n",
              "  "
            ]
          },
          "metadata": {},
          "execution_count": 43
        }
      ],
      "source": [
        "X"
      ]
    },
    {
      "cell_type": "markdown",
      "metadata": {
        "id": "Zx2yN80GN6nu"
      },
      "source": [
        "# model 1"
      ]
    },
    {
      "cell_type": "code",
      "execution_count": 112,
      "metadata": {
        "id": "1-u0Kry9VTT_"
      },
      "outputs": [],
      "source": [
        "y = df[[\"Погибло\"]]"
      ]
    },
    {
      "cell_type": "code",
      "execution_count": 113,
      "metadata": {
        "id": "5WxD_GDCM2lr"
      },
      "outputs": [],
      "source": [
        "xtrain, xtest, ytrain, ytest = train_test_split(X, y, test_size=0.25, random_state=42)"
      ]
    },
    {
      "cell_type": "code",
      "source": [
        "model = xgb.XGBClassifier(objective = 'binary:logistic')\n",
        "param_dist = {'n_estimators': stats.randint(150, 1000),\n",
        "              'learning_rate': stats.uniform(0.01, 0.59),\n",
        "              'subsample': stats.uniform(0.3, 0.6),\n",
        "              'max_depth': [3, 4, 5, 6, 7, 8, 9],\n",
        "              'colsample_bytree': stats.uniform(0.5, 0.4),\n",
        "              'min_child_weight': [1, 2, 3, 4]\n",
        "             }\n",
        "\n",
        "\n",
        "kfold_5 = KFold(n_splits=10, random_state=1, shuffle=True)\n",
        "\n",
        "model = RandomizedSearchCV(model, \n",
        "                         param_distributions = param_dist,\n",
        "                         cv = kfold_5,  \n",
        "                         n_iter = 5, # you want 5 here not 25 if I understand you correctly \n",
        "                         scoring = 'roc_auc', \n",
        "                         error_score = 0, \n",
        "                         verbose = 3, \n",
        "                         n_jobs = -1)"
      ],
      "metadata": {
        "id": "LTwF0y_5CJHh"
      },
      "execution_count": 114,
      "outputs": []
    },
    {
      "cell_type": "code",
      "source": [
        "model.fit(xtrain, ytrain.values.ravel())"
      ],
      "metadata": {
        "id": "bIAmivJzEVL8",
        "colab": {
          "base_uri": "https://localhost:8080/"
        },
        "outputId": "5408aa54-f08f-4101-b45b-8526833c36b9"
      },
      "execution_count": 115,
      "outputs": [
        {
          "output_type": "stream",
          "name": "stdout",
          "text": [
            "Fitting 10 folds for each of 5 candidates, totalling 50 fits\n"
          ]
        },
        {
          "output_type": "execute_result",
          "data": {
            "text/plain": [
              "RandomizedSearchCV(cv=KFold(n_splits=10, random_state=1, shuffle=True),\n",
              "                   error_score=0, estimator=XGBClassifier(), n_iter=5,\n",
              "                   n_jobs=-1,\n",
              "                   param_distributions={'colsample_bytree': <scipy.stats._distn_infrastructure.rv_frozen object at 0x7fa74078f750>,\n",
              "                                        'learning_rate': <scipy.stats._distn_infrastructure.rv_frozen object at 0x7fa740745890>,\n",
              "                                        'max_depth': [3, 4, 5, 6, 7, 8, 9],\n",
              "                                        'min_child_weight': [1, 2, 3, 4],\n",
              "                                        'n_estimators': <scipy.stats._distn_infrastructure.rv_frozen object at 0x7fa740745850>,\n",
              "                                        'subsample': <scipy.stats._distn_infrastructure.rv_frozen object at 0x7fa740981390>},\n",
              "                   scoring='roc_auc', verbose=3)"
            ]
          },
          "metadata": {},
          "execution_count": 115
        }
      ]
    },
    {
      "cell_type": "markdown",
      "metadata": {
        "id": "N-syHMYn1k64"
      },
      "source": [
        "# Test"
      ]
    },
    {
      "cell_type": "code",
      "execution_count": 48,
      "metadata": {
        "id": "DCQkrePP1k6h"
      },
      "outputs": [],
      "source": [
        "test = pd.read_csv(\"/content/drive/MyDrive/Дагестан ДТП ИИ/test_dataset_test.csv\")"
      ]
    },
    {
      "cell_type": "code",
      "execution_count": 49,
      "metadata": {
        "id": "a26hKEdZLiXW"
      },
      "outputs": [],
      "source": [
        "test = test.set_index('id')"
      ]
    },
    {
      "cell_type": "code",
      "execution_count": 50,
      "metadata": {
        "colab": {
          "base_uri": "https://localhost:8080/",
          "height": 0
        },
        "id": "ckrBcbEv1k65",
        "outputId": "f85e6f01-bf1b-4fe7-cce1-ad36d8936bb1"
      },
      "outputs": [
        {
          "output_type": "execute_result",
          "data": {
            "text/plain": [
              "                 Дата     Время                                   Место  \\\n",
              "id                                                                        \n",
              "490078911  31.01.2018  19:15:00  Новгородская область, Великий Новгород   \n",
              "490055448  19.06.2019  10:15:00  Новгородская область, Великий Новгород   \n",
              "490054440  28.06.2019  03:00:00  Новгородская область, Великий Новгород   \n",
              "\n",
              "                           Улица  Дом Дорога  Километр  Метр  \\\n",
              "id                                                             \n",
              "490078911           Нехинская ул   59    NaN       NaN   NaN   \n",
              "490055448  Большая Московская ул   38    NaN       NaN   NaN   \n",
              "490054440                    NaN  NaN    NaN       NaN   NaN   \n",
              "\n",
              "                        Вид ДТП  \n",
              "id                               \n",
              "490078911          Столкновение  \n",
              "490055448          Столкновение  \n",
              "490054440  Наезд на препятствие  "
            ],
            "text/html": [
              "\n",
              "  <div id=\"df-cefd7135-dd9e-4596-9d09-806cc43e0583\">\n",
              "    <div class=\"colab-df-container\">\n",
              "      <div>\n",
              "<style scoped>\n",
              "    .dataframe tbody tr th:only-of-type {\n",
              "        vertical-align: middle;\n",
              "    }\n",
              "\n",
              "    .dataframe tbody tr th {\n",
              "        vertical-align: top;\n",
              "    }\n",
              "\n",
              "    .dataframe thead th {\n",
              "        text-align: right;\n",
              "    }\n",
              "</style>\n",
              "<table border=\"1\" class=\"dataframe\">\n",
              "  <thead>\n",
              "    <tr style=\"text-align: right;\">\n",
              "      <th></th>\n",
              "      <th>Дата</th>\n",
              "      <th>Время</th>\n",
              "      <th>Место</th>\n",
              "      <th>Улица</th>\n",
              "      <th>Дом</th>\n",
              "      <th>Дорога</th>\n",
              "      <th>Километр</th>\n",
              "      <th>Метр</th>\n",
              "      <th>Вид ДТП</th>\n",
              "    </tr>\n",
              "    <tr>\n",
              "      <th>id</th>\n",
              "      <th></th>\n",
              "      <th></th>\n",
              "      <th></th>\n",
              "      <th></th>\n",
              "      <th></th>\n",
              "      <th></th>\n",
              "      <th></th>\n",
              "      <th></th>\n",
              "      <th></th>\n",
              "    </tr>\n",
              "  </thead>\n",
              "  <tbody>\n",
              "    <tr>\n",
              "      <th>490078911</th>\n",
              "      <td>31.01.2018</td>\n",
              "      <td>19:15:00</td>\n",
              "      <td>Новгородская область, Великий Новгород</td>\n",
              "      <td>Нехинская ул</td>\n",
              "      <td>59</td>\n",
              "      <td>NaN</td>\n",
              "      <td>NaN</td>\n",
              "      <td>NaN</td>\n",
              "      <td>Столкновение</td>\n",
              "    </tr>\n",
              "    <tr>\n",
              "      <th>490055448</th>\n",
              "      <td>19.06.2019</td>\n",
              "      <td>10:15:00</td>\n",
              "      <td>Новгородская область, Великий Новгород</td>\n",
              "      <td>Большая Московская ул</td>\n",
              "      <td>38</td>\n",
              "      <td>NaN</td>\n",
              "      <td>NaN</td>\n",
              "      <td>NaN</td>\n",
              "      <td>Столкновение</td>\n",
              "    </tr>\n",
              "    <tr>\n",
              "      <th>490054440</th>\n",
              "      <td>28.06.2019</td>\n",
              "      <td>03:00:00</td>\n",
              "      <td>Новгородская область, Великий Новгород</td>\n",
              "      <td>NaN</td>\n",
              "      <td>NaN</td>\n",
              "      <td>NaN</td>\n",
              "      <td>NaN</td>\n",
              "      <td>NaN</td>\n",
              "      <td>Наезд на препятствие</td>\n",
              "    </tr>\n",
              "  </tbody>\n",
              "</table>\n",
              "</div>\n",
              "      <button class=\"colab-df-convert\" onclick=\"convertToInteractive('df-cefd7135-dd9e-4596-9d09-806cc43e0583')\"\n",
              "              title=\"Convert this dataframe to an interactive table.\"\n",
              "              style=\"display:none;\">\n",
              "        \n",
              "  <svg xmlns=\"http://www.w3.org/2000/svg\" height=\"24px\"viewBox=\"0 0 24 24\"\n",
              "       width=\"24px\">\n",
              "    <path d=\"M0 0h24v24H0V0z\" fill=\"none\"/>\n",
              "    <path d=\"M18.56 5.44l.94 2.06.94-2.06 2.06-.94-2.06-.94-.94-2.06-.94 2.06-2.06.94zm-11 1L8.5 8.5l.94-2.06 2.06-.94-2.06-.94L8.5 2.5l-.94 2.06-2.06.94zm10 10l.94 2.06.94-2.06 2.06-.94-2.06-.94-.94-2.06-.94 2.06-2.06.94z\"/><path d=\"M17.41 7.96l-1.37-1.37c-.4-.4-.92-.59-1.43-.59-.52 0-1.04.2-1.43.59L10.3 9.45l-7.72 7.72c-.78.78-.78 2.05 0 2.83L4 21.41c.39.39.9.59 1.41.59.51 0 1.02-.2 1.41-.59l7.78-7.78 2.81-2.81c.8-.78.8-2.07 0-2.86zM5.41 20L4 18.59l7.72-7.72 1.47 1.35L5.41 20z\"/>\n",
              "  </svg>\n",
              "      </button>\n",
              "      \n",
              "  <style>\n",
              "    .colab-df-container {\n",
              "      display:flex;\n",
              "      flex-wrap:wrap;\n",
              "      gap: 12px;\n",
              "    }\n",
              "\n",
              "    .colab-df-convert {\n",
              "      background-color: #E8F0FE;\n",
              "      border: none;\n",
              "      border-radius: 50%;\n",
              "      cursor: pointer;\n",
              "      display: none;\n",
              "      fill: #1967D2;\n",
              "      height: 32px;\n",
              "      padding: 0 0 0 0;\n",
              "      width: 32px;\n",
              "    }\n",
              "\n",
              "    .colab-df-convert:hover {\n",
              "      background-color: #E2EBFA;\n",
              "      box-shadow: 0px 1px 2px rgba(60, 64, 67, 0.3), 0px 1px 3px 1px rgba(60, 64, 67, 0.15);\n",
              "      fill: #174EA6;\n",
              "    }\n",
              "\n",
              "    [theme=dark] .colab-df-convert {\n",
              "      background-color: #3B4455;\n",
              "      fill: #D2E3FC;\n",
              "    }\n",
              "\n",
              "    [theme=dark] .colab-df-convert:hover {\n",
              "      background-color: #434B5C;\n",
              "      box-shadow: 0px 1px 3px 1px rgba(0, 0, 0, 0.15);\n",
              "      filter: drop-shadow(0px 1px 2px rgba(0, 0, 0, 0.3));\n",
              "      fill: #FFFFFF;\n",
              "    }\n",
              "  </style>\n",
              "\n",
              "      <script>\n",
              "        const buttonEl =\n",
              "          document.querySelector('#df-cefd7135-dd9e-4596-9d09-806cc43e0583 button.colab-df-convert');\n",
              "        buttonEl.style.display =\n",
              "          google.colab.kernel.accessAllowed ? 'block' : 'none';\n",
              "\n",
              "        async function convertToInteractive(key) {\n",
              "          const element = document.querySelector('#df-cefd7135-dd9e-4596-9d09-806cc43e0583');\n",
              "          const dataTable =\n",
              "            await google.colab.kernel.invokeFunction('convertToInteractive',\n",
              "                                                     [key], {});\n",
              "          if (!dataTable) return;\n",
              "\n",
              "          const docLinkHtml = 'Like what you see? Visit the ' +\n",
              "            '<a target=\"_blank\" href=https://colab.research.google.com/notebooks/data_table.ipynb>data table notebook</a>'\n",
              "            + ' to learn more about interactive tables.';\n",
              "          element.innerHTML = '';\n",
              "          dataTable['output_type'] = 'display_data';\n",
              "          await google.colab.output.renderOutput(dataTable, element);\n",
              "          const docLink = document.createElement('div');\n",
              "          docLink.innerHTML = docLinkHtml;\n",
              "          element.appendChild(docLink);\n",
              "        }\n",
              "      </script>\n",
              "    </div>\n",
              "  </div>\n",
              "  "
            ]
          },
          "metadata": {},
          "execution_count": 50
        }
      ],
      "source": [
        "test.head(3)"
      ]
    },
    {
      "cell_type": "code",
      "execution_count": 51,
      "metadata": {
        "colab": {
          "base_uri": "https://localhost:8080/"
        },
        "id": "Z36B3sG21k65",
        "outputId": "592167a8-44b8-4115-e39c-f88631617437"
      },
      "outputs": [
        {
          "output_type": "execute_result",
          "data": {
            "text/plain": [
              "(6788, 9)"
            ]
          },
          "metadata": {},
          "execution_count": 51
        }
      ],
      "source": [
        "test.shape"
      ]
    },
    {
      "cell_type": "code",
      "execution_count": 52,
      "metadata": {
        "colab": {
          "base_uri": "https://localhost:8080/"
        },
        "id": "LkIQ7Dot1k65",
        "outputId": "4b3b1e2a-031f-4211-e7d8-e05112cb5037"
      },
      "outputs": [
        {
          "output_type": "stream",
          "name": "stdout",
          "text": [
            "<class 'pandas.core.frame.DataFrame'>\n",
            "Int64Index: 6788 entries, 490078911 to 490109680\n",
            "Data columns (total 9 columns):\n",
            " #   Column    Non-Null Count  Dtype  \n",
            "---  ------    --------------  -----  \n",
            " 0   Дата      6788 non-null   object \n",
            " 1   Время     6788 non-null   object \n",
            " 2   Место     6788 non-null   object \n",
            " 3   Улица     3852 non-null   object \n",
            " 4   Дом       3881 non-null   object \n",
            " 5   Дорога    1905 non-null   object \n",
            " 6   Километр  1904 non-null   float64\n",
            " 7   Метр      1904 non-null   float64\n",
            " 8   Вид ДТП   4988 non-null   object \n",
            "dtypes: float64(2), object(7)\n",
            "memory usage: 530.3+ KB\n"
          ]
        }
      ],
      "source": [
        "test.info()"
      ]
    },
    {
      "cell_type": "code",
      "execution_count": 53,
      "metadata": {
        "id": "3OMZ_GHDU9eZ"
      },
      "outputs": [],
      "source": [
        "test = pd.merge(test, w, how='left', on='Дата')"
      ]
    },
    {
      "cell_type": "markdown",
      "metadata": {
        "id": "mHpSuluL1k66"
      },
      "source": [
        "Заменим все пропуски в данных"
      ]
    },
    {
      "cell_type": "code",
      "execution_count": 54,
      "metadata": {
        "id": "ztgOpItY1k66"
      },
      "outputs": [],
      "source": [
        "test = test.fillna(0)"
      ]
    },
    {
      "cell_type": "markdown",
      "metadata": {
        "id": "AAZ9YF6H1k66"
      },
      "source": [
        "Добавим пару новых столбцов"
      ]
    },
    {
      "cell_type": "code",
      "execution_count": 55,
      "metadata": {
        "id": "QPS8aW621k67"
      },
      "outputs": [],
      "source": [
        "test[\"День\"] = test[\"Дата\"].str[:2]\n",
        "test[\"Месяц\"] = test[\"Дата\"].str[3:5]\n",
        "test[\"Год\"] = test[\"Дата\"].str[8:]\n",
        "test[\"Час\"] = test[\"Время\"].str[:2]"
      ]
    },
    {
      "cell_type": "code",
      "execution_count": 56,
      "metadata": {
        "colab": {
          "base_uri": "https://localhost:8080/",
          "height": 0
        },
        "id": "NCuACYzN1k67",
        "outputId": "e52b023c-0444-465a-e6fc-a887defb68d9"
      },
      "outputs": [
        {
          "output_type": "execute_result",
          "data": {
            "text/plain": [
              "         Дата     Время                                   Место  \\\n",
              "0  31.01.2018  19:15:00  Новгородская область, Великий Новгород   \n",
              "1  19.06.2019  10:15:00  Новгородская область, Великий Новгород   \n",
              "2  28.06.2019  03:00:00  Новгородская область, Великий Новгород   \n",
              "\n",
              "                   Улица Дом Дорога  Километр  Метр               Вид ДТП  \\\n",
              "0           Нехинская ул  59      0       0.0   0.0          Столкновение   \n",
              "1  Большая Московская ул  38      0       0.0   0.0          Столкновение   \n",
              "2                      0   0      0       0.0   0.0  Наезд на препятствие   \n",
              "\n",
              "      T     Po      P   Pa     U                                   DD   Ff  \\\n",
              "0  -9.2  736.8  751.9  1.0  82.0  Ветер, дующий с востоко-юго-востока  3.0   \n",
              "1  24.0  745.6  759.1  0.2  48.0        Ветер, дующий с северо-запада  2.0   \n",
              "2  14.2  730.3  743.8 -0.9  97.0              Ветер, дующий с востока  2.0   \n",
              "\n",
              "   ff10   ff3      N                                                 WW  \\\n",
              "0   8.0  10.0  100%.        Снег непрерывный слабый в срок наблюдения.    \n",
              "1   6.0   7.0   40%.                                                      \n",
              "2   0.0   8.0  100%.  Дождь незамерзающий непрерывный слабый в срок ...   \n",
              "\n",
              "                                                  Cl     Nh          H    VV  \\\n",
              "0  Слоистые разорванные или кучевые разорванные о...  100%.    300-600   4.0   \n",
              "1  Кучевые средние или мощные или вместе с кучевы...   40%.  1000-1500  10.0   \n",
              "2  Слоистые разорванные или кучевые разорванные о...  100%.    200-300   3.0   \n",
              "\n",
              "     Td День Месяц Год Час  \n",
              "0 -11.7   31    01  18  19  \n",
              "1  12.3   19    06  19  10  \n",
              "2  13.8   28    06  19  03  "
            ],
            "text/html": [
              "\n",
              "  <div id=\"df-89c306dd-7282-41c8-a70a-1f0c93ffd8d3\">\n",
              "    <div class=\"colab-df-container\">\n",
              "      <div>\n",
              "<style scoped>\n",
              "    .dataframe tbody tr th:only-of-type {\n",
              "        vertical-align: middle;\n",
              "    }\n",
              "\n",
              "    .dataframe tbody tr th {\n",
              "        vertical-align: top;\n",
              "    }\n",
              "\n",
              "    .dataframe thead th {\n",
              "        text-align: right;\n",
              "    }\n",
              "</style>\n",
              "<table border=\"1\" class=\"dataframe\">\n",
              "  <thead>\n",
              "    <tr style=\"text-align: right;\">\n",
              "      <th></th>\n",
              "      <th>Дата</th>\n",
              "      <th>Время</th>\n",
              "      <th>Место</th>\n",
              "      <th>Улица</th>\n",
              "      <th>Дом</th>\n",
              "      <th>Дорога</th>\n",
              "      <th>Километр</th>\n",
              "      <th>Метр</th>\n",
              "      <th>Вид ДТП</th>\n",
              "      <th>T</th>\n",
              "      <th>Po</th>\n",
              "      <th>P</th>\n",
              "      <th>Pa</th>\n",
              "      <th>U</th>\n",
              "      <th>DD</th>\n",
              "      <th>Ff</th>\n",
              "      <th>ff10</th>\n",
              "      <th>ff3</th>\n",
              "      <th>N</th>\n",
              "      <th>WW</th>\n",
              "      <th>Cl</th>\n",
              "      <th>Nh</th>\n",
              "      <th>H</th>\n",
              "      <th>VV</th>\n",
              "      <th>Td</th>\n",
              "      <th>День</th>\n",
              "      <th>Месяц</th>\n",
              "      <th>Год</th>\n",
              "      <th>Час</th>\n",
              "    </tr>\n",
              "  </thead>\n",
              "  <tbody>\n",
              "    <tr>\n",
              "      <th>0</th>\n",
              "      <td>31.01.2018</td>\n",
              "      <td>19:15:00</td>\n",
              "      <td>Новгородская область, Великий Новгород</td>\n",
              "      <td>Нехинская ул</td>\n",
              "      <td>59</td>\n",
              "      <td>0</td>\n",
              "      <td>0.0</td>\n",
              "      <td>0.0</td>\n",
              "      <td>Столкновение</td>\n",
              "      <td>-9.2</td>\n",
              "      <td>736.8</td>\n",
              "      <td>751.9</td>\n",
              "      <td>1.0</td>\n",
              "      <td>82.0</td>\n",
              "      <td>Ветер, дующий с востоко-юго-востока</td>\n",
              "      <td>3.0</td>\n",
              "      <td>8.0</td>\n",
              "      <td>10.0</td>\n",
              "      <td>100%.</td>\n",
              "      <td>Снег непрерывный слабый в срок наблюдения.</td>\n",
              "      <td>Слоистые разорванные или кучевые разорванные о...</td>\n",
              "      <td>100%.</td>\n",
              "      <td>300-600</td>\n",
              "      <td>4.0</td>\n",
              "      <td>-11.7</td>\n",
              "      <td>31</td>\n",
              "      <td>01</td>\n",
              "      <td>18</td>\n",
              "      <td>19</td>\n",
              "    </tr>\n",
              "    <tr>\n",
              "      <th>1</th>\n",
              "      <td>19.06.2019</td>\n",
              "      <td>10:15:00</td>\n",
              "      <td>Новгородская область, Великий Новгород</td>\n",
              "      <td>Большая Московская ул</td>\n",
              "      <td>38</td>\n",
              "      <td>0</td>\n",
              "      <td>0.0</td>\n",
              "      <td>0.0</td>\n",
              "      <td>Столкновение</td>\n",
              "      <td>24.0</td>\n",
              "      <td>745.6</td>\n",
              "      <td>759.1</td>\n",
              "      <td>0.2</td>\n",
              "      <td>48.0</td>\n",
              "      <td>Ветер, дующий с северо-запада</td>\n",
              "      <td>2.0</td>\n",
              "      <td>6.0</td>\n",
              "      <td>7.0</td>\n",
              "      <td>40%.</td>\n",
              "      <td></td>\n",
              "      <td>Кучевые средние или мощные или вместе с кучевы...</td>\n",
              "      <td>40%.</td>\n",
              "      <td>1000-1500</td>\n",
              "      <td>10.0</td>\n",
              "      <td>12.3</td>\n",
              "      <td>19</td>\n",
              "      <td>06</td>\n",
              "      <td>19</td>\n",
              "      <td>10</td>\n",
              "    </tr>\n",
              "    <tr>\n",
              "      <th>2</th>\n",
              "      <td>28.06.2019</td>\n",
              "      <td>03:00:00</td>\n",
              "      <td>Новгородская область, Великий Новгород</td>\n",
              "      <td>0</td>\n",
              "      <td>0</td>\n",
              "      <td>0</td>\n",
              "      <td>0.0</td>\n",
              "      <td>0.0</td>\n",
              "      <td>Наезд на препятствие</td>\n",
              "      <td>14.2</td>\n",
              "      <td>730.3</td>\n",
              "      <td>743.8</td>\n",
              "      <td>-0.9</td>\n",
              "      <td>97.0</td>\n",
              "      <td>Ветер, дующий с востока</td>\n",
              "      <td>2.0</td>\n",
              "      <td>0.0</td>\n",
              "      <td>8.0</td>\n",
              "      <td>100%.</td>\n",
              "      <td>Дождь незамерзающий непрерывный слабый в срок ...</td>\n",
              "      <td>Слоистые разорванные или кучевые разорванные о...</td>\n",
              "      <td>100%.</td>\n",
              "      <td>200-300</td>\n",
              "      <td>3.0</td>\n",
              "      <td>13.8</td>\n",
              "      <td>28</td>\n",
              "      <td>06</td>\n",
              "      <td>19</td>\n",
              "      <td>03</td>\n",
              "    </tr>\n",
              "  </tbody>\n",
              "</table>\n",
              "</div>\n",
              "      <button class=\"colab-df-convert\" onclick=\"convertToInteractive('df-89c306dd-7282-41c8-a70a-1f0c93ffd8d3')\"\n",
              "              title=\"Convert this dataframe to an interactive table.\"\n",
              "              style=\"display:none;\">\n",
              "        \n",
              "  <svg xmlns=\"http://www.w3.org/2000/svg\" height=\"24px\"viewBox=\"0 0 24 24\"\n",
              "       width=\"24px\">\n",
              "    <path d=\"M0 0h24v24H0V0z\" fill=\"none\"/>\n",
              "    <path d=\"M18.56 5.44l.94 2.06.94-2.06 2.06-.94-2.06-.94-.94-2.06-.94 2.06-2.06.94zm-11 1L8.5 8.5l.94-2.06 2.06-.94-2.06-.94L8.5 2.5l-.94 2.06-2.06.94zm10 10l.94 2.06.94-2.06 2.06-.94-2.06-.94-.94-2.06-.94 2.06-2.06.94z\"/><path d=\"M17.41 7.96l-1.37-1.37c-.4-.4-.92-.59-1.43-.59-.52 0-1.04.2-1.43.59L10.3 9.45l-7.72 7.72c-.78.78-.78 2.05 0 2.83L4 21.41c.39.39.9.59 1.41.59.51 0 1.02-.2 1.41-.59l7.78-7.78 2.81-2.81c.8-.78.8-2.07 0-2.86zM5.41 20L4 18.59l7.72-7.72 1.47 1.35L5.41 20z\"/>\n",
              "  </svg>\n",
              "      </button>\n",
              "      \n",
              "  <style>\n",
              "    .colab-df-container {\n",
              "      display:flex;\n",
              "      flex-wrap:wrap;\n",
              "      gap: 12px;\n",
              "    }\n",
              "\n",
              "    .colab-df-convert {\n",
              "      background-color: #E8F0FE;\n",
              "      border: none;\n",
              "      border-radius: 50%;\n",
              "      cursor: pointer;\n",
              "      display: none;\n",
              "      fill: #1967D2;\n",
              "      height: 32px;\n",
              "      padding: 0 0 0 0;\n",
              "      width: 32px;\n",
              "    }\n",
              "\n",
              "    .colab-df-convert:hover {\n",
              "      background-color: #E2EBFA;\n",
              "      box-shadow: 0px 1px 2px rgba(60, 64, 67, 0.3), 0px 1px 3px 1px rgba(60, 64, 67, 0.15);\n",
              "      fill: #174EA6;\n",
              "    }\n",
              "\n",
              "    [theme=dark] .colab-df-convert {\n",
              "      background-color: #3B4455;\n",
              "      fill: #D2E3FC;\n",
              "    }\n",
              "\n",
              "    [theme=dark] .colab-df-convert:hover {\n",
              "      background-color: #434B5C;\n",
              "      box-shadow: 0px 1px 3px 1px rgba(0, 0, 0, 0.15);\n",
              "      filter: drop-shadow(0px 1px 2px rgba(0, 0, 0, 0.3));\n",
              "      fill: #FFFFFF;\n",
              "    }\n",
              "  </style>\n",
              "\n",
              "      <script>\n",
              "        const buttonEl =\n",
              "          document.querySelector('#df-89c306dd-7282-41c8-a70a-1f0c93ffd8d3 button.colab-df-convert');\n",
              "        buttonEl.style.display =\n",
              "          google.colab.kernel.accessAllowed ? 'block' : 'none';\n",
              "\n",
              "        async function convertToInteractive(key) {\n",
              "          const element = document.querySelector('#df-89c306dd-7282-41c8-a70a-1f0c93ffd8d3');\n",
              "          const dataTable =\n",
              "            await google.colab.kernel.invokeFunction('convertToInteractive',\n",
              "                                                     [key], {});\n",
              "          if (!dataTable) return;\n",
              "\n",
              "          const docLinkHtml = 'Like what you see? Visit the ' +\n",
              "            '<a target=\"_blank\" href=https://colab.research.google.com/notebooks/data_table.ipynb>data table notebook</a>'\n",
              "            + ' to learn more about interactive tables.';\n",
              "          element.innerHTML = '';\n",
              "          dataTable['output_type'] = 'display_data';\n",
              "          await google.colab.output.renderOutput(dataTable, element);\n",
              "          const docLink = document.createElement('div');\n",
              "          docLink.innerHTML = docLinkHtml;\n",
              "          element.appendChild(docLink);\n",
              "        }\n",
              "      </script>\n",
              "    </div>\n",
              "  </div>\n",
              "  "
            ]
          },
          "metadata": {},
          "execution_count": 56
        }
      ],
      "source": [
        "test.head(3)"
      ]
    },
    {
      "cell_type": "code",
      "execution_count": 57,
      "metadata": {
        "colab": {
          "base_uri": "https://localhost:8080/",
          "height": 0
        },
        "id": "8Fx3jo_uHDic",
        "outputId": "27685e86-233e-40e9-9a1e-1381bd536841"
      },
      "outputs": [
        {
          "output_type": "execute_result",
          "data": {
            "text/plain": [
              "'18'"
            ],
            "application/vnd.google.colaboratory.intrinsic+json": {
              "type": "string"
            }
          },
          "metadata": {},
          "execution_count": 57
        }
      ],
      "source": [
        "min(test['Год'])"
      ]
    },
    {
      "cell_type": "markdown",
      "metadata": {
        "id": "z-bDQijK1k67"
      },
      "source": [
        "Сделаем категории **\"Вид ДТП\"** и **\"Улица\"** раноговыми "
      ]
    },
    {
      "cell_type": "code",
      "execution_count": 58,
      "metadata": {
        "id": "2e74m-341k68"
      },
      "outputs": [],
      "source": [
        "test[\"Вид ДТП\"] = pd.Categorical(test[\"Вид ДТП\"])\n",
        "test[\"Вид ДТП\"].astype('category').cat.codes\n",
        "test[\"Вид ДТП\"] = test[\"Вид ДТП\"].cat.codes"
      ]
    },
    {
      "cell_type": "code",
      "execution_count": 59,
      "metadata": {
        "id": "fg-X5ul41k68"
      },
      "outputs": [],
      "source": [
        "test[\"Улица\"] = pd.Categorical(test[\"Улица\"])\n",
        "test[\"Улица\"].astype('category').cat.codes\n",
        "test[\"Улица\"] = test[\"Улица\"].cat.codes"
      ]
    },
    {
      "cell_type": "code",
      "execution_count": 60,
      "metadata": {
        "id": "LQRxPlzoeGfI"
      },
      "outputs": [],
      "source": [
        "test[\"Место\"] = pd.Categorical(test[\"Место\"])\n",
        "test[\"Место\"].astype('category').cat.codes\n",
        "test[\"Место\"] = test[\"Место\"].cat.codes"
      ]
    },
    {
      "cell_type": "code",
      "execution_count": 61,
      "metadata": {
        "id": "XMPcd8ieeGfJ"
      },
      "outputs": [],
      "source": [
        "test[\"Дорога\"] = pd.Categorical(test[\"Дорога\"])\n",
        "test[\"Дорога\"].astype('category').cat.codes\n",
        "test[\"Дорога\"] = test[\"Дорога\"].cat.codes"
      ]
    },
    {
      "cell_type": "code",
      "execution_count": 62,
      "metadata": {
        "id": "gofUJ22F1k6-"
      },
      "outputs": [],
      "source": [
        "test[\"День\"] = test[\"День\"].astype('int')\n",
        "test[\"Месяц\"] = test[\"Месяц\"].astype('int')\n",
        "test[\"Час\"] = test[\"Час\"].astype('int')\n",
        "test[\"Год\"] = test[\"Год\"].astype('int')"
      ]
    },
    {
      "cell_type": "code",
      "execution_count": 62,
      "metadata": {
        "id": "9vEnR0BpVMaa"
      },
      "outputs": [],
      "source": [
        ""
      ]
    },
    {
      "cell_type": "code",
      "execution_count": 63,
      "metadata": {
        "id": "A5ylXAxnVMwd"
      },
      "outputs": [],
      "source": [
        "test[\"DD\"] = pd.Categorical(test[\"DD\"])\n",
        "test[\"DD\"].astype('category').cat.codes\n",
        "test[\"DD\"] = test[\"DD\"].cat.codes"
      ]
    },
    {
      "cell_type": "code",
      "execution_count": 64,
      "metadata": {
        "id": "kb11eyHZVMwe"
      },
      "outputs": [],
      "source": [
        "test[\"N\"] = pd.Categorical(test[\"N\"])\n",
        "test[\"N\"].astype('category').cat.codes\n",
        "test[\"N\"] = test[\"N\"].cat.codes"
      ]
    },
    {
      "cell_type": "code",
      "execution_count": 65,
      "metadata": {
        "id": "yWiZYTnZVMwe"
      },
      "outputs": [],
      "source": [
        "test[\"Cl\"] = pd.Categorical(test[\"Cl\"])\n",
        "test[\"Cl\"].astype('category').cat.codes\n",
        "test[\"Cl\"] = test[\"Cl\"].cat.codes"
      ]
    },
    {
      "cell_type": "code",
      "execution_count": 66,
      "metadata": {
        "id": "tEjJnE5iVMwf"
      },
      "outputs": [],
      "source": [
        "test[\"H\"] = pd.Categorical(test[\"H\"])\n",
        "test[\"H\"].astype('category').cat.codes\n",
        "test[\"H\"] = test[\"H\"].cat.codes"
      ]
    },
    {
      "cell_type": "code",
      "execution_count": 67,
      "metadata": {
        "id": "kfaReJrJVMwf"
      },
      "outputs": [],
      "source": [
        "test[\"Nh\"] = pd.Categorical(test[\"Nh\"])\n",
        "test[\"Nh\"].astype('category').cat.codes\n",
        "test[\"Nh\"] = test[\"Nh\"].cat.codes"
      ]
    },
    {
      "cell_type": "code",
      "execution_count": 68,
      "metadata": {
        "id": "9fbXN9riVMwg"
      },
      "outputs": [],
      "source": [
        "test[\"WW\"] = pd.Categorical(test[\"WW\"])\n",
        "test[\"WW\"].astype('category').cat.codes\n",
        "test[\"WW\"] = test[\"WW\"].cat.codes"
      ]
    },
    {
      "cell_type": "code",
      "execution_count": 69,
      "metadata": {
        "id": "YyRfWFvDBtJO"
      },
      "outputs": [],
      "source": [
        "test = test.drop([\"Дата\", \"Время\", \"Дом\"], axis = 1)"
      ]
    },
    {
      "cell_type": "code",
      "execution_count": 70,
      "metadata": {
        "colab": {
          "base_uri": "https://localhost:8080/",
          "height": 0
        },
        "id": "FIq5GcXTBP5V",
        "outputId": "b2347e08-d9e9-40e5-9e58-c4760eca924a"
      },
      "outputs": [
        {
          "output_type": "execute_result",
          "data": {
            "text/plain": [
              "   Место  Улица  Дорога  Километр  Метр  Вид ДТП     T     Po      P   Pa  \\\n",
              "0     49    228       0       0.0   0.0       15  -9.2  736.8  751.9  1.0   \n",
              "1     49     29       0       0.0   0.0       15  24.0  745.6  759.1  0.2   \n",
              "2     49      0       0       0.0   0.0        9  14.2  730.3  743.8 -0.9   \n",
              "\n",
              "      U  DD   Ff  ff10   ff3  N  WW  Cl  Nh  H    VV    Td  День  Месяц  Год  \\\n",
              "0  82.0   3  3.0   8.0  10.0  2  29   8   2  7   4.0 -11.7    31      1   18   \n",
              "1  48.0   9  2.0   6.0   7.0  4   1   4   4  2  10.0  12.3    19      6   19   \n",
              "2  97.0   1  2.0   0.0   8.0  2   6   8   2  4   3.0  13.8    28      6   19   \n",
              "\n",
              "   Час  \n",
              "0   19  \n",
              "1   10  \n",
              "2    3  "
            ],
            "text/html": [
              "\n",
              "  <div id=\"df-5458fc30-b111-46a6-97ba-32c3a4e8e140\">\n",
              "    <div class=\"colab-df-container\">\n",
              "      <div>\n",
              "<style scoped>\n",
              "    .dataframe tbody tr th:only-of-type {\n",
              "        vertical-align: middle;\n",
              "    }\n",
              "\n",
              "    .dataframe tbody tr th {\n",
              "        vertical-align: top;\n",
              "    }\n",
              "\n",
              "    .dataframe thead th {\n",
              "        text-align: right;\n",
              "    }\n",
              "</style>\n",
              "<table border=\"1\" class=\"dataframe\">\n",
              "  <thead>\n",
              "    <tr style=\"text-align: right;\">\n",
              "      <th></th>\n",
              "      <th>Место</th>\n",
              "      <th>Улица</th>\n",
              "      <th>Дорога</th>\n",
              "      <th>Километр</th>\n",
              "      <th>Метр</th>\n",
              "      <th>Вид ДТП</th>\n",
              "      <th>T</th>\n",
              "      <th>Po</th>\n",
              "      <th>P</th>\n",
              "      <th>Pa</th>\n",
              "      <th>U</th>\n",
              "      <th>DD</th>\n",
              "      <th>Ff</th>\n",
              "      <th>ff10</th>\n",
              "      <th>ff3</th>\n",
              "      <th>N</th>\n",
              "      <th>WW</th>\n",
              "      <th>Cl</th>\n",
              "      <th>Nh</th>\n",
              "      <th>H</th>\n",
              "      <th>VV</th>\n",
              "      <th>Td</th>\n",
              "      <th>День</th>\n",
              "      <th>Месяц</th>\n",
              "      <th>Год</th>\n",
              "      <th>Час</th>\n",
              "    </tr>\n",
              "  </thead>\n",
              "  <tbody>\n",
              "    <tr>\n",
              "      <th>0</th>\n",
              "      <td>49</td>\n",
              "      <td>228</td>\n",
              "      <td>0</td>\n",
              "      <td>0.0</td>\n",
              "      <td>0.0</td>\n",
              "      <td>15</td>\n",
              "      <td>-9.2</td>\n",
              "      <td>736.8</td>\n",
              "      <td>751.9</td>\n",
              "      <td>1.0</td>\n",
              "      <td>82.0</td>\n",
              "      <td>3</td>\n",
              "      <td>3.0</td>\n",
              "      <td>8.0</td>\n",
              "      <td>10.0</td>\n",
              "      <td>2</td>\n",
              "      <td>29</td>\n",
              "      <td>8</td>\n",
              "      <td>2</td>\n",
              "      <td>7</td>\n",
              "      <td>4.0</td>\n",
              "      <td>-11.7</td>\n",
              "      <td>31</td>\n",
              "      <td>1</td>\n",
              "      <td>18</td>\n",
              "      <td>19</td>\n",
              "    </tr>\n",
              "    <tr>\n",
              "      <th>1</th>\n",
              "      <td>49</td>\n",
              "      <td>29</td>\n",
              "      <td>0</td>\n",
              "      <td>0.0</td>\n",
              "      <td>0.0</td>\n",
              "      <td>15</td>\n",
              "      <td>24.0</td>\n",
              "      <td>745.6</td>\n",
              "      <td>759.1</td>\n",
              "      <td>0.2</td>\n",
              "      <td>48.0</td>\n",
              "      <td>9</td>\n",
              "      <td>2.0</td>\n",
              "      <td>6.0</td>\n",
              "      <td>7.0</td>\n",
              "      <td>4</td>\n",
              "      <td>1</td>\n",
              "      <td>4</td>\n",
              "      <td>4</td>\n",
              "      <td>2</td>\n",
              "      <td>10.0</td>\n",
              "      <td>12.3</td>\n",
              "      <td>19</td>\n",
              "      <td>6</td>\n",
              "      <td>19</td>\n",
              "      <td>10</td>\n",
              "    </tr>\n",
              "    <tr>\n",
              "      <th>2</th>\n",
              "      <td>49</td>\n",
              "      <td>0</td>\n",
              "      <td>0</td>\n",
              "      <td>0.0</td>\n",
              "      <td>0.0</td>\n",
              "      <td>9</td>\n",
              "      <td>14.2</td>\n",
              "      <td>730.3</td>\n",
              "      <td>743.8</td>\n",
              "      <td>-0.9</td>\n",
              "      <td>97.0</td>\n",
              "      <td>1</td>\n",
              "      <td>2.0</td>\n",
              "      <td>0.0</td>\n",
              "      <td>8.0</td>\n",
              "      <td>2</td>\n",
              "      <td>6</td>\n",
              "      <td>8</td>\n",
              "      <td>2</td>\n",
              "      <td>4</td>\n",
              "      <td>3.0</td>\n",
              "      <td>13.8</td>\n",
              "      <td>28</td>\n",
              "      <td>6</td>\n",
              "      <td>19</td>\n",
              "      <td>3</td>\n",
              "    </tr>\n",
              "  </tbody>\n",
              "</table>\n",
              "</div>\n",
              "      <button class=\"colab-df-convert\" onclick=\"convertToInteractive('df-5458fc30-b111-46a6-97ba-32c3a4e8e140')\"\n",
              "              title=\"Convert this dataframe to an interactive table.\"\n",
              "              style=\"display:none;\">\n",
              "        \n",
              "  <svg xmlns=\"http://www.w3.org/2000/svg\" height=\"24px\"viewBox=\"0 0 24 24\"\n",
              "       width=\"24px\">\n",
              "    <path d=\"M0 0h24v24H0V0z\" fill=\"none\"/>\n",
              "    <path d=\"M18.56 5.44l.94 2.06.94-2.06 2.06-.94-2.06-.94-.94-2.06-.94 2.06-2.06.94zm-11 1L8.5 8.5l.94-2.06 2.06-.94-2.06-.94L8.5 2.5l-.94 2.06-2.06.94zm10 10l.94 2.06.94-2.06 2.06-.94-2.06-.94-.94-2.06-.94 2.06-2.06.94z\"/><path d=\"M17.41 7.96l-1.37-1.37c-.4-.4-.92-.59-1.43-.59-.52 0-1.04.2-1.43.59L10.3 9.45l-7.72 7.72c-.78.78-.78 2.05 0 2.83L4 21.41c.39.39.9.59 1.41.59.51 0 1.02-.2 1.41-.59l7.78-7.78 2.81-2.81c.8-.78.8-2.07 0-2.86zM5.41 20L4 18.59l7.72-7.72 1.47 1.35L5.41 20z\"/>\n",
              "  </svg>\n",
              "      </button>\n",
              "      \n",
              "  <style>\n",
              "    .colab-df-container {\n",
              "      display:flex;\n",
              "      flex-wrap:wrap;\n",
              "      gap: 12px;\n",
              "    }\n",
              "\n",
              "    .colab-df-convert {\n",
              "      background-color: #E8F0FE;\n",
              "      border: none;\n",
              "      border-radius: 50%;\n",
              "      cursor: pointer;\n",
              "      display: none;\n",
              "      fill: #1967D2;\n",
              "      height: 32px;\n",
              "      padding: 0 0 0 0;\n",
              "      width: 32px;\n",
              "    }\n",
              "\n",
              "    .colab-df-convert:hover {\n",
              "      background-color: #E2EBFA;\n",
              "      box-shadow: 0px 1px 2px rgba(60, 64, 67, 0.3), 0px 1px 3px 1px rgba(60, 64, 67, 0.15);\n",
              "      fill: #174EA6;\n",
              "    }\n",
              "\n",
              "    [theme=dark] .colab-df-convert {\n",
              "      background-color: #3B4455;\n",
              "      fill: #D2E3FC;\n",
              "    }\n",
              "\n",
              "    [theme=dark] .colab-df-convert:hover {\n",
              "      background-color: #434B5C;\n",
              "      box-shadow: 0px 1px 3px 1px rgba(0, 0, 0, 0.15);\n",
              "      filter: drop-shadow(0px 1px 2px rgba(0, 0, 0, 0.3));\n",
              "      fill: #FFFFFF;\n",
              "    }\n",
              "  </style>\n",
              "\n",
              "      <script>\n",
              "        const buttonEl =\n",
              "          document.querySelector('#df-5458fc30-b111-46a6-97ba-32c3a4e8e140 button.colab-df-convert');\n",
              "        buttonEl.style.display =\n",
              "          google.colab.kernel.accessAllowed ? 'block' : 'none';\n",
              "\n",
              "        async function convertToInteractive(key) {\n",
              "          const element = document.querySelector('#df-5458fc30-b111-46a6-97ba-32c3a4e8e140');\n",
              "          const dataTable =\n",
              "            await google.colab.kernel.invokeFunction('convertToInteractive',\n",
              "                                                     [key], {});\n",
              "          if (!dataTable) return;\n",
              "\n",
              "          const docLinkHtml = 'Like what you see? Visit the ' +\n",
              "            '<a target=\"_blank\" href=https://colab.research.google.com/notebooks/data_table.ipynb>data table notebook</a>'\n",
              "            + ' to learn more about interactive tables.';\n",
              "          element.innerHTML = '';\n",
              "          dataTable['output_type'] = 'display_data';\n",
              "          await google.colab.output.renderOutput(dataTable, element);\n",
              "          const docLink = document.createElement('div');\n",
              "          docLink.innerHTML = docLinkHtml;\n",
              "          element.appendChild(docLink);\n",
              "        }\n",
              "      </script>\n",
              "    </div>\n",
              "  </div>\n",
              "  "
            ]
          },
          "metadata": {},
          "execution_count": 70
        }
      ],
      "source": [
        "test.head(3)"
      ]
    },
    {
      "cell_type": "code",
      "execution_count": 71,
      "metadata": {
        "colab": {
          "base_uri": "https://localhost:8080/"
        },
        "id": "Tr2E8eM6hcUp",
        "outputId": "95c767b9-f589-43ef-c93f-db9efa43450e"
      },
      "outputs": [
        {
          "output_type": "stream",
          "name": "stdout",
          "text": [
            "<class 'pandas.core.frame.DataFrame'>\n",
            "Int64Index: 6788 entries, 0 to 6787\n",
            "Data columns (total 26 columns):\n",
            " #   Column    Non-Null Count  Dtype  \n",
            "---  ------    --------------  -----  \n",
            " 0   Место     6788 non-null   int16  \n",
            " 1   Улица     6788 non-null   int16  \n",
            " 2   Дорога    6788 non-null   int16  \n",
            " 3   Километр  6788 non-null   float64\n",
            " 4   Метр      6788 non-null   float64\n",
            " 5   Вид ДТП   6788 non-null   int8   \n",
            " 6   T         6788 non-null   float64\n",
            " 7   Po        6788 non-null   float64\n",
            " 8   P         6788 non-null   float64\n",
            " 9   Pa        6788 non-null   float64\n",
            " 10  U         6788 non-null   float64\n",
            " 11  DD        6788 non-null   int8   \n",
            " 12  Ff        6788 non-null   float64\n",
            " 13  ff10      6788 non-null   float64\n",
            " 14  ff3       6788 non-null   float64\n",
            " 15  N         6788 non-null   int8   \n",
            " 16  WW        6788 non-null   int8   \n",
            " 17  Cl        6788 non-null   int8   \n",
            " 18  Nh        6788 non-null   int8   \n",
            " 19  H         6788 non-null   int8   \n",
            " 20  VV        6788 non-null   float64\n",
            " 21  Td        6788 non-null   float64\n",
            " 22  День      6788 non-null   int64  \n",
            " 23  Месяц     6788 non-null   int64  \n",
            " 24  Год       6788 non-null   int64  \n",
            " 25  Час       6788 non-null   int64  \n",
            "dtypes: float64(12), int16(3), int64(4), int8(7)\n",
            "memory usage: 987.7 KB\n"
          ]
        }
      ],
      "source": [
        "test.info()"
      ]
    },
    {
      "cell_type": "markdown",
      "metadata": {
        "id": "ybEdcR5qGln6"
      },
      "source": [
        "# Pred"
      ]
    },
    {
      "cell_type": "code",
      "execution_count": 116,
      "metadata": {
        "id": "zVpxwVy4yJ8o"
      },
      "outputs": [],
      "source": [
        "perd_test = model.predict(test)"
      ]
    },
    {
      "cell_type": "code",
      "execution_count": 117,
      "metadata": {
        "colab": {
          "base_uri": "https://localhost:8080/"
        },
        "id": "hmzbMVI3lOFV",
        "outputId": "4ef064aa-5b2f-41ad-d6d2-d1b967aeaa13"
      },
      "outputs": [
        {
          "output_type": "execute_result",
          "data": {
            "text/plain": [
              "array([0, 0, 0, ..., 0, 0, 0])"
            ]
          },
          "metadata": {},
          "execution_count": 117
        }
      ],
      "source": [
        "perd_test"
      ]
    },
    {
      "cell_type": "code",
      "execution_count": 118,
      "metadata": {
        "id": "ytGbE_iCV62a"
      },
      "outputs": [],
      "source": [
        "test2 = pd.read_csv(\"/content/drive/MyDrive/Дагестан ДТП ИИ/test_dataset_test.csv\")"
      ]
    },
    {
      "cell_type": "code",
      "execution_count": 119,
      "metadata": {
        "id": "Jj4myT5QV62a"
      },
      "outputs": [],
      "source": [
        "test2 = test2.set_index('id')"
      ]
    },
    {
      "cell_type": "code",
      "execution_count": 120,
      "metadata": {
        "id": "YF8XNmU9MyaE"
      },
      "outputs": [],
      "source": [
        "submit = test2[[]]"
      ]
    },
    {
      "cell_type": "code",
      "execution_count": 121,
      "metadata": {
        "colab": {
          "base_uri": "https://localhost:8080/"
        },
        "id": "_Mk6izYWyUVY",
        "outputId": "d123e710-b465-4122-da4a-12657dfc3ba9"
      },
      "outputs": [
        {
          "output_type": "stream",
          "name": "stderr",
          "text": [
            "/usr/local/lib/python3.7/dist-packages/ipykernel_launcher.py:1: SettingWithCopyWarning: \n",
            "A value is trying to be set on a copy of a slice from a DataFrame.\n",
            "Try using .loc[row_indexer,col_indexer] = value instead\n",
            "\n",
            "See the caveats in the documentation: https://pandas.pydata.org/pandas-docs/stable/user_guide/indexing.html#returning-a-view-versus-a-copy\n",
            "  \"\"\"Entry point for launching an IPython kernel.\n"
          ]
        }
      ],
      "source": [
        "submit['Погибло'] = perd_test"
      ]
    },
    {
      "cell_type": "code",
      "execution_count": 122,
      "metadata": {
        "colab": {
          "base_uri": "https://localhost:8080/"
        },
        "id": "0HRiu1EHm8u7",
        "outputId": "b0fce402-c485-437c-ed25-12622d113798"
      },
      "outputs": [
        {
          "output_type": "stream",
          "name": "stderr",
          "text": [
            "/usr/local/lib/python3.7/dist-packages/ipykernel_launcher.py:1: SettingWithCopyWarning: \n",
            "A value is trying to be set on a copy of a slice from a DataFrame.\n",
            "Try using .loc[row_indexer,col_indexer] = value instead\n",
            "\n",
            "See the caveats in the documentation: https://pandas.pydata.org/pandas-docs/stable/user_guide/indexing.html#returning-a-view-versus-a-copy\n",
            "  \"\"\"Entry point for launching an IPython kernel.\n"
          ]
        }
      ],
      "source": [
        "submit['Погибло'] = submit['Погибло'].astype(int)"
      ]
    },
    {
      "cell_type": "code",
      "execution_count": 123,
      "metadata": {
        "colab": {
          "base_uri": "https://localhost:8080/",
          "height": 0
        },
        "id": "hrbFjkzwm805",
        "outputId": "c136613c-94d1-43c7-a236-3a894dc73614"
      },
      "outputs": [
        {
          "output_type": "execute_result",
          "data": {
            "text/plain": [
              "           Погибло\n",
              "id                \n",
              "490078911        0\n",
              "490055448        0\n",
              "490054440        0"
            ],
            "text/html": [
              "\n",
              "  <div id=\"df-9a7736c2-926e-4a6c-b06c-67464e55a04b\">\n",
              "    <div class=\"colab-df-container\">\n",
              "      <div>\n",
              "<style scoped>\n",
              "    .dataframe tbody tr th:only-of-type {\n",
              "        vertical-align: middle;\n",
              "    }\n",
              "\n",
              "    .dataframe tbody tr th {\n",
              "        vertical-align: top;\n",
              "    }\n",
              "\n",
              "    .dataframe thead th {\n",
              "        text-align: right;\n",
              "    }\n",
              "</style>\n",
              "<table border=\"1\" class=\"dataframe\">\n",
              "  <thead>\n",
              "    <tr style=\"text-align: right;\">\n",
              "      <th></th>\n",
              "      <th>Погибло</th>\n",
              "    </tr>\n",
              "    <tr>\n",
              "      <th>id</th>\n",
              "      <th></th>\n",
              "    </tr>\n",
              "  </thead>\n",
              "  <tbody>\n",
              "    <tr>\n",
              "      <th>490078911</th>\n",
              "      <td>0</td>\n",
              "    </tr>\n",
              "    <tr>\n",
              "      <th>490055448</th>\n",
              "      <td>0</td>\n",
              "    </tr>\n",
              "    <tr>\n",
              "      <th>490054440</th>\n",
              "      <td>0</td>\n",
              "    </tr>\n",
              "  </tbody>\n",
              "</table>\n",
              "</div>\n",
              "      <button class=\"colab-df-convert\" onclick=\"convertToInteractive('df-9a7736c2-926e-4a6c-b06c-67464e55a04b')\"\n",
              "              title=\"Convert this dataframe to an interactive table.\"\n",
              "              style=\"display:none;\">\n",
              "        \n",
              "  <svg xmlns=\"http://www.w3.org/2000/svg\" height=\"24px\"viewBox=\"0 0 24 24\"\n",
              "       width=\"24px\">\n",
              "    <path d=\"M0 0h24v24H0V0z\" fill=\"none\"/>\n",
              "    <path d=\"M18.56 5.44l.94 2.06.94-2.06 2.06-.94-2.06-.94-.94-2.06-.94 2.06-2.06.94zm-11 1L8.5 8.5l.94-2.06 2.06-.94-2.06-.94L8.5 2.5l-.94 2.06-2.06.94zm10 10l.94 2.06.94-2.06 2.06-.94-2.06-.94-.94-2.06-.94 2.06-2.06.94z\"/><path d=\"M17.41 7.96l-1.37-1.37c-.4-.4-.92-.59-1.43-.59-.52 0-1.04.2-1.43.59L10.3 9.45l-7.72 7.72c-.78.78-.78 2.05 0 2.83L4 21.41c.39.39.9.59 1.41.59.51 0 1.02-.2 1.41-.59l7.78-7.78 2.81-2.81c.8-.78.8-2.07 0-2.86zM5.41 20L4 18.59l7.72-7.72 1.47 1.35L5.41 20z\"/>\n",
              "  </svg>\n",
              "      </button>\n",
              "      \n",
              "  <style>\n",
              "    .colab-df-container {\n",
              "      display:flex;\n",
              "      flex-wrap:wrap;\n",
              "      gap: 12px;\n",
              "    }\n",
              "\n",
              "    .colab-df-convert {\n",
              "      background-color: #E8F0FE;\n",
              "      border: none;\n",
              "      border-radius: 50%;\n",
              "      cursor: pointer;\n",
              "      display: none;\n",
              "      fill: #1967D2;\n",
              "      height: 32px;\n",
              "      padding: 0 0 0 0;\n",
              "      width: 32px;\n",
              "    }\n",
              "\n",
              "    .colab-df-convert:hover {\n",
              "      background-color: #E2EBFA;\n",
              "      box-shadow: 0px 1px 2px rgba(60, 64, 67, 0.3), 0px 1px 3px 1px rgba(60, 64, 67, 0.15);\n",
              "      fill: #174EA6;\n",
              "    }\n",
              "\n",
              "    [theme=dark] .colab-df-convert {\n",
              "      background-color: #3B4455;\n",
              "      fill: #D2E3FC;\n",
              "    }\n",
              "\n",
              "    [theme=dark] .colab-df-convert:hover {\n",
              "      background-color: #434B5C;\n",
              "      box-shadow: 0px 1px 3px 1px rgba(0, 0, 0, 0.15);\n",
              "      filter: drop-shadow(0px 1px 2px rgba(0, 0, 0, 0.3));\n",
              "      fill: #FFFFFF;\n",
              "    }\n",
              "  </style>\n",
              "\n",
              "      <script>\n",
              "        const buttonEl =\n",
              "          document.querySelector('#df-9a7736c2-926e-4a6c-b06c-67464e55a04b button.colab-df-convert');\n",
              "        buttonEl.style.display =\n",
              "          google.colab.kernel.accessAllowed ? 'block' : 'none';\n",
              "\n",
              "        async function convertToInteractive(key) {\n",
              "          const element = document.querySelector('#df-9a7736c2-926e-4a6c-b06c-67464e55a04b');\n",
              "          const dataTable =\n",
              "            await google.colab.kernel.invokeFunction('convertToInteractive',\n",
              "                                                     [key], {});\n",
              "          if (!dataTable) return;\n",
              "\n",
              "          const docLinkHtml = 'Like what you see? Visit the ' +\n",
              "            '<a target=\"_blank\" href=https://colab.research.google.com/notebooks/data_table.ipynb>data table notebook</a>'\n",
              "            + ' to learn more about interactive tables.';\n",
              "          element.innerHTML = '';\n",
              "          dataTable['output_type'] = 'display_data';\n",
              "          await google.colab.output.renderOutput(dataTable, element);\n",
              "          const docLink = document.createElement('div');\n",
              "          docLink.innerHTML = docLinkHtml;\n",
              "          element.appendChild(docLink);\n",
              "        }\n",
              "      </script>\n",
              "    </div>\n",
              "  </div>\n",
              "  "
            ]
          },
          "metadata": {},
          "execution_count": 123
        }
      ],
      "source": [
        "submit.head(3)"
      ]
    },
    {
      "cell_type": "markdown",
      "metadata": {
        "id": "gA9dYzV-aP-I"
      },
      "source": [
        "# модель 2"
      ]
    },
    {
      "cell_type": "code",
      "execution_count": 124,
      "metadata": {
        "id": "j18DFnk1aP-S"
      },
      "outputs": [],
      "source": [
        "y = df[[\"Погибло детей\"]]"
      ]
    },
    {
      "cell_type": "code",
      "execution_count": 125,
      "metadata": {
        "id": "X4d9fV7XaP-S"
      },
      "outputs": [],
      "source": [
        "xtrain, xtest, ytrain, ytest = train_test_split(X, y, test_size=0.25, random_state=42)"
      ]
    },
    {
      "cell_type": "code",
      "execution_count": 126,
      "metadata": {
        "id": "jeYb2wK_aP-S"
      },
      "outputs": [],
      "source": [
        "# model = CatBoostClassifier(verbose=False)"
      ]
    },
    {
      "cell_type": "code",
      "execution_count": 127,
      "metadata": {
        "id": "5jtVfEUSaP-S"
      },
      "outputs": [],
      "source": [
        "# model.fit(xtrain, ytrain)"
      ]
    },
    {
      "cell_type": "code",
      "source": [
        "model = xgb.XGBClassifier(objective = 'binary:logistic')\n",
        "param_dist = {'n_estimators': stats.randint(150, 1000),\n",
        "              'learning_rate': stats.uniform(0.01, 0.59),\n",
        "              'subsample': stats.uniform(0.3, 0.6),\n",
        "              'max_depth': [3, 4, 5, 6, 7, 8, 9],\n",
        "              'colsample_bytree': stats.uniform(0.5, 0.4),\n",
        "              'min_child_weight': [1, 2, 3, 4]\n",
        "             }\n",
        "\n",
        "\n",
        "kfold_5 = KFold(n_splits=10, random_state=1, shuffle=True)\n",
        "\n",
        "model = RandomizedSearchCV(model, \n",
        "                         param_distributions = param_dist,\n",
        "                         cv = kfold_5,  \n",
        "                         n_iter = 5, # you want 5 here not 25 if I understand you correctly \n",
        "                         scoring = 'roc_auc', \n",
        "                         error_score = 0, \n",
        "                         verbose = 3, \n",
        "                         n_jobs = -1)"
      ],
      "metadata": {
        "id": "vpSgXg5kISlF"
      },
      "execution_count": 128,
      "outputs": []
    },
    {
      "cell_type": "code",
      "source": [
        "model.fit(xtrain, ytrain.values.ravel())"
      ],
      "metadata": {
        "colab": {
          "base_uri": "https://localhost:8080/"
        },
        "outputId": "21029015-b2c4-447d-b30c-4c8daca3e20a",
        "id": "tMk37KjeISlG"
      },
      "execution_count": 129,
      "outputs": [
        {
          "output_type": "stream",
          "name": "stdout",
          "text": [
            "Fitting 10 folds for each of 5 candidates, totalling 50 fits\n"
          ]
        },
        {
          "output_type": "execute_result",
          "data": {
            "text/plain": [
              "RandomizedSearchCV(cv=KFold(n_splits=10, random_state=1, shuffle=True),\n",
              "                   error_score=0, estimator=XGBClassifier(), n_iter=5,\n",
              "                   n_jobs=-1,\n",
              "                   param_distributions={'colsample_bytree': <scipy.stats._distn_infrastructure.rv_frozen object at 0x7fa740730090>,\n",
              "                                        'learning_rate': <scipy.stats._distn_infrastructure.rv_frozen object at 0x7fa74078f150>,\n",
              "                                        'max_depth': [3, 4, 5, 6, 7, 8, 9],\n",
              "                                        'min_child_weight': [1, 2, 3, 4],\n",
              "                                        'n_estimators': <scipy.stats._distn_infrastructure.rv_frozen object at 0x7fa7406da9d0>,\n",
              "                                        'subsample': <scipy.stats._distn_infrastructure.rv_frozen object at 0x7fa7406acd50>},\n",
              "                   scoring='roc_auc', verbose=3)"
            ]
          },
          "metadata": {},
          "execution_count": 129
        }
      ]
    },
    {
      "cell_type": "markdown",
      "metadata": {
        "id": "Iwue5zSLacTd"
      },
      "source": [
        "# Pred"
      ]
    },
    {
      "cell_type": "code",
      "execution_count": 130,
      "metadata": {
        "id": "5_QFX8CMacTf"
      },
      "outputs": [],
      "source": [
        "perd_test = model.predict(test)"
      ]
    },
    {
      "cell_type": "code",
      "execution_count": 131,
      "metadata": {
        "colab": {
          "base_uri": "https://localhost:8080/"
        },
        "id": "YSYSY6BWacTg",
        "outputId": "9cb80318-d818-48df-9fbc-832abb61070d"
      },
      "outputs": [
        {
          "output_type": "execute_result",
          "data": {
            "text/plain": [
              "array([0, 0, 0, ..., 0, 0, 0])"
            ]
          },
          "metadata": {},
          "execution_count": 131
        }
      ],
      "source": [
        "perd_test"
      ]
    },
    {
      "cell_type": "code",
      "execution_count": 132,
      "metadata": {
        "colab": {
          "base_uri": "https://localhost:8080/"
        },
        "id": "uo96bQunacTh",
        "outputId": "fbf5ea46-88f6-462d-f394-66b1d42296f5"
      },
      "outputs": [
        {
          "output_type": "stream",
          "name": "stderr",
          "text": [
            "/usr/local/lib/python3.7/dist-packages/ipykernel_launcher.py:1: SettingWithCopyWarning: \n",
            "A value is trying to be set on a copy of a slice from a DataFrame.\n",
            "Try using .loc[row_indexer,col_indexer] = value instead\n",
            "\n",
            "See the caveats in the documentation: https://pandas.pydata.org/pandas-docs/stable/user_guide/indexing.html#returning-a-view-versus-a-copy\n",
            "  \"\"\"Entry point for launching an IPython kernel.\n"
          ]
        }
      ],
      "source": [
        "submit['Погибло детей'] = perd_test"
      ]
    },
    {
      "cell_type": "code",
      "execution_count": 133,
      "metadata": {
        "colab": {
          "base_uri": "https://localhost:8080/"
        },
        "id": "3eH-6EseacTi",
        "outputId": "c4c3e16c-2751-446a-b943-dc134dcb5518"
      },
      "outputs": [
        {
          "output_type": "stream",
          "name": "stderr",
          "text": [
            "/usr/local/lib/python3.7/dist-packages/ipykernel_launcher.py:1: SettingWithCopyWarning: \n",
            "A value is trying to be set on a copy of a slice from a DataFrame.\n",
            "Try using .loc[row_indexer,col_indexer] = value instead\n",
            "\n",
            "See the caveats in the documentation: https://pandas.pydata.org/pandas-docs/stable/user_guide/indexing.html#returning-a-view-versus-a-copy\n",
            "  \"\"\"Entry point for launching an IPython kernel.\n"
          ]
        }
      ],
      "source": [
        "submit['Погибло детей'] = submit['Погибло детей'].astype(int)"
      ]
    },
    {
      "cell_type": "code",
      "execution_count": 134,
      "metadata": {
        "colab": {
          "base_uri": "https://localhost:8080/",
          "height": 0
        },
        "id": "3zH4CJiYacTj",
        "outputId": "95f95e18-7405-48ca-c937-b8b1cd530f03"
      },
      "outputs": [
        {
          "output_type": "execute_result",
          "data": {
            "text/plain": [
              "           Погибло  Погибло детей\n",
              "id                               \n",
              "490078911        0              0\n",
              "490055448        0              0\n",
              "490054440        0              0"
            ],
            "text/html": [
              "\n",
              "  <div id=\"df-51641a7c-cb74-41a9-b85a-b2ba4bac01a0\">\n",
              "    <div class=\"colab-df-container\">\n",
              "      <div>\n",
              "<style scoped>\n",
              "    .dataframe tbody tr th:only-of-type {\n",
              "        vertical-align: middle;\n",
              "    }\n",
              "\n",
              "    .dataframe tbody tr th {\n",
              "        vertical-align: top;\n",
              "    }\n",
              "\n",
              "    .dataframe thead th {\n",
              "        text-align: right;\n",
              "    }\n",
              "</style>\n",
              "<table border=\"1\" class=\"dataframe\">\n",
              "  <thead>\n",
              "    <tr style=\"text-align: right;\">\n",
              "      <th></th>\n",
              "      <th>Погибло</th>\n",
              "      <th>Погибло детей</th>\n",
              "    </tr>\n",
              "    <tr>\n",
              "      <th>id</th>\n",
              "      <th></th>\n",
              "      <th></th>\n",
              "    </tr>\n",
              "  </thead>\n",
              "  <tbody>\n",
              "    <tr>\n",
              "      <th>490078911</th>\n",
              "      <td>0</td>\n",
              "      <td>0</td>\n",
              "    </tr>\n",
              "    <tr>\n",
              "      <th>490055448</th>\n",
              "      <td>0</td>\n",
              "      <td>0</td>\n",
              "    </tr>\n",
              "    <tr>\n",
              "      <th>490054440</th>\n",
              "      <td>0</td>\n",
              "      <td>0</td>\n",
              "    </tr>\n",
              "  </tbody>\n",
              "</table>\n",
              "</div>\n",
              "      <button class=\"colab-df-convert\" onclick=\"convertToInteractive('df-51641a7c-cb74-41a9-b85a-b2ba4bac01a0')\"\n",
              "              title=\"Convert this dataframe to an interactive table.\"\n",
              "              style=\"display:none;\">\n",
              "        \n",
              "  <svg xmlns=\"http://www.w3.org/2000/svg\" height=\"24px\"viewBox=\"0 0 24 24\"\n",
              "       width=\"24px\">\n",
              "    <path d=\"M0 0h24v24H0V0z\" fill=\"none\"/>\n",
              "    <path d=\"M18.56 5.44l.94 2.06.94-2.06 2.06-.94-2.06-.94-.94-2.06-.94 2.06-2.06.94zm-11 1L8.5 8.5l.94-2.06 2.06-.94-2.06-.94L8.5 2.5l-.94 2.06-2.06.94zm10 10l.94 2.06.94-2.06 2.06-.94-2.06-.94-.94-2.06-.94 2.06-2.06.94z\"/><path d=\"M17.41 7.96l-1.37-1.37c-.4-.4-.92-.59-1.43-.59-.52 0-1.04.2-1.43.59L10.3 9.45l-7.72 7.72c-.78.78-.78 2.05 0 2.83L4 21.41c.39.39.9.59 1.41.59.51 0 1.02-.2 1.41-.59l7.78-7.78 2.81-2.81c.8-.78.8-2.07 0-2.86zM5.41 20L4 18.59l7.72-7.72 1.47 1.35L5.41 20z\"/>\n",
              "  </svg>\n",
              "      </button>\n",
              "      \n",
              "  <style>\n",
              "    .colab-df-container {\n",
              "      display:flex;\n",
              "      flex-wrap:wrap;\n",
              "      gap: 12px;\n",
              "    }\n",
              "\n",
              "    .colab-df-convert {\n",
              "      background-color: #E8F0FE;\n",
              "      border: none;\n",
              "      border-radius: 50%;\n",
              "      cursor: pointer;\n",
              "      display: none;\n",
              "      fill: #1967D2;\n",
              "      height: 32px;\n",
              "      padding: 0 0 0 0;\n",
              "      width: 32px;\n",
              "    }\n",
              "\n",
              "    .colab-df-convert:hover {\n",
              "      background-color: #E2EBFA;\n",
              "      box-shadow: 0px 1px 2px rgba(60, 64, 67, 0.3), 0px 1px 3px 1px rgba(60, 64, 67, 0.15);\n",
              "      fill: #174EA6;\n",
              "    }\n",
              "\n",
              "    [theme=dark] .colab-df-convert {\n",
              "      background-color: #3B4455;\n",
              "      fill: #D2E3FC;\n",
              "    }\n",
              "\n",
              "    [theme=dark] .colab-df-convert:hover {\n",
              "      background-color: #434B5C;\n",
              "      box-shadow: 0px 1px 3px 1px rgba(0, 0, 0, 0.15);\n",
              "      filter: drop-shadow(0px 1px 2px rgba(0, 0, 0, 0.3));\n",
              "      fill: #FFFFFF;\n",
              "    }\n",
              "  </style>\n",
              "\n",
              "      <script>\n",
              "        const buttonEl =\n",
              "          document.querySelector('#df-51641a7c-cb74-41a9-b85a-b2ba4bac01a0 button.colab-df-convert');\n",
              "        buttonEl.style.display =\n",
              "          google.colab.kernel.accessAllowed ? 'block' : 'none';\n",
              "\n",
              "        async function convertToInteractive(key) {\n",
              "          const element = document.querySelector('#df-51641a7c-cb74-41a9-b85a-b2ba4bac01a0');\n",
              "          const dataTable =\n",
              "            await google.colab.kernel.invokeFunction('convertToInteractive',\n",
              "                                                     [key], {});\n",
              "          if (!dataTable) return;\n",
              "\n",
              "          const docLinkHtml = 'Like what you see? Visit the ' +\n",
              "            '<a target=\"_blank\" href=https://colab.research.google.com/notebooks/data_table.ipynb>data table notebook</a>'\n",
              "            + ' to learn more about interactive tables.';\n",
              "          element.innerHTML = '';\n",
              "          dataTable['output_type'] = 'display_data';\n",
              "          await google.colab.output.renderOutput(dataTable, element);\n",
              "          const docLink = document.createElement('div');\n",
              "          docLink.innerHTML = docLinkHtml;\n",
              "          element.appendChild(docLink);\n",
              "        }\n",
              "      </script>\n",
              "    </div>\n",
              "  </div>\n",
              "  "
            ]
          },
          "metadata": {},
          "execution_count": 134
        }
      ],
      "source": [
        "submit.head(3)"
      ]
    },
    {
      "cell_type": "markdown",
      "metadata": {
        "id": "gjt9pq1QamAD"
      },
      "source": [
        "# модель 3"
      ]
    },
    {
      "cell_type": "code",
      "execution_count": 135,
      "metadata": {
        "id": "KX2S_1d4amAD"
      },
      "outputs": [],
      "source": [
        "y = df[[\"Ранено\"]]"
      ]
    },
    {
      "cell_type": "code",
      "execution_count": 136,
      "metadata": {
        "id": "lnb1_TWXamAE"
      },
      "outputs": [],
      "source": [
        "xtrain, xtest, ytrain, ytest = train_test_split(X, y, test_size=0.25, random_state=42)"
      ]
    },
    {
      "cell_type": "code",
      "source": [
        "len(X)"
      ],
      "metadata": {
        "colab": {
          "base_uri": "https://localhost:8080/"
        },
        "id": "XYrUGs5p60y0",
        "outputId": "b54ac620-c584-4ad1-8035-cd02db4d3587"
      },
      "execution_count": 137,
      "outputs": [
        {
          "output_type": "execute_result",
          "data": {
            "text/plain": [
              "35771"
            ]
          },
          "metadata": {},
          "execution_count": 137
        }
      ]
    },
    {
      "cell_type": "code",
      "source": [
        "model = xgb.XGBClassifier(objective = 'binary:logistic')\n",
        "param_dist = {'n_estimators': stats.randint(150, 1000),\n",
        "              'learning_rate': stats.uniform(0.01, 0.59),\n",
        "              'subsample': stats.uniform(0.3, 0.6),\n",
        "              'max_depth': [3, 4, 5, 6, 7, 8, 9],\n",
        "              'colsample_bytree': stats.uniform(0.5, 0.4),\n",
        "              'min_child_weight': [1, 2, 3, 4]\n",
        "             }\n",
        "\n",
        "\n",
        "kfold_5 = KFold(n_splits=10, random_state=1, shuffle=True)\n",
        "\n",
        "model = RandomizedSearchCV(model, \n",
        "                         param_distributions = param_dist,\n",
        "                         cv = kfold_5,  \n",
        "                         n_iter = 5, # you want 5 here not 25 if I understand you correctly \n",
        "                         scoring = 'roc_auc', \n",
        "                         error_score = 0, \n",
        "                         verbose = 3, \n",
        "                         n_jobs = -1)"
      ],
      "metadata": {
        "id": "rO66tEf9JHRn"
      },
      "execution_count": 138,
      "outputs": []
    },
    {
      "cell_type": "code",
      "source": [
        "model.fit(xtrain, ytrain.values.ravel())"
      ],
      "metadata": {
        "colab": {
          "base_uri": "https://localhost:8080/"
        },
        "outputId": "05f076e1-8d17-47f1-d6f1-a3e374806685",
        "id": "wXzCTMypJHRo"
      },
      "execution_count": 139,
      "outputs": [
        {
          "output_type": "stream",
          "name": "stdout",
          "text": [
            "Fitting 10 folds for each of 5 candidates, totalling 50 fits\n"
          ]
        },
        {
          "output_type": "execute_result",
          "data": {
            "text/plain": [
              "RandomizedSearchCV(cv=KFold(n_splits=10, random_state=1, shuffle=True),\n",
              "                   error_score=0, estimator=XGBClassifier(), n_iter=5,\n",
              "                   n_jobs=-1,\n",
              "                   param_distributions={'colsample_bytree': <scipy.stats._distn_infrastructure.rv_frozen object at 0x7fa7406da190>,\n",
              "                                        'learning_rate': <scipy.stats._distn_infrastructure.rv_frozen object at 0x7fa74075d510>,\n",
              "                                        'max_depth': [3, 4, 5, 6, 7, 8, 9],\n",
              "                                        'min_child_weight': [1, 2, 3, 4],\n",
              "                                        'n_estimators': <scipy.stats._distn_infrastructure.rv_frozen object at 0x7fa74075d210>,\n",
              "                                        'subsample': <scipy.stats._distn_infrastructure.rv_frozen object at 0x7fa74075dad0>},\n",
              "                   scoring='roc_auc', verbose=3)"
            ]
          },
          "metadata": {},
          "execution_count": 139
        }
      ]
    },
    {
      "cell_type": "markdown",
      "metadata": {
        "id": "gXry8oVZamAE"
      },
      "source": [
        "# Pred"
      ]
    },
    {
      "cell_type": "code",
      "execution_count": 140,
      "metadata": {
        "id": "LYkL0-5_amAF"
      },
      "outputs": [],
      "source": [
        "perd_test = model.predict(test)"
      ]
    },
    {
      "cell_type": "code",
      "execution_count": 141,
      "metadata": {
        "colab": {
          "base_uri": "https://localhost:8080/"
        },
        "id": "jYCxtlGjamAF",
        "outputId": "9b0869fa-6718-4b29-85ec-250479544f35"
      },
      "outputs": [
        {
          "output_type": "execute_result",
          "data": {
            "text/plain": [
              "array([0, 0, 1, ..., 0, 0, 0])"
            ]
          },
          "metadata": {},
          "execution_count": 141
        }
      ],
      "source": [
        "perd_test"
      ]
    },
    {
      "cell_type": "code",
      "execution_count": 142,
      "metadata": {
        "colab": {
          "base_uri": "https://localhost:8080/"
        },
        "id": "mDzJ_5kuamAF",
        "outputId": "931151ab-aee2-48e9-c45c-657a140bf726"
      },
      "outputs": [
        {
          "output_type": "stream",
          "name": "stderr",
          "text": [
            "/usr/local/lib/python3.7/dist-packages/ipykernel_launcher.py:1: SettingWithCopyWarning: \n",
            "A value is trying to be set on a copy of a slice from a DataFrame.\n",
            "Try using .loc[row_indexer,col_indexer] = value instead\n",
            "\n",
            "See the caveats in the documentation: https://pandas.pydata.org/pandas-docs/stable/user_guide/indexing.html#returning-a-view-versus-a-copy\n",
            "  \"\"\"Entry point for launching an IPython kernel.\n"
          ]
        }
      ],
      "source": [
        "submit['Ранено'] = perd_test"
      ]
    },
    {
      "cell_type": "code",
      "execution_count": 143,
      "metadata": {
        "colab": {
          "base_uri": "https://localhost:8080/"
        },
        "id": "4f8HvofsamAF",
        "outputId": "b7788d8a-5737-46d0-d6ed-0e45b44f6350"
      },
      "outputs": [
        {
          "output_type": "stream",
          "name": "stderr",
          "text": [
            "/usr/local/lib/python3.7/dist-packages/ipykernel_launcher.py:1: SettingWithCopyWarning: \n",
            "A value is trying to be set on a copy of a slice from a DataFrame.\n",
            "Try using .loc[row_indexer,col_indexer] = value instead\n",
            "\n",
            "See the caveats in the documentation: https://pandas.pydata.org/pandas-docs/stable/user_guide/indexing.html#returning-a-view-versus-a-copy\n",
            "  \"\"\"Entry point for launching an IPython kernel.\n"
          ]
        }
      ],
      "source": [
        "submit['Ранено'] = submit['Ранено'].astype(int)"
      ]
    },
    {
      "cell_type": "code",
      "execution_count": 144,
      "metadata": {
        "colab": {
          "base_uri": "https://localhost:8080/",
          "height": 0
        },
        "id": "gimka9JhamAF",
        "outputId": "bc171fd2-d2ac-4c68-9daf-1574535f8b65"
      },
      "outputs": [
        {
          "output_type": "execute_result",
          "data": {
            "text/plain": [
              "           Погибло  Погибло детей  Ранено\n",
              "id                                       \n",
              "490078911        0              0       0\n",
              "490055448        0              0       0\n",
              "490054440        0              0       1"
            ],
            "text/html": [
              "\n",
              "  <div id=\"df-e80b4e54-540f-47c5-ad9f-8a488f73d9da\">\n",
              "    <div class=\"colab-df-container\">\n",
              "      <div>\n",
              "<style scoped>\n",
              "    .dataframe tbody tr th:only-of-type {\n",
              "        vertical-align: middle;\n",
              "    }\n",
              "\n",
              "    .dataframe tbody tr th {\n",
              "        vertical-align: top;\n",
              "    }\n",
              "\n",
              "    .dataframe thead th {\n",
              "        text-align: right;\n",
              "    }\n",
              "</style>\n",
              "<table border=\"1\" class=\"dataframe\">\n",
              "  <thead>\n",
              "    <tr style=\"text-align: right;\">\n",
              "      <th></th>\n",
              "      <th>Погибло</th>\n",
              "      <th>Погибло детей</th>\n",
              "      <th>Ранено</th>\n",
              "    </tr>\n",
              "    <tr>\n",
              "      <th>id</th>\n",
              "      <th></th>\n",
              "      <th></th>\n",
              "      <th></th>\n",
              "    </tr>\n",
              "  </thead>\n",
              "  <tbody>\n",
              "    <tr>\n",
              "      <th>490078911</th>\n",
              "      <td>0</td>\n",
              "      <td>0</td>\n",
              "      <td>0</td>\n",
              "    </tr>\n",
              "    <tr>\n",
              "      <th>490055448</th>\n",
              "      <td>0</td>\n",
              "      <td>0</td>\n",
              "      <td>0</td>\n",
              "    </tr>\n",
              "    <tr>\n",
              "      <th>490054440</th>\n",
              "      <td>0</td>\n",
              "      <td>0</td>\n",
              "      <td>1</td>\n",
              "    </tr>\n",
              "  </tbody>\n",
              "</table>\n",
              "</div>\n",
              "      <button class=\"colab-df-convert\" onclick=\"convertToInteractive('df-e80b4e54-540f-47c5-ad9f-8a488f73d9da')\"\n",
              "              title=\"Convert this dataframe to an interactive table.\"\n",
              "              style=\"display:none;\">\n",
              "        \n",
              "  <svg xmlns=\"http://www.w3.org/2000/svg\" height=\"24px\"viewBox=\"0 0 24 24\"\n",
              "       width=\"24px\">\n",
              "    <path d=\"M0 0h24v24H0V0z\" fill=\"none\"/>\n",
              "    <path d=\"M18.56 5.44l.94 2.06.94-2.06 2.06-.94-2.06-.94-.94-2.06-.94 2.06-2.06.94zm-11 1L8.5 8.5l.94-2.06 2.06-.94-2.06-.94L8.5 2.5l-.94 2.06-2.06.94zm10 10l.94 2.06.94-2.06 2.06-.94-2.06-.94-.94-2.06-.94 2.06-2.06.94z\"/><path d=\"M17.41 7.96l-1.37-1.37c-.4-.4-.92-.59-1.43-.59-.52 0-1.04.2-1.43.59L10.3 9.45l-7.72 7.72c-.78.78-.78 2.05 0 2.83L4 21.41c.39.39.9.59 1.41.59.51 0 1.02-.2 1.41-.59l7.78-7.78 2.81-2.81c.8-.78.8-2.07 0-2.86zM5.41 20L4 18.59l7.72-7.72 1.47 1.35L5.41 20z\"/>\n",
              "  </svg>\n",
              "      </button>\n",
              "      \n",
              "  <style>\n",
              "    .colab-df-container {\n",
              "      display:flex;\n",
              "      flex-wrap:wrap;\n",
              "      gap: 12px;\n",
              "    }\n",
              "\n",
              "    .colab-df-convert {\n",
              "      background-color: #E8F0FE;\n",
              "      border: none;\n",
              "      border-radius: 50%;\n",
              "      cursor: pointer;\n",
              "      display: none;\n",
              "      fill: #1967D2;\n",
              "      height: 32px;\n",
              "      padding: 0 0 0 0;\n",
              "      width: 32px;\n",
              "    }\n",
              "\n",
              "    .colab-df-convert:hover {\n",
              "      background-color: #E2EBFA;\n",
              "      box-shadow: 0px 1px 2px rgba(60, 64, 67, 0.3), 0px 1px 3px 1px rgba(60, 64, 67, 0.15);\n",
              "      fill: #174EA6;\n",
              "    }\n",
              "\n",
              "    [theme=dark] .colab-df-convert {\n",
              "      background-color: #3B4455;\n",
              "      fill: #D2E3FC;\n",
              "    }\n",
              "\n",
              "    [theme=dark] .colab-df-convert:hover {\n",
              "      background-color: #434B5C;\n",
              "      box-shadow: 0px 1px 3px 1px rgba(0, 0, 0, 0.15);\n",
              "      filter: drop-shadow(0px 1px 2px rgba(0, 0, 0, 0.3));\n",
              "      fill: #FFFFFF;\n",
              "    }\n",
              "  </style>\n",
              "\n",
              "      <script>\n",
              "        const buttonEl =\n",
              "          document.querySelector('#df-e80b4e54-540f-47c5-ad9f-8a488f73d9da button.colab-df-convert');\n",
              "        buttonEl.style.display =\n",
              "          google.colab.kernel.accessAllowed ? 'block' : 'none';\n",
              "\n",
              "        async function convertToInteractive(key) {\n",
              "          const element = document.querySelector('#df-e80b4e54-540f-47c5-ad9f-8a488f73d9da');\n",
              "          const dataTable =\n",
              "            await google.colab.kernel.invokeFunction('convertToInteractive',\n",
              "                                                     [key], {});\n",
              "          if (!dataTable) return;\n",
              "\n",
              "          const docLinkHtml = 'Like what you see? Visit the ' +\n",
              "            '<a target=\"_blank\" href=https://colab.research.google.com/notebooks/data_table.ipynb>data table notebook</a>'\n",
              "            + ' to learn more about interactive tables.';\n",
              "          element.innerHTML = '';\n",
              "          dataTable['output_type'] = 'display_data';\n",
              "          await google.colab.output.renderOutput(dataTable, element);\n",
              "          const docLink = document.createElement('div');\n",
              "          docLink.innerHTML = docLinkHtml;\n",
              "          element.appendChild(docLink);\n",
              "        }\n",
              "      </script>\n",
              "    </div>\n",
              "  </div>\n",
              "  "
            ]
          },
          "metadata": {},
          "execution_count": 144
        }
      ],
      "source": [
        "submit.head(3)"
      ]
    },
    {
      "cell_type": "code",
      "execution_count": 144,
      "metadata": {
        "id": "mwZOnAoGOyBO"
      },
      "outputs": [],
      "source": [
        ""
      ]
    },
    {
      "cell_type": "markdown",
      "metadata": {
        "id": "63lDx33w-_M3"
      },
      "source": [
        "# модель 4"
      ]
    },
    {
      "cell_type": "code",
      "execution_count": 145,
      "metadata": {
        "id": "1VrhM0F8-_M4"
      },
      "outputs": [],
      "source": [
        "y = df[[\"Ранено детей\"]]"
      ]
    },
    {
      "cell_type": "code",
      "execution_count": 146,
      "metadata": {
        "id": "THgnSS4T-_M4"
      },
      "outputs": [],
      "source": [
        "xtrain, xtest, ytrain, ytest = train_test_split(X, y, test_size=0.25, random_state=42)"
      ]
    },
    {
      "cell_type": "code",
      "source": [
        "model = xgb.XGBClassifier(objective = 'binary:logistic')\n",
        "param_dist = {'n_estimators': stats.randint(150, 1000),\n",
        "              'learning_rate': stats.uniform(0.01, 0.59),\n",
        "              'subsample': stats.uniform(0.3, 0.6),\n",
        "              'max_depth': [3, 4, 5, 6, 7, 8, 9],\n",
        "              'colsample_bytree': stats.uniform(0.5, 0.4),\n",
        "              'min_child_weight': [1, 2, 3, 4]\n",
        "             }\n",
        "\n",
        "\n",
        "kfold_5 = KFold(n_splits=10, random_state=1, shuffle=True)\n",
        "\n",
        "model = RandomizedSearchCV(model, \n",
        "                         param_distributions = param_dist,\n",
        "                         cv = kfold_5,  \n",
        "                         n_iter = 5, # you want 5 here not 25 if I understand you correctly \n",
        "                         scoring = 'roc_auc', \n",
        "                         error_score = 0, \n",
        "                         verbose = 3, \n",
        "                         n_jobs = -1)"
      ],
      "metadata": {
        "id": "Ci8bsGXwUSSM"
      },
      "execution_count": 147,
      "outputs": []
    },
    {
      "cell_type": "code",
      "source": [
        "model.fit(xtrain, ytrain.values.ravel())"
      ],
      "metadata": {
        "colab": {
          "base_uri": "https://localhost:8080/"
        },
        "outputId": "bc7de809-4a7d-4b66-fb8e-1b5013cdbc73",
        "id": "8QQsj0k3USSO"
      },
      "execution_count": 148,
      "outputs": [
        {
          "output_type": "stream",
          "name": "stdout",
          "text": [
            "Fitting 10 folds for each of 5 candidates, totalling 50 fits\n"
          ]
        },
        {
          "output_type": "execute_result",
          "data": {
            "text/plain": [
              "RandomizedSearchCV(cv=KFold(n_splits=10, random_state=1, shuffle=True),\n",
              "                   error_score=0, estimator=XGBClassifier(), n_iter=5,\n",
              "                   n_jobs=-1,\n",
              "                   param_distributions={'colsample_bytree': <scipy.stats._distn_infrastructure.rv_frozen object at 0x7fa7431ac510>,\n",
              "                                        'learning_rate': <scipy.stats._distn_infrastructure.rv_frozen object at 0x7fa7431fd510>,\n",
              "                                        'max_depth': [3, 4, 5, 6, 7, 8, 9],\n",
              "                                        'min_child_weight': [1, 2, 3, 4],\n",
              "                                        'n_estimators': <scipy.stats._distn_infrastructure.rv_frozen object at 0x7fa740948910>,\n",
              "                                        'subsample': <scipy.stats._distn_infrastructure.rv_frozen object at 0x7fa742e7a610>},\n",
              "                   scoring='roc_auc', verbose=3)"
            ]
          },
          "metadata": {},
          "execution_count": 148
        }
      ]
    },
    {
      "cell_type": "markdown",
      "metadata": {
        "id": "KSjAB1TW-_M5"
      },
      "source": [
        "# Pred"
      ]
    },
    {
      "cell_type": "code",
      "execution_count": 149,
      "metadata": {
        "id": "VoORPPNW-_M5"
      },
      "outputs": [],
      "source": [
        "perd_test = model.predict(test)"
      ]
    },
    {
      "cell_type": "code",
      "execution_count": 150,
      "metadata": {
        "colab": {
          "base_uri": "https://localhost:8080/"
        },
        "id": "PGMx4j_R-_M5",
        "outputId": "0dd94e28-c534-4e1b-8b7a-b7f73feb2e40"
      },
      "outputs": [
        {
          "output_type": "execute_result",
          "data": {
            "text/plain": [
              "array([0, 0, 0, ..., 1, 0, 0])"
            ]
          },
          "metadata": {},
          "execution_count": 150
        }
      ],
      "source": [
        "perd_test"
      ]
    },
    {
      "cell_type": "code",
      "execution_count": 151,
      "metadata": {
        "colab": {
          "base_uri": "https://localhost:8080/"
        },
        "id": "lpXIcB2E-_M6",
        "outputId": "2f2a6caa-9843-460c-f737-2fd03b4e73a1"
      },
      "outputs": [
        {
          "output_type": "stream",
          "name": "stderr",
          "text": [
            "/usr/local/lib/python3.7/dist-packages/ipykernel_launcher.py:1: SettingWithCopyWarning: \n",
            "A value is trying to be set on a copy of a slice from a DataFrame.\n",
            "Try using .loc[row_indexer,col_indexer] = value instead\n",
            "\n",
            "See the caveats in the documentation: https://pandas.pydata.org/pandas-docs/stable/user_guide/indexing.html#returning-a-view-versus-a-copy\n",
            "  \"\"\"Entry point for launching an IPython kernel.\n"
          ]
        }
      ],
      "source": [
        "submit['Ранено детей'] = perd_test"
      ]
    },
    {
      "cell_type": "code",
      "execution_count": 152,
      "metadata": {
        "colab": {
          "base_uri": "https://localhost:8080/"
        },
        "id": "zy9KntqE-_M6",
        "outputId": "8f8e1607-c609-4f1c-c197-c8dfc00b4ed6"
      },
      "outputs": [
        {
          "output_type": "stream",
          "name": "stderr",
          "text": [
            "/usr/local/lib/python3.7/dist-packages/ipykernel_launcher.py:1: SettingWithCopyWarning: \n",
            "A value is trying to be set on a copy of a slice from a DataFrame.\n",
            "Try using .loc[row_indexer,col_indexer] = value instead\n",
            "\n",
            "See the caveats in the documentation: https://pandas.pydata.org/pandas-docs/stable/user_guide/indexing.html#returning-a-view-versus-a-copy\n",
            "  \"\"\"Entry point for launching an IPython kernel.\n"
          ]
        }
      ],
      "source": [
        "submit['Ранено детей'] = submit['Ранено детей'].astype(int)"
      ]
    },
    {
      "cell_type": "code",
      "execution_count": 153,
      "metadata": {
        "colab": {
          "base_uri": "https://localhost:8080/",
          "height": 0
        },
        "id": "os1of-Jf-_M6",
        "outputId": "6361f574-e536-42f1-f364-e4109efe20a0"
      },
      "outputs": [
        {
          "output_type": "execute_result",
          "data": {
            "text/plain": [
              "           Погибло  Погибло детей  Ранено  Ранено детей\n",
              "id                                                     \n",
              "490078911        0              0       0             0\n",
              "490055448        0              0       0             0\n",
              "490054440        0              0       1             0\n",
              "490037847        0              0       0             0\n",
              "490037049        0              0       0             0"
            ],
            "text/html": [
              "\n",
              "  <div id=\"df-2a113b55-673a-4a6c-be26-b9fcadcd0e69\">\n",
              "    <div class=\"colab-df-container\">\n",
              "      <div>\n",
              "<style scoped>\n",
              "    .dataframe tbody tr th:only-of-type {\n",
              "        vertical-align: middle;\n",
              "    }\n",
              "\n",
              "    .dataframe tbody tr th {\n",
              "        vertical-align: top;\n",
              "    }\n",
              "\n",
              "    .dataframe thead th {\n",
              "        text-align: right;\n",
              "    }\n",
              "</style>\n",
              "<table border=\"1\" class=\"dataframe\">\n",
              "  <thead>\n",
              "    <tr style=\"text-align: right;\">\n",
              "      <th></th>\n",
              "      <th>Погибло</th>\n",
              "      <th>Погибло детей</th>\n",
              "      <th>Ранено</th>\n",
              "      <th>Ранено детей</th>\n",
              "    </tr>\n",
              "    <tr>\n",
              "      <th>id</th>\n",
              "      <th></th>\n",
              "      <th></th>\n",
              "      <th></th>\n",
              "      <th></th>\n",
              "    </tr>\n",
              "  </thead>\n",
              "  <tbody>\n",
              "    <tr>\n",
              "      <th>490078911</th>\n",
              "      <td>0</td>\n",
              "      <td>0</td>\n",
              "      <td>0</td>\n",
              "      <td>0</td>\n",
              "    </tr>\n",
              "    <tr>\n",
              "      <th>490055448</th>\n",
              "      <td>0</td>\n",
              "      <td>0</td>\n",
              "      <td>0</td>\n",
              "      <td>0</td>\n",
              "    </tr>\n",
              "    <tr>\n",
              "      <th>490054440</th>\n",
              "      <td>0</td>\n",
              "      <td>0</td>\n",
              "      <td>1</td>\n",
              "      <td>0</td>\n",
              "    </tr>\n",
              "    <tr>\n",
              "      <th>490037847</th>\n",
              "      <td>0</td>\n",
              "      <td>0</td>\n",
              "      <td>0</td>\n",
              "      <td>0</td>\n",
              "    </tr>\n",
              "    <tr>\n",
              "      <th>490037049</th>\n",
              "      <td>0</td>\n",
              "      <td>0</td>\n",
              "      <td>0</td>\n",
              "      <td>0</td>\n",
              "    </tr>\n",
              "  </tbody>\n",
              "</table>\n",
              "</div>\n",
              "      <button class=\"colab-df-convert\" onclick=\"convertToInteractive('df-2a113b55-673a-4a6c-be26-b9fcadcd0e69')\"\n",
              "              title=\"Convert this dataframe to an interactive table.\"\n",
              "              style=\"display:none;\">\n",
              "        \n",
              "  <svg xmlns=\"http://www.w3.org/2000/svg\" height=\"24px\"viewBox=\"0 0 24 24\"\n",
              "       width=\"24px\">\n",
              "    <path d=\"M0 0h24v24H0V0z\" fill=\"none\"/>\n",
              "    <path d=\"M18.56 5.44l.94 2.06.94-2.06 2.06-.94-2.06-.94-.94-2.06-.94 2.06-2.06.94zm-11 1L8.5 8.5l.94-2.06 2.06-.94-2.06-.94L8.5 2.5l-.94 2.06-2.06.94zm10 10l.94 2.06.94-2.06 2.06-.94-2.06-.94-.94-2.06-.94 2.06-2.06.94z\"/><path d=\"M17.41 7.96l-1.37-1.37c-.4-.4-.92-.59-1.43-.59-.52 0-1.04.2-1.43.59L10.3 9.45l-7.72 7.72c-.78.78-.78 2.05 0 2.83L4 21.41c.39.39.9.59 1.41.59.51 0 1.02-.2 1.41-.59l7.78-7.78 2.81-2.81c.8-.78.8-2.07 0-2.86zM5.41 20L4 18.59l7.72-7.72 1.47 1.35L5.41 20z\"/>\n",
              "  </svg>\n",
              "      </button>\n",
              "      \n",
              "  <style>\n",
              "    .colab-df-container {\n",
              "      display:flex;\n",
              "      flex-wrap:wrap;\n",
              "      gap: 12px;\n",
              "    }\n",
              "\n",
              "    .colab-df-convert {\n",
              "      background-color: #E8F0FE;\n",
              "      border: none;\n",
              "      border-radius: 50%;\n",
              "      cursor: pointer;\n",
              "      display: none;\n",
              "      fill: #1967D2;\n",
              "      height: 32px;\n",
              "      padding: 0 0 0 0;\n",
              "      width: 32px;\n",
              "    }\n",
              "\n",
              "    .colab-df-convert:hover {\n",
              "      background-color: #E2EBFA;\n",
              "      box-shadow: 0px 1px 2px rgba(60, 64, 67, 0.3), 0px 1px 3px 1px rgba(60, 64, 67, 0.15);\n",
              "      fill: #174EA6;\n",
              "    }\n",
              "\n",
              "    [theme=dark] .colab-df-convert {\n",
              "      background-color: #3B4455;\n",
              "      fill: #D2E3FC;\n",
              "    }\n",
              "\n",
              "    [theme=dark] .colab-df-convert:hover {\n",
              "      background-color: #434B5C;\n",
              "      box-shadow: 0px 1px 3px 1px rgba(0, 0, 0, 0.15);\n",
              "      filter: drop-shadow(0px 1px 2px rgba(0, 0, 0, 0.3));\n",
              "      fill: #FFFFFF;\n",
              "    }\n",
              "  </style>\n",
              "\n",
              "      <script>\n",
              "        const buttonEl =\n",
              "          document.querySelector('#df-2a113b55-673a-4a6c-be26-b9fcadcd0e69 button.colab-df-convert');\n",
              "        buttonEl.style.display =\n",
              "          google.colab.kernel.accessAllowed ? 'block' : 'none';\n",
              "\n",
              "        async function convertToInteractive(key) {\n",
              "          const element = document.querySelector('#df-2a113b55-673a-4a6c-be26-b9fcadcd0e69');\n",
              "          const dataTable =\n",
              "            await google.colab.kernel.invokeFunction('convertToInteractive',\n",
              "                                                     [key], {});\n",
              "          if (!dataTable) return;\n",
              "\n",
              "          const docLinkHtml = 'Like what you see? Visit the ' +\n",
              "            '<a target=\"_blank\" href=https://colab.research.google.com/notebooks/data_table.ipynb>data table notebook</a>'\n",
              "            + ' to learn more about interactive tables.';\n",
              "          element.innerHTML = '';\n",
              "          dataTable['output_type'] = 'display_data';\n",
              "          await google.colab.output.renderOutput(dataTable, element);\n",
              "          const docLink = document.createElement('div');\n",
              "          docLink.innerHTML = docLinkHtml;\n",
              "          element.appendChild(docLink);\n",
              "        }\n",
              "      </script>\n",
              "    </div>\n",
              "  </div>\n",
              "  "
            ]
          },
          "metadata": {},
          "execution_count": 153
        }
      ],
      "source": [
        "submit.head()"
      ]
    },
    {
      "cell_type": "markdown",
      "metadata": {
        "id": "IEAd5WOR_INn"
      },
      "source": [
        "# Сохранение"
      ]
    },
    {
      "cell_type": "code",
      "execution_count": 154,
      "metadata": {
        "id": "9BeznkT6_J7X"
      },
      "outputs": [],
      "source": [
        "submit.to_csv('submit_DTP.csv',  index=True)"
      ]
    },
    {
      "cell_type": "code",
      "execution_count": 155,
      "metadata": {
        "colab": {
          "base_uri": "https://localhost:8080/",
          "height": 0
        },
        "id": "2QyMBNJWAjiK",
        "outputId": "d9acea2c-83ca-4a24-ec64-8f0a917c7c7e"
      },
      "outputs": [
        {
          "output_type": "execute_result",
          "data": {
            "text/plain": [
              "           Погибло  Погибло детей  Ранено  Ранено детей\n",
              "id                                                     \n",
              "490078911        0              0       0             0\n",
              "490055448        0              0       0             0\n",
              "490054440        0              0       1             0\n",
              "490037847        0              0       0             0\n",
              "490037049        0              0       0             0\n",
              "...            ...            ...     ...           ...\n",
              "490014641        0              0       0             0\n",
              "490033115        0              0       0             0\n",
              "490008221        0              0       0             1\n",
              "490119585        0              0       0             0\n",
              "490109680        0              0       0             0\n",
              "\n",
              "[6788 rows x 4 columns]"
            ],
            "text/html": [
              "\n",
              "  <div id=\"df-5d3d9d0a-d113-4300-8773-712a1327fb87\">\n",
              "    <div class=\"colab-df-container\">\n",
              "      <div>\n",
              "<style scoped>\n",
              "    .dataframe tbody tr th:only-of-type {\n",
              "        vertical-align: middle;\n",
              "    }\n",
              "\n",
              "    .dataframe tbody tr th {\n",
              "        vertical-align: top;\n",
              "    }\n",
              "\n",
              "    .dataframe thead th {\n",
              "        text-align: right;\n",
              "    }\n",
              "</style>\n",
              "<table border=\"1\" class=\"dataframe\">\n",
              "  <thead>\n",
              "    <tr style=\"text-align: right;\">\n",
              "      <th></th>\n",
              "      <th>Погибло</th>\n",
              "      <th>Погибло детей</th>\n",
              "      <th>Ранено</th>\n",
              "      <th>Ранено детей</th>\n",
              "    </tr>\n",
              "    <tr>\n",
              "      <th>id</th>\n",
              "      <th></th>\n",
              "      <th></th>\n",
              "      <th></th>\n",
              "      <th></th>\n",
              "    </tr>\n",
              "  </thead>\n",
              "  <tbody>\n",
              "    <tr>\n",
              "      <th>490078911</th>\n",
              "      <td>0</td>\n",
              "      <td>0</td>\n",
              "      <td>0</td>\n",
              "      <td>0</td>\n",
              "    </tr>\n",
              "    <tr>\n",
              "      <th>490055448</th>\n",
              "      <td>0</td>\n",
              "      <td>0</td>\n",
              "      <td>0</td>\n",
              "      <td>0</td>\n",
              "    </tr>\n",
              "    <tr>\n",
              "      <th>490054440</th>\n",
              "      <td>0</td>\n",
              "      <td>0</td>\n",
              "      <td>1</td>\n",
              "      <td>0</td>\n",
              "    </tr>\n",
              "    <tr>\n",
              "      <th>490037847</th>\n",
              "      <td>0</td>\n",
              "      <td>0</td>\n",
              "      <td>0</td>\n",
              "      <td>0</td>\n",
              "    </tr>\n",
              "    <tr>\n",
              "      <th>490037049</th>\n",
              "      <td>0</td>\n",
              "      <td>0</td>\n",
              "      <td>0</td>\n",
              "      <td>0</td>\n",
              "    </tr>\n",
              "    <tr>\n",
              "      <th>...</th>\n",
              "      <td>...</td>\n",
              "      <td>...</td>\n",
              "      <td>...</td>\n",
              "      <td>...</td>\n",
              "    </tr>\n",
              "    <tr>\n",
              "      <th>490014641</th>\n",
              "      <td>0</td>\n",
              "      <td>0</td>\n",
              "      <td>0</td>\n",
              "      <td>0</td>\n",
              "    </tr>\n",
              "    <tr>\n",
              "      <th>490033115</th>\n",
              "      <td>0</td>\n",
              "      <td>0</td>\n",
              "      <td>0</td>\n",
              "      <td>0</td>\n",
              "    </tr>\n",
              "    <tr>\n",
              "      <th>490008221</th>\n",
              "      <td>0</td>\n",
              "      <td>0</td>\n",
              "      <td>0</td>\n",
              "      <td>1</td>\n",
              "    </tr>\n",
              "    <tr>\n",
              "      <th>490119585</th>\n",
              "      <td>0</td>\n",
              "      <td>0</td>\n",
              "      <td>0</td>\n",
              "      <td>0</td>\n",
              "    </tr>\n",
              "    <tr>\n",
              "      <th>490109680</th>\n",
              "      <td>0</td>\n",
              "      <td>0</td>\n",
              "      <td>0</td>\n",
              "      <td>0</td>\n",
              "    </tr>\n",
              "  </tbody>\n",
              "</table>\n",
              "<p>6788 rows × 4 columns</p>\n",
              "</div>\n",
              "      <button class=\"colab-df-convert\" onclick=\"convertToInteractive('df-5d3d9d0a-d113-4300-8773-712a1327fb87')\"\n",
              "              title=\"Convert this dataframe to an interactive table.\"\n",
              "              style=\"display:none;\">\n",
              "        \n",
              "  <svg xmlns=\"http://www.w3.org/2000/svg\" height=\"24px\"viewBox=\"0 0 24 24\"\n",
              "       width=\"24px\">\n",
              "    <path d=\"M0 0h24v24H0V0z\" fill=\"none\"/>\n",
              "    <path d=\"M18.56 5.44l.94 2.06.94-2.06 2.06-.94-2.06-.94-.94-2.06-.94 2.06-2.06.94zm-11 1L8.5 8.5l.94-2.06 2.06-.94-2.06-.94L8.5 2.5l-.94 2.06-2.06.94zm10 10l.94 2.06.94-2.06 2.06-.94-2.06-.94-.94-2.06-.94 2.06-2.06.94z\"/><path d=\"M17.41 7.96l-1.37-1.37c-.4-.4-.92-.59-1.43-.59-.52 0-1.04.2-1.43.59L10.3 9.45l-7.72 7.72c-.78.78-.78 2.05 0 2.83L4 21.41c.39.39.9.59 1.41.59.51 0 1.02-.2 1.41-.59l7.78-7.78 2.81-2.81c.8-.78.8-2.07 0-2.86zM5.41 20L4 18.59l7.72-7.72 1.47 1.35L5.41 20z\"/>\n",
              "  </svg>\n",
              "      </button>\n",
              "      \n",
              "  <style>\n",
              "    .colab-df-container {\n",
              "      display:flex;\n",
              "      flex-wrap:wrap;\n",
              "      gap: 12px;\n",
              "    }\n",
              "\n",
              "    .colab-df-convert {\n",
              "      background-color: #E8F0FE;\n",
              "      border: none;\n",
              "      border-radius: 50%;\n",
              "      cursor: pointer;\n",
              "      display: none;\n",
              "      fill: #1967D2;\n",
              "      height: 32px;\n",
              "      padding: 0 0 0 0;\n",
              "      width: 32px;\n",
              "    }\n",
              "\n",
              "    .colab-df-convert:hover {\n",
              "      background-color: #E2EBFA;\n",
              "      box-shadow: 0px 1px 2px rgba(60, 64, 67, 0.3), 0px 1px 3px 1px rgba(60, 64, 67, 0.15);\n",
              "      fill: #174EA6;\n",
              "    }\n",
              "\n",
              "    [theme=dark] .colab-df-convert {\n",
              "      background-color: #3B4455;\n",
              "      fill: #D2E3FC;\n",
              "    }\n",
              "\n",
              "    [theme=dark] .colab-df-convert:hover {\n",
              "      background-color: #434B5C;\n",
              "      box-shadow: 0px 1px 3px 1px rgba(0, 0, 0, 0.15);\n",
              "      filter: drop-shadow(0px 1px 2px rgba(0, 0, 0, 0.3));\n",
              "      fill: #FFFFFF;\n",
              "    }\n",
              "  </style>\n",
              "\n",
              "      <script>\n",
              "        const buttonEl =\n",
              "          document.querySelector('#df-5d3d9d0a-d113-4300-8773-712a1327fb87 button.colab-df-convert');\n",
              "        buttonEl.style.display =\n",
              "          google.colab.kernel.accessAllowed ? 'block' : 'none';\n",
              "\n",
              "        async function convertToInteractive(key) {\n",
              "          const element = document.querySelector('#df-5d3d9d0a-d113-4300-8773-712a1327fb87');\n",
              "          const dataTable =\n",
              "            await google.colab.kernel.invokeFunction('convertToInteractive',\n",
              "                                                     [key], {});\n",
              "          if (!dataTable) return;\n",
              "\n",
              "          const docLinkHtml = 'Like what you see? Visit the ' +\n",
              "            '<a target=\"_blank\" href=https://colab.research.google.com/notebooks/data_table.ipynb>data table notebook</a>'\n",
              "            + ' to learn more about interactive tables.';\n",
              "          element.innerHTML = '';\n",
              "          dataTable['output_type'] = 'display_data';\n",
              "          await google.colab.output.renderOutput(dataTable, element);\n",
              "          const docLink = document.createElement('div');\n",
              "          docLink.innerHTML = docLinkHtml;\n",
              "          element.appendChild(docLink);\n",
              "        }\n",
              "      </script>\n",
              "    </div>\n",
              "  </div>\n",
              "  "
            ]
          },
          "metadata": {},
          "execution_count": 155
        }
      ],
      "source": [
        "submit"
      ]
    },
    {
      "cell_type": "code",
      "execution_count": 156,
      "metadata": {
        "colab": {
          "base_uri": "https://localhost:8080/",
          "height": 0
        },
        "id": "wjo4WaM9k_QX",
        "outputId": "455392f7-f836-4d4a-f536-47e5ec7d9a2c"
      },
      "outputs": [
        {
          "output_type": "execute_result",
          "data": {
            "text/plain": [
              "           Погибло  Погибло детей       Ранено  Ранено детей\n",
              "count  6788.000000         6788.0  6788.000000   6788.000000\n",
              "mean      0.001473            0.0     0.072481      0.003241\n",
              "std       0.042023            0.0     0.262689      0.056842\n",
              "min       0.000000            0.0     0.000000      0.000000\n",
              "25%       0.000000            0.0     0.000000      0.000000\n",
              "50%       0.000000            0.0     0.000000      0.000000\n",
              "75%       0.000000            0.0     0.000000      0.000000\n",
              "max       2.000000            0.0     2.000000      1.000000"
            ],
            "text/html": [
              "\n",
              "  <div id=\"df-1d3b431e-7dd8-4d82-98d6-03a6a03cff47\">\n",
              "    <div class=\"colab-df-container\">\n",
              "      <div>\n",
              "<style scoped>\n",
              "    .dataframe tbody tr th:only-of-type {\n",
              "        vertical-align: middle;\n",
              "    }\n",
              "\n",
              "    .dataframe tbody tr th {\n",
              "        vertical-align: top;\n",
              "    }\n",
              "\n",
              "    .dataframe thead th {\n",
              "        text-align: right;\n",
              "    }\n",
              "</style>\n",
              "<table border=\"1\" class=\"dataframe\">\n",
              "  <thead>\n",
              "    <tr style=\"text-align: right;\">\n",
              "      <th></th>\n",
              "      <th>Погибло</th>\n",
              "      <th>Погибло детей</th>\n",
              "      <th>Ранено</th>\n",
              "      <th>Ранено детей</th>\n",
              "    </tr>\n",
              "  </thead>\n",
              "  <tbody>\n",
              "    <tr>\n",
              "      <th>count</th>\n",
              "      <td>6788.000000</td>\n",
              "      <td>6788.0</td>\n",
              "      <td>6788.000000</td>\n",
              "      <td>6788.000000</td>\n",
              "    </tr>\n",
              "    <tr>\n",
              "      <th>mean</th>\n",
              "      <td>0.001473</td>\n",
              "      <td>0.0</td>\n",
              "      <td>0.072481</td>\n",
              "      <td>0.003241</td>\n",
              "    </tr>\n",
              "    <tr>\n",
              "      <th>std</th>\n",
              "      <td>0.042023</td>\n",
              "      <td>0.0</td>\n",
              "      <td>0.262689</td>\n",
              "      <td>0.056842</td>\n",
              "    </tr>\n",
              "    <tr>\n",
              "      <th>min</th>\n",
              "      <td>0.000000</td>\n",
              "      <td>0.0</td>\n",
              "      <td>0.000000</td>\n",
              "      <td>0.000000</td>\n",
              "    </tr>\n",
              "    <tr>\n",
              "      <th>25%</th>\n",
              "      <td>0.000000</td>\n",
              "      <td>0.0</td>\n",
              "      <td>0.000000</td>\n",
              "      <td>0.000000</td>\n",
              "    </tr>\n",
              "    <tr>\n",
              "      <th>50%</th>\n",
              "      <td>0.000000</td>\n",
              "      <td>0.0</td>\n",
              "      <td>0.000000</td>\n",
              "      <td>0.000000</td>\n",
              "    </tr>\n",
              "    <tr>\n",
              "      <th>75%</th>\n",
              "      <td>0.000000</td>\n",
              "      <td>0.0</td>\n",
              "      <td>0.000000</td>\n",
              "      <td>0.000000</td>\n",
              "    </tr>\n",
              "    <tr>\n",
              "      <th>max</th>\n",
              "      <td>2.000000</td>\n",
              "      <td>0.0</td>\n",
              "      <td>2.000000</td>\n",
              "      <td>1.000000</td>\n",
              "    </tr>\n",
              "  </tbody>\n",
              "</table>\n",
              "</div>\n",
              "      <button class=\"colab-df-convert\" onclick=\"convertToInteractive('df-1d3b431e-7dd8-4d82-98d6-03a6a03cff47')\"\n",
              "              title=\"Convert this dataframe to an interactive table.\"\n",
              "              style=\"display:none;\">\n",
              "        \n",
              "  <svg xmlns=\"http://www.w3.org/2000/svg\" height=\"24px\"viewBox=\"0 0 24 24\"\n",
              "       width=\"24px\">\n",
              "    <path d=\"M0 0h24v24H0V0z\" fill=\"none\"/>\n",
              "    <path d=\"M18.56 5.44l.94 2.06.94-2.06 2.06-.94-2.06-.94-.94-2.06-.94 2.06-2.06.94zm-11 1L8.5 8.5l.94-2.06 2.06-.94-2.06-.94L8.5 2.5l-.94 2.06-2.06.94zm10 10l.94 2.06.94-2.06 2.06-.94-2.06-.94-.94-2.06-.94 2.06-2.06.94z\"/><path d=\"M17.41 7.96l-1.37-1.37c-.4-.4-.92-.59-1.43-.59-.52 0-1.04.2-1.43.59L10.3 9.45l-7.72 7.72c-.78.78-.78 2.05 0 2.83L4 21.41c.39.39.9.59 1.41.59.51 0 1.02-.2 1.41-.59l7.78-7.78 2.81-2.81c.8-.78.8-2.07 0-2.86zM5.41 20L4 18.59l7.72-7.72 1.47 1.35L5.41 20z\"/>\n",
              "  </svg>\n",
              "      </button>\n",
              "      \n",
              "  <style>\n",
              "    .colab-df-container {\n",
              "      display:flex;\n",
              "      flex-wrap:wrap;\n",
              "      gap: 12px;\n",
              "    }\n",
              "\n",
              "    .colab-df-convert {\n",
              "      background-color: #E8F0FE;\n",
              "      border: none;\n",
              "      border-radius: 50%;\n",
              "      cursor: pointer;\n",
              "      display: none;\n",
              "      fill: #1967D2;\n",
              "      height: 32px;\n",
              "      padding: 0 0 0 0;\n",
              "      width: 32px;\n",
              "    }\n",
              "\n",
              "    .colab-df-convert:hover {\n",
              "      background-color: #E2EBFA;\n",
              "      box-shadow: 0px 1px 2px rgba(60, 64, 67, 0.3), 0px 1px 3px 1px rgba(60, 64, 67, 0.15);\n",
              "      fill: #174EA6;\n",
              "    }\n",
              "\n",
              "    [theme=dark] .colab-df-convert {\n",
              "      background-color: #3B4455;\n",
              "      fill: #D2E3FC;\n",
              "    }\n",
              "\n",
              "    [theme=dark] .colab-df-convert:hover {\n",
              "      background-color: #434B5C;\n",
              "      box-shadow: 0px 1px 3px 1px rgba(0, 0, 0, 0.15);\n",
              "      filter: drop-shadow(0px 1px 2px rgba(0, 0, 0, 0.3));\n",
              "      fill: #FFFFFF;\n",
              "    }\n",
              "  </style>\n",
              "\n",
              "      <script>\n",
              "        const buttonEl =\n",
              "          document.querySelector('#df-1d3b431e-7dd8-4d82-98d6-03a6a03cff47 button.colab-df-convert');\n",
              "        buttonEl.style.display =\n",
              "          google.colab.kernel.accessAllowed ? 'block' : 'none';\n",
              "\n",
              "        async function convertToInteractive(key) {\n",
              "          const element = document.querySelector('#df-1d3b431e-7dd8-4d82-98d6-03a6a03cff47');\n",
              "          const dataTable =\n",
              "            await google.colab.kernel.invokeFunction('convertToInteractive',\n",
              "                                                     [key], {});\n",
              "          if (!dataTable) return;\n",
              "\n",
              "          const docLinkHtml = 'Like what you see? Visit the ' +\n",
              "            '<a target=\"_blank\" href=https://colab.research.google.com/notebooks/data_table.ipynb>data table notebook</a>'\n",
              "            + ' to learn more about interactive tables.';\n",
              "          element.innerHTML = '';\n",
              "          dataTable['output_type'] = 'display_data';\n",
              "          await google.colab.output.renderOutput(dataTable, element);\n",
              "          const docLink = document.createElement('div');\n",
              "          docLink.innerHTML = docLinkHtml;\n",
              "          element.appendChild(docLink);\n",
              "        }\n",
              "      </script>\n",
              "    </div>\n",
              "  </div>\n",
              "  "
            ]
          },
          "metadata": {},
          "execution_count": 156
        }
      ],
      "source": [
        "submit.describe()"
      ]
    }
  ],
  "metadata": {
    "colab": {
      "name": "\"XGBClassifier \"Score = 0.419947 ДТП.ipynb\"\"",
      "provenance": [],
      "collapsed_sections": [
        "N-syHMYn1k64",
        "ybEdcR5qGln6",
        "gA9dYzV-aP-I",
        "Iwue5zSLacTd",
        "gXry8oVZamAE",
        "KSjAB1TW-_M5",
        "IEAd5WOR_INn"
      ],
      "toc_visible": true,
      "include_colab_link": true
    },
    "kernelspec": {
      "display_name": "Python 3",
      "name": "python3"
    },
    "language_info": {
      "name": "python"
    }
  },
  "nbformat": 4,
  "nbformat_minor": 0
}