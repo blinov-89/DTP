{
  "cells": [
    {
      "cell_type": "markdown",
      "metadata": {
        "id": "view-in-github",
        "colab_type": "text"
      },
      "source": [
        "<a href=\"https://colab.research.google.com/github/blinov-89/DTP/blob/main/%D0%9F%D0%BE%D0%B3%D0%BE%D0%B4%D0%B0_%D0%B8_%D0%BA%D0%BE%D0%BE%D1%80%D0%B4%D0%B8%D0%BD%D0%B0%D1%82%D1%8B_%22Score_%3D_0_420505_%D0%94%D0%A2%D0%9F_baseline_ipynb%22.ipynb\" target=\"_parent\"><img src=\"https://colab.research.google.com/assets/colab-badge.svg\" alt=\"Open In Colab\"/></a>"
      ]
    },
    {
      "cell_type": "markdown",
      "metadata": {
        "id": "FH0ZYdNyQzug"
      },
      "source": [
        "## Загрузим нужные библиотеки"
      ]
    },
    {
      "cell_type": "code",
      "execution_count": null,
      "metadata": {
        "id": "BwNGqMidQiRi"
      },
      "outputs": [],
      "source": [
        "import pandas as pd\n",
        "import seaborn as sns\n",
        "import matplotlib.pyplot as plt\n",
        "from sklearn.model_selection import train_test_split\n",
        "from sklearn.ensemble import RandomForestClassifier\n",
        "\n",
        "%matplotlib inline"
      ]
    },
    {
      "cell_type": "code",
      "execution_count": null,
      "metadata": {
        "id": "XvB_92aerQfb"
      },
      "outputs": [],
      "source": [
        "import xgboost as xgb\n",
        "from sklearn.datasets import load_boston\n",
        "from sklearn.model_selection import train_test_split\n",
        "from sklearn.model_selection import cross_val_score, KFold\n",
        "from sklearn.metrics import mean_squared_error\n",
        "import matplotlib.pyplot as plt "
      ]
    },
    {
      "cell_type": "code",
      "execution_count": null,
      "metadata": {
        "id": "G6A6HXB4CXnJ"
      },
      "outputs": [],
      "source": [
        " from scipy import stats\n",
        " from scipy.stats import randint\n",
        " from sklearn.model_selection import RandomizedSearchCV\n",
        " from sklearn.metrics import precision_score,recall_score,accuracy_score,f1_score,roc_auc_score"
      ]
    },
    {
      "cell_type": "code",
      "execution_count": null,
      "metadata": {
        "id": "QW_QmwIJCi35"
      },
      "outputs": [],
      "source": [
        "from sklearn.model_selection import cross_val_score\n",
        "from sklearn.model_selection import train_test_split\n",
        "from sklearn.model_selection import KFold"
      ]
    },
    {
      "cell_type": "code",
      "execution_count": null,
      "metadata": {
        "id": "Dqe91YknrLF5"
      },
      "outputs": [],
      "source": [
        "pip install geolocator"
      ]
    },
    {
      "cell_type": "code",
      "execution_count": null,
      "metadata": {
        "id": "Ozd4UrpDrAuw"
      },
      "outputs": [],
      "source": [
        "import pandas as pd\n",
        "import numpy as np\n",
        "import datetime as DT\n",
        "import hmac\n",
        "from geopy.geocoders import Nominatim\n",
        "from geopy.distance import vincenty"
      ]
    },
    {
      "cell_type": "code",
      "execution_count": null,
      "metadata": {
        "id": "3f_Lm3NLRcO3"
      },
      "outputs": [],
      "source": [
        "pip install geopandas"
      ]
    },
    {
      "cell_type": "code",
      "execution_count": null,
      "metadata": {
        "id": "8RcgnkV9l3gR"
      },
      "outputs": [],
      "source": [
        "import folium\n",
        "import pandas as pd\n",
        "from geopandas.tools import geocode"
      ]
    },
    {
      "cell_type": "code",
      "execution_count": null,
      "metadata": {
        "id": "G6UNumFNpo4A"
      },
      "outputs": [],
      "source": [
        "from google.colab import drive\n",
        "drive.mount('/content/drive')"
      ]
    },
    {
      "cell_type": "markdown",
      "metadata": {
        "id": "S-mIOnCWNgym"
      },
      "source": [
        "# Загрузка датасета"
      ]
    },
    {
      "cell_type": "code",
      "execution_count": null,
      "metadata": {
        "id": "y2smQ93nQzJi"
      },
      "outputs": [],
      "source": [
        "df = pd.read_csv(\"/content/drive/MyDrive/Дагестан ДТП ИИ/train_dataset_train.csv\")"
      ]
    },
    {
      "cell_type": "code",
      "execution_count": null,
      "metadata": {
        "id": "l3gbQg8G7SqE"
      },
      "outputs": [],
      "source": [
        "df.info()"
      ]
    },
    {
      "cell_type": "code",
      "execution_count": null,
      "metadata": {
        "id": "YmV2eK30GB0w"
      },
      "outputs": [],
      "source": [
        "df['Место'].value_counts()"
      ]
    },
    {
      "cell_type": "code",
      "execution_count": null,
      "metadata": {
        "id": "STi0uyWLN8U_"
      },
      "outputs": [],
      "source": [
        "df['Место'].str.split(',').str[:2]"
      ]
    },
    {
      "cell_type": "code",
      "execution_count": null,
      "metadata": {
        "id": "8qlf8d19PPx8"
      },
      "outputs": [],
      "source": [
        "df['Район'] = df['Место'].str.split(',').str[1]\n",
        "df['Область'] = df['Место'].str.split(',').str[0]\n",
        "df['Место']=df.apply(lambda x:'%s,%s' % (x['Область'],x['Район']),axis=1)"
      ]
    },
    {
      "cell_type": "code",
      "execution_count": null,
      "metadata": {
        "id": "wWeznYBxR2RI"
      },
      "outputs": [],
      "source": [
        "df"
      ]
    },
    {
      "cell_type": "code",
      "execution_count": null,
      "metadata": {
        "id": "1bqoB16jIueV"
      },
      "outputs": [],
      "source": [
        "# df['Место'] = df['Место'].str.split(',').str[:2]\n",
        "# df['Место']  = df['Место'].astype('object')\n",
        "# df2 = df[:5]\n",
        "# df2\n",
        "# df2['Место']= df['Место']"
      ]
    },
    {
      "cell_type": "code",
      "execution_count": null,
      "metadata": {
        "id": "j6Brn4I4g14u"
      },
      "outputs": [],
      "source": [
        "w = pd.read_excel(\"/content/drive/MyDrive/Дагестан ДТП ИИ/погода.xlsx\")"
      ]
    },
    {
      "cell_type": "code",
      "execution_count": null,
      "metadata": {
        "id": "FOaFTTJ10xia"
      },
      "outputs": [],
      "source": [
        "w.info()"
      ]
    },
    {
      "cell_type": "code",
      "execution_count": null,
      "metadata": {
        "id": "F5AxPNb60_q9"
      },
      "outputs": [],
      "source": [
        "w['Дата'] = w[\"Местное время в Нижнем Новгороде\"].str[:10]"
      ]
    },
    {
      "cell_type": "code",
      "execution_count": null,
      "metadata": {
        "id": "JPaHqIwgIwGu"
      },
      "outputs": [],
      "source": [
        "print(list(w.columns.values))"
      ]
    },
    {
      "cell_type": "code",
      "execution_count": null,
      "metadata": {
        "id": "lKIpY3lkIb0c"
      },
      "outputs": [],
      "source": [
        "w = w.drop(['RRR', 'tR', 'E', 'Tg', \"E'\", 'sss', 'Tn', 'Tx', 'W1', 'W2', 'Cm', 'Ch', 'Местное время в Нижнем Новгороде'], axis = 1)"
      ]
    },
    {
      "cell_type": "code",
      "execution_count": null,
      "metadata": {
        "id": "mgcZPd5E3vWr"
      },
      "outputs": [],
      "source": [
        "df1 = pd.merge(df, w, how='left', on='Дата')"
      ]
    },
    {
      "cell_type": "code",
      "execution_count": null,
      "metadata": {
        "id": "SPrzW2HEEsM0"
      },
      "outputs": [],
      "source": [
        "df1.info()"
      ]
    },
    {
      "cell_type": "code",
      "execution_count": null,
      "metadata": {
        "id": "cCOcx8gd3K9B"
      },
      "outputs": [],
      "source": [
        "pd.set_option('display.max_columns', None)"
      ]
    },
    {
      "cell_type": "code",
      "execution_count": null,
      "metadata": {
        "id": "PU0nC0XP2fMO"
      },
      "outputs": [],
      "source": [
        "# df1=pd.concat([df, w], axis=1)"
      ]
    },
    {
      "cell_type": "code",
      "execution_count": null,
      "metadata": {
        "id": "lGaxk_9b3X4h"
      },
      "outputs": [],
      "source": [
        "df1.head(3)"
      ]
    },
    {
      "cell_type": "code",
      "execution_count": null,
      "metadata": {
        "id": "j_0qX3chvpR3"
      },
      "outputs": [],
      "source": [
        "df2 = df1.fillna(0)"
      ]
    },
    {
      "cell_type": "code",
      "execution_count": null,
      "metadata": {
        "id": "QuMe37cZjoVg"
      },
      "outputs": [],
      "source": [
        "# df3 = df2['Место'][:5]\n",
        "# df3"
      ]
    },
    {
      "cell_type": "code",
      "execution_count": null,
      "metadata": {
        "id": "9YiGywSU9gat"
      },
      "outputs": [],
      "source": [
        "df3 = pd.DataFrame(df2['Место'].value_counts())"
      ]
    },
    {
      "cell_type": "code",
      "execution_count": null,
      "metadata": {
        "id": "a8-aYew6-n5B"
      },
      "outputs": [],
      "source": [
        "df3['Место']"
      ]
    },
    {
      "cell_type": "code",
      "execution_count": null,
      "metadata": {
        "id": "NZ1w700AY5yw"
      },
      "outputs": [],
      "source": [
        "# df3 = df2[:15]\n",
        "# df3"
      ]
    },
    {
      "cell_type": "code",
      "execution_count": null,
      "metadata": {
        "id": "MsyL0wR2jyES"
      },
      "outputs": [],
      "source": [
        "# df2['city_coord'] = df2['Место'].apply(geolocator.geocode).apply(lambda x: (x.latitude, x.longitude))"
      ]
    },
    {
      "cell_type": "code",
      "execution_count": null,
      "metadata": {
        "id": "foEe8kkdn48h"
      },
      "outputs": [],
      "source": [
        "# cols = ['Место', 'Улица', 'Дом']\n",
        "# df2['address'] = df2[cols].apply(lambda row: ' '.join(row.values.astype(str)), axis=1)"
      ]
    },
    {
      "cell_type": "code",
      "execution_count": null,
      "metadata": {
        "id": "VBBwHE7EwqxR"
      },
      "outputs": [],
      "source": [
        "# df3['city_coord'] = df3.apply(geolocator.geocode)"
      ]
    },
    {
      "cell_type": "code",
      "execution_count": null,
      "metadata": {
        "id": "Y0Ti1ERVryU5"
      },
      "outputs": [],
      "source": [
        "geolocator = Nominatim(user_agent=\"my_request\")"
      ]
    },
    {
      "cell_type": "code",
      "execution_count": null,
      "metadata": {
        "id": "c7JcSkXSw0Tv"
      },
      "outputs": [],
      "source": [
        "# df2['city_coord'] = df2['Место'].apply(geolocator.geocode).apply(lambda x: (x.latitude, x.longitude))\n",
        "# df2"
      ]
    },
    {
      "cell_type": "code",
      "execution_count": null,
      "metadata": {
        "id": "s_WVD0m-TkG8"
      },
      "outputs": [],
      "source": [
        "# df2['city_coord'] = df2['city_coord'].astype('str')"
      ]
    },
    {
      "cell_type": "code",
      "execution_count": null,
      "metadata": {
        "id": "Dwxhsi4nS-7x"
      },
      "outputs": [],
      "source": [
        "# df2['city_coord'].str.strip('()').str.split(', ', expand=True).rename(columns={0:'Latitude', 1:'Longitude'}) "
      ]
    },
    {
      "cell_type": "code",
      "execution_count": null,
      "metadata": {
        "id": "YSaV_d3ll5h7"
      },
      "outputs": [],
      "source": [
        "# pip install geopandas"
      ]
    },
    {
      "cell_type": "code",
      "execution_count": null,
      "metadata": {
        "id": "fdVAeSHydHqg"
      },
      "outputs": [],
      "source": [
        "from geopy.geocoders import Nominatim\n",
        " \n",
        "# calling the Nominatim tool\n",
        "loc = Nominatim(user_agent=\"GetLoc\")\n",
        " \n",
        "# entering the location name\n",
        "getLoc = loc.geocode(\"'Новгородская', 'область,', 'Великий', 'Новгород'\")\n",
        " \n",
        "# printing address\n",
        "print(getLoc.address)\n",
        " \n",
        "# printing latitude and longitude\n",
        "print(\"Latitude = \", getLoc.latitude, \"\\n\")\n",
        "print(\"Longitude = \", getLoc.longitude)"
      ]
    },
    {
      "cell_type": "code",
      "execution_count": null,
      "metadata": {
        "id": "TEAWVydXorOE"
      },
      "outputs": [],
      "source": [
        "#import requires modules\n",
        "from geopandas.tools import geocode\n",
        " \n",
        "#address we need to locate\n",
        "loc = 'Новгородская область, Новгородский район'\n",
        " \n",
        "#finding the location\n",
        "location = geocode(loc, provider=\"nominatim\" , user_agent = 'my_request')\n",
        " \n",
        "point = location.geometry.iloc[0]\n",
        "print('Name: '+ loc )\n",
        "print('complete address: '+ location.address.iloc[0])\n",
        "print('longitude: {} '.format(point.x))\n",
        "print('latitude: {} '.format(point.y))"
      ]
    },
    {
      "cell_type": "code",
      "execution_count": null,
      "metadata": {
        "id": "AzZ605ngwGMO"
      },
      "outputs": [],
      "source": [
        "# df3 = df2[:500]\n",
        "# df3"
      ]
    },
    {
      "cell_type": "code",
      "execution_count": null,
      "metadata": {
        "id": "-rgBOvFyEp1M"
      },
      "outputs": [],
      "source": [
        "def custom_geocoder(address):\n",
        "    dataframe = geocode(address , provider=\"nominatim\" , user_agent = 'my_request')\n",
        "    point = dataframe.geometry.iloc[0]\n",
        "    return pd.Series({'Latitude': point.y, 'Longitude': point.x})\n",
        " \n",
        "#Applying function to the dataframe\n",
        "df3[['latitude' , 'longitude']]= df3.Место.apply( lambda x: custom_geocoder(x))"
      ]
    },
    {
      "cell_type": "code",
      "execution_count": null,
      "metadata": {
        "id": "2O4Wkw5zSZuK"
      },
      "outputs": [],
      "source": [
        "df3.head(3)"
      ]
    },
    {
      "cell_type": "code",
      "execution_count": null,
      "metadata": {
        "id": "2Vf_QSrEAVeX"
      },
      "outputs": [],
      "source": [
        "df3 = df3.drop(['Место'], axis = 1)\n"
      ]
    },
    {
      "cell_type": "code",
      "execution_count": null,
      "metadata": {
        "id": "bVWpreoN_XQX"
      },
      "outputs": [],
      "source": [
        "df3 = df3.reset_index()"
      ]
    },
    {
      "cell_type": "code",
      "execution_count": null,
      "metadata": {
        "id": "e7F7Ue2bA1cZ"
      },
      "outputs": [],
      "source": [
        "df3['Место'] = df3['index']\n"
      ]
    },
    {
      "cell_type": "code",
      "execution_count": null,
      "metadata": {
        "id": "qzVe1UgLBB9T"
      },
      "outputs": [],
      "source": [
        "df3 = df3.drop(['index'], axis = 1)"
      ]
    },
    {
      "cell_type": "code",
      "execution_count": null,
      "metadata": {
        "id": "D9SVeWXr_l7O"
      },
      "outputs": [],
      "source": [
        "df4 = pd.merge(df1, df3, how='left', on='Место')\n",
        "df4"
      ]
    },
    {
      "cell_type": "code",
      "execution_count": null,
      "metadata": {
        "id": "Up-lez_cT8Lm"
      },
      "outputs": [],
      "source": [
        "df1 = df4"
      ]
    },
    {
      "cell_type": "code",
      "execution_count": null,
      "metadata": {
        "id": "FzRtGXe1DAXf"
      },
      "outputs": [],
      "source": [
        "# #Importing the requires modules\n",
        "# import folium\n",
        "# import pandas as pd\n",
        "# from geopandas.tools import geocode\n",
        " \n",
        "# #Creating a DataFrame\n",
        "# # wonders = ['Новгородская область, Великий Новгород',\n",
        "# #  'Новгородская область, Великий Новгород',\n",
        "# #  'Новгородская область, Великий Новгород',\n",
        "# #  'Новгородская область, Новгородский район, Савинский, д Зарелье',\n",
        "# #  'Новгородская область, Окуловский район']\n",
        "\n",
        "# # wonders = list(df3[:10])\n",
        "\n",
        "# # df = pd.DataFrame({'wonders' : wonders})\n",
        " \n",
        "# #function to unzip latitude and longitude from GeoDataFrame\n",
        "# def custom_geocoder(address):\n",
        "#     dataframe = geocode(address , provider=\"nominatim\" , user_agent = 'my_request')\n",
        "#     point = dataframe.geometry.iloc[0]\n",
        "#     return pd.Series({'Latitude': point.y, 'Longitude': point.x})\n",
        " \n",
        "# #Applying function to the dataframe\n",
        "# df[['latitude' , 'longitude']]= df.wonders.apply( lambda x: custom_geocoder(x))\n",
        " \n",
        "# df"
      ]
    },
    {
      "cell_type": "code",
      "execution_count": null,
      "metadata": {
        "id": "LgogFeNka5Lm"
      },
      "outputs": [],
      "source": [
        "df1['Вид ДТП'].value_counts()"
      ]
    },
    {
      "cell_type": "code",
      "execution_count": null,
      "metadata": {
        "id": "bvOGtAqUS1Vm"
      },
      "outputs": [],
      "source": [
        "df = df1"
      ]
    },
    {
      "cell_type": "markdown",
      "metadata": {
        "id": "GywlangPRAEm"
      },
      "source": [
        "## Рассмотрим датасет по ближе"
      ]
    },
    {
      "cell_type": "code",
      "execution_count": null,
      "metadata": {
        "id": "gvcl_K3FQ-os"
      },
      "outputs": [],
      "source": [
        "df.head()"
      ]
    },
    {
      "cell_type": "code",
      "execution_count": null,
      "metadata": {
        "id": "QFk91xujgP-R"
      },
      "outputs": [],
      "source": [
        "min(df['Дата'])"
      ]
    },
    {
      "cell_type": "code",
      "execution_count": null,
      "metadata": {
        "id": "kEDEhvbVgZqf"
      },
      "outputs": [],
      "source": [
        "max(df['Дата'])"
      ]
    },
    {
      "cell_type": "code",
      "execution_count": null,
      "metadata": {
        "id": "Gbt4EvEdSB75"
      },
      "outputs": [],
      "source": [
        "len(df['Дорога'].unique())"
      ]
    },
    {
      "cell_type": "code",
      "execution_count": null,
      "metadata": {
        "id": "a-1_ozxBP2ca"
      },
      "outputs": [],
      "source": [
        "len(df['Место'].unique())"
      ]
    },
    {
      "cell_type": "code",
      "execution_count": null,
      "metadata": {
        "id": "jE8r6sYMUB6w"
      },
      "outputs": [],
      "source": [
        "df.shape"
      ]
    },
    {
      "cell_type": "code",
      "execution_count": null,
      "metadata": {
        "id": "uAIT-vwLUI0z"
      },
      "outputs": [],
      "source": [
        "df.info()"
      ]
    },
    {
      "cell_type": "code",
      "execution_count": null,
      "metadata": {
        "id": "epFFuIojPNvZ"
      },
      "outputs": [],
      "source": [
        "df.describe()"
      ]
    },
    {
      "cell_type": "code",
      "execution_count": null,
      "metadata": {
        "id": "_lF36qvy6a5m"
      },
      "outputs": [],
      "source": [
        "df['Погибло'].value_counts()"
      ]
    },
    {
      "cell_type": "code",
      "execution_count": null,
      "metadata": {
        "id": "V50wHCVA64nl"
      },
      "outputs": [],
      "source": [
        "df['Погибло детей'].value_counts()"
      ]
    },
    {
      "cell_type": "code",
      "execution_count": null,
      "metadata": {
        "id": "AIqTsJDS64z_"
      },
      "outputs": [],
      "source": [
        "df['Ранено'].value_counts()"
      ]
    },
    {
      "cell_type": "code",
      "execution_count": null,
      "metadata": {
        "id": "3Wzr1C1T643H"
      },
      "outputs": [],
      "source": [
        "df['Ранено детей'].value_counts()"
      ]
    },
    {
      "cell_type": "markdown",
      "metadata": {
        "id": "1nGjX4rDUlio"
      },
      "source": [
        "Заменим все пропуски в данных"
      ]
    },
    {
      "cell_type": "code",
      "execution_count": null,
      "metadata": {
        "id": "CANpafPZULyh"
      },
      "outputs": [],
      "source": [
        "df = df.fillna(0)"
      ]
    },
    {
      "cell_type": "markdown",
      "metadata": {
        "id": "_UoX9CWlWPK3"
      },
      "source": [
        "Добавим пару новых столбцов"
      ]
    },
    {
      "cell_type": "code",
      "execution_count": null,
      "metadata": {
        "id": "omTjmeZiU158"
      },
      "outputs": [],
      "source": [
        "df[\"День\"] = df[\"Дата\"].str[:2]\n",
        "df[\"Месяц\"] = df[\"Дата\"].str[3:5]\n",
        "df[\"Год\"] = df[\"Дата\"].str[8:]\n",
        "df[\"Час\"] = df[\"Время\"].str[:2]"
      ]
    },
    {
      "cell_type": "code",
      "execution_count": null,
      "metadata": {
        "id": "VUgrXwNdU4YN"
      },
      "outputs": [],
      "source": [
        "df.head(3)"
      ]
    },
    {
      "cell_type": "markdown",
      "metadata": {
        "id": "l2x4YE_xWccH"
      },
      "source": [
        "# Сделаем категории **\"Вид ДТП\"** и **\"Улица\"** раноговыми "
      ]
    },
    {
      "cell_type": "code",
      "execution_count": null,
      "metadata": {
        "id": "IVqa1jPVWIVY"
      },
      "outputs": [],
      "source": [
        "df[\"Вид ДТП\"] = pd.Categorical(df[\"Вид ДТП\"])\n",
        "df[\"Вид ДТП\"].astype('category').cat.codes\n",
        "df[\"Вид ДТП\"] = df[\"Вид ДТП\"].cat.codes"
      ]
    },
    {
      "cell_type": "code",
      "execution_count": null,
      "metadata": {
        "id": "xyrcc4QOb477"
      },
      "outputs": [],
      "source": [
        "df[\"Улица\"] = pd.Categorical(df[\"Улица\"])\n",
        "df[\"Улица\"].astype('category').cat.codes\n",
        "df[\"Улица\"] = df[\"Улица\"].cat.codes"
      ]
    },
    {
      "cell_type": "code",
      "execution_count": null,
      "metadata": {
        "id": "lyAy0INgRCHL"
      },
      "outputs": [],
      "source": [
        "df[\"Место\"] = pd.Categorical(df[\"Место\"])\n",
        "df[\"Место\"].astype('category').cat.codes\n",
        "df[\"Место\"] = df[\"Место\"].cat.codes"
      ]
    },
    {
      "cell_type": "code",
      "execution_count": null,
      "metadata": {
        "id": "A1uwk2UpSKM-"
      },
      "outputs": [],
      "source": [
        "df[\"Дорога\"] = pd.Categorical(df[\"Дорога\"])\n",
        "df[\"Дорога\"].astype('category').cat.codes\n",
        "df[\"Дорога\"] = df[\"Дорога\"].cat.codes"
      ]
    },
    {
      "cell_type": "code",
      "execution_count": null,
      "metadata": {
        "id": "eMV02Xq4TB1N"
      },
      "outputs": [],
      "source": [
        "df[\"DD\"] = pd.Categorical(df[\"DD\"])\n",
        "df[\"DD\"].astype('category').cat.codes\n",
        "df[\"DD\"] = df[\"DD\"].cat.codes"
      ]
    },
    {
      "cell_type": "code",
      "execution_count": null,
      "metadata": {
        "id": "n8c_sKIMTB5I"
      },
      "outputs": [],
      "source": [
        "df[\"N\"] = pd.Categorical(df[\"N\"])\n",
        "df[\"N\"].astype('category').cat.codes\n",
        "df[\"N\"] = df[\"N\"].cat.codes"
      ]
    },
    {
      "cell_type": "code",
      "execution_count": null,
      "metadata": {
        "id": "tyTLXGVUTZ5m"
      },
      "outputs": [],
      "source": [
        "df[\"Cl\"] = pd.Categorical(df[\"Cl\"])\n",
        "df[\"Cl\"].astype('category').cat.codes\n",
        "df[\"Cl\"] = df[\"Cl\"].cat.codes"
      ]
    },
    {
      "cell_type": "code",
      "execution_count": null,
      "metadata": {
        "id": "o4V1ZxFgTZ9I"
      },
      "outputs": [],
      "source": [
        "df[\"H\"] = pd.Categorical(df[\"H\"])\n",
        "df[\"H\"].astype('category').cat.codes\n",
        "df[\"H\"] = df[\"H\"].cat.codes"
      ]
    },
    {
      "cell_type": "code",
      "execution_count": null,
      "metadata": {
        "id": "cpwYHLzSTaAI"
      },
      "outputs": [],
      "source": [
        "df[\"Nh\"] = pd.Categorical(df[\"Nh\"])\n",
        "df[\"Nh\"].astype('category').cat.codes\n",
        "df[\"Nh\"] = df[\"Nh\"].cat.codes"
      ]
    },
    {
      "cell_type": "code",
      "execution_count": null,
      "metadata": {
        "id": "u4Xcr3IGURIX"
      },
      "outputs": [],
      "source": [
        "df[\"WW\"] = pd.Categorical(df[\"WW\"])\n",
        "df[\"WW\"].astype('category').cat.codes\n",
        "df[\"WW\"] = df[\"WW\"].cat.codes"
      ]
    },
    {
      "cell_type": "code",
      "execution_count": null,
      "metadata": {
        "id": "XIeZXEm4ffe7"
      },
      "outputs": [],
      "source": [
        "df[\"Район\"] = pd.Categorical(df[\"Район\"])\n",
        "df[\"Район\"].astype('category').cat.codes\n",
        "df[\"Район\"] = df[\"Район\"].cat.codes"
      ]
    },
    {
      "cell_type": "code",
      "execution_count": null,
      "metadata": {
        "colab": {
          "base_uri": "https://localhost:8080/"
        },
        "id": "EANXMvHYT3TZ",
        "outputId": "d48a8ed6-0f5d-4d3a-c20a-f6f3f6cf7a4b"
      },
      "outputs": [
        {
          "name": "stdout",
          "output_type": "stream",
          "text": [
            "<class 'pandas.core.frame.DataFrame'>\n",
            "Int64Index: 35771 entries, 0 to 35770\n",
            "Data columns (total 38 columns):\n",
            " #   Column         Non-Null Count  Dtype  \n",
            "---  ------         --------------  -----  \n",
            " 0   id             35771 non-null  int64  \n",
            " 1   Дата           35771 non-null  object \n",
            " 2   Время          35771 non-null  object \n",
            " 3   Место          35771 non-null  int8   \n",
            " 4   Улица          35771 non-null  int16  \n",
            " 5   Дом            35771 non-null  object \n",
            " 6   Дорога         35771 non-null  int16  \n",
            " 7   Километр       35771 non-null  float64\n",
            " 8   Метр           35771 non-null  float64\n",
            " 9   Вид ДТП        35771 non-null  int8   \n",
            " 10  Погибло        35771 non-null  int64  \n",
            " 11  Погибло детей  35771 non-null  int64  \n",
            " 12  Ранено         35771 non-null  int64  \n",
            " 13  Ранено детей   35771 non-null  int64  \n",
            " 14  Район          35771 non-null  int8   \n",
            " 15  Область        35771 non-null  object \n",
            " 16  T              35771 non-null  float64\n",
            " 17  Po             35771 non-null  float64\n",
            " 18  P              35771 non-null  float64\n",
            " 19  Pa             35771 non-null  float64\n",
            " 20  U              35771 non-null  float64\n",
            " 21  DD             35771 non-null  int8   \n",
            " 22  Ff             35771 non-null  float64\n",
            " 23  ff10           35771 non-null  float64\n",
            " 24  ff3            35771 non-null  float64\n",
            " 25  N              35771 non-null  int8   \n",
            " 26  WW             35771 non-null  int8   \n",
            " 27  Cl             35771 non-null  int8   \n",
            " 28  Nh             35771 non-null  int8   \n",
            " 29  H              35771 non-null  int8   \n",
            " 30  VV             35771 non-null  float64\n",
            " 31  Td             35771 non-null  float64\n",
            " 32  latitude       35771 non-null  float64\n",
            " 33  longitude      35771 non-null  float64\n",
            " 34  День           35771 non-null  object \n",
            " 35  Месяц          35771 non-null  object \n",
            " 36  Год            35771 non-null  object \n",
            " 37  Час            35771 non-null  object \n",
            "dtypes: float64(14), int16(2), int64(5), int8(9), object(8)\n",
            "memory usage: 8.1+ MB\n"
          ]
        }
      ],
      "source": [
        "df.info()"
      ]
    },
    {
      "cell_type": "markdown",
      "metadata": {
        "id": "lLhnuX23dNFD"
      },
      "source": [
        "Пострим на распределение данных"
      ]
    },
    {
      "cell_type": "code",
      "execution_count": null,
      "metadata": {
        "colab": {
          "base_uri": "https://localhost:8080/"
        },
        "id": "9VE85xwYbNh3",
        "outputId": "197edeb1-b5d1-4a0b-bb44-77b0aa93fdce"
      },
      "outputs": [
        {
          "data": {
            "text/plain": [
              "<matplotlib.axes._subplots.AxesSubplot at 0x7f511123d090>"
            ]
          },
          "execution_count": 81,
          "metadata": {},
          "output_type": "execute_result"
        },
        {
          "data": {
            "image/png": "[encoded data removed]",
            "text/plain": [
              "<Figure size 432x288 with 1 Axes>"
            ]
          },
          "metadata": {},
          "output_type": "display_data"
        }
      ],
      "source": [
        "sns.countplot(x = \"Вид ДТП\" , data  = df)  "
      ]
    },
    {
      "cell_type": "code",
      "execution_count": null,
      "metadata": {
        "colab": {
          "base_uri": "https://localhost:8080/"
        },
        "id": "rmBwQEuxcHKb",
        "outputId": "17bdc72c-a940-4fa6-9f07-e54f2e735bc2"
      },
      "outputs": [
        {
          "data": {
            "text/plain": [
              "<seaborn.axisgrid.JointGrid at 0x7f510f467090>"
            ]
          },
          "execution_count": 82,
          "metadata": {},
          "output_type": "execute_result"
        },
        {
          "data": {
            "image/png": "[encoded data removed]",
            "text/plain": [
              "<Figure size 432x432 with 3 Axes>"
            ]
          },
          "metadata": {},
          "output_type": "display_data"
        }
      ],
      "source": [
        "sns.jointplot(x = 'Месяц', y = \"Вид ДТП\" , data = df)"
      ]
    },
    {
      "cell_type": "code",
      "execution_count": null,
      "metadata": {
        "colab": {
          "base_uri": "https://localhost:8080/"
        },
        "id": "nXnoX-xKct8o",
        "outputId": "a07e4e2e-dfd7-4b6e-dfd2-1b45d6569788"
      },
      "outputs": [
        {
          "data": {
            "image/png": "[encoded data removed]",
            "text/plain": [
              "<Figure size 720x720 with 2 Axes>"
            ]
          },
          "metadata": {},
          "output_type": "display_data"
        }
      ],
      "source": [
        "plt.rcParams['figure.figsize']=(10,10)\n",
        "\n",
        "corr = df.corr()\n",
        "g = sns.heatmap(corr, square = True, annot=True)"
      ]
    },
    {
      "cell_type": "code",
      "execution_count": null,
      "metadata": {
        "id": "WcirlI63d3XV"
      },
      "outputs": [],
      "source": [
        "df[\"День\"] = df[\"День\"].astype('int')\n",
        "df[\"Месяц\"] = df[\"Месяц\"].astype('int')\n",
        "df[\"Час\"] = df[\"Час\"].astype('int')"
      ]
    },
    {
      "cell_type": "code",
      "execution_count": null,
      "metadata": {
        "id": "nQxP_dDEa49a"
      },
      "outputs": [],
      "source": [
        "df[\"Год\"] = df[\"Год\"].astype('int')"
      ]
    },
    {
      "cell_type": "code",
      "execution_count": null,
      "metadata": {
        "colab": {
          "base_uri": "https://localhost:8080/"
        },
        "id": "OMOg1YYbbcHc",
        "outputId": "00d27b43-56ba-4b4e-e649-1d1bc9a7b96a"
      },
      "outputs": [
        {
          "name": "stdout",
          "output_type": "stream",
          "text": [
            "<class 'pandas.core.frame.DataFrame'>\n",
            "Int64Index: 35771 entries, 0 to 35770\n",
            "Data columns (total 38 columns):\n",
            " #   Column         Non-Null Count  Dtype  \n",
            "---  ------         --------------  -----  \n",
            " 0   id             35771 non-null  int64  \n",
            " 1   Дата           35771 non-null  object \n",
            " 2   Время          35771 non-null  object \n",
            " 3   Место          35771 non-null  int8   \n",
            " 4   Улица          35771 non-null  int16  \n",
            " 5   Дом            35771 non-null  object \n",
            " 6   Дорога         35771 non-null  int16  \n",
            " 7   Километр       35771 non-null  float64\n",
            " 8   Метр           35771 non-null  float64\n",
            " 9   Вид ДТП        35771 non-null  int8   \n",
            " 10  Погибло        35771 non-null  int64  \n",
            " 11  Погибло детей  35771 non-null  int64  \n",
            " 12  Ранено         35771 non-null  int64  \n",
            " 13  Ранено детей   35771 non-null  int64  \n",
            " 14  Район          35771 non-null  int8   \n",
            " 15  Область        35771 non-null  object \n",
            " 16  T              35771 non-null  float64\n",
            " 17  Po             35771 non-null  float64\n",
            " 18  P              35771 non-null  float64\n",
            " 19  Pa             35771 non-null  float64\n",
            " 20  U              35771 non-null  float64\n",
            " 21  DD             35771 non-null  int8   \n",
            " 22  Ff             35771 non-null  float64\n",
            " 23  ff10           35771 non-null  float64\n",
            " 24  ff3            35771 non-null  float64\n",
            " 25  N              35771 non-null  int8   \n",
            " 26  WW             35771 non-null  int8   \n",
            " 27  Cl             35771 non-null  int8   \n",
            " 28  Nh             35771 non-null  int8   \n",
            " 29  H              35771 non-null  int8   \n",
            " 30  VV             35771 non-null  float64\n",
            " 31  Td             35771 non-null  float64\n",
            " 32  latitude       35771 non-null  float64\n",
            " 33  longitude      35771 non-null  float64\n",
            " 34  День           35771 non-null  int64  \n",
            " 35  Месяц          35771 non-null  int64  \n",
            " 36  Год            35771 non-null  int64  \n",
            " 37  Час            35771 non-null  int64  \n",
            "dtypes: float64(14), int16(2), int64(9), int8(9), object(4)\n",
            "memory usage: 9.1+ MB\n"
          ]
        }
      ],
      "source": [
        "df.info()"
      ]
    },
    {
      "cell_type": "code",
      "execution_count": null,
      "metadata": {
        "id": "RH6o2mA0bqAM"
      },
      "outputs": [],
      "source": [
        "X = df.drop([\"Дата\", \"Время\",\"id\", \"Дом\", \"Погибло\",\t\"Погибло детей\",\t\"Ранено\",\t\"Ранено детей\", 'Область'], axis = 1)"
      ]
    },
    {
      "cell_type": "code",
      "execution_count": null,
      "metadata": {
        "colab": {
          "base_uri": "https://localhost:8080/"
        },
        "id": "KAdKF28MibOq",
        "outputId": "f98575bc-f77b-4a09-a9fd-e41875dd3906"
      },
      "outputs": [
        {
          "data": {
            "text/html": [
              "\n",
              "  <div id=\"df-cb3422f4-8304-4c2b-b55e-36a639499230\">\n",
              "    <div class=\"colab-df-container\">\n",
              "      <div>\n",
              "<style scoped>\n",
              "    .dataframe tbody tr th:only-of-type {\n",
              "        vertical-align: middle;\n",
              "    }\n",
              "\n",
              "    .dataframe tbody tr th {\n",
              "        vertical-align: top;\n",
              "    }\n",
              "\n",
              "    .dataframe thead th {\n",
              "        text-align: right;\n",
              "    }\n",
              "</style>\n",
              "<table border=\"1\" class=\"dataframe\">\n",
              "  <thead>\n",
              "    <tr style=\"text-align: right;\">\n",
              "      <th></th>\n",
              "      <th>Место</th>\n",
              "      <th>Улица</th>\n",
              "      <th>Дорога</th>\n",
              "      <th>Километр</th>\n",
              "      <th>Метр</th>\n",
              "      <th>Вид ДТП</th>\n",
              "      <th>Район</th>\n",
              "      <th>T</th>\n",
              "      <th>Po</th>\n",
              "      <th>P</th>\n",
              "      <th>Pa</th>\n",
              "      <th>U</th>\n",
              "      <th>DD</th>\n",
              "      <th>Ff</th>\n",
              "      <th>ff10</th>\n",
              "      <th>ff3</th>\n",
              "      <th>N</th>\n",
              "      <th>WW</th>\n",
              "      <th>Cl</th>\n",
              "      <th>Nh</th>\n",
              "      <th>H</th>\n",
              "      <th>VV</th>\n",
              "      <th>Td</th>\n",
              "      <th>latitude</th>\n",
              "      <th>longitude</th>\n",
              "      <th>День</th>\n",
              "      <th>Месяц</th>\n",
              "      <th>Год</th>\n",
              "      <th>Час</th>\n",
              "    </tr>\n",
              "  </thead>\n",
              "  <tbody>\n",
              "    <tr>\n",
              "      <th>0</th>\n",
              "      <td>3</td>\n",
              "      <td>60</td>\n",
              "      <td>0</td>\n",
              "      <td>0.0</td>\n",
              "      <td>0.0</td>\n",
              "      <td>16</td>\n",
              "      <td>4</td>\n",
              "      <td>22.9</td>\n",
              "      <td>744.2</td>\n",
              "      <td>757.7</td>\n",
              "      <td>-0.2</td>\n",
              "      <td>66.0</td>\n",
              "      <td>7</td>\n",
              "      <td>1.0</td>\n",
              "      <td>2.0</td>\n",
              "      <td>4.0</td>\n",
              "      <td>8</td>\n",
              "      <td>1</td>\n",
              "      <td>1</td>\n",
              "      <td>8</td>\n",
              "      <td>8</td>\n",
              "      <td>10.0</td>\n",
              "      <td>16.2</td>\n",
              "      <td>63.010797</td>\n",
              "      <td>22.930639</td>\n",
              "      <td>13</td>\n",
              "      <td>7</td>\n",
              "      <td>18</td>\n",
              "      <td>17</td>\n",
              "    </tr>\n",
              "    <tr>\n",
              "      <th>1</th>\n",
              "      <td>3</td>\n",
              "      <td>60</td>\n",
              "      <td>0</td>\n",
              "      <td>0.0</td>\n",
              "      <td>0.0</td>\n",
              "      <td>16</td>\n",
              "      <td>4</td>\n",
              "      <td>15.7</td>\n",
              "      <td>751.7</td>\n",
              "      <td>765.8</td>\n",
              "      <td>-1.2</td>\n",
              "      <td>17.0</td>\n",
              "      <td>10</td>\n",
              "      <td>4.0</td>\n",
              "      <td>10.0</td>\n",
              "      <td>10.0</td>\n",
              "      <td>10</td>\n",
              "      <td>1</td>\n",
              "      <td>0</td>\n",
              "      <td>0</td>\n",
              "      <td>0</td>\n",
              "      <td>10.0</td>\n",
              "      <td>-9.4</td>\n",
              "      <td>63.010797</td>\n",
              "      <td>22.930639</td>\n",
              "      <td>11</td>\n",
              "      <td>5</td>\n",
              "      <td>18</td>\n",
              "      <td>17</td>\n",
              "    </tr>\n",
              "    <tr>\n",
              "      <th>2</th>\n",
              "      <td>3</td>\n",
              "      <td>551</td>\n",
              "      <td>0</td>\n",
              "      <td>0.0</td>\n",
              "      <td>0.0</td>\n",
              "      <td>0</td>\n",
              "      <td>4</td>\n",
              "      <td>0.6</td>\n",
              "      <td>730.0</td>\n",
              "      <td>744.4</td>\n",
              "      <td>-0.3</td>\n",
              "      <td>71.0</td>\n",
              "      <td>4</td>\n",
              "      <td>3.0</td>\n",
              "      <td>5.0</td>\n",
              "      <td>7.0</td>\n",
              "      <td>7</td>\n",
              "      <td>1</td>\n",
              "      <td>6</td>\n",
              "      <td>4</td>\n",
              "      <td>8</td>\n",
              "      <td>10.0</td>\n",
              "      <td>-4.1</td>\n",
              "      <td>63.010797</td>\n",
              "      <td>22.930639</td>\n",
              "      <td>25</td>\n",
              "      <td>1</td>\n",
              "      <td>20</td>\n",
              "      <td>14</td>\n",
              "    </tr>\n",
              "    <tr>\n",
              "      <th>3</th>\n",
              "      <td>11</td>\n",
              "      <td>95</td>\n",
              "      <td>0</td>\n",
              "      <td>0.0</td>\n",
              "      <td>0.0</td>\n",
              "      <td>0</td>\n",
              "      <td>12</td>\n",
              "      <td>16.1</td>\n",
              "      <td>740.9</td>\n",
              "      <td>754.7</td>\n",
              "      <td>-0.2</td>\n",
              "      <td>49.0</td>\n",
              "      <td>12</td>\n",
              "      <td>2.0</td>\n",
              "      <td>4.0</td>\n",
              "      <td>6.0</td>\n",
              "      <td>8</td>\n",
              "      <td>1</td>\n",
              "      <td>4</td>\n",
              "      <td>5</td>\n",
              "      <td>8</td>\n",
              "      <td>10.0</td>\n",
              "      <td>5.4</td>\n",
              "      <td>36.304770</td>\n",
              "      <td>2.226821</td>\n",
              "      <td>11</td>\n",
              "      <td>5</td>\n",
              "      <td>20</td>\n",
              "      <td>11</td>\n",
              "    </tr>\n",
              "    <tr>\n",
              "      <th>4</th>\n",
              "      <td>12</td>\n",
              "      <td>0</td>\n",
              "      <td>102</td>\n",
              "      <td>430.0</td>\n",
              "      <td>5.0</td>\n",
              "      <td>2</td>\n",
              "      <td>13</td>\n",
              "      <td>-11.4</td>\n",
              "      <td>747.9</td>\n",
              "      <td>763.3</td>\n",
              "      <td>1.0</td>\n",
              "      <td>80.0</td>\n",
              "      <td>14</td>\n",
              "      <td>1.0</td>\n",
              "      <td>3.0</td>\n",
              "      <td>5.0</td>\n",
              "      <td>2</td>\n",
              "      <td>37</td>\n",
              "      <td>6</td>\n",
              "      <td>5</td>\n",
              "      <td>8</td>\n",
              "      <td>10.0</td>\n",
              "      <td>-14.2</td>\n",
              "      <td>46.206028</td>\n",
              "      <td>7.312438</td>\n",
              "      <td>9</td>\n",
              "      <td>1</td>\n",
              "      <td>19</td>\n",
              "      <td>1</td>\n",
              "    </tr>\n",
              "    <tr>\n",
              "      <th>...</th>\n",
              "      <td>...</td>\n",
              "      <td>...</td>\n",
              "      <td>...</td>\n",
              "      <td>...</td>\n",
              "      <td>...</td>\n",
              "      <td>...</td>\n",
              "      <td>...</td>\n",
              "      <td>...</td>\n",
              "      <td>...</td>\n",
              "      <td>...</td>\n",
              "      <td>...</td>\n",
              "      <td>...</td>\n",
              "      <td>...</td>\n",
              "      <td>...</td>\n",
              "      <td>...</td>\n",
              "      <td>...</td>\n",
              "      <td>...</td>\n",
              "      <td>...</td>\n",
              "      <td>...</td>\n",
              "      <td>...</td>\n",
              "      <td>...</td>\n",
              "      <td>...</td>\n",
              "      <td>...</td>\n",
              "      <td>...</td>\n",
              "      <td>...</td>\n",
              "      <td>...</td>\n",
              "      <td>...</td>\n",
              "      <td>...</td>\n",
              "      <td>...</td>\n",
              "    </tr>\n",
              "    <tr>\n",
              "      <th>35766</th>\n",
              "      <td>3</td>\n",
              "      <td>0</td>\n",
              "      <td>0</td>\n",
              "      <td>0.0</td>\n",
              "      <td>0.0</td>\n",
              "      <td>16</td>\n",
              "      <td>4</td>\n",
              "      <td>23.4</td>\n",
              "      <td>747.4</td>\n",
              "      <td>760.9</td>\n",
              "      <td>0.1</td>\n",
              "      <td>56.0</td>\n",
              "      <td>9</td>\n",
              "      <td>1.0</td>\n",
              "      <td>4.0</td>\n",
              "      <td>4.0</td>\n",
              "      <td>3</td>\n",
              "      <td>1</td>\n",
              "      <td>4</td>\n",
              "      <td>3</td>\n",
              "      <td>2</td>\n",
              "      <td>10.0</td>\n",
              "      <td>14.2</td>\n",
              "      <td>63.010797</td>\n",
              "      <td>22.930639</td>\n",
              "      <td>15</td>\n",
              "      <td>5</td>\n",
              "      <td>19</td>\n",
              "      <td>7</td>\n",
              "    </tr>\n",
              "    <tr>\n",
              "      <th>35767</th>\n",
              "      <td>3</td>\n",
              "      <td>390</td>\n",
              "      <td>0</td>\n",
              "      <td>0.0</td>\n",
              "      <td>0.0</td>\n",
              "      <td>16</td>\n",
              "      <td>4</td>\n",
              "      <td>7.4</td>\n",
              "      <td>745.3</td>\n",
              "      <td>759.7</td>\n",
              "      <td>3.2</td>\n",
              "      <td>93.0</td>\n",
              "      <td>11</td>\n",
              "      <td>3.0</td>\n",
              "      <td>6.0</td>\n",
              "      <td>7.0</td>\n",
              "      <td>2</td>\n",
              "      <td>4</td>\n",
              "      <td>6</td>\n",
              "      <td>7</td>\n",
              "      <td>8</td>\n",
              "      <td>10.0</td>\n",
              "      <td>6.3</td>\n",
              "      <td>63.010797</td>\n",
              "      <td>22.930639</td>\n",
              "      <td>15</td>\n",
              "      <td>10</td>\n",
              "      <td>19</td>\n",
              "      <td>8</td>\n",
              "    </tr>\n",
              "    <tr>\n",
              "      <th>35768</th>\n",
              "      <td>17</td>\n",
              "      <td>0</td>\n",
              "      <td>0</td>\n",
              "      <td>0.0</td>\n",
              "      <td>0.0</td>\n",
              "      <td>11</td>\n",
              "      <td>18</td>\n",
              "      <td>4.4</td>\n",
              "      <td>739.0</td>\n",
              "      <td>753.4</td>\n",
              "      <td>-1.2</td>\n",
              "      <td>50.0</td>\n",
              "      <td>12</td>\n",
              "      <td>2.0</td>\n",
              "      <td>6.0</td>\n",
              "      <td>7.0</td>\n",
              "      <td>8</td>\n",
              "      <td>1</td>\n",
              "      <td>7</td>\n",
              "      <td>9</td>\n",
              "      <td>6</td>\n",
              "      <td>10.0</td>\n",
              "      <td>-5.3</td>\n",
              "      <td>52.591237</td>\n",
              "      <td>13.323320</td>\n",
              "      <td>10</td>\n",
              "      <td>3</td>\n",
              "      <td>19</td>\n",
              "      <td>9</td>\n",
              "    </tr>\n",
              "    <tr>\n",
              "      <th>35769</th>\n",
              "      <td>11</td>\n",
              "      <td>0</td>\n",
              "      <td>2</td>\n",
              "      <td>544.0</td>\n",
              "      <td>870.0</td>\n",
              "      <td>0</td>\n",
              "      <td>12</td>\n",
              "      <td>16.4</td>\n",
              "      <td>750.1</td>\n",
              "      <td>764.1</td>\n",
              "      <td>-1.5</td>\n",
              "      <td>51.0</td>\n",
              "      <td>14</td>\n",
              "      <td>2.0</td>\n",
              "      <td>6.0</td>\n",
              "      <td>9.0</td>\n",
              "      <td>8</td>\n",
              "      <td>1</td>\n",
              "      <td>6</td>\n",
              "      <td>8</td>\n",
              "      <td>8</td>\n",
              "      <td>10.0</td>\n",
              "      <td>6.1</td>\n",
              "      <td>36.304770</td>\n",
              "      <td>2.226821</td>\n",
              "      <td>13</td>\n",
              "      <td>9</td>\n",
              "      <td>20</td>\n",
              "      <td>5</td>\n",
              "    </tr>\n",
              "    <tr>\n",
              "      <th>35770</th>\n",
              "      <td>15</td>\n",
              "      <td>0</td>\n",
              "      <td>168</td>\n",
              "      <td>91.0</td>\n",
              "      <td>350.0</td>\n",
              "      <td>11</td>\n",
              "      <td>16</td>\n",
              "      <td>-12.4</td>\n",
              "      <td>761.2</td>\n",
              "      <td>777.1</td>\n",
              "      <td>0.4</td>\n",
              "      <td>85.0</td>\n",
              "      <td>15</td>\n",
              "      <td>1.0</td>\n",
              "      <td>3.0</td>\n",
              "      <td>3.0</td>\n",
              "      <td>4</td>\n",
              "      <td>29</td>\n",
              "      <td>5</td>\n",
              "      <td>3</td>\n",
              "      <td>7</td>\n",
              "      <td>10.0</td>\n",
              "      <td>-14.4</td>\n",
              "      <td>46.812106</td>\n",
              "      <td>1.538205</td>\n",
              "      <td>25</td>\n",
              "      <td>1</td>\n",
              "      <td>18</td>\n",
              "      <td>18</td>\n",
              "    </tr>\n",
              "  </tbody>\n",
              "</table>\n",
              "<p>35771 rows × 29 columns</p>\n",
              "</div>\n",
              "      <button class=\"colab-df-convert\" onclick=\"convertToInteractive('df-cb3422f4-8304-4c2b-b55e-36a639499230')\"\n",
              "              title=\"Convert this dataframe to an interactive table.\"\n",
              "              style=\"display:none;\">\n",
              "        \n",
              "  <svg xmlns=\"http://www.w3.org/2000/svg\" height=\"24px\"viewBox=\"0 0 24 24\"\n",
              "       width=\"24px\">\n",
              "    <path d=\"M0 0h24v24H0V0z\" fill=\"none\"/>\n",
              "    <path d=\"M18.56 5.44l.94 2.06.94-2.06 2.06-.94-2.06-.94-.94-2.06-.94 2.06-2.06.94zm-11 1L8.5 8.5l.94-2.06 2.06-.94-2.06-.94L8.5 2.5l-.94 2.06-2.06.94zm10 10l.94 2.06.94-2.06 2.06-.94-2.06-.94-.94-2.06-.94 2.06-2.06.94z\"/><path d=\"M17.41 7.96l-1.37-1.37c-.4-.4-.92-.59-1.43-.59-.52 0-1.04.2-1.43.59L10.3 9.45l-7.72 7.72c-.78.78-.78 2.05 0 2.83L4 21.41c.39.39.9.59 1.41.59.51 0 1.02-.2 1.41-.59l7.78-7.78 2.81-2.81c.8-.78.8-2.07 0-2.86zM5.41 20L4 18.59l7.72-7.72 1.47 1.35L5.41 20z\"/>\n",
              "  </svg>\n",
              "      </button>\n",
              "      \n",
              "  <style>\n",
              "    .colab-df-container {\n",
              "      display:flex;\n",
              "      flex-wrap:wrap;\n",
              "      gap: 12px;\n",
              "    }\n",
              "\n",
              "    .colab-df-convert {\n",
              "      background-color: #E8F0FE;\n",
              "      border: none;\n",
              "      border-radius: 50%;\n",
              "      cursor: pointer;\n",
              "      display: none;\n",
              "      fill: #1967D2;\n",
              "      height: 32px;\n",
              "      padding: 0 0 0 0;\n",
              "      width: 32px;\n",
              "    }\n",
              "\n",
              "    .colab-df-convert:hover {\n",
              "      background-color: #E2EBFA;\n",
              "      box-shadow: 0px 1px 2px rgba(60, 64, 67, 0.3), 0px 1px 3px 1px rgba(60, 64, 67, 0.15);\n",
              "      fill: #174EA6;\n",
              "    }\n",
              "\n",
              "    [theme=dark] .colab-df-convert {\n",
              "      background-color: #3B4455;\n",
              "      fill: #D2E3FC;\n",
              "    }\n",
              "\n",
              "    [theme=dark] .colab-df-convert:hover {\n",
              "      background-color: #434B5C;\n",
              "      box-shadow: 0px 1px 3px 1px rgba(0, 0, 0, 0.15);\n",
              "      filter: drop-shadow(0px 1px 2px rgba(0, 0, 0, 0.3));\n",
              "      fill: #FFFFFF;\n",
              "    }\n",
              "  </style>\n",
              "\n",
              "      <script>\n",
              "        const buttonEl =\n",
              "          document.querySelector('#df-cb3422f4-8304-4c2b-b55e-36a639499230 button.colab-df-convert');\n",
              "        buttonEl.style.display =\n",
              "          google.colab.kernel.accessAllowed ? 'block' : 'none';\n",
              "\n",
              "        async function convertToInteractive(key) {\n",
              "          const element = document.querySelector('#df-cb3422f4-8304-4c2b-b55e-36a639499230');\n",
              "          const dataTable =\n",
              "            await google.colab.kernel.invokeFunction('convertToInteractive',\n",
              "                                                     [key], {});\n",
              "          if (!dataTable) return;\n",
              "\n",
              "          const docLinkHtml = 'Like what you see? Visit the ' +\n",
              "            '<a target=\"_blank\" href=https://colab.research.google.com/notebooks/data_table.ipynb>data table notebook</a>'\n",
              "            + ' to learn more about interactive tables.';\n",
              "          element.innerHTML = '';\n",
              "          dataTable['output_type'] = 'display_data';\n",
              "          await google.colab.output.renderOutput(dataTable, element);\n",
              "          const docLink = document.createElement('div');\n",
              "          docLink.innerHTML = docLinkHtml;\n",
              "          element.appendChild(docLink);\n",
              "        }\n",
              "      </script>\n",
              "    </div>\n",
              "  </div>\n",
              "  "
            ],
            "text/plain": [
              "       Место  Улица  Дорога  Километр   Метр  Вид ДТП  Район     T     Po  \\\n",
              "0          3     60       0       0.0    0.0       16      4  22.9  744.2   \n",
              "1          3     60       0       0.0    0.0       16      4  15.7  751.7   \n",
              "2          3    551       0       0.0    0.0        0      4   0.6  730.0   \n",
              "3         11     95       0       0.0    0.0        0     12  16.1  740.9   \n",
              "4         12      0     102     430.0    5.0        2     13 -11.4  747.9   \n",
              "...      ...    ...     ...       ...    ...      ...    ...   ...    ...   \n",
              "35766      3      0       0       0.0    0.0       16      4  23.4  747.4   \n",
              "35767      3    390       0       0.0    0.0       16      4   7.4  745.3   \n",
              "35768     17      0       0       0.0    0.0       11     18   4.4  739.0   \n",
              "35769     11      0       2     544.0  870.0        0     12  16.4  750.1   \n",
              "35770     15      0     168      91.0  350.0       11     16 -12.4  761.2   \n",
              "\n",
              "           P   Pa     U  DD   Ff  ff10   ff3   N  WW  Cl  Nh  H    VV    Td  \\\n",
              "0      757.7 -0.2  66.0   7  1.0   2.0   4.0   8   1   1   8  8  10.0  16.2   \n",
              "1      765.8 -1.2  17.0  10  4.0  10.0  10.0  10   1   0   0  0  10.0  -9.4   \n",
              "2      744.4 -0.3  71.0   4  3.0   5.0   7.0   7   1   6   4  8  10.0  -4.1   \n",
              "3      754.7 -0.2  49.0  12  2.0   4.0   6.0   8   1   4   5  8  10.0   5.4   \n",
              "4      763.3  1.0  80.0  14  1.0   3.0   5.0   2  37   6   5  8  10.0 -14.2   \n",
              "...      ...  ...   ...  ..  ...   ...   ...  ..  ..  ..  .. ..   ...   ...   \n",
              "35766  760.9  0.1  56.0   9  1.0   4.0   4.0   3   1   4   3  2  10.0  14.2   \n",
              "35767  759.7  3.2  93.0  11  3.0   6.0   7.0   2   4   6   7  8  10.0   6.3   \n",
              "35768  753.4 -1.2  50.0  12  2.0   6.0   7.0   8   1   7   9  6  10.0  -5.3   \n",
              "35769  764.1 -1.5  51.0  14  2.0   6.0   9.0   8   1   6   8  8  10.0   6.1   \n",
              "35770  777.1  0.4  85.0  15  1.0   3.0   3.0   4  29   5   3  7  10.0 -14.4   \n",
              "\n",
              "        latitude  longitude  День  Месяц  Год  Час  \n",
              "0      63.010797  22.930639    13      7   18   17  \n",
              "1      63.010797  22.930639    11      5   18   17  \n",
              "2      63.010797  22.930639    25      1   20   14  \n",
              "3      36.304770   2.226821    11      5   20   11  \n",
              "4      46.206028   7.312438     9      1   19    1  \n",
              "...          ...        ...   ...    ...  ...  ...  \n",
              "35766  63.010797  22.930639    15      5   19    7  \n",
              "35767  63.010797  22.930639    15     10   19    8  \n",
              "35768  52.591237  13.323320    10      3   19    9  \n",
              "35769  36.304770   2.226821    13      9   20    5  \n",
              "35770  46.812106   1.538205    25      1   18   18  \n",
              "\n",
              "[35771 rows x 29 columns]"
            ]
          },
          "execution_count": 88,
          "metadata": {},
          "output_type": "execute_result"
        }
      ],
      "source": [
        "X"
      ]
    },
    {
      "cell_type": "code",
      "execution_count": null,
      "metadata": {
        "colab": {
          "base_uri": "https://localhost:8080/"
        },
        "id": "SC5y60i7dFm2",
        "outputId": "ed7964f3-08a3-473a-a473-54895354cf2e"
      },
      "outputs": [
        {
          "name": "stdout",
          "output_type": "stream",
          "text": [
            "<class 'pandas.core.frame.DataFrame'>\n",
            "Int64Index: 35771 entries, 0 to 35770\n",
            "Data columns (total 29 columns):\n",
            " #   Column     Non-Null Count  Dtype  \n",
            "---  ------     --------------  -----  \n",
            " 0   Место      35771 non-null  int8   \n",
            " 1   Улица      35771 non-null  int16  \n",
            " 2   Дорога     35771 non-null  int16  \n",
            " 3   Километр   35771 non-null  float64\n",
            " 4   Метр       35771 non-null  float64\n",
            " 5   Вид ДТП    35771 non-null  int8   \n",
            " 6   Район      35771 non-null  int8   \n",
            " 7   T          35771 non-null  float64\n",
            " 8   Po         35771 non-null  float64\n",
            " 9   P          35771 non-null  float64\n",
            " 10  Pa         35771 non-null  float64\n",
            " 11  U          35771 non-null  float64\n",
            " 12  DD         35771 non-null  int8   \n",
            " 13  Ff         35771 non-null  float64\n",
            " 14  ff10       35771 non-null  float64\n",
            " 15  ff3        35771 non-null  float64\n",
            " 16  N          35771 non-null  int8   \n",
            " 17  WW         35771 non-null  int8   \n",
            " 18  Cl         35771 non-null  int8   \n",
            " 19  Nh         35771 non-null  int8   \n",
            " 20  H          35771 non-null  int8   \n",
            " 21  VV         35771 non-null  float64\n",
            " 22  Td         35771 non-null  float64\n",
            " 23  latitude   35771 non-null  float64\n",
            " 24  longitude  35771 non-null  float64\n",
            " 25  День       35771 non-null  int64  \n",
            " 26  Месяц      35771 non-null  int64  \n",
            " 27  Год        35771 non-null  int64  \n",
            " 28  Час        35771 non-null  int64  \n",
            "dtypes: float64(14), int16(2), int64(4), int8(9)\n",
            "memory usage: 6.6 MB\n"
          ]
        }
      ],
      "source": [
        "X.info()"
      ]
    },
    {
      "cell_type": "markdown",
      "metadata": {
        "id": "Zx2yN80GN6nu"
      },
      "source": [
        "# model 1"
      ]
    },
    {
      "cell_type": "code",
      "execution_count": null,
      "metadata": {
        "id": "1-u0Kry9VTT_"
      },
      "outputs": [],
      "source": [
        "y = df[[\"Погибло\"]]"
      ]
    },
    {
      "cell_type": "code",
      "execution_count": null,
      "metadata": {
        "id": "zguCQBpNinIU"
      },
      "outputs": [],
      "source": [
        "xtrain, xtest, ytrain, ytest = train_test_split(X, y, test_size=0.2, random_state=42, stratify=y)"
      ]
    },
    {
      "cell_type": "code",
      "execution_count": null,
      "metadata": {
        "id": "LTwF0y_5CJHh"
      },
      "outputs": [],
      "source": [
        "model = xgb.XGBClassifier(objective = 'binary:logistic')\n",
        "param_dist = {'n_estimators': stats.randint(150, 1000),\n",
        "              'learning_rate': stats.uniform(0.01, 0.59),\n",
        "              'subsample': stats.uniform(0.3, 0.6),\n",
        "              'max_depth': [3, 4, 5, 6, 7, 8, 9],\n",
        "              'colsample_bytree': stats.uniform(0.5, 0.4),\n",
        "              'min_child_weight': [1, 2, 3, 4]\n",
        "             }\n",
        "\n",
        "kfold_5 = KFold(n_splits=10, random_state=1, shuffle=True)\n",
        "\n",
        "model = RandomizedSearchCV(model, \n",
        "                         param_distributions = param_dist,\n",
        "                         cv = kfold_5,  \n",
        "                         n_iter = 7,  \n",
        "                         scoring = 'roc_auc', \n",
        "                         error_score = 0, \n",
        "                         verbose = 3, \n",
        "                         n_jobs = -1)"
      ]
    },
    {
      "cell_type": "code",
      "execution_count": null,
      "metadata": {
        "colab": {
          "background_save": true,
          "base_uri": "https://localhost:8080/"
        },
        "id": "bIAmivJzEVL8",
        "outputId": "7dfaafa0-642a-43c0-8bed-a5a29bcd2562"
      },
      "outputs": [
        {
          "name": "stdout",
          "output_type": "stream",
          "text": [
            "Fitting 10 folds for each of 7 candidates, totalling 70 fits\n"
          ]
        },
        {
          "data": {
            "text/plain": [
              "RandomizedSearchCV(cv=KFold(n_splits=10, random_state=1, shuffle=True),\n",
              "                   error_score=0, estimator=XGBClassifier(), n_iter=7,\n",
              "                   n_jobs=-1,\n",
              "                   param_distributions={'colsample_bytree': <scipy.stats._distn_infrastructure.rv_frozen object at 0x7faeaefae890>,\n",
              "                                        'learning_rate': <scipy.stats._distn_infrastructure.rv_frozen object at 0x7faeaefae190>,\n",
              "                                        'max_depth': [3, 4, 5, 6, 7, 8, 9],\n",
              "                                        'min_child_weight': [1, 2, 3, 4],\n",
              "                                        'n_estimators': <scipy.stats._distn_infrastructure.rv_frozen object at 0x7faeaeebcb90>,\n",
              "                                        'subsample': <scipy.stats._distn_infrastructure.rv_frozen object at 0x7faeaefae2d0>},\n",
              "                   scoring='roc_auc', verbose=3)"
            ]
          },
          "execution_count": 93,
          "metadata": {},
          "output_type": "execute_result"
        }
      ],
      "source": [
        "model.fit(xtrain, ytrain.values.ravel())"
      ]
    },
    {
      "cell_type": "markdown",
      "metadata": {
        "id": "N-syHMYn1k64"
      },
      "source": [
        "# Test"
      ]
    },
    {
      "cell_type": "code",
      "execution_count": null,
      "metadata": {
        "colab": {
          "background_save": true
        },
        "id": "DCQkrePP1k6h"
      },
      "outputs": [],
      "source": [
        "test = pd.read_csv(\"/content/drive/MyDrive/Дагестан ДТП ИИ/test_dataset_test.csv\")"
      ]
    },
    {
      "cell_type": "code",
      "execution_count": null,
      "metadata": {
        "colab": {
          "background_save": true
        },
        "id": "a26hKEdZLiXW"
      },
      "outputs": [],
      "source": [
        "test = test.set_index('id')"
      ]
    },
    {
      "cell_type": "code",
      "execution_count": null,
      "metadata": {
        "colab": {
          "background_save": true
        },
        "id": "ckrBcbEv1k65",
        "outputId": "855f0627-f0f7-4a60-d5bb-9a7ec376a93b"
      },
      "outputs": [
        {
          "data": {
            "text/html": [
              "\n",
              "  <div id=\"df-42e051ab-aaf8-4823-8331-4bd51202b5b0\">\n",
              "    <div class=\"colab-df-container\">\n",
              "      <div>\n",
              "<style scoped>\n",
              "    .dataframe tbody tr th:only-of-type {\n",
              "        vertical-align: middle;\n",
              "    }\n",
              "\n",
              "    .dataframe tbody tr th {\n",
              "        vertical-align: top;\n",
              "    }\n",
              "\n",
              "    .dataframe thead th {\n",
              "        text-align: right;\n",
              "    }\n",
              "</style>\n",
              "<table border=\"1\" class=\"dataframe\">\n",
              "  <thead>\n",
              "    <tr style=\"text-align: right;\">\n",
              "      <th></th>\n",
              "      <th>Дата</th>\n",
              "      <th>Время</th>\n",
              "      <th>Место</th>\n",
              "      <th>Улица</th>\n",
              "      <th>Дом</th>\n",
              "      <th>Дорога</th>\n",
              "      <th>Километр</th>\n",
              "      <th>Метр</th>\n",
              "      <th>Вид ДТП</th>\n",
              "    </tr>\n",
              "    <tr>\n",
              "      <th>id</th>\n",
              "      <th></th>\n",
              "      <th></th>\n",
              "      <th></th>\n",
              "      <th></th>\n",
              "      <th></th>\n",
              "      <th></th>\n",
              "      <th></th>\n",
              "      <th></th>\n",
              "      <th></th>\n",
              "    </tr>\n",
              "  </thead>\n",
              "  <tbody>\n",
              "    <tr>\n",
              "      <th>490078911</th>\n",
              "      <td>31.01.2018</td>\n",
              "      <td>19:15:00</td>\n",
              "      <td>Новгородская область, Великий Новгород</td>\n",
              "      <td>Нехинская ул</td>\n",
              "      <td>59</td>\n",
              "      <td>NaN</td>\n",
              "      <td>NaN</td>\n",
              "      <td>NaN</td>\n",
              "      <td>Столкновение</td>\n",
              "    </tr>\n",
              "    <tr>\n",
              "      <th>490055448</th>\n",
              "      <td>19.06.2019</td>\n",
              "      <td>10:15:00</td>\n",
              "      <td>Новгородская область, Великий Новгород</td>\n",
              "      <td>Большая Московская ул</td>\n",
              "      <td>38</td>\n",
              "      <td>NaN</td>\n",
              "      <td>NaN</td>\n",
              "      <td>NaN</td>\n",
              "      <td>Столкновение</td>\n",
              "    </tr>\n",
              "    <tr>\n",
              "      <th>490054440</th>\n",
              "      <td>28.06.2019</td>\n",
              "      <td>03:00:00</td>\n",
              "      <td>Новгородская область, Великий Новгород</td>\n",
              "      <td>NaN</td>\n",
              "      <td>NaN</td>\n",
              "      <td>NaN</td>\n",
              "      <td>NaN</td>\n",
              "      <td>NaN</td>\n",
              "      <td>Наезд на препятствие</td>\n",
              "    </tr>\n",
              "  </tbody>\n",
              "</table>\n",
              "</div>\n",
              "      <button class=\"colab-df-convert\" onclick=\"convertToInteractive('df-42e051ab-aaf8-4823-8331-4bd51202b5b0')\"\n",
              "              title=\"Convert this dataframe to an interactive table.\"\n",
              "              style=\"display:none;\">\n",
              "        \n",
              "  <svg xmlns=\"http://www.w3.org/2000/svg\" height=\"24px\"viewBox=\"0 0 24 24\"\n",
              "       width=\"24px\">\n",
              "    <path d=\"M0 0h24v24H0V0z\" fill=\"none\"/>\n",
              "    <path d=\"M18.56 5.44l.94 2.06.94-2.06 2.06-.94-2.06-.94-.94-2.06-.94 2.06-2.06.94zm-11 1L8.5 8.5l.94-2.06 2.06-.94-2.06-.94L8.5 2.5l-.94 2.06-2.06.94zm10 10l.94 2.06.94-2.06 2.06-.94-2.06-.94-.94-2.06-.94 2.06-2.06.94z\"/><path d=\"M17.41 7.96l-1.37-1.37c-.4-.4-.92-.59-1.43-.59-.52 0-1.04.2-1.43.59L10.3 9.45l-7.72 7.72c-.78.78-.78 2.05 0 2.83L4 21.41c.39.39.9.59 1.41.59.51 0 1.02-.2 1.41-.59l7.78-7.78 2.81-2.81c.8-.78.8-2.07 0-2.86zM5.41 20L4 18.59l7.72-7.72 1.47 1.35L5.41 20z\"/>\n",
              "  </svg>\n",
              "      </button>\n",
              "      \n",
              "  <style>\n",
              "    .colab-df-container {\n",
              "      display:flex;\n",
              "      flex-wrap:wrap;\n",
              "      gap: 12px;\n",
              "    }\n",
              "\n",
              "    .colab-df-convert {\n",
              "      background-color: #E8F0FE;\n",
              "      border: none;\n",
              "      border-radius: 50%;\n",
              "      cursor: pointer;\n",
              "      display: none;\n",
              "      fill: #1967D2;\n",
              "      height: 32px;\n",
              "      padding: 0 0 0 0;\n",
              "      width: 32px;\n",
              "    }\n",
              "\n",
              "    .colab-df-convert:hover {\n",
              "      background-color: #E2EBFA;\n",
              "      box-shadow: 0px 1px 2px rgba(60, 64, 67, 0.3), 0px 1px 3px 1px rgba(60, 64, 67, 0.15);\n",
              "      fill: #174EA6;\n",
              "    }\n",
              "\n",
              "    [theme=dark] .colab-df-convert {\n",
              "      background-color: #3B4455;\n",
              "      fill: #D2E3FC;\n",
              "    }\n",
              "\n",
              "    [theme=dark] .colab-df-convert:hover {\n",
              "      background-color: #434B5C;\n",
              "      box-shadow: 0px 1px 3px 1px rgba(0, 0, 0, 0.15);\n",
              "      filter: drop-shadow(0px 1px 2px rgba(0, 0, 0, 0.3));\n",
              "      fill: #FFFFFF;\n",
              "    }\n",
              "  </style>\n",
              "\n",
              "      <script>\n",
              "        const buttonEl =\n",
              "          document.querySelector('#df-42e051ab-aaf8-4823-8331-4bd51202b5b0 button.colab-df-convert');\n",
              "        buttonEl.style.display =\n",
              "          google.colab.kernel.accessAllowed ? 'block' : 'none';\n",
              "\n",
              "        async function convertToInteractive(key) {\n",
              "          const element = document.querySelector('#df-42e051ab-aaf8-4823-8331-4bd51202b5b0');\n",
              "          const dataTable =\n",
              "            await google.colab.kernel.invokeFunction('convertToInteractive',\n",
              "                                                     [key], {});\n",
              "          if (!dataTable) return;\n",
              "\n",
              "          const docLinkHtml = 'Like what you see? Visit the ' +\n",
              "            '<a target=\"_blank\" href=https://colab.research.google.com/notebooks/data_table.ipynb>data table notebook</a>'\n",
              "            + ' to learn more about interactive tables.';\n",
              "          element.innerHTML = '';\n",
              "          dataTable['output_type'] = 'display_data';\n",
              "          await google.colab.output.renderOutput(dataTable, element);\n",
              "          const docLink = document.createElement('div');\n",
              "          docLink.innerHTML = docLinkHtml;\n",
              "          element.appendChild(docLink);\n",
              "        }\n",
              "      </script>\n",
              "    </div>\n",
              "  </div>\n",
              "  "
            ],
            "text/plain": [
              "                 Дата     Время                                   Место  \\\n",
              "id                                                                        \n",
              "490078911  31.01.2018  19:15:00  Новгородская область, Великий Новгород   \n",
              "490055448  19.06.2019  10:15:00  Новгородская область, Великий Новгород   \n",
              "490054440  28.06.2019  03:00:00  Новгородская область, Великий Новгород   \n",
              "\n",
              "                           Улица  Дом Дорога  Километр  Метр  \\\n",
              "id                                                             \n",
              "490078911           Нехинская ул   59    NaN       NaN   NaN   \n",
              "490055448  Большая Московская ул   38    NaN       NaN   NaN   \n",
              "490054440                    NaN  NaN    NaN       NaN   NaN   \n",
              "\n",
              "                        Вид ДТП  \n",
              "id                               \n",
              "490078911          Столкновение  \n",
              "490055448          Столкновение  \n",
              "490054440  Наезд на препятствие  "
            ]
          },
          "execution_count": 96,
          "metadata": {},
          "output_type": "execute_result"
        }
      ],
      "source": [
        "test.head(3)"
      ]
    },
    {
      "cell_type": "code",
      "execution_count": null,
      "metadata": {
        "colab": {
          "background_save": true
        },
        "id": "Z36B3sG21k65",
        "outputId": "9e228fb8-4a0d-4e1d-f303-89c44b7f1a75"
      },
      "outputs": [
        {
          "data": {
            "text/plain": [
              "(6788, 9)"
            ]
          },
          "execution_count": 97,
          "metadata": {},
          "output_type": "execute_result"
        }
      ],
      "source": [
        "test.shape"
      ]
    },
    {
      "cell_type": "code",
      "execution_count": null,
      "metadata": {
        "colab": {
          "background_save": true
        },
        "id": "LkIQ7Dot1k65",
        "outputId": "b66366a4-e82c-478d-901b-453fcfb15fdf"
      },
      "outputs": [
        {
          "name": "stdout",
          "output_type": "stream",
          "text": [
            "<class 'pandas.core.frame.DataFrame'>\n",
            "Int64Index: 6788 entries, 490078911 to 490109680\n",
            "Data columns (total 9 columns):\n",
            " #   Column    Non-Null Count  Dtype  \n",
            "---  ------    --------------  -----  \n",
            " 0   Дата      6788 non-null   object \n",
            " 1   Время     6788 non-null   object \n",
            " 2   Место     6788 non-null   object \n",
            " 3   Улица     3852 non-null   object \n",
            " 4   Дом       3881 non-null   object \n",
            " 5   Дорога    1905 non-null   object \n",
            " 6   Километр  1904 non-null   float64\n",
            " 7   Метр      1904 non-null   float64\n",
            " 8   Вид ДТП   4988 non-null   object \n",
            "dtypes: float64(2), object(7)\n",
            "memory usage: 530.3+ KB\n"
          ]
        }
      ],
      "source": [
        "test.info()"
      ]
    },
    {
      "cell_type": "code",
      "execution_count": null,
      "metadata": {
        "colab": {
          "background_save": true
        },
        "id": "JThz52k4exDn"
      },
      "outputs": [],
      "source": [
        "test['Район'] = test['Место'].str.split(',').str[1]\n",
        "test['Область'] = test['Место'].str.split(',').str[0]\n",
        "test['Место']=test.apply(lambda x:'%s,%s' % (x['Область'],x['Район']),axis=1)"
      ]
    },
    {
      "cell_type": "code",
      "execution_count": null,
      "metadata": {
        "colab": {
          "background_save": true
        },
        "id": "3OMZ_GHDU9eZ"
      },
      "outputs": [],
      "source": [
        "test = pd.merge(test, w, how='left', on='Дата')"
      ]
    },
    {
      "cell_type": "code",
      "execution_count": null,
      "metadata": {
        "colab": {
          "background_save": true
        },
        "id": "LY4QqGySeeri",
        "outputId": "655e2d90-9e8e-4960-edf6-9f7afb023e73"
      },
      "outputs": [
        {
          "data": {
            "text/html": [
              "\n",
              "  <div id=\"df-8fb72b9e-fde3-4665-a923-100bc8859966\">\n",
              "    <div class=\"colab-df-container\">\n",
              "      <div>\n",
              "<style scoped>\n",
              "    .dataframe tbody tr th:only-of-type {\n",
              "        vertical-align: middle;\n",
              "    }\n",
              "\n",
              "    .dataframe tbody tr th {\n",
              "        vertical-align: top;\n",
              "    }\n",
              "\n",
              "    .dataframe thead th {\n",
              "        text-align: right;\n",
              "    }\n",
              "</style>\n",
              "<table border=\"1\" class=\"dataframe\">\n",
              "  <thead>\n",
              "    <tr style=\"text-align: right;\">\n",
              "      <th></th>\n",
              "      <th>Дата</th>\n",
              "      <th>Время</th>\n",
              "      <th>Место</th>\n",
              "      <th>Улица</th>\n",
              "      <th>Дом</th>\n",
              "      <th>Дорога</th>\n",
              "      <th>Километр</th>\n",
              "      <th>Метр</th>\n",
              "      <th>Вид ДТП</th>\n",
              "      <th>Район</th>\n",
              "      <th>Область</th>\n",
              "      <th>T</th>\n",
              "      <th>Po</th>\n",
              "      <th>P</th>\n",
              "      <th>Pa</th>\n",
              "      <th>U</th>\n",
              "      <th>DD</th>\n",
              "      <th>Ff</th>\n",
              "      <th>ff10</th>\n",
              "      <th>ff3</th>\n",
              "      <th>N</th>\n",
              "      <th>WW</th>\n",
              "      <th>Cl</th>\n",
              "      <th>Nh</th>\n",
              "      <th>H</th>\n",
              "      <th>VV</th>\n",
              "      <th>Td</th>\n",
              "      <th>latitude</th>\n",
              "      <th>longitude</th>\n",
              "    </tr>\n",
              "  </thead>\n",
              "  <tbody>\n",
              "    <tr>\n",
              "      <th>0</th>\n",
              "      <td>31.01.2018</td>\n",
              "      <td>19:15:00</td>\n",
              "      <td>Новгородская область, Великий Новгород</td>\n",
              "      <td>Нехинская ул</td>\n",
              "      <td>59</td>\n",
              "      <td>NaN</td>\n",
              "      <td>NaN</td>\n",
              "      <td>NaN</td>\n",
              "      <td>Столкновение</td>\n",
              "      <td>Великий Новгород</td>\n",
              "      <td>Новгородская область</td>\n",
              "      <td>-9.2</td>\n",
              "      <td>736.8</td>\n",
              "      <td>751.9</td>\n",
              "      <td>1.0</td>\n",
              "      <td>82.0</td>\n",
              "      <td>Ветер, дующий с востоко-юго-востока</td>\n",
              "      <td>3.0</td>\n",
              "      <td>8.0</td>\n",
              "      <td>10.0</td>\n",
              "      <td>100%.</td>\n",
              "      <td>Снег непрерывный слабый в срок наблюдения.</td>\n",
              "      <td>Слоистые разорванные или кучевые разорванные о...</td>\n",
              "      <td>100%.</td>\n",
              "      <td>300-600</td>\n",
              "      <td>4.0</td>\n",
              "      <td>-11.7</td>\n",
              "      <td>63.010797</td>\n",
              "      <td>22.930639</td>\n",
              "    </tr>\n",
              "    <tr>\n",
              "      <th>1</th>\n",
              "      <td>19.06.2019</td>\n",
              "      <td>10:15:00</td>\n",
              "      <td>Новгородская область, Великий Новгород</td>\n",
              "      <td>Большая Московская ул</td>\n",
              "      <td>38</td>\n",
              "      <td>NaN</td>\n",
              "      <td>NaN</td>\n",
              "      <td>NaN</td>\n",
              "      <td>Столкновение</td>\n",
              "      <td>Великий Новгород</td>\n",
              "      <td>Новгородская область</td>\n",
              "      <td>24.0</td>\n",
              "      <td>745.6</td>\n",
              "      <td>759.1</td>\n",
              "      <td>0.2</td>\n",
              "      <td>48.0</td>\n",
              "      <td>Ветер, дующий с северо-запада</td>\n",
              "      <td>2.0</td>\n",
              "      <td>6.0</td>\n",
              "      <td>7.0</td>\n",
              "      <td>40%.</td>\n",
              "      <td></td>\n",
              "      <td>Кучевые средние или мощные или вместе с кучевы...</td>\n",
              "      <td>40%.</td>\n",
              "      <td>1000-1500</td>\n",
              "      <td>10.0</td>\n",
              "      <td>12.3</td>\n",
              "      <td>63.010797</td>\n",
              "      <td>22.930639</td>\n",
              "    </tr>\n",
              "    <tr>\n",
              "      <th>2</th>\n",
              "      <td>28.06.2019</td>\n",
              "      <td>03:00:00</td>\n",
              "      <td>Новгородская область, Великий Новгород</td>\n",
              "      <td>NaN</td>\n",
              "      <td>NaN</td>\n",
              "      <td>NaN</td>\n",
              "      <td>NaN</td>\n",
              "      <td>NaN</td>\n",
              "      <td>Наезд на препятствие</td>\n",
              "      <td>Великий Новгород</td>\n",
              "      <td>Новгородская область</td>\n",
              "      <td>14.2</td>\n",
              "      <td>730.3</td>\n",
              "      <td>743.8</td>\n",
              "      <td>-0.9</td>\n",
              "      <td>97.0</td>\n",
              "      <td>Ветер, дующий с востока</td>\n",
              "      <td>2.0</td>\n",
              "      <td>NaN</td>\n",
              "      <td>8.0</td>\n",
              "      <td>100%.</td>\n",
              "      <td>Дождь незамерзающий непрерывный слабый в срок ...</td>\n",
              "      <td>Слоистые разорванные или кучевые разорванные о...</td>\n",
              "      <td>100%.</td>\n",
              "      <td>200-300</td>\n",
              "      <td>3.0</td>\n",
              "      <td>13.8</td>\n",
              "      <td>63.010797</td>\n",
              "      <td>22.930639</td>\n",
              "    </tr>\n",
              "  </tbody>\n",
              "</table>\n",
              "</div>\n",
              "      <button class=\"colab-df-convert\" onclick=\"convertToInteractive('df-8fb72b9e-fde3-4665-a923-100bc8859966')\"\n",
              "              title=\"Convert this dataframe to an interactive table.\"\n",
              "              style=\"display:none;\">\n",
              "        \n",
              "  <svg xmlns=\"http://www.w3.org/2000/svg\" height=\"24px\"viewBox=\"0 0 24 24\"\n",
              "       width=\"24px\">\n",
              "    <path d=\"M0 0h24v24H0V0z\" fill=\"none\"/>\n",
              "    <path d=\"M18.56 5.44l.94 2.06.94-2.06 2.06-.94-2.06-.94-.94-2.06-.94 2.06-2.06.94zm-11 1L8.5 8.5l.94-2.06 2.06-.94-2.06-.94L8.5 2.5l-.94 2.06-2.06.94zm10 10l.94 2.06.94-2.06 2.06-.94-2.06-.94-.94-2.06-.94 2.06-2.06.94z\"/><path d=\"M17.41 7.96l-1.37-1.37c-.4-.4-.92-.59-1.43-.59-.52 0-1.04.2-1.43.59L10.3 9.45l-7.72 7.72c-.78.78-.78 2.05 0 2.83L4 21.41c.39.39.9.59 1.41.59.51 0 1.02-.2 1.41-.59l7.78-7.78 2.81-2.81c.8-.78.8-2.07 0-2.86zM5.41 20L4 18.59l7.72-7.72 1.47 1.35L5.41 20z\"/>\n",
              "  </svg>\n",
              "      </button>\n",
              "      \n",
              "  <style>\n",
              "    .colab-df-container {\n",
              "      display:flex;\n",
              "      flex-wrap:wrap;\n",
              "      gap: 12px;\n",
              "    }\n",
              "\n",
              "    .colab-df-convert {\n",
              "      background-color: #E8F0FE;\n",
              "      border: none;\n",
              "      border-radius: 50%;\n",
              "      cursor: pointer;\n",
              "      display: none;\n",
              "      fill: #1967D2;\n",
              "      height: 32px;\n",
              "      padding: 0 0 0 0;\n",
              "      width: 32px;\n",
              "    }\n",
              "\n",
              "    .colab-df-convert:hover {\n",
              "      background-color: #E2EBFA;\n",
              "      box-shadow: 0px 1px 2px rgba(60, 64, 67, 0.3), 0px 1px 3px 1px rgba(60, 64, 67, 0.15);\n",
              "      fill: #174EA6;\n",
              "    }\n",
              "\n",
              "    [theme=dark] .colab-df-convert {\n",
              "      background-color: #3B4455;\n",
              "      fill: #D2E3FC;\n",
              "    }\n",
              "\n",
              "    [theme=dark] .colab-df-convert:hover {\n",
              "      background-color: #434B5C;\n",
              "      box-shadow: 0px 1px 3px 1px rgba(0, 0, 0, 0.15);\n",
              "      filter: drop-shadow(0px 1px 2px rgba(0, 0, 0, 0.3));\n",
              "      fill: #FFFFFF;\n",
              "    }\n",
              "  </style>\n",
              "\n",
              "      <script>\n",
              "        const buttonEl =\n",
              "          document.querySelector('#df-8fb72b9e-fde3-4665-a923-100bc8859966 button.colab-df-convert');\n",
              "        buttonEl.style.display =\n",
              "          google.colab.kernel.accessAllowed ? 'block' : 'none';\n",
              "\n",
              "        async function convertToInteractive(key) {\n",
              "          const element = document.querySelector('#df-8fb72b9e-fde3-4665-a923-100bc8859966');\n",
              "          const dataTable =\n",
              "            await google.colab.kernel.invokeFunction('convertToInteractive',\n",
              "                                                     [key], {});\n",
              "          if (!dataTable) return;\n",
              "\n",
              "          const docLinkHtml = 'Like what you see? Visit the ' +\n",
              "            '<a target=\"_blank\" href=https://colab.research.google.com/notebooks/data_table.ipynb>data table notebook</a>'\n",
              "            + ' to learn more about interactive tables.';\n",
              "          element.innerHTML = '';\n",
              "          dataTable['output_type'] = 'display_data';\n",
              "          await google.colab.output.renderOutput(dataTable, element);\n",
              "          const docLink = document.createElement('div');\n",
              "          docLink.innerHTML = docLinkHtml;\n",
              "          element.appendChild(docLink);\n",
              "        }\n",
              "      </script>\n",
              "    </div>\n",
              "  </div>\n",
              "  "
            ],
            "text/plain": [
              "         Дата     Время                                   Место  \\\n",
              "0  31.01.2018  19:15:00  Новгородская область, Великий Новгород   \n",
              "1  19.06.2019  10:15:00  Новгородская область, Великий Новгород   \n",
              "2  28.06.2019  03:00:00  Новгородская область, Великий Новгород   \n",
              "\n",
              "                   Улица  Дом Дорога  Километр  Метр               Вид ДТП  \\\n",
              "0           Нехинская ул   59    NaN       NaN   NaN          Столкновение   \n",
              "1  Большая Московская ул   38    NaN       NaN   NaN          Столкновение   \n",
              "2                    NaN  NaN    NaN       NaN   NaN  Наезд на препятствие   \n",
              "\n",
              "               Район               Область     T     Po      P   Pa     U  \\\n",
              "0   Великий Новгород  Новгородская область  -9.2  736.8  751.9  1.0  82.0   \n",
              "1   Великий Новгород  Новгородская область  24.0  745.6  759.1  0.2  48.0   \n",
              "2   Великий Новгород  Новгородская область  14.2  730.3  743.8 -0.9  97.0   \n",
              "\n",
              "                                    DD   Ff  ff10   ff3      N  \\\n",
              "0  Ветер, дующий с востоко-юго-востока  3.0   8.0  10.0  100%.   \n",
              "1        Ветер, дующий с северо-запада  2.0   6.0   7.0   40%.   \n",
              "2              Ветер, дующий с востока  2.0   NaN   8.0  100%.   \n",
              "\n",
              "                                                  WW  \\\n",
              "0        Снег непрерывный слабый в срок наблюдения.    \n",
              "1                                                      \n",
              "2  Дождь незамерзающий непрерывный слабый в срок ...   \n",
              "\n",
              "                                                  Cl     Nh          H    VV  \\\n",
              "0  Слоистые разорванные или кучевые разорванные о...  100%.    300-600   4.0   \n",
              "1  Кучевые средние или мощные или вместе с кучевы...   40%.  1000-1500  10.0   \n",
              "2  Слоистые разорванные или кучевые разорванные о...  100%.    200-300   3.0   \n",
              "\n",
              "     Td   latitude  longitude  \n",
              "0 -11.7  63.010797  22.930639  \n",
              "1  12.3  63.010797  22.930639  \n",
              "2  13.8  63.010797  22.930639  "
            ]
          },
          "execution_count": 101,
          "metadata": {},
          "output_type": "execute_result"
        }
      ],
      "source": [
        "test = pd.merge(test, df3, how='left', on='Место')\n",
        "test.head(3)"
      ]
    },
    {
      "cell_type": "markdown",
      "metadata": {
        "id": "mHpSuluL1k66"
      },
      "source": [
        "Заменим все пропуски в данных"
      ]
    },
    {
      "cell_type": "code",
      "execution_count": null,
      "metadata": {
        "colab": {
          "background_save": true
        },
        "id": "ztgOpItY1k66"
      },
      "outputs": [],
      "source": [
        "test = test.fillna(0)"
      ]
    },
    {
      "cell_type": "markdown",
      "metadata": {
        "id": "AAZ9YF6H1k66"
      },
      "source": [
        "Добавим пару новых столбцов"
      ]
    },
    {
      "cell_type": "code",
      "execution_count": null,
      "metadata": {
        "colab": {
          "background_save": true
        },
        "id": "QPS8aW621k67"
      },
      "outputs": [],
      "source": [
        "test[\"День\"] = test[\"Дата\"].str[:2]\n",
        "test[\"Месяц\"] = test[\"Дата\"].str[3:5]\n",
        "test[\"Год\"] = test[\"Дата\"].str[8:]\n",
        "test[\"Час\"] = test[\"Время\"].str[:2]"
      ]
    },
    {
      "cell_type": "code",
      "execution_count": null,
      "metadata": {
        "colab": {
          "background_save": true
        },
        "id": "NCuACYzN1k67",
        "outputId": "157821ad-e8ad-45bb-fba6-e1e63810f927"
      },
      "outputs": [
        {
          "data": {
            "text/html": [
              "\n",
              "  <div id=\"df-87709de3-1d67-49ef-9f05-5dab83930c97\">\n",
              "    <div class=\"colab-df-container\">\n",
              "      <div>\n",
              "<style scoped>\n",
              "    .dataframe tbody tr th:only-of-type {\n",
              "        vertical-align: middle;\n",
              "    }\n",
              "\n",
              "    .dataframe tbody tr th {\n",
              "        vertical-align: top;\n",
              "    }\n",
              "\n",
              "    .dataframe thead th {\n",
              "        text-align: right;\n",
              "    }\n",
              "</style>\n",
              "<table border=\"1\" class=\"dataframe\">\n",
              "  <thead>\n",
              "    <tr style=\"text-align: right;\">\n",
              "      <th></th>\n",
              "      <th>Дата</th>\n",
              "      <th>Время</th>\n",
              "      <th>Место</th>\n",
              "      <th>Улица</th>\n",
              "      <th>Дом</th>\n",
              "      <th>Дорога</th>\n",
              "      <th>Километр</th>\n",
              "      <th>Метр</th>\n",
              "      <th>Вид ДТП</th>\n",
              "      <th>Район</th>\n",
              "      <th>Область</th>\n",
              "      <th>T</th>\n",
              "      <th>Po</th>\n",
              "      <th>P</th>\n",
              "      <th>Pa</th>\n",
              "      <th>U</th>\n",
              "      <th>DD</th>\n",
              "      <th>Ff</th>\n",
              "      <th>ff10</th>\n",
              "      <th>ff3</th>\n",
              "      <th>N</th>\n",
              "      <th>WW</th>\n",
              "      <th>Cl</th>\n",
              "      <th>Nh</th>\n",
              "      <th>H</th>\n",
              "      <th>VV</th>\n",
              "      <th>Td</th>\n",
              "      <th>latitude</th>\n",
              "      <th>longitude</th>\n",
              "      <th>День</th>\n",
              "      <th>Месяц</th>\n",
              "      <th>Год</th>\n",
              "      <th>Час</th>\n",
              "    </tr>\n",
              "  </thead>\n",
              "  <tbody>\n",
              "    <tr>\n",
              "      <th>0</th>\n",
              "      <td>31.01.2018</td>\n",
              "      <td>19:15:00</td>\n",
              "      <td>Новгородская область, Великий Новгород</td>\n",
              "      <td>Нехинская ул</td>\n",
              "      <td>59</td>\n",
              "      <td>0</td>\n",
              "      <td>0.0</td>\n",
              "      <td>0.0</td>\n",
              "      <td>Столкновение</td>\n",
              "      <td>Великий Новгород</td>\n",
              "      <td>Новгородская область</td>\n",
              "      <td>-9.2</td>\n",
              "      <td>736.8</td>\n",
              "      <td>751.9</td>\n",
              "      <td>1.0</td>\n",
              "      <td>82.0</td>\n",
              "      <td>Ветер, дующий с востоко-юго-востока</td>\n",
              "      <td>3.0</td>\n",
              "      <td>8.0</td>\n",
              "      <td>10.0</td>\n",
              "      <td>100%.</td>\n",
              "      <td>Снег непрерывный слабый в срок наблюдения.</td>\n",
              "      <td>Слоистые разорванные или кучевые разорванные о...</td>\n",
              "      <td>100%.</td>\n",
              "      <td>300-600</td>\n",
              "      <td>4.0</td>\n",
              "      <td>-11.7</td>\n",
              "      <td>63.010797</td>\n",
              "      <td>22.930639</td>\n",
              "      <td>31</td>\n",
              "      <td>01</td>\n",
              "      <td>18</td>\n",
              "      <td>19</td>\n",
              "    </tr>\n",
              "    <tr>\n",
              "      <th>1</th>\n",
              "      <td>19.06.2019</td>\n",
              "      <td>10:15:00</td>\n",
              "      <td>Новгородская область, Великий Новгород</td>\n",
              "      <td>Большая Московская ул</td>\n",
              "      <td>38</td>\n",
              "      <td>0</td>\n",
              "      <td>0.0</td>\n",
              "      <td>0.0</td>\n",
              "      <td>Столкновение</td>\n",
              "      <td>Великий Новгород</td>\n",
              "      <td>Новгородская область</td>\n",
              "      <td>24.0</td>\n",
              "      <td>745.6</td>\n",
              "      <td>759.1</td>\n",
              "      <td>0.2</td>\n",
              "      <td>48.0</td>\n",
              "      <td>Ветер, дующий с северо-запада</td>\n",
              "      <td>2.0</td>\n",
              "      <td>6.0</td>\n",
              "      <td>7.0</td>\n",
              "      <td>40%.</td>\n",
              "      <td></td>\n",
              "      <td>Кучевые средние или мощные или вместе с кучевы...</td>\n",
              "      <td>40%.</td>\n",
              "      <td>1000-1500</td>\n",
              "      <td>10.0</td>\n",
              "      <td>12.3</td>\n",
              "      <td>63.010797</td>\n",
              "      <td>22.930639</td>\n",
              "      <td>19</td>\n",
              "      <td>06</td>\n",
              "      <td>19</td>\n",
              "      <td>10</td>\n",
              "    </tr>\n",
              "    <tr>\n",
              "      <th>2</th>\n",
              "      <td>28.06.2019</td>\n",
              "      <td>03:00:00</td>\n",
              "      <td>Новгородская область, Великий Новгород</td>\n",
              "      <td>0</td>\n",
              "      <td>0</td>\n",
              "      <td>0</td>\n",
              "      <td>0.0</td>\n",
              "      <td>0.0</td>\n",
              "      <td>Наезд на препятствие</td>\n",
              "      <td>Великий Новгород</td>\n",
              "      <td>Новгородская область</td>\n",
              "      <td>14.2</td>\n",
              "      <td>730.3</td>\n",
              "      <td>743.8</td>\n",
              "      <td>-0.9</td>\n",
              "      <td>97.0</td>\n",
              "      <td>Ветер, дующий с востока</td>\n",
              "      <td>2.0</td>\n",
              "      <td>0.0</td>\n",
              "      <td>8.0</td>\n",
              "      <td>100%.</td>\n",
              "      <td>Дождь незамерзающий непрерывный слабый в срок ...</td>\n",
              "      <td>Слоистые разорванные или кучевые разорванные о...</td>\n",
              "      <td>100%.</td>\n",
              "      <td>200-300</td>\n",
              "      <td>3.0</td>\n",
              "      <td>13.8</td>\n",
              "      <td>63.010797</td>\n",
              "      <td>22.930639</td>\n",
              "      <td>28</td>\n",
              "      <td>06</td>\n",
              "      <td>19</td>\n",
              "      <td>03</td>\n",
              "    </tr>\n",
              "  </tbody>\n",
              "</table>\n",
              "</div>\n",
              "      <button class=\"colab-df-convert\" onclick=\"convertToInteractive('df-87709de3-1d67-49ef-9f05-5dab83930c97')\"\n",
              "              title=\"Convert this dataframe to an interactive table.\"\n",
              "              style=\"display:none;\">\n",
              "        \n",
              "  <svg xmlns=\"http://www.w3.org/2000/svg\" height=\"24px\"viewBox=\"0 0 24 24\"\n",
              "       width=\"24px\">\n",
              "    <path d=\"M0 0h24v24H0V0z\" fill=\"none\"/>\n",
              "    <path d=\"M18.56 5.44l.94 2.06.94-2.06 2.06-.94-2.06-.94-.94-2.06-.94 2.06-2.06.94zm-11 1L8.5 8.5l.94-2.06 2.06-.94-2.06-.94L8.5 2.5l-.94 2.06-2.06.94zm10 10l.94 2.06.94-2.06 2.06-.94-2.06-.94-.94-2.06-.94 2.06-2.06.94z\"/><path d=\"M17.41 7.96l-1.37-1.37c-.4-.4-.92-.59-1.43-.59-.52 0-1.04.2-1.43.59L10.3 9.45l-7.72 7.72c-.78.78-.78 2.05 0 2.83L4 21.41c.39.39.9.59 1.41.59.51 0 1.02-.2 1.41-.59l7.78-7.78 2.81-2.81c.8-.78.8-2.07 0-2.86zM5.41 20L4 18.59l7.72-7.72 1.47 1.35L5.41 20z\"/>\n",
              "  </svg>\n",
              "      </button>\n",
              "      \n",
              "  <style>\n",
              "    .colab-df-container {\n",
              "      display:flex;\n",
              "      flex-wrap:wrap;\n",
              "      gap: 12px;\n",
              "    }\n",
              "\n",
              "    .colab-df-convert {\n",
              "      background-color: #E8F0FE;\n",
              "      border: none;\n",
              "      border-radius: 50%;\n",
              "      cursor: pointer;\n",
              "      display: none;\n",
              "      fill: #1967D2;\n",
              "      height: 32px;\n",
              "      padding: 0 0 0 0;\n",
              "      width: 32px;\n",
              "    }\n",
              "\n",
              "    .colab-df-convert:hover {\n",
              "      background-color: #E2EBFA;\n",
              "      box-shadow: 0px 1px 2px rgba(60, 64, 67, 0.3), 0px 1px 3px 1px rgba(60, 64, 67, 0.15);\n",
              "      fill: #174EA6;\n",
              "    }\n",
              "\n",
              "    [theme=dark] .colab-df-convert {\n",
              "      background-color: #3B4455;\n",
              "      fill: #D2E3FC;\n",
              "    }\n",
              "\n",
              "    [theme=dark] .colab-df-convert:hover {\n",
              "      background-color: #434B5C;\n",
              "      box-shadow: 0px 1px 3px 1px rgba(0, 0, 0, 0.15);\n",
              "      filter: drop-shadow(0px 1px 2px rgba(0, 0, 0, 0.3));\n",
              "      fill: #FFFFFF;\n",
              "    }\n",
              "  </style>\n",
              "\n",
              "      <script>\n",
              "        const buttonEl =\n",
              "          document.querySelector('#df-87709de3-1d67-49ef-9f05-5dab83930c97 button.colab-df-convert');\n",
              "        buttonEl.style.display =\n",
              "          google.colab.kernel.accessAllowed ? 'block' : 'none';\n",
              "\n",
              "        async function convertToInteractive(key) {\n",
              "          const element = document.querySelector('#df-87709de3-1d67-49ef-9f05-5dab83930c97');\n",
              "          const dataTable =\n",
              "            await google.colab.kernel.invokeFunction('convertToInteractive',\n",
              "                                                     [key], {});\n",
              "          if (!dataTable) return;\n",
              "\n",
              "          const docLinkHtml = 'Like what you see? Visit the ' +\n",
              "            '<a target=\"_blank\" href=https://colab.research.google.com/notebooks/data_table.ipynb>data table notebook</a>'\n",
              "            + ' to learn more about interactive tables.';\n",
              "          element.innerHTML = '';\n",
              "          dataTable['output_type'] = 'display_data';\n",
              "          await google.colab.output.renderOutput(dataTable, element);\n",
              "          const docLink = document.createElement('div');\n",
              "          docLink.innerHTML = docLinkHtml;\n",
              "          element.appendChild(docLink);\n",
              "        }\n",
              "      </script>\n",
              "    </div>\n",
              "  </div>\n",
              "  "
            ],
            "text/plain": [
              "         Дата     Время                                   Место  \\\n",
              "0  31.01.2018  19:15:00  Новгородская область, Великий Новгород   \n",
              "1  19.06.2019  10:15:00  Новгородская область, Великий Новгород   \n",
              "2  28.06.2019  03:00:00  Новгородская область, Великий Новгород   \n",
              "\n",
              "                   Улица Дом Дорога  Километр  Метр               Вид ДТП  \\\n",
              "0           Нехинская ул  59      0       0.0   0.0          Столкновение   \n",
              "1  Большая Московская ул  38      0       0.0   0.0          Столкновение   \n",
              "2                      0   0      0       0.0   0.0  Наезд на препятствие   \n",
              "\n",
              "               Район               Область     T     Po      P   Pa     U  \\\n",
              "0   Великий Новгород  Новгородская область  -9.2  736.8  751.9  1.0  82.0   \n",
              "1   Великий Новгород  Новгородская область  24.0  745.6  759.1  0.2  48.0   \n",
              "2   Великий Новгород  Новгородская область  14.2  730.3  743.8 -0.9  97.0   \n",
              "\n",
              "                                    DD   Ff  ff10   ff3      N  \\\n",
              "0  Ветер, дующий с востоко-юго-востока  3.0   8.0  10.0  100%.   \n",
              "1        Ветер, дующий с северо-запада  2.0   6.0   7.0   40%.   \n",
              "2              Ветер, дующий с востока  2.0   0.0   8.0  100%.   \n",
              "\n",
              "                                                  WW  \\\n",
              "0        Снег непрерывный слабый в срок наблюдения.    \n",
              "1                                                      \n",
              "2  Дождь незамерзающий непрерывный слабый в срок ...   \n",
              "\n",
              "                                                  Cl     Nh          H    VV  \\\n",
              "0  Слоистые разорванные или кучевые разорванные о...  100%.    300-600   4.0   \n",
              "1  Кучевые средние или мощные или вместе с кучевы...   40%.  1000-1500  10.0   \n",
              "2  Слоистые разорванные или кучевые разорванные о...  100%.    200-300   3.0   \n",
              "\n",
              "     Td   latitude  longitude День Месяц Год Час  \n",
              "0 -11.7  63.010797  22.930639   31    01  18  19  \n",
              "1  12.3  63.010797  22.930639   19    06  19  10  \n",
              "2  13.8  63.010797  22.930639   28    06  19  03  "
            ]
          },
          "execution_count": 104,
          "metadata": {},
          "output_type": "execute_result"
        }
      ],
      "source": [
        "test.head(3)"
      ]
    },
    {
      "cell_type": "markdown",
      "metadata": {
        "id": "z-bDQijK1k67"
      },
      "source": [
        "##Сделаем категории **\"Вид ДТП\"** и **\"Улица\"** раноговыми "
      ]
    },
    {
      "cell_type": "code",
      "execution_count": null,
      "metadata": {
        "colab": {
          "background_save": true
        },
        "id": "2e74m-341k68"
      },
      "outputs": [],
      "source": [
        "test[\"Вид ДТП\"] = pd.Categorical(test[\"Вид ДТП\"])\n",
        "test[\"Вид ДТП\"].astype('category').cat.codes\n",
        "test[\"Вид ДТП\"] = test[\"Вид ДТП\"].cat.codes"
      ]
    },
    {
      "cell_type": "code",
      "execution_count": null,
      "metadata": {
        "colab": {
          "background_save": true
        },
        "id": "fg-X5ul41k68"
      },
      "outputs": [],
      "source": [
        "test[\"Улица\"] = pd.Categorical(test[\"Улица\"])\n",
        "test[\"Улица\"].astype('category').cat.codes\n",
        "test[\"Улица\"] = test[\"Улица\"].cat.codes"
      ]
    },
    {
      "cell_type": "code",
      "execution_count": null,
      "metadata": {
        "colab": {
          "background_save": true
        },
        "id": "LQRxPlzoeGfI"
      },
      "outputs": [],
      "source": [
        "test[\"Место\"] = pd.Categorical(test[\"Место\"])\n",
        "test[\"Место\"].astype('category').cat.codes\n",
        "test[\"Место\"] = test[\"Место\"].cat.codes"
      ]
    },
    {
      "cell_type": "code",
      "execution_count": null,
      "metadata": {
        "colab": {
          "background_save": true
        },
        "id": "XMPcd8ieeGfJ"
      },
      "outputs": [],
      "source": [
        "test[\"Дорога\"] = pd.Categorical(test[\"Дорога\"])\n",
        "test[\"Дорога\"].astype('category').cat.codes\n",
        "test[\"Дорога\"] = test[\"Дорога\"].cat.codes"
      ]
    },
    {
      "cell_type": "code",
      "execution_count": null,
      "metadata": {
        "colab": {
          "background_save": true
        },
        "id": "gofUJ22F1k6-"
      },
      "outputs": [],
      "source": [
        "test[\"День\"] = test[\"День\"].astype('int')\n",
        "test[\"Месяц\"] = test[\"Месяц\"].astype('int')\n",
        "test[\"Час\"] = test[\"Час\"].astype('int')\n",
        "test[\"Год\"] = test[\"Год\"].astype('int')"
      ]
    },
    {
      "cell_type": "code",
      "execution_count": null,
      "metadata": {
        "colab": {
          "background_save": true
        },
        "id": "A5ylXAxnVMwd"
      },
      "outputs": [],
      "source": [
        "test[\"DD\"] = pd.Categorical(test[\"DD\"])\n",
        "test[\"DD\"].astype('category').cat.codes\n",
        "test[\"DD\"] = test[\"DD\"].cat.codes"
      ]
    },
    {
      "cell_type": "code",
      "execution_count": null,
      "metadata": {
        "colab": {
          "background_save": true
        },
        "id": "kb11eyHZVMwe"
      },
      "outputs": [],
      "source": [
        "test[\"N\"] = pd.Categorical(test[\"N\"])\n",
        "test[\"N\"].astype('category').cat.codes\n",
        "test[\"N\"] = test[\"N\"].cat.codes"
      ]
    },
    {
      "cell_type": "code",
      "execution_count": null,
      "metadata": {
        "colab": {
          "background_save": true
        },
        "id": "yWiZYTnZVMwe"
      },
      "outputs": [],
      "source": [
        "test[\"Cl\"] = pd.Categorical(test[\"Cl\"])\n",
        "test[\"Cl\"].astype('category').cat.codes\n",
        "test[\"Cl\"] = test[\"Cl\"].cat.codes"
      ]
    },
    {
      "cell_type": "code",
      "execution_count": null,
      "metadata": {
        "colab": {
          "background_save": true
        },
        "id": "tEjJnE5iVMwf"
      },
      "outputs": [],
      "source": [
        "test[\"H\"] = pd.Categorical(test[\"H\"])\n",
        "test[\"H\"].astype('category').cat.codes\n",
        "test[\"H\"] = test[\"H\"].cat.codes"
      ]
    },
    {
      "cell_type": "code",
      "execution_count": null,
      "metadata": {
        "colab": {
          "background_save": true
        },
        "id": "kfaReJrJVMwf"
      },
      "outputs": [],
      "source": [
        "test[\"Nh\"] = pd.Categorical(test[\"Nh\"])\n",
        "test[\"Nh\"].astype('category').cat.codes\n",
        "test[\"Nh\"] = test[\"Nh\"].cat.codes"
      ]
    },
    {
      "cell_type": "code",
      "execution_count": null,
      "metadata": {
        "colab": {
          "background_save": true
        },
        "id": "9fbXN9riVMwg"
      },
      "outputs": [],
      "source": [
        "test[\"WW\"] = pd.Categorical(test[\"WW\"])\n",
        "test[\"WW\"].astype('category').cat.codes\n",
        "test[\"WW\"] = test[\"WW\"].cat.codes"
      ]
    },
    {
      "cell_type": "code",
      "execution_count": null,
      "metadata": {
        "colab": {
          "background_save": true
        },
        "id": "ZQM7lPoIgCP8"
      },
      "outputs": [],
      "source": [
        "test[\"Район\"] = pd.Categorical(test[\"Район\"])\n",
        "test[\"Район\"].astype('category').cat.codes\n",
        "test[\"Район\"] = test[\"Район\"].cat.codes"
      ]
    },
    {
      "cell_type": "code",
      "execution_count": null,
      "metadata": {
        "colab": {
          "background_save": true
        },
        "id": "YyRfWFvDBtJO"
      },
      "outputs": [],
      "source": [
        "test = test.drop([\"Дата\", \"Время\", \"Дом\", 'Область'], axis = 1)"
      ]
    },
    {
      "cell_type": "code",
      "execution_count": null,
      "metadata": {
        "colab": {
          "background_save": true
        },
        "id": "FIq5GcXTBP5V",
        "outputId": "6160c4f2-0474-4fc7-eb28-bea8876ac393"
      },
      "outputs": [
        {
          "data": {
            "text/html": [
              "\n",
              "  <div id=\"df-4be1bd38-a5d8-4339-b05d-2ef26258aecf\">\n",
              "    <div class=\"colab-df-container\">\n",
              "      <div>\n",
              "<style scoped>\n",
              "    .dataframe tbody tr th:only-of-type {\n",
              "        vertical-align: middle;\n",
              "    }\n",
              "\n",
              "    .dataframe tbody tr th {\n",
              "        vertical-align: top;\n",
              "    }\n",
              "\n",
              "    .dataframe thead th {\n",
              "        text-align: right;\n",
              "    }\n",
              "</style>\n",
              "<table border=\"1\" class=\"dataframe\">\n",
              "  <thead>\n",
              "    <tr style=\"text-align: right;\">\n",
              "      <th></th>\n",
              "      <th>Место</th>\n",
              "      <th>Улица</th>\n",
              "      <th>Дорога</th>\n",
              "      <th>Километр</th>\n",
              "      <th>Метр</th>\n",
              "      <th>Вид ДТП</th>\n",
              "      <th>Район</th>\n",
              "      <th>T</th>\n",
              "      <th>Po</th>\n",
              "      <th>P</th>\n",
              "      <th>Pa</th>\n",
              "      <th>U</th>\n",
              "      <th>DD</th>\n",
              "      <th>Ff</th>\n",
              "      <th>ff10</th>\n",
              "      <th>ff3</th>\n",
              "      <th>N</th>\n",
              "      <th>WW</th>\n",
              "      <th>Cl</th>\n",
              "      <th>Nh</th>\n",
              "      <th>H</th>\n",
              "      <th>VV</th>\n",
              "      <th>Td</th>\n",
              "      <th>latitude</th>\n",
              "      <th>longitude</th>\n",
              "      <th>День</th>\n",
              "      <th>Месяц</th>\n",
              "      <th>Год</th>\n",
              "      <th>Час</th>\n",
              "    </tr>\n",
              "  </thead>\n",
              "  <tbody>\n",
              "    <tr>\n",
              "      <th>0</th>\n",
              "      <td>3</td>\n",
              "      <td>228</td>\n",
              "      <td>0</td>\n",
              "      <td>0.0</td>\n",
              "      <td>0.0</td>\n",
              "      <td>15</td>\n",
              "      <td>4</td>\n",
              "      <td>-9.2</td>\n",
              "      <td>736.8</td>\n",
              "      <td>751.9</td>\n",
              "      <td>1.0</td>\n",
              "      <td>82.0</td>\n",
              "      <td>3</td>\n",
              "      <td>3.0</td>\n",
              "      <td>8.0</td>\n",
              "      <td>10.0</td>\n",
              "      <td>2</td>\n",
              "      <td>29</td>\n",
              "      <td>8</td>\n",
              "      <td>2</td>\n",
              "      <td>7</td>\n",
              "      <td>4.0</td>\n",
              "      <td>-11.7</td>\n",
              "      <td>63.010797</td>\n",
              "      <td>22.930639</td>\n",
              "      <td>31</td>\n",
              "      <td>1</td>\n",
              "      <td>18</td>\n",
              "      <td>19</td>\n",
              "    </tr>\n",
              "    <tr>\n",
              "      <th>1</th>\n",
              "      <td>3</td>\n",
              "      <td>29</td>\n",
              "      <td>0</td>\n",
              "      <td>0.0</td>\n",
              "      <td>0.0</td>\n",
              "      <td>15</td>\n",
              "      <td>4</td>\n",
              "      <td>24.0</td>\n",
              "      <td>745.6</td>\n",
              "      <td>759.1</td>\n",
              "      <td>0.2</td>\n",
              "      <td>48.0</td>\n",
              "      <td>9</td>\n",
              "      <td>2.0</td>\n",
              "      <td>6.0</td>\n",
              "      <td>7.0</td>\n",
              "      <td>4</td>\n",
              "      <td>1</td>\n",
              "      <td>4</td>\n",
              "      <td>4</td>\n",
              "      <td>2</td>\n",
              "      <td>10.0</td>\n",
              "      <td>12.3</td>\n",
              "      <td>63.010797</td>\n",
              "      <td>22.930639</td>\n",
              "      <td>19</td>\n",
              "      <td>6</td>\n",
              "      <td>19</td>\n",
              "      <td>10</td>\n",
              "    </tr>\n",
              "    <tr>\n",
              "      <th>2</th>\n",
              "      <td>3</td>\n",
              "      <td>0</td>\n",
              "      <td>0</td>\n",
              "      <td>0.0</td>\n",
              "      <td>0.0</td>\n",
              "      <td>9</td>\n",
              "      <td>4</td>\n",
              "      <td>14.2</td>\n",
              "      <td>730.3</td>\n",
              "      <td>743.8</td>\n",
              "      <td>-0.9</td>\n",
              "      <td>97.0</td>\n",
              "      <td>1</td>\n",
              "      <td>2.0</td>\n",
              "      <td>0.0</td>\n",
              "      <td>8.0</td>\n",
              "      <td>2</td>\n",
              "      <td>6</td>\n",
              "      <td>8</td>\n",
              "      <td>2</td>\n",
              "      <td>4</td>\n",
              "      <td>3.0</td>\n",
              "      <td>13.8</td>\n",
              "      <td>63.010797</td>\n",
              "      <td>22.930639</td>\n",
              "      <td>28</td>\n",
              "      <td>6</td>\n",
              "      <td>19</td>\n",
              "      <td>3</td>\n",
              "    </tr>\n",
              "  </tbody>\n",
              "</table>\n",
              "</div>\n",
              "      <button class=\"colab-df-convert\" onclick=\"convertToInteractive('df-4be1bd38-a5d8-4339-b05d-2ef26258aecf')\"\n",
              "              title=\"Convert this dataframe to an interactive table.\"\n",
              "              style=\"display:none;\">\n",
              "        \n",
              "  <svg xmlns=\"http://www.w3.org/2000/svg\" height=\"24px\"viewBox=\"0 0 24 24\"\n",
              "       width=\"24px\">\n",
              "    <path d=\"M0 0h24v24H0V0z\" fill=\"none\"/>\n",
              "    <path d=\"M18.56 5.44l.94 2.06.94-2.06 2.06-.94-2.06-.94-.94-2.06-.94 2.06-2.06.94zm-11 1L8.5 8.5l.94-2.06 2.06-.94-2.06-.94L8.5 2.5l-.94 2.06-2.06.94zm10 10l.94 2.06.94-2.06 2.06-.94-2.06-.94-.94-2.06-.94 2.06-2.06.94z\"/><path d=\"M17.41 7.96l-1.37-1.37c-.4-.4-.92-.59-1.43-.59-.52 0-1.04.2-1.43.59L10.3 9.45l-7.72 7.72c-.78.78-.78 2.05 0 2.83L4 21.41c.39.39.9.59 1.41.59.51 0 1.02-.2 1.41-.59l7.78-7.78 2.81-2.81c.8-.78.8-2.07 0-2.86zM5.41 20L4 18.59l7.72-7.72 1.47 1.35L5.41 20z\"/>\n",
              "  </svg>\n",
              "      </button>\n",
              "      \n",
              "  <style>\n",
              "    .colab-df-container {\n",
              "      display:flex;\n",
              "      flex-wrap:wrap;\n",
              "      gap: 12px;\n",
              "    }\n",
              "\n",
              "    .colab-df-convert {\n",
              "      background-color: #E8F0FE;\n",
              "      border: none;\n",
              "      border-radius: 50%;\n",
              "      cursor: pointer;\n",
              "      display: none;\n",
              "      fill: #1967D2;\n",
              "      height: 32px;\n",
              "      padding: 0 0 0 0;\n",
              "      width: 32px;\n",
              "    }\n",
              "\n",
              "    .colab-df-convert:hover {\n",
              "      background-color: #E2EBFA;\n",
              "      box-shadow: 0px 1px 2px rgba(60, 64, 67, 0.3), 0px 1px 3px 1px rgba(60, 64, 67, 0.15);\n",
              "      fill: #174EA6;\n",
              "    }\n",
              "\n",
              "    [theme=dark] .colab-df-convert {\n",
              "      background-color: #3B4455;\n",
              "      fill: #D2E3FC;\n",
              "    }\n",
              "\n",
              "    [theme=dark] .colab-df-convert:hover {\n",
              "      background-color: #434B5C;\n",
              "      box-shadow: 0px 1px 3px 1px rgba(0, 0, 0, 0.15);\n",
              "      filter: drop-shadow(0px 1px 2px rgba(0, 0, 0, 0.3));\n",
              "      fill: #FFFFFF;\n",
              "    }\n",
              "  </style>\n",
              "\n",
              "      <script>\n",
              "        const buttonEl =\n",
              "          document.querySelector('#df-4be1bd38-a5d8-4339-b05d-2ef26258aecf button.colab-df-convert');\n",
              "        buttonEl.style.display =\n",
              "          google.colab.kernel.accessAllowed ? 'block' : 'none';\n",
              "\n",
              "        async function convertToInteractive(key) {\n",
              "          const element = document.querySelector('#df-4be1bd38-a5d8-4339-b05d-2ef26258aecf');\n",
              "          const dataTable =\n",
              "            await google.colab.kernel.invokeFunction('convertToInteractive',\n",
              "                                                     [key], {});\n",
              "          if (!dataTable) return;\n",
              "\n",
              "          const docLinkHtml = 'Like what you see? Visit the ' +\n",
              "            '<a target=\"_blank\" href=https://colab.research.google.com/notebooks/data_table.ipynb>data table notebook</a>'\n",
              "            + ' to learn more about interactive tables.';\n",
              "          element.innerHTML = '';\n",
              "          dataTable['output_type'] = 'display_data';\n",
              "          await google.colab.output.renderOutput(dataTable, element);\n",
              "          const docLink = document.createElement('div');\n",
              "          docLink.innerHTML = docLinkHtml;\n",
              "          element.appendChild(docLink);\n",
              "        }\n",
              "      </script>\n",
              "    </div>\n",
              "  </div>\n",
              "  "
            ],
            "text/plain": [
              "   Место  Улица  Дорога  Километр  Метр  Вид ДТП  Район     T     Po      P  \\\n",
              "0      3    228       0       0.0   0.0       15      4  -9.2  736.8  751.9   \n",
              "1      3     29       0       0.0   0.0       15      4  24.0  745.6  759.1   \n",
              "2      3      0       0       0.0   0.0        9      4  14.2  730.3  743.8   \n",
              "\n",
              "    Pa     U  DD   Ff  ff10   ff3  N  WW  Cl  Nh  H    VV    Td   latitude  \\\n",
              "0  1.0  82.0   3  3.0   8.0  10.0  2  29   8   2  7   4.0 -11.7  63.010797   \n",
              "1  0.2  48.0   9  2.0   6.0   7.0  4   1   4   4  2  10.0  12.3  63.010797   \n",
              "2 -0.9  97.0   1  2.0   0.0   8.0  2   6   8   2  4   3.0  13.8  63.010797   \n",
              "\n",
              "   longitude  День  Месяц  Год  Час  \n",
              "0  22.930639    31      1   18   19  \n",
              "1  22.930639    19      6   19   10  \n",
              "2  22.930639    28      6   19    3  "
            ]
          },
          "execution_count": 118,
          "metadata": {},
          "output_type": "execute_result"
        }
      ],
      "source": [
        "test.head(3)"
      ]
    },
    {
      "cell_type": "code",
      "execution_count": null,
      "metadata": {
        "colab": {
          "background_save": true
        },
        "id": "Tr2E8eM6hcUp",
        "outputId": "80ccb7c6-ba64-43f4-818e-359a2d07cee9"
      },
      "outputs": [
        {
          "name": "stdout",
          "output_type": "stream",
          "text": [
            "<class 'pandas.core.frame.DataFrame'>\n",
            "Int64Index: 6788 entries, 0 to 6787\n",
            "Data columns (total 29 columns):\n",
            " #   Column     Non-Null Count  Dtype  \n",
            "---  ------     --------------  -----  \n",
            " 0   Место      6788 non-null   int8   \n",
            " 1   Улица      6788 non-null   int16  \n",
            " 2   Дорога     6788 non-null   int16  \n",
            " 3   Километр   6788 non-null   float64\n",
            " 4   Метр       6788 non-null   float64\n",
            " 5   Вид ДТП    6788 non-null   int8   \n",
            " 6   Район      6788 non-null   int8   \n",
            " 7   T          6788 non-null   float64\n",
            " 8   Po         6788 non-null   float64\n",
            " 9   P          6788 non-null   float64\n",
            " 10  Pa         6788 non-null   float64\n",
            " 11  U          6788 non-null   float64\n",
            " 12  DD         6788 non-null   int8   \n",
            " 13  Ff         6788 non-null   float64\n",
            " 14  ff10       6788 non-null   float64\n",
            " 15  ff3        6788 non-null   float64\n",
            " 16  N          6788 non-null   int8   \n",
            " 17  WW         6788 non-null   int8   \n",
            " 18  Cl         6788 non-null   int8   \n",
            " 19  Nh         6788 non-null   int8   \n",
            " 20  H          6788 non-null   int8   \n",
            " 21  VV         6788 non-null   float64\n",
            " 22  Td         6788 non-null   float64\n",
            " 23  latitude   6788 non-null   float64\n",
            " 24  longitude  6788 non-null   float64\n",
            " 25  День       6788 non-null   int64  \n",
            " 26  Месяц      6788 non-null   int64  \n",
            " 27  Год        6788 non-null   int64  \n",
            " 28  Час        6788 non-null   int64  \n",
            "dtypes: float64(14), int16(2), int64(4), int8(9)\n",
            "memory usage: 1.1 MB\n"
          ]
        }
      ],
      "source": [
        "test.info()"
      ]
    },
    {
      "cell_type": "markdown",
      "metadata": {
        "id": "ybEdcR5qGln6"
      },
      "source": [
        "# Pred"
      ]
    },
    {
      "cell_type": "code",
      "execution_count": null,
      "metadata": {
        "colab": {
          "background_save": true
        },
        "id": "zVpxwVy4yJ8o"
      },
      "outputs": [],
      "source": [
        "perd_test = model.predict(test)"
      ]
    },
    {
      "cell_type": "code",
      "execution_count": null,
      "metadata": {
        "colab": {
          "background_save": true
        },
        "id": "hmzbMVI3lOFV",
        "outputId": "6c86f14b-5357-4e07-bc71-8ef8b1b14448"
      },
      "outputs": [
        {
          "data": {
            "text/plain": [
              "array([0, 0, 0, ..., 0, 0, 0])"
            ]
          },
          "execution_count": 121,
          "metadata": {},
          "output_type": "execute_result"
        }
      ],
      "source": [
        "perd_test"
      ]
    },
    {
      "cell_type": "code",
      "execution_count": null,
      "metadata": {
        "colab": {
          "background_save": true
        },
        "id": "ytGbE_iCV62a"
      },
      "outputs": [],
      "source": [
        "test2 = pd.read_csv(\"/content/drive/MyDrive/Дагестан ДТП ИИ/test_dataset_test.csv\")"
      ]
    },
    {
      "cell_type": "code",
      "execution_count": null,
      "metadata": {
        "colab": {
          "background_save": true
        },
        "id": "Jj4myT5QV62a"
      },
      "outputs": [],
      "source": [
        "test2 = test2.set_index('id')"
      ]
    },
    {
      "cell_type": "code",
      "execution_count": null,
      "metadata": {
        "colab": {
          "background_save": true
        },
        "id": "YF8XNmU9MyaE"
      },
      "outputs": [],
      "source": [
        "submit = test2[[]]"
      ]
    },
    {
      "cell_type": "code",
      "execution_count": null,
      "metadata": {
        "colab": {
          "background_save": true
        },
        "id": "_Mk6izYWyUVY",
        "outputId": "e956d9f0-8f13-4cb3-fd8f-cde9c3e2ee92"
      },
      "outputs": [
        {
          "name": "stderr",
          "output_type": "stream",
          "text": [
            "/usr/local/lib/python3.7/dist-packages/ipykernel_launcher.py:1: SettingWithCopyWarning: \n",
            "A value is trying to be set on a copy of a slice from a DataFrame.\n",
            "Try using .loc[row_indexer,col_indexer] = value instead\n",
            "\n",
            "See the caveats in the documentation: https://pandas.pydata.org/pandas-docs/stable/user_guide/indexing.html#returning-a-view-versus-a-copy\n",
            "  \"\"\"Entry point for launching an IPython kernel.\n"
          ]
        }
      ],
      "source": [
        "submit['Погибло'] = perd_test"
      ]
    },
    {
      "cell_type": "code",
      "execution_count": null,
      "metadata": {
        "colab": {
          "background_save": true
        },
        "id": "0HRiu1EHm8u7",
        "outputId": "d63ed2d0-8f31-4e42-8872-b58a5f48277e"
      },
      "outputs": [
        {
          "name": "stderr",
          "output_type": "stream",
          "text": [
            "/usr/local/lib/python3.7/dist-packages/ipykernel_launcher.py:1: SettingWithCopyWarning: \n",
            "A value is trying to be set on a copy of a slice from a DataFrame.\n",
            "Try using .loc[row_indexer,col_indexer] = value instead\n",
            "\n",
            "See the caveats in the documentation: https://pandas.pydata.org/pandas-docs/stable/user_guide/indexing.html#returning-a-view-versus-a-copy\n",
            "  \"\"\"Entry point for launching an IPython kernel.\n"
          ]
        }
      ],
      "source": [
        "submit['Погибло'] = submit['Погибло'].astype(int)"
      ]
    },
    {
      "cell_type": "code",
      "execution_count": null,
      "metadata": {
        "colab": {
          "background_save": true
        },
        "id": "hrbFjkzwm805",
        "outputId": "3746c20e-822a-42fe-c46b-ddf43eece419"
      },
      "outputs": [
        {
          "data": {
            "text/html": [
              "\n",
              "  <div id=\"df-ec9e35c8-e9b1-4ac8-bcc0-19f0418156dd\">\n",
              "    <div class=\"colab-df-container\">\n",
              "      <div>\n",
              "<style scoped>\n",
              "    .dataframe tbody tr th:only-of-type {\n",
              "        vertical-align: middle;\n",
              "    }\n",
              "\n",
              "    .dataframe tbody tr th {\n",
              "        vertical-align: top;\n",
              "    }\n",
              "\n",
              "    .dataframe thead th {\n",
              "        text-align: right;\n",
              "    }\n",
              "</style>\n",
              "<table border=\"1\" class=\"dataframe\">\n",
              "  <thead>\n",
              "    <tr style=\"text-align: right;\">\n",
              "      <th></th>\n",
              "      <th>Погибло</th>\n",
              "    </tr>\n",
              "    <tr>\n",
              "      <th>id</th>\n",
              "      <th></th>\n",
              "    </tr>\n",
              "  </thead>\n",
              "  <tbody>\n",
              "    <tr>\n",
              "      <th>490078911</th>\n",
              "      <td>0</td>\n",
              "    </tr>\n",
              "    <tr>\n",
              "      <th>490055448</th>\n",
              "      <td>0</td>\n",
              "    </tr>\n",
              "    <tr>\n",
              "      <th>490054440</th>\n",
              "      <td>0</td>\n",
              "    </tr>\n",
              "  </tbody>\n",
              "</table>\n",
              "</div>\n",
              "      <button class=\"colab-df-convert\" onclick=\"convertToInteractive('df-ec9e35c8-e9b1-4ac8-bcc0-19f0418156dd')\"\n",
              "              title=\"Convert this dataframe to an interactive table.\"\n",
              "              style=\"display:none;\">\n",
              "        \n",
              "  <svg xmlns=\"http://www.w3.org/2000/svg\" height=\"24px\"viewBox=\"0 0 24 24\"\n",
              "       width=\"24px\">\n",
              "    <path d=\"M0 0h24v24H0V0z\" fill=\"none\"/>\n",
              "    <path d=\"M18.56 5.44l.94 2.06.94-2.06 2.06-.94-2.06-.94-.94-2.06-.94 2.06-2.06.94zm-11 1L8.5 8.5l.94-2.06 2.06-.94-2.06-.94L8.5 2.5l-.94 2.06-2.06.94zm10 10l.94 2.06.94-2.06 2.06-.94-2.06-.94-.94-2.06-.94 2.06-2.06.94z\"/><path d=\"M17.41 7.96l-1.37-1.37c-.4-.4-.92-.59-1.43-.59-.52 0-1.04.2-1.43.59L10.3 9.45l-7.72 7.72c-.78.78-.78 2.05 0 2.83L4 21.41c.39.39.9.59 1.41.59.51 0 1.02-.2 1.41-.59l7.78-7.78 2.81-2.81c.8-.78.8-2.07 0-2.86zM5.41 20L4 18.59l7.72-7.72 1.47 1.35L5.41 20z\"/>\n",
              "  </svg>\n",
              "      </button>\n",
              "      \n",
              "  <style>\n",
              "    .colab-df-container {\n",
              "      display:flex;\n",
              "      flex-wrap:wrap;\n",
              "      gap: 12px;\n",
              "    }\n",
              "\n",
              "    .colab-df-convert {\n",
              "      background-color: #E8F0FE;\n",
              "      border: none;\n",
              "      border-radius: 50%;\n",
              "      cursor: pointer;\n",
              "      display: none;\n",
              "      fill: #1967D2;\n",
              "      height: 32px;\n",
              "      padding: 0 0 0 0;\n",
              "      width: 32px;\n",
              "    }\n",
              "\n",
              "    .colab-df-convert:hover {\n",
              "      background-color: #E2EBFA;\n",
              "      box-shadow: 0px 1px 2px rgba(60, 64, 67, 0.3), 0px 1px 3px 1px rgba(60, 64, 67, 0.15);\n",
              "      fill: #174EA6;\n",
              "    }\n",
              "\n",
              "    [theme=dark] .colab-df-convert {\n",
              "      background-color: #3B4455;\n",
              "      fill: #D2E3FC;\n",
              "    }\n",
              "\n",
              "    [theme=dark] .colab-df-convert:hover {\n",
              "      background-color: #434B5C;\n",
              "      box-shadow: 0px 1px 3px 1px rgba(0, 0, 0, 0.15);\n",
              "      filter: drop-shadow(0px 1px 2px rgba(0, 0, 0, 0.3));\n",
              "      fill: #FFFFFF;\n",
              "    }\n",
              "  </style>\n",
              "\n",
              "      <script>\n",
              "        const buttonEl =\n",
              "          document.querySelector('#df-ec9e35c8-e9b1-4ac8-bcc0-19f0418156dd button.colab-df-convert');\n",
              "        buttonEl.style.display =\n",
              "          google.colab.kernel.accessAllowed ? 'block' : 'none';\n",
              "\n",
              "        async function convertToInteractive(key) {\n",
              "          const element = document.querySelector('#df-ec9e35c8-e9b1-4ac8-bcc0-19f0418156dd');\n",
              "          const dataTable =\n",
              "            await google.colab.kernel.invokeFunction('convertToInteractive',\n",
              "                                                     [key], {});\n",
              "          if (!dataTable) return;\n",
              "\n",
              "          const docLinkHtml = 'Like what you see? Visit the ' +\n",
              "            '<a target=\"_blank\" href=https://colab.research.google.com/notebooks/data_table.ipynb>data table notebook</a>'\n",
              "            + ' to learn more about interactive tables.';\n",
              "          element.innerHTML = '';\n",
              "          dataTable['output_type'] = 'display_data';\n",
              "          await google.colab.output.renderOutput(dataTable, element);\n",
              "          const docLink = document.createElement('div');\n",
              "          docLink.innerHTML = docLinkHtml;\n",
              "          element.appendChild(docLink);\n",
              "        }\n",
              "      </script>\n",
              "    </div>\n",
              "  </div>\n",
              "  "
            ],
            "text/plain": [
              "           Погибло\n",
              "id                \n",
              "490078911        0\n",
              "490055448        0\n",
              "490054440        0"
            ]
          },
          "execution_count": 127,
          "metadata": {},
          "output_type": "execute_result"
        }
      ],
      "source": [
        "submit.head(3)"
      ]
    },
    {
      "cell_type": "markdown",
      "metadata": {
        "id": "gA9dYzV-aP-I"
      },
      "source": [
        "# модель 2"
      ]
    },
    {
      "cell_type": "code",
      "execution_count": null,
      "metadata": {
        "colab": {
          "background_save": true
        },
        "id": "j18DFnk1aP-S"
      },
      "outputs": [],
      "source": [
        "y = df[[\"Погибло детей\"]]"
      ]
    },
    {
      "cell_type": "code",
      "execution_count": null,
      "metadata": {
        "colab": {
          "background_save": true
        },
        "id": "0kgj276Gg26Y"
      },
      "outputs": [],
      "source": [
        "xtrain, xtest, ytrain, ytest = train_test_split(X, y, test_size=0.2, random_state=42, stratify=y)"
      ]
    },
    {
      "cell_type": "code",
      "execution_count": null,
      "metadata": {
        "colab": {
          "background_save": true
        },
        "id": "X4d9fV7XaP-S"
      },
      "outputs": [],
      "source": [
        "# xtrain, xtest, ytrain, ytest = train_test_split(X, y, test_size=0.25, random_state=42)"
      ]
    },
    {
      "cell_type": "code",
      "execution_count": null,
      "metadata": {
        "colab": {
          "background_save": true
        },
        "id": "vpSgXg5kISlF"
      },
      "outputs": [],
      "source": [
        "model = xgb.XGBClassifier(objective = 'binary:logistic')\n",
        "param_dist = {'n_estimators': stats.randint(150, 1000),\n",
        "              'learning_rate': stats.uniform(0.01, 0.59),\n",
        "              'subsample': stats.uniform(0.3, 0.6),\n",
        "              'max_depth': [3, 4, 5, 6, 7, 8, 9],\n",
        "              'colsample_bytree': stats.uniform(0.5, 0.4),\n",
        "              'min_child_weight': [1, 2, 3, 4]\n",
        "             }\n",
        "\n",
        "kfold_5 = KFold(n_splits=10, random_state=1, shuffle=True)\n",
        "\n",
        "model = RandomizedSearchCV(model, \n",
        "                         param_distributions = param_dist,\n",
        "                         cv = kfold_5,  \n",
        "                         n_iter = 7, \n",
        "                         scoring = 'roc_auc', \n",
        "                         error_score = 0, \n",
        "                         verbose = 3, \n",
        "                         n_jobs = -1)"
      ]
    },
    {
      "cell_type": "code",
      "execution_count": null,
      "metadata": {
        "colab": {
          "background_save": true
        },
        "id": "tMk37KjeISlG",
        "outputId": "5efc4fd1-5cb4-4104-b729-52130a01382d"
      },
      "outputs": [
        {
          "name": "stdout",
          "output_type": "stream",
          "text": [
            "Fitting 10 folds for each of 7 candidates, totalling 70 fits\n"
          ]
        },
        {
          "data": {
            "text/plain": [
              "RandomizedSearchCV(cv=KFold(n_splits=10, random_state=1, shuffle=True),\n",
              "                   error_score=0, estimator=XGBClassifier(), n_iter=7,\n",
              "                   n_jobs=-1,\n",
              "                   param_distributions={'colsample_bytree': <scipy.stats._distn_infrastructure.rv_frozen object at 0x7faea948a510>,\n",
              "                                        'learning_rate': <scipy.stats._distn_infrastructure.rv_frozen object at 0x7faea948a910>,\n",
              "                                        'max_depth': [3, 4, 5, 6, 7, 8, 9],\n",
              "                                        'min_child_weight': [1, 2, 3, 4],\n",
              "                                        'n_estimators': <scipy.stats._distn_infrastructure.rv_frozen object at 0x7faea948a7d0>,\n",
              "                                        'subsample': <scipy.stats._distn_infrastructure.rv_frozen object at 0x7faea948a610>},\n",
              "                   scoring='roc_auc', verbose=3)"
            ]
          },
          "execution_count": 132,
          "metadata": {},
          "output_type": "execute_result"
        }
      ],
      "source": [
        "model.fit(xtrain, ytrain.values.ravel())"
      ]
    },
    {
      "cell_type": "markdown",
      "metadata": {
        "id": "Iwue5zSLacTd"
      },
      "source": [
        "# Pred"
      ]
    },
    {
      "cell_type": "code",
      "execution_count": null,
      "metadata": {
        "colab": {
          "background_save": true
        },
        "id": "5_QFX8CMacTf"
      },
      "outputs": [],
      "source": [
        "perd_test = model.predict(test)"
      ]
    },
    {
      "cell_type": "code",
      "execution_count": null,
      "metadata": {
        "colab": {
          "background_save": true
        },
        "id": "YSYSY6BWacTg",
        "outputId": "b228ce36-9bf5-4643-b4ac-0d003d267abe"
      },
      "outputs": [
        {
          "data": {
            "text/plain": [
              "array([0, 0, 0, ..., 0, 0, 0])"
            ]
          },
          "execution_count": 134,
          "metadata": {},
          "output_type": "execute_result"
        }
      ],
      "source": [
        "perd_test"
      ]
    },
    {
      "cell_type": "code",
      "execution_count": null,
      "metadata": {
        "colab": {
          "background_save": true
        },
        "id": "uo96bQunacTh",
        "outputId": "945f53a7-f96f-476c-88e8-43de6b02dfaf"
      },
      "outputs": [
        {
          "name": "stderr",
          "output_type": "stream",
          "text": [
            "/usr/local/lib/python3.7/dist-packages/ipykernel_launcher.py:1: SettingWithCopyWarning: \n",
            "A value is trying to be set on a copy of a slice from a DataFrame.\n",
            "Try using .loc[row_indexer,col_indexer] = value instead\n",
            "\n",
            "See the caveats in the documentation: https://pandas.pydata.org/pandas-docs/stable/user_guide/indexing.html#returning-a-view-versus-a-copy\n",
            "  \"\"\"Entry point for launching an IPython kernel.\n"
          ]
        }
      ],
      "source": [
        "submit['Погибло детей'] = perd_test"
      ]
    },
    {
      "cell_type": "code",
      "execution_count": null,
      "metadata": {
        "colab": {
          "background_save": true
        },
        "id": "3eH-6EseacTi",
        "outputId": "bf46b9d1-9901-4a95-e89a-517f95ebff84"
      },
      "outputs": [
        {
          "name": "stderr",
          "output_type": "stream",
          "text": [
            "/usr/local/lib/python3.7/dist-packages/ipykernel_launcher.py:1: SettingWithCopyWarning: \n",
            "A value is trying to be set on a copy of a slice from a DataFrame.\n",
            "Try using .loc[row_indexer,col_indexer] = value instead\n",
            "\n",
            "See the caveats in the documentation: https://pandas.pydata.org/pandas-docs/stable/user_guide/indexing.html#returning-a-view-versus-a-copy\n",
            "  \"\"\"Entry point for launching an IPython kernel.\n"
          ]
        }
      ],
      "source": [
        "submit['Погибло детей'] = submit['Погибло детей'].astype(int)"
      ]
    },
    {
      "cell_type": "code",
      "execution_count": null,
      "metadata": {
        "colab": {
          "background_save": true
        },
        "id": "3zH4CJiYacTj",
        "outputId": "43bc7929-0d7b-430a-fc70-0df923482c55"
      },
      "outputs": [
        {
          "data": {
            "text/html": [
              "\n",
              "  <div id=\"df-d7cc555a-5ab3-493e-a6e8-88f54be4dd43\">\n",
              "    <div class=\"colab-df-container\">\n",
              "      <div>\n",
              "<style scoped>\n",
              "    .dataframe tbody tr th:only-of-type {\n",
              "        vertical-align: middle;\n",
              "    }\n",
              "\n",
              "    .dataframe tbody tr th {\n",
              "        vertical-align: top;\n",
              "    }\n",
              "\n",
              "    .dataframe thead th {\n",
              "        text-align: right;\n",
              "    }\n",
              "</style>\n",
              "<table border=\"1\" class=\"dataframe\">\n",
              "  <thead>\n",
              "    <tr style=\"text-align: right;\">\n",
              "      <th></th>\n",
              "      <th>Погибло</th>\n",
              "      <th>Погибло детей</th>\n",
              "    </tr>\n",
              "    <tr>\n",
              "      <th>id</th>\n",
              "      <th></th>\n",
              "      <th></th>\n",
              "    </tr>\n",
              "  </thead>\n",
              "  <tbody>\n",
              "    <tr>\n",
              "      <th>490078911</th>\n",
              "      <td>0</td>\n",
              "      <td>0</td>\n",
              "    </tr>\n",
              "    <tr>\n",
              "      <th>490055448</th>\n",
              "      <td>0</td>\n",
              "      <td>0</td>\n",
              "    </tr>\n",
              "    <tr>\n",
              "      <th>490054440</th>\n",
              "      <td>0</td>\n",
              "      <td>0</td>\n",
              "    </tr>\n",
              "  </tbody>\n",
              "</table>\n",
              "</div>\n",
              "      <button class=\"colab-df-convert\" onclick=\"convertToInteractive('df-d7cc555a-5ab3-493e-a6e8-88f54be4dd43')\"\n",
              "              title=\"Convert this dataframe to an interactive table.\"\n",
              "              style=\"display:none;\">\n",
              "        \n",
              "  <svg xmlns=\"http://www.w3.org/2000/svg\" height=\"24px\"viewBox=\"0 0 24 24\"\n",
              "       width=\"24px\">\n",
              "    <path d=\"M0 0h24v24H0V0z\" fill=\"none\"/>\n",
              "    <path d=\"M18.56 5.44l.94 2.06.94-2.06 2.06-.94-2.06-.94-.94-2.06-.94 2.06-2.06.94zm-11 1L8.5 8.5l.94-2.06 2.06-.94-2.06-.94L8.5 2.5l-.94 2.06-2.06.94zm10 10l.94 2.06.94-2.06 2.06-.94-2.06-.94-.94-2.06-.94 2.06-2.06.94z\"/><path d=\"M17.41 7.96l-1.37-1.37c-.4-.4-.92-.59-1.43-.59-.52 0-1.04.2-1.43.59L10.3 9.45l-7.72 7.72c-.78.78-.78 2.05 0 2.83L4 21.41c.39.39.9.59 1.41.59.51 0 1.02-.2 1.41-.59l7.78-7.78 2.81-2.81c.8-.78.8-2.07 0-2.86zM5.41 20L4 18.59l7.72-7.72 1.47 1.35L5.41 20z\"/>\n",
              "  </svg>\n",
              "      </button>\n",
              "      \n",
              "  <style>\n",
              "    .colab-df-container {\n",
              "      display:flex;\n",
              "      flex-wrap:wrap;\n",
              "      gap: 12px;\n",
              "    }\n",
              "\n",
              "    .colab-df-convert {\n",
              "      background-color: #E8F0FE;\n",
              "      border: none;\n",
              "      border-radius: 50%;\n",
              "      cursor: pointer;\n",
              "      display: none;\n",
              "      fill: #1967D2;\n",
              "      height: 32px;\n",
              "      padding: 0 0 0 0;\n",
              "      width: 32px;\n",
              "    }\n",
              "\n",
              "    .colab-df-convert:hover {\n",
              "      background-color: #E2EBFA;\n",
              "      box-shadow: 0px 1px 2px rgba(60, 64, 67, 0.3), 0px 1px 3px 1px rgba(60, 64, 67, 0.15);\n",
              "      fill: #174EA6;\n",
              "    }\n",
              "\n",
              "    [theme=dark] .colab-df-convert {\n",
              "      background-color: #3B4455;\n",
              "      fill: #D2E3FC;\n",
              "    }\n",
              "\n",
              "    [theme=dark] .colab-df-convert:hover {\n",
              "      background-color: #434B5C;\n",
              "      box-shadow: 0px 1px 3px 1px rgba(0, 0, 0, 0.15);\n",
              "      filter: drop-shadow(0px 1px 2px rgba(0, 0, 0, 0.3));\n",
              "      fill: #FFFFFF;\n",
              "    }\n",
              "  </style>\n",
              "\n",
              "      <script>\n",
              "        const buttonEl =\n",
              "          document.querySelector('#df-d7cc555a-5ab3-493e-a6e8-88f54be4dd43 button.colab-df-convert');\n",
              "        buttonEl.style.display =\n",
              "          google.colab.kernel.accessAllowed ? 'block' : 'none';\n",
              "\n",
              "        async function convertToInteractive(key) {\n",
              "          const element = document.querySelector('#df-d7cc555a-5ab3-493e-a6e8-88f54be4dd43');\n",
              "          const dataTable =\n",
              "            await google.colab.kernel.invokeFunction('convertToInteractive',\n",
              "                                                     [key], {});\n",
              "          if (!dataTable) return;\n",
              "\n",
              "          const docLinkHtml = 'Like what you see? Visit the ' +\n",
              "            '<a target=\"_blank\" href=https://colab.research.google.com/notebooks/data_table.ipynb>data table notebook</a>'\n",
              "            + ' to learn more about interactive tables.';\n",
              "          element.innerHTML = '';\n",
              "          dataTable['output_type'] = 'display_data';\n",
              "          await google.colab.output.renderOutput(dataTable, element);\n",
              "          const docLink = document.createElement('div');\n",
              "          docLink.innerHTML = docLinkHtml;\n",
              "          element.appendChild(docLink);\n",
              "        }\n",
              "      </script>\n",
              "    </div>\n",
              "  </div>\n",
              "  "
            ],
            "text/plain": [
              "           Погибло  Погибло детей\n",
              "id                               \n",
              "490078911        0              0\n",
              "490055448        0              0\n",
              "490054440        0              0"
            ]
          },
          "execution_count": 137,
          "metadata": {},
          "output_type": "execute_result"
        }
      ],
      "source": [
        "submit.head(3)"
      ]
    },
    {
      "cell_type": "markdown",
      "metadata": {
        "id": "gjt9pq1QamAD"
      },
      "source": [
        "# модель 3"
      ]
    },
    {
      "cell_type": "code",
      "execution_count": null,
      "metadata": {
        "colab": {
          "background_save": true
        },
        "id": "KX2S_1d4amAD"
      },
      "outputs": [],
      "source": [
        "y = df[[\"Ранено\"]]"
      ]
    },
    {
      "cell_type": "code",
      "execution_count": null,
      "metadata": {
        "colab": {
          "background_save": true
        },
        "id": "NiWdi5LjhhEG"
      },
      "outputs": [],
      "source": [
        "xtrain, xtest, ytrain, ytest = train_test_split(X, y, test_size=0.2, random_state=42, stratify=y)"
      ]
    },
    {
      "cell_type": "code",
      "execution_count": null,
      "metadata": {
        "colab": {
          "background_save": true
        },
        "id": "rO66tEf9JHRn"
      },
      "outputs": [],
      "source": [
        "model = xgb.XGBClassifier(objective = 'binary:logistic')\n",
        "param_dist = {'n_estimators': stats.randint(150, 1000),\n",
        "              'learning_rate': stats.uniform(0.01, 0.59),\n",
        "              'subsample': stats.uniform(0.3, 0.6),\n",
        "              'max_depth': [3, 4, 5, 6, 7, 8, 9],\n",
        "              'colsample_bytree': stats.uniform(0.5, 0.4),\n",
        "              'min_child_weight': [1, 2, 3, 4]\n",
        "             }\n",
        "\n",
        "kfold_5 = KFold(n_splits=10, random_state=1, shuffle=True)\n",
        "\n",
        "model = RandomizedSearchCV(model, \n",
        "                         param_distributions = param_dist,\n",
        "                         cv = kfold_5,  \n",
        "                         n_iter = 7, \n",
        "                         scoring = 'roc_auc', \n",
        "                         error_score = 0, \n",
        "                         verbose = 3, \n",
        "                         n_jobs = -1)"
      ]
    },
    {
      "cell_type": "code",
      "execution_count": null,
      "metadata": {
        "colab": {
          "background_save": true
        },
        "id": "wXzCTMypJHRo",
        "outputId": "c8841873-0e08-46b2-9adc-e3221a63a84d"
      },
      "outputs": [
        {
          "name": "stdout",
          "output_type": "stream",
          "text": [
            "Fitting 10 folds for each of 7 candidates, totalling 70 fits\n"
          ]
        },
        {
          "data": {
            "text/plain": [
              "RandomizedSearchCV(cv=KFold(n_splits=10, random_state=1, shuffle=True),\n",
              "                   error_score=0, estimator=XGBClassifier(), n_iter=7,\n",
              "                   n_jobs=-1,\n",
              "                   param_distributions={'colsample_bytree': <scipy.stats._distn_infrastructure.rv_frozen object at 0x7faeb223bd50>,\n",
              "                                        'learning_rate': <scipy.stats._distn_infrastructure.rv_frozen object at 0x7faeb22da710>,\n",
              "                                        'max_depth': [3, 4, 5, 6, 7, 8, 9],\n",
              "                                        'min_child_weight': [1, 2, 3, 4],\n",
              "                                        'n_estimators': <scipy.stats._distn_infrastructure.rv_frozen object at 0x7faea9485810>,\n",
              "                                        'subsample': <scipy.stats._distn_infrastructure.rv_frozen object at 0x7faea90d3b10>},\n",
              "                   scoring='roc_auc', verbose=3)"
            ]
          },
          "execution_count": 141,
          "metadata": {},
          "output_type": "execute_result"
        }
      ],
      "source": [
        "model.fit(xtrain, ytrain.values.ravel())"
      ]
    },
    {
      "cell_type": "markdown",
      "metadata": {
        "id": "gXry8oVZamAE"
      },
      "source": [
        "# Pred"
      ]
    },
    {
      "cell_type": "code",
      "execution_count": null,
      "metadata": {
        "colab": {
          "background_save": true
        },
        "id": "LYkL0-5_amAF"
      },
      "outputs": [],
      "source": [
        "perd_test = model.predict(test)"
      ]
    },
    {
      "cell_type": "code",
      "execution_count": null,
      "metadata": {
        "colab": {
          "background_save": true
        },
        "id": "jYCxtlGjamAF",
        "outputId": "45bf9dbb-4979-482d-f9e9-e070edd38fb9"
      },
      "outputs": [
        {
          "data": {
            "text/plain": [
              "array([0, 0, 1, ..., 0, 0, 1])"
            ]
          },
          "execution_count": 143,
          "metadata": {},
          "output_type": "execute_result"
        }
      ],
      "source": [
        "perd_test"
      ]
    },
    {
      "cell_type": "code",
      "execution_count": null,
      "metadata": {
        "colab": {
          "background_save": true
        },
        "id": "mDzJ_5kuamAF",
        "outputId": "bf2ae023-3b73-412b-faf1-0d55bc8924fa"
      },
      "outputs": [
        {
          "name": "stderr",
          "output_type": "stream",
          "text": [
            "/usr/local/lib/python3.7/dist-packages/ipykernel_launcher.py:1: SettingWithCopyWarning: \n",
            "A value is trying to be set on a copy of a slice from a DataFrame.\n",
            "Try using .loc[row_indexer,col_indexer] = value instead\n",
            "\n",
            "See the caveats in the documentation: https://pandas.pydata.org/pandas-docs/stable/user_guide/indexing.html#returning-a-view-versus-a-copy\n",
            "  \"\"\"Entry point for launching an IPython kernel.\n"
          ]
        }
      ],
      "source": [
        "submit['Ранено'] = perd_test"
      ]
    },
    {
      "cell_type": "code",
      "execution_count": null,
      "metadata": {
        "colab": {
          "background_save": true
        },
        "id": "4f8HvofsamAF",
        "outputId": "809d61ae-6617-4fe3-ae41-958c31187e38"
      },
      "outputs": [
        {
          "name": "stderr",
          "output_type": "stream",
          "text": [
            "/usr/local/lib/python3.7/dist-packages/ipykernel_launcher.py:1: SettingWithCopyWarning: \n",
            "A value is trying to be set on a copy of a slice from a DataFrame.\n",
            "Try using .loc[row_indexer,col_indexer] = value instead\n",
            "\n",
            "See the caveats in the documentation: https://pandas.pydata.org/pandas-docs/stable/user_guide/indexing.html#returning-a-view-versus-a-copy\n",
            "  \"\"\"Entry point for launching an IPython kernel.\n"
          ]
        }
      ],
      "source": [
        "submit['Ранено'] = submit['Ранено'].astype(int)"
      ]
    },
    {
      "cell_type": "code",
      "execution_count": null,
      "metadata": {
        "colab": {
          "background_save": true
        },
        "id": "gimka9JhamAF",
        "outputId": "a8a6b6cb-4f28-4939-859c-74324580bed6"
      },
      "outputs": [
        {
          "data": {
            "text/html": [
              "\n",
              "  <div id=\"df-06d89898-981e-4c1a-913e-af27e2d49594\">\n",
              "    <div class=\"colab-df-container\">\n",
              "      <div>\n",
              "<style scoped>\n",
              "    .dataframe tbody tr th:only-of-type {\n",
              "        vertical-align: middle;\n",
              "    }\n",
              "\n",
              "    .dataframe tbody tr th {\n",
              "        vertical-align: top;\n",
              "    }\n",
              "\n",
              "    .dataframe thead th {\n",
              "        text-align: right;\n",
              "    }\n",
              "</style>\n",
              "<table border=\"1\" class=\"dataframe\">\n",
              "  <thead>\n",
              "    <tr style=\"text-align: right;\">\n",
              "      <th></th>\n",
              "      <th>Погибло</th>\n",
              "      <th>Погибло детей</th>\n",
              "      <th>Ранено</th>\n",
              "    </tr>\n",
              "    <tr>\n",
              "      <th>id</th>\n",
              "      <th></th>\n",
              "      <th></th>\n",
              "      <th></th>\n",
              "    </tr>\n",
              "  </thead>\n",
              "  <tbody>\n",
              "    <tr>\n",
              "      <th>490078911</th>\n",
              "      <td>0</td>\n",
              "      <td>0</td>\n",
              "      <td>0</td>\n",
              "    </tr>\n",
              "    <tr>\n",
              "      <th>490055448</th>\n",
              "      <td>0</td>\n",
              "      <td>0</td>\n",
              "      <td>0</td>\n",
              "    </tr>\n",
              "    <tr>\n",
              "      <th>490054440</th>\n",
              "      <td>0</td>\n",
              "      <td>0</td>\n",
              "      <td>1</td>\n",
              "    </tr>\n",
              "  </tbody>\n",
              "</table>\n",
              "</div>\n",
              "      <button class=\"colab-df-convert\" onclick=\"convertToInteractive('df-06d89898-981e-4c1a-913e-af27e2d49594')\"\n",
              "              title=\"Convert this dataframe to an interactive table.\"\n",
              "              style=\"display:none;\">\n",
              "        \n",
              "  <svg xmlns=\"http://www.w3.org/2000/svg\" height=\"24px\"viewBox=\"0 0 24 24\"\n",
              "       width=\"24px\">\n",
              "    <path d=\"M0 0h24v24H0V0z\" fill=\"none\"/>\n",
              "    <path d=\"M18.56 5.44l.94 2.06.94-2.06 2.06-.94-2.06-.94-.94-2.06-.94 2.06-2.06.94zm-11 1L8.5 8.5l.94-2.06 2.06-.94-2.06-.94L8.5 2.5l-.94 2.06-2.06.94zm10 10l.94 2.06.94-2.06 2.06-.94-2.06-.94-.94-2.06-.94 2.06-2.06.94z\"/><path d=\"M17.41 7.96l-1.37-1.37c-.4-.4-.92-.59-1.43-.59-.52 0-1.04.2-1.43.59L10.3 9.45l-7.72 7.72c-.78.78-.78 2.05 0 2.83L4 21.41c.39.39.9.59 1.41.59.51 0 1.02-.2 1.41-.59l7.78-7.78 2.81-2.81c.8-.78.8-2.07 0-2.86zM5.41 20L4 18.59l7.72-7.72 1.47 1.35L5.41 20z\"/>\n",
              "  </svg>\n",
              "      </button>\n",
              "      \n",
              "  <style>\n",
              "    .colab-df-container {\n",
              "      display:flex;\n",
              "      flex-wrap:wrap;\n",
              "      gap: 12px;\n",
              "    }\n",
              "\n",
              "    .colab-df-convert {\n",
              "      background-color: #E8F0FE;\n",
              "      border: none;\n",
              "      border-radius: 50%;\n",
              "      cursor: pointer;\n",
              "      display: none;\n",
              "      fill: #1967D2;\n",
              "      height: 32px;\n",
              "      padding: 0 0 0 0;\n",
              "      width: 32px;\n",
              "    }\n",
              "\n",
              "    .colab-df-convert:hover {\n",
              "      background-color: #E2EBFA;\n",
              "      box-shadow: 0px 1px 2px rgba(60, 64, 67, 0.3), 0px 1px 3px 1px rgba(60, 64, 67, 0.15);\n",
              "      fill: #174EA6;\n",
              "    }\n",
              "\n",
              "    [theme=dark] .colab-df-convert {\n",
              "      background-color: #3B4455;\n",
              "      fill: #D2E3FC;\n",
              "    }\n",
              "\n",
              "    [theme=dark] .colab-df-convert:hover {\n",
              "      background-color: #434B5C;\n",
              "      box-shadow: 0px 1px 3px 1px rgba(0, 0, 0, 0.15);\n",
              "      filter: drop-shadow(0px 1px 2px rgba(0, 0, 0, 0.3));\n",
              "      fill: #FFFFFF;\n",
              "    }\n",
              "  </style>\n",
              "\n",
              "      <script>\n",
              "        const buttonEl =\n",
              "          document.querySelector('#df-06d89898-981e-4c1a-913e-af27e2d49594 button.colab-df-convert');\n",
              "        buttonEl.style.display =\n",
              "          google.colab.kernel.accessAllowed ? 'block' : 'none';\n",
              "\n",
              "        async function convertToInteractive(key) {\n",
              "          const element = document.querySelector('#df-06d89898-981e-4c1a-913e-af27e2d49594');\n",
              "          const dataTable =\n",
              "            await google.colab.kernel.invokeFunction('convertToInteractive',\n",
              "                                                     [key], {});\n",
              "          if (!dataTable) return;\n",
              "\n",
              "          const docLinkHtml = 'Like what you see? Visit the ' +\n",
              "            '<a target=\"_blank\" href=https://colab.research.google.com/notebooks/data_table.ipynb>data table notebook</a>'\n",
              "            + ' to learn more about interactive tables.';\n",
              "          element.innerHTML = '';\n",
              "          dataTable['output_type'] = 'display_data';\n",
              "          await google.colab.output.renderOutput(dataTable, element);\n",
              "          const docLink = document.createElement('div');\n",
              "          docLink.innerHTML = docLinkHtml;\n",
              "          element.appendChild(docLink);\n",
              "        }\n",
              "      </script>\n",
              "    </div>\n",
              "  </div>\n",
              "  "
            ],
            "text/plain": [
              "           Погибло  Погибло детей  Ранено\n",
              "id                                       \n",
              "490078911        0              0       0\n",
              "490055448        0              0       0\n",
              "490054440        0              0       1"
            ]
          },
          "execution_count": 146,
          "metadata": {},
          "output_type": "execute_result"
        }
      ],
      "source": [
        "submit.head(3)"
      ]
    },
    {
      "cell_type": "code",
      "execution_count": null,
      "metadata": {
        "colab": {
          "background_save": true
        },
        "id": "mwZOnAoGOyBO"
      },
      "outputs": [],
      "source": [
        ""
      ]
    },
    {
      "cell_type": "markdown",
      "metadata": {
        "id": "63lDx33w-_M3"
      },
      "source": [
        "# модель 4"
      ]
    },
    {
      "cell_type": "code",
      "execution_count": null,
      "metadata": {
        "colab": {
          "background_save": true
        },
        "id": "1VrhM0F8-_M4"
      },
      "outputs": [],
      "source": [
        "y = df[[\"Ранено детей\"]]"
      ]
    },
    {
      "cell_type": "code",
      "execution_count": null,
      "metadata": {
        "colab": {
          "background_save": true
        },
        "id": "_5MXZbs1hvil"
      },
      "outputs": [],
      "source": [
        "xtrain, xtest, ytrain, ytest = train_test_split(X, y, test_size=0.2, random_state=42, stratify=y)"
      ]
    },
    {
      "cell_type": "code",
      "execution_count": null,
      "metadata": {
        "colab": {
          "background_save": true
        },
        "id": "Jwvg0iOwhvil"
      },
      "outputs": [],
      "source": [
        "# sc.fit(xtest)\n",
        "# X_train_std = sc.transform(xtrain)\n",
        "# X_test_std = sc.transform(xtest)\n",
        "# lr = LogisticRegression(C=100.0, random_state=1)\n",
        "# lr.fit(X_train_std, ytrain)\n",
        "# y_pred = lr.predict(X_test_std)\n",
        "# target = list(y['Ранено детей'].unique().astype('str'))\n",
        "# target\n",
        "# print(classification_report(ytest, y_pred, target_names=target))"
      ]
    },
    {
      "cell_type": "code",
      "execution_count": null,
      "metadata": {
        "colab": {
          "background_save": true
        },
        "id": "THgnSS4T-_M4"
      },
      "outputs": [],
      "source": [
        "# xtrain, xtest, ytrain, ytest = train_test_split(X, y, test_size=0.25, random_state=42)"
      ]
    },
    {
      "cell_type": "code",
      "execution_count": null,
      "metadata": {
        "colab": {
          "background_save": true
        },
        "id": "Ci8bsGXwUSSM"
      },
      "outputs": [],
      "source": [
        "model = xgb.XGBClassifier(objective = 'binary:logistic')\n",
        "param_dist = {'n_estimators': stats.randint(150, 1000),\n",
        "              'learning_rate': stats.uniform(0.01, 0.59),\n",
        "              'subsample': stats.uniform(0.3, 0.6),\n",
        "              'max_depth': [3, 4, 5, 6, 7, 8, 9],\n",
        "              'colsample_bytree': stats.uniform(0.5, 0.4),\n",
        "              'min_child_weight': [1, 2, 3, 4]\n",
        "             }\n",
        "\n",
        "kfold_5 = KFold(n_splits=10, random_state=1, shuffle=True)\n",
        "\n",
        "model = RandomizedSearchCV(model, \n",
        "                         param_distributions = param_dist,\n",
        "                         cv = kfold_5,  \n",
        "                         n_iter = 7, \n",
        "                         scoring = 'roc_auc', \n",
        "                         error_score = 0, \n",
        "                         verbose = 3, \n",
        "                         n_jobs = -1)"
      ]
    },
    {
      "cell_type": "code",
      "execution_count": null,
      "metadata": {
        "colab": {
          "background_save": true
        },
        "id": "8QQsj0k3USSO",
        "outputId": "47561db1-318e-4f1b-a8dc-dc0f5f102b17"
      },
      "outputs": [
        {
          "name": "stdout",
          "output_type": "stream",
          "text": [
            "Fitting 10 folds for each of 7 candidates, totalling 70 fits\n"
          ]
        }
      ],
      "source": [
        "model.fit(xtrain, ytrain.values.ravel())"
      ]
    },
    {
      "cell_type": "markdown",
      "metadata": {
        "id": "KSjAB1TW-_M5"
      },
      "source": [
        "# Pred"
      ]
    },
    {
      "cell_type": "code",
      "execution_count": null,
      "metadata": {
        "id": "VoORPPNW-_M5"
      },
      "outputs": [],
      "source": [
        "perd_test = model.predict(test)"
      ]
    },
    {
      "cell_type": "code",
      "execution_count": null,
      "metadata": {
        "id": "PGMx4j_R-_M5"
      },
      "outputs": [],
      "source": [
        "perd_test"
      ]
    },
    {
      "cell_type": "code",
      "execution_count": null,
      "metadata": {
        "id": "lpXIcB2E-_M6"
      },
      "outputs": [],
      "source": [
        "submit['Ранено детей'] = perd_test"
      ]
    },
    {
      "cell_type": "code",
      "execution_count": null,
      "metadata": {
        "id": "zy9KntqE-_M6"
      },
      "outputs": [],
      "source": [
        "submit['Ранено детей'] = submit['Ранено детей'].astype(int)"
      ]
    },
    {
      "cell_type": "code",
      "execution_count": null,
      "metadata": {
        "id": "os1of-Jf-_M6"
      },
      "outputs": [],
      "source": [
        "submit.head()"
      ]
    },
    {
      "cell_type": "markdown",
      "metadata": {
        "id": "IEAd5WOR_INn"
      },
      "source": [
        "# Сохранение"
      ]
    },
    {
      "cell_type": "code",
      "execution_count": null,
      "metadata": {
        "id": "9BeznkT6_J7X"
      },
      "outputs": [],
      "source": [
        "submit.to_csv('submit_DTP.csv',  index=True)"
      ]
    },
    {
      "cell_type": "code",
      "execution_count": null,
      "metadata": {
        "id": "2QyMBNJWAjiK"
      },
      "outputs": [],
      "source": [
        "submit"
      ]
    },
    {
      "cell_type": "code",
      "execution_count": null,
      "metadata": {
        "id": "wjo4WaM9k_QX"
      },
      "outputs": [],
      "source": [
        "submit.describe()"
      ]
    }
  ],
  "metadata": {
    "colab": {
      "name": "Погода и координаты \"Score = 0.420505 ДТП_baseline.ipynb\"",
      "provenance": [],
      "toc_visible": true,
      "include_colab_link": true
    },
    "kernelspec": {
      "display_name": "Python 3",
      "name": "python3"
    },
    "language_info": {
      "name": "python"
    }
  },
  "nbformat": 4,
  "nbformat_minor": 0
}